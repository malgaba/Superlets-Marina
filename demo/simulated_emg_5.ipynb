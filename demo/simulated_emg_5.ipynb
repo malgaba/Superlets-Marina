{
 "cells": [
  {
   "cell_type": "code",
   "execution_count": null,
   "outputs": [],
   "source": [
    "import sys\n",
    "\n",
    "import pandas as pd\n",
    "\n",
    "import superlets_package.superlets\n",
    "\n",
    "sys.path.insert(0, '..')\n"
   ],
   "metadata": {
    "collapsed": false
   }
  },
  {
   "cell_type": "code",
   "execution_count": null,
   "source": [
    "import jax.numpy as jnp\n",
    "import matplotlib.pyplot as plt\n",
    "import numpy as np\n",
    "import importlib\n",
    "import scipy.signal as signal_scipy\n",
    "import os\n",
    "\n",
    "from scipy.ndimage import gaussian_filter1d\n",
    "\n",
    "import superlets_package.morlet as morlet\n",
    "import superlets_package.superlets as superlet"
   ],
   "outputs": [],
   "metadata": {}
  },
  {
   "cell_type": "code",
   "execution_count": null,
   "outputs": [],
   "source": [
    "importlib.reload(superlet)"
   ],
   "metadata": {
    "collapsed": false
   }
  },
  {
   "cell_type": "markdown",
   "source": [
    "# Create simulated EMG signals"
   ],
   "metadata": {
    "collapsed": false,
    "ExecuteTime": {
     "end_time": "2025-02-12T10:56:28.072813Z",
     "start_time": "2025-02-12T10:56:28.053299Z"
    }
   }
  },
  {
   "cell_type": "markdown",
   "source": [
    "#### Baseline parameters"
   ],
   "metadata": {
    "collapsed": false
   }
  },
  {
   "cell_type": "code",
   "execution_count": null,
   "outputs": [],
   "source": [
    "fs = 1024\n",
    "signal_duration = 3\n",
    "t = np.linspace(0, signal_duration, signal_duration * fs)\n",
    "noise = np.random.normal(0, 0.04, len(t))  # Gaussian noise\n",
    "#noise = np.full(len(t), 1e-10)\n",
    "#noise = np.full(len(t), 0.01)\n",
    "#noise = np.zeros(len(t))"
   ],
   "metadata": {
    "collapsed": false
   }
  },
  {
   "cell_type": "markdown",
   "source": [
    "### Burst parameters"
   ],
   "metadata": {
    "collapsed": false
   }
  },
  {
   "cell_type": "code",
   "execution_count": null,
   "outputs": [],
   "source": [
    "burst_duration_1 = 1 #seconds\n",
    "burst_start_1 = 1"
   ],
   "metadata": {
    "collapsed": false
   }
  },
  {
   "cell_type": "markdown",
   "source": [
    "#### Select method (DeLuca, band-pass filter)"
   ],
   "metadata": {
    "collapsed": false
   }
  },
  {
   "cell_type": "code",
   "execution_count": null,
   "outputs": [],
   "source": [
    "mode = 'DeLuca'\n",
    "#mode = 'Filter'\n",
    "#mode = 'Matlab'"
   ],
   "metadata": {
    "collapsed": false
   }
  },
  {
   "cell_type": "markdown",
   "source": [
    "### Charge signals generated in Matlab"
   ],
   "metadata": {
    "collapsed": false
   }
  },
  {
   "cell_type": "code",
   "execution_count": null,
   "outputs": [],
   "source": [
    "if mode == 'Matlab':\n",
    "    burst_1 = pd.read_csv('burst_1s_matlab.csv', header = None)\n",
    "    burst_1 = burst_1[0]"
   ],
   "metadata": {
    "collapsed": false
   }
  },
  {
   "cell_type": "markdown",
   "source": [
    "### Simulated EMG signal with bandpass filter"
   ],
   "metadata": {
    "collapsed": false
   }
  },
  {
   "cell_type": "code",
   "execution_count": null,
   "outputs": [],
   "source": [
    "if mode == 'Filter':\n",
    "    \n",
    "    # Create noise\n",
    "    #MNF_1 = [110.71]  # Central frequency\n",
    "    bw = 100    # Filter bandwidth\n",
    "    \n",
    "    low_cut = 20\n",
    "    high_cut = 300\n",
    "    \n",
    "    plot = True\n",
    "    \n",
    "    # We generate gaussian noise\n",
    "    samples = int(burst_duration_1 * fs)\n",
    "    t = np.linspace(0, burst_duration_1, samples, endpoint=False)\n",
    "    gauss_noise = np.random.normal(0, 1, samples)  # Ruido gaussiano de media 0 y varianza 1\n",
    "    \n",
    "    # Create and apply filter\n",
    "    nyquist = fs / 2\n",
    "    #frec_baja = (MNF_1[0] - bw / 2) / nyquist\n",
    "    frec_baja = low_cut / nyquist\n",
    "    #frec_alta = (MNF_1[0] + bw / 2) / nyquist\n",
    "    frec_alta = high_cut / nyquist\n",
    "    # Diseñar filtro paso banda Butterworth\n",
    "    b, a = signal_scipy.butter(N=4, Wn=[frec_baja, frec_alta], btype='band')\n",
    "    burst_1 = signal_scipy.filtfilt(b, a, gauss_noise)\n",
    "    \n",
    "    if plot:\n",
    "        plt.figure(figsize=(12, 6))\n",
    "        plt.subplot(2, 1, 1)\n",
    "        plt.plot(t, gauss_noise)\n",
    "        plt.title(\"Gaussian noise\")\n",
    "        plt.xlabel(\"Time (s)\")\n",
    "        plt.ylabel(\"Amplitude\")\n",
    "        plt.grid()\n",
    "        plt.subplot(2, 1, 2)\n",
    "        plt.plot(t, burst_1, color='orange')\n",
    "        plt.title(f\"Filtered noise\")\n",
    "        plt.xlabel(\"Time (s)\")\n",
    "        plt.ylabel(\"Amplitude\")\n",
    "        plt.grid()\n",
    "        plt.tight_layout()\n",
    "        plt.show()\n",
    "        \n",
    "    w, h = signal_scipy.freqz(b, a, worN=8000)  # worN determina el número de puntos a evaluar\n",
    "\n",
    "    # Graficar respuesta en frecuencia\n",
    "    plt.figure()\n",
    "    plt.plot(w * nyquist / np.pi, 20 * np.log10(abs(h)), label=\"Respuesta en Frecuencia\")\n",
    "    plt.title(\"Respuesta en Frecuencia del Filtro Butterworth\")\n",
    "    plt.xlabel(\"Frecuencia (Hz)\")\n",
    "    plt.ylabel(\"Amplitud (dB)\")\n",
    "    plt.grid()\n",
    "    plt.legend()\n",
    "    plt.show()\n"
   ],
   "metadata": {
    "collapsed": false
   }
  },
  {
   "cell_type": "markdown",
   "source": [
    "### Simulated EMG signal: Modelo de DeLuca"
   ],
   "metadata": {
    "collapsed": false,
    "ExecuteTime": {
     "end_time": "2025-02-12T10:56:28.542034Z",
     "start_time": "2025-02-12T10:56:28.084739Z"
    }
   }
  },
  {
   "cell_type": "code",
   "execution_count": null,
   "outputs": [],
   "source": [
    "importlib.reload(superlet)"
   ],
   "metadata": {
    "collapsed": false
   }
  },
  {
   "cell_type": "code",
   "execution_count": null,
   "outputs": [],
   "source": [
    "if mode == 'DeLuca':\n",
    "    burst_1 = []\n",
    "    #[filtro, Pdeluca, burst_1] = superlet.fdeluca(72, 110, 1024, burst_duration_1, plot = True)\n",
    "    [filtro, Pdeluca, burst_1, MNF, MNF_analytic] = superlet.fdeluca(40, 20, fs, burst_duration_1, plot = False)\n",
    "    f = np.arange(0, fs / 2)\n",
    "    MNF_IDEAL = superlet.meanfreq(Pdeluca,f)\n",
    "    MNF_1 = [MNF_IDEAL]\n",
    "    t_onset_1 = burst_start_1\n",
    "    t_offset_1 = burst_start_1 + burst_duration_1\n",
    "    # bw = 100\n",
    "    # nyquist = fs / 2\n",
    "    # frec_baja = (MNF_1[0] - bw / 2) / nyquist\n",
    "    # frec_alta = (MNF_1[0] + bw / 2) / nyquist\n",
    "    # # Diseñar filtro paso banda Butterworth\n",
    "    # b, a = signal.butter(N=4, Wn=[frec_baja, frec_alta], btype='band')\n",
    "    # burst_1 = signal.filtfilt(b, a, burst_1)"
   ],
   "metadata": {
    "collapsed": false
   }
  },
  {
   "cell_type": "code",
   "execution_count": null,
   "outputs": [],
   "source": [
    "MNF"
   ],
   "metadata": {
    "collapsed": false
   }
  },
  {
   "cell_type": "code",
   "execution_count": null,
   "outputs": [],
   "source": [
    "MNF_IDEAL"
   ],
   "metadata": {
    "collapsed": false
   }
  },
  {
   "cell_type": "markdown",
   "source": [
    "#### Add noise to the signal with a particular value for SNR"
   ],
   "metadata": {
    "collapsed": false,
    "ExecuteTime": {
     "end_time": "2025-02-12T10:56:28.548150Z",
     "start_time": "2025-02-12T10:56:28.481523Z"
    }
   }
  },
  {
   "cell_type": "code",
   "execution_count": null,
   "outputs": [],
   "source": [
    "def add_noise(x, snr, plot = False):\n",
    "    \"\"\"\n",
    "    Add Gaussian random noise to a signal with a specified SNR.\n",
    "\n",
    "    Parameters:\n",
    "        x (numpy array): Original signal (vector)\n",
    "        snr (float): Desired Signal-to-Noise Ratio (in dB)\n",
    "\n",
    "    Returns:\n",
    "        numpy array: Signal with added Gaussian noise\n",
    "    \"\"\"\n",
    "    n = len(x)  # Length of the signal\n",
    "    Px = np.sum(np.abs(x)**2) / n  # Power of the original signal\n",
    "    Pn = Px / (10**(snr / 10))  # Noise power for the given SNR\n",
    "\n",
    "    noise = np.sqrt(Pn) * np.random.randn(*x.shape)  # Generate Gaussian noise\n",
    "    xn = x + noise  # Add noise to the original signal\n",
    "\n",
    "    # Plot the original and noisy signals\n",
    "    if plot:\n",
    "        plt.figure()\n",
    "        plt.plot(xn, 'r', label='Noisy Signal')\n",
    "        plt.plot(x, 'b', label='Original Signal')\n",
    "        plt.legend()\n",
    "        plt.title(f'Signal with Added White Gaussian Noise (SNR = {snr} dB)')\n",
    "        plt.xlabel('Sample Index')\n",
    "        plt.ylabel('Amplitude')\n",
    "        plt.show()\n",
    "\n",
    "    return xn"
   ],
   "metadata": {
    "collapsed": false
   }
  },
  {
   "cell_type": "markdown",
   "source": [
    "### We add burst to baseline signal"
   ],
   "metadata": {
    "collapsed": false,
    "ExecuteTime": {
     "end_time": "2025-02-12T10:56:28.550843Z",
     "start_time": "2025-02-12T10:56:28.493052Z"
    }
   }
  },
  {
   "cell_type": "code",
   "execution_count": null,
   "outputs": [],
   "source": [
    "baseline_1 = noise.copy()\n",
    "baseline_1[int(burst_start_1*fs):int(burst_start_1*fs + len(burst_1))] += burst_1"
   ],
   "metadata": {
    "collapsed": false
   }
  },
  {
   "cell_type": "markdown",
   "source": [
    "### Signal visualization"
   ],
   "metadata": {
    "collapsed": false,
    "ExecuteTime": {
     "end_time": "2025-02-12T10:56:29.222123Z",
     "start_time": "2025-02-12T10:56:29.003176Z"
    }
   }
  },
  {
   "cell_type": "code",
   "execution_count": null,
   "outputs": [],
   "source": [
    "signal = baseline_1\n",
    "fig, ax = plt.subplots(figsize=(15, 2), dpi=300)\n",
    "ax.set_xlabel(\"Time (ms)\")\n",
    "ax.plot(jnp.linspace(0, len(signal - np.mean(signal))/fs, len(signal - np.mean(signal))), signal - np.mean(signal))"
   ],
   "metadata": {
    "collapsed": false
   }
  },
  {
   "cell_type": "code",
   "execution_count": null,
   "outputs": [],
   "source": [
    "psd_welch, f_welch, MNF = superlet.compute_psd_welch(signal - np.mean(signal), fs, plot=True, muscle='Simulated EMG signal with burst')\n",
    "MNF_1 = [MNF]"
   ],
   "metadata": {
    "collapsed": false
   }
  },
  {
   "cell_type": "markdown",
   "source": [
    "We first apply regular wavelet transforms to the signal, with wavelets of 3, 16 and 33 cycles long, respectively. Note that we specifically use the complex Morlet wavelet for both the wavelet and superlet transforms."
   ],
   "metadata": {
    "ExecuteTime": {
     "end_time": "2025-02-12T10:56:29.222461Z",
     "start_time": "2025-02-12T10:56:29.143684Z"
    }
   }
  },
  {
   "cell_type": "code",
   "execution_count": null,
   "outputs": [],
   "source": [
    "MNF_1"
   ],
   "metadata": {
    "collapsed": false
   }
  },
  {
   "cell_type": "code",
   "execution_count": null,
   "outputs": [],
   "source": [
    "def calculate_mae(estimates, true_value):\n",
    "    # Convertir las estimaciones a un array de numpy\n",
    "    estimates = np.array(estimates)\n",
    "    \n",
    "    # Si solo hay un valor verdadero, calcula el MAE de forma directa\n",
    "    if np.isscalar(true_value) or len(true_value) == 1:\n",
    "        errors = np.abs(estimates - true_value)\n",
    "    else:\n",
    "        # Si hay dos valores (inicio y final), calcula el MAE para ambos\n",
    "        true_start, true_end = true_value\n",
    "        start_errors = np.abs(estimates[:, 0] - true_start)\n",
    "        end_errors = np.abs(estimates[:, 1] - true_end)\n",
    "        errors = (start_errors + end_errors) / 2  # Promedio de los errores\n",
    "        \n",
    "    # Calcula el MAE y la desviación estándar\n",
    "    mae = np.mean(errors)\n",
    "    std_error = np.std(errors)\n",
    "    return mae, std_error"
   ],
   "metadata": {
    "collapsed": false
   }
  },
  {
   "cell_type": "code",
   "execution_count": null,
   "outputs": [],
   "source": [
    "freqs = np.linspace(20,500,int(fs/2)) # Número de puntos del vector frecuencia\n",
    "freq_min = freqs[0]  # Minimum freq\n",
    "freq_max = freqs[-1]  # Frecuencia máxima\n",
    "num_freqs = len(freqs)  # Resolución del rango de frecuencias"
   ],
   "metadata": {
    "collapsed": false
   }
  },
  {
   "cell_type": "code",
   "execution_count": null,
   "outputs": [],
   "source": [
    "SNR = 5\n",
    "if 'SNR' not in globals():\n",
    "    SNR = \"Inf\"\n",
    "    \n",
    "signal_noise = add_noise(signal, SNR, plot = True)\n",
    "signal = signal_noise"
   ],
   "metadata": {
    "collapsed": false
   }
  },
  {
   "cell_type": "markdown",
   "source": [
    "### WAVELET PARAMETERS = 3, 16, 33, 55, 60, 115 cycles"
   ],
   "metadata": {
    "collapsed": false,
    "ExecuteTime": {
     "end_time": "2025-02-12T10:56:29.225036Z",
     "start_time": "2025-02-12T10:56:29.160361Z"
    }
   }
  },
  {
   "cell_type": "code",
   "execution_count": null,
   "outputs": [],
   "source": [
    "importlib.reload(morlet)"
   ],
   "metadata": {
    "collapsed": false
   }
  },
  {
   "cell_type": "code",
   "execution_count": null,
   "outputs": [],
   "source": [
    "importlib.reload(superlet)"
   ],
   "metadata": {
    "collapsed": false
   }
  },
  {
   "cell_type": "code",
   "execution_count": null,
   "outputs": [],
   "source": [
    "folder_out = \"/Users/neuralrehabilitationgroup/PycharmProjects/Superlets-Marina/RESULTS\"\n",
    "new_folder_path = os.path.join(folder_out, str(round(MNF_1[0], 2)) + ' Hz')\n",
    "os.makedirs(new_folder_path, exist_ok=True)"
   ],
   "metadata": {
    "collapsed": false
   }
  },
  {
   "cell_type": "code",
   "execution_count": null,
   "outputs": [],
   "source": [
    "offset = 0 # Para que la figura del instant mean frequency sea más mona\n",
    "offset_burst = 0"
   ],
   "metadata": {
    "collapsed": false
   }
  },
  {
   "cell_type": "code",
   "execution_count": null,
   "outputs": [],
   "source": [
    "params_wavelet = [3, 16, 33, 55, 60]"
   ],
   "metadata": {
    "collapsed": false
   }
  },
  {
   "cell_type": "code",
   "execution_count": null,
   "outputs": [],
   "source": [
    "plot_1 = False\n",
    "plot_2 = True\n",
    "plot_means = False\n",
    "save = False"
   ],
   "metadata": {
    "collapsed": false
   }
  },
  {
   "cell_type": "code",
   "execution_count": null,
   "outputs": [],
   "source": [
    "if plot_1:\n",
    "    fig, ax = plt.subplots(ncols=len(params_wavelet), figsize=(18, 5), dpi=300)\n",
    "if plot_2:\n",
    "    # Definir límites de color para que sean iguales en todos los subplots\n",
    "    fig_2, ax_2 = plt.subplots(ncols=len(params_wavelet), figsize=(18, 5), dpi=300)\n",
    "    fig_3, ax_3 = plt.subplots(figsize=(10, 6))\n",
    "\n",
    "mae_wavelet_f = []\n",
    "std_wavelet_f = []\n",
    "\n",
    "mae_wavelet_t = []\n",
    "std_wavelet_t = []\n",
    "\n",
    "total_time = []\n",
    "total_freq = []\n",
    "\n",
    "total_scalogram_wavelet = []\n",
    "res_wavelet = []\n",
    "\n",
    "# Iterar sobre los parámetros de wavelet\n",
    "for i, c in enumerate(params_wavelet):\n",
    "    wavelet = f\"cmor{c}-1.0\"\n",
    "    \n",
    "    cwtmatr, f, physical_freqs = morlet.wavelet_transform_2(signal,wavelet,freqs,fs)\n",
    "    cwtmatr = np.abs(cwtmatr[:, :])\n",
    "    \n",
    "    if save:\n",
    "        df = pd.DataFrame(cwtmatr)\n",
    "    \n",
    "        # Guardar en un archivo CSV\n",
    "        filename = os.path.join(new_folder_path, str(SNR) + \"dB_wv_\" + str(c) + \".csv\")\n",
    "        df.to_csv(filename, index=False, header=False)  # Sin índices ni encabezados\n",
    "    \n",
    "    scalogram_2 = jnp.abs(cwtmatr)**2\n",
    "    scalogram_2 = np.array(scalogram_2)\n",
    "    \n",
    "    #if np.any(np.isnan(scalogram_2)) or np.any(np.isinf(scalogram_2)):\n",
    "    #scalogram_2 = np.nan_to_num(scalogram_2)\n",
    "\n",
    "    if plot_1:\n",
    "        pcm = ax[i].pcolormesh(t,f, scalogram_2, shading='gouraud', cmap='jet')\n",
    "        \n",
    "        ax[i].set_title(f'c={c}')\n",
    "        ax[i].set_ylabel('Frecuencia [Hz]')\n",
    "        ax[i].set_xlabel('Tiempo [s]')\n",
    "        \n",
    "        cbar = fig.colorbar(pcm, ax=ax[i], orientation='horizontal')\n",
    "        cbar.set_label('Power', rotation=0, labelpad=15)  # Etiqueta de la colorbar\n",
    "    \n",
    "        ax[i].set_ylim(freqs[0], freqs[-1])  # Ajustar el rango de frecuencias si es necesario\n",
    "        plt.tight_layout()\n",
    "\n",
    "    total_scalogram_wavelet.append(scalogram_2)\n",
    "    instant_mean_freq_total = []\n",
    "\n",
    "    # Para evitar la división por cero\n",
    "    # denominador = np.sum(scalogram_2, axis=0)\n",
    "    # denominador = np.where(denominador == 0, 1e-10, denominador)\n",
    "    #instant_freq = np.sum(scalogram_2 * f[:, np.newaxis], axis=0) / denominador\n",
    "    instant_freq = np.sum(scalogram_2 * f[:, np.newaxis], axis=0) / np.sum(scalogram_2, axis=0)\n",
    "    \n",
    "    # # Quitar los valores nan de la frecuencia instantánea usando interpolación (solo para wavelet y SNR = Inf)\n",
    "    valid = ~np.isnan(instant_freq)\n",
    "    t_valid = t[valid]\n",
    "    signal_valid = instant_freq[valid]\n",
    "    instant_freq = np.interp(t, t_valid, signal_valid)\n",
    "    # if plot_means:\n",
    "    #     plt.figure()\n",
    "    #     plt.plot(instant_freq)\n",
    "    #     plt.title('Frecuencia instantánea')\n",
    "\n",
    "    # VALOR MEDIO EN UNA VENTANA DESLIZANTE\n",
    "    window_size = 50\n",
    "    window = np.ones(window_size) / window_size  # Ventana normalizada\n",
    "\n",
    "    # Calcular la media móvil con convolución\n",
    "    media_movil = np.convolve(instant_freq, window, mode='same')  \n",
    "    sigma = 20  # Desviación estándar del filtro PARA SNR = INF\n",
    "    media_movil = gaussian_filter1d(media_movil, sigma)\n",
    "    if plot_means:\n",
    "        plt.figure()\n",
    "        plt.plot(media_movil, color = 'red')\n",
    "        plt.title('Media de la señal')\n",
    "    \n",
    "    # Derivada de la media para ver el cambio en el valor medio de la señal\n",
    "    slope_gradient = np.gradient(media_movil, t)\n",
    "    if plot_means:\n",
    "        plt.figure()\n",
    "        plt.plot(slope_gradient, color = 'green')\n",
    "        plt.title('Gradiente de la media de la señal')\n",
    "    \n",
    "    # Coger la porción de la señal del medio    \n",
    "    time_range = len(slope_gradient)//2\n",
    "    time_shift = round(burst_duration_1 * 0.7 * fs)\n",
    "    inicio = time_range-time_shift\n",
    "    \n",
    "    first_index = np.argmin(slope_gradient[inicio:time_range]) + inicio\n",
    "    last_index = np.argmax(slope_gradient[time_range:time_range+time_shift]) + time_range \n",
    "    \n",
    "    t_onset = t[first_index]\n",
    "    t_offset = t[last_index]\n",
    "       \n",
    "    start_idx = np.searchsorted(t, burst_start_1)  # Encuentra el índice de inicio\n",
    "    end_idx = np.searchsorted(t, burst_start_1 + burst_duration_1)  # Encuentra el índice final\n",
    "\n",
    "    instant_mean_freq_burst = instant_freq[start_idx:end_idx]\n",
    "\n",
    "    if plot_2:\n",
    "        ax_2[i].plot(t, instant_freq)\n",
    "\n",
    "        ax_2[i].set_xlabel(\"Time (s)\")\n",
    "        ax_2[i].set_ylabel(\"Frequency (Hz)\")\n",
    "        #ax_2[i].set_xlim(t[0], t[-1])\n",
    "        #plt.title(\"Medias de cada fila en función del tiempo\")\n",
    "        ax_2[i].grid(True)\n",
    "\n",
    "        ax_3.plot(t, instant_freq, label=f\"Mean frequency (Cycles: {c})\")\n",
    "        plt.tight_layout()\n",
    "\n",
    "    #MAE in frequency\n",
    "    print(f'Estimated mean frequency: {np.mean(instant_mean_freq_burst)} Hz')\n",
    "    mae_f, std_f = calculate_mae(instant_mean_freq_burst, MNF_1)\n",
    "    mae_wavelet_f.append(mae_f)\n",
    "    std_wavelet_f.append(std_f)\n",
    "    \n",
    "    #MAE in time\n",
    "    print(f'Estimated onset = {t_onset} s, offset = {t_offset} s')\n",
    "    # estimates_combined = t_offset - t_onset\n",
    "    # print(f'Estimated difference: {estimates_combined} s')\n",
    "    # true_values_combined = t_offset_1 - t_onset_1\n",
    "    # print(f'Real difference: {true_values_combined} s')\n",
    "\n",
    "    mae_t, std_t = calculate_mae([(t_onset,t_offset)], (t_onset_1,t_offset_1))\n",
    "    mae_wavelet_t.append(mae_t)\n",
    "    std_wavelet_t.append(std_t)\n",
    "\n",
    "    time = np.arange(scalogram_2.shape[1]) / fs\n",
    "\n",
    "    total_time.append(time)\n",
    "    total_freq.append(freqs)\n",
    "    \n",
    "    # Visualization\n",
    "    plt.figure(figsize=(8, 5))\n",
    "\n",
    "    plt.subplot(2, 1, 1)\n",
    "    #plt.plot(t, instant_freq)\n",
    "    plt.plot(t, media_movil)\n",
    "    plt.axvline(t_onset, color='green', linestyle='--', label='t_onset')\n",
    "    plt.axvline(t_offset, color='red', linestyle='--', label='t_offset')\n",
    "    plt.xlabel('Time (s)')\n",
    "    plt.ylabel('Freq (Hz)')\n",
    "    plt.legend()\n",
    "    plt.grid()\n",
    "\n",
    "    plt.subplot(2, 1, 2)\n",
    "    plt.plot(t, slope_gradient)\n",
    "    plt.axvline(t_onset, color='green', linestyle='--', label='t_onset')\n",
    "    plt.axvline(t_offset, color='red', linestyle='--', label='t_offset')\n",
    "    plt.xlabel('Time (s)')\n",
    "    plt.ylabel('Freq (Hz)')\n",
    "    plt.legend()\n",
    "    plt.grid()\n",
    "\n",
    "    plt.tight_layout()\n",
    "\n",
    "# Configuración del gráfico\n",
    "if plot_2:\n",
    "\n",
    "\n",
    "res_wavelet = superlet.compute_avg_response_resolution(total_scalogram_wavelet, total_time, total_freq, params_wavelet)"
   ],
   "metadata": {
    "collapsed": false
   }
  },
  {
   "cell_type": "code",
   "execution_count": null,
   "outputs": [],
   "source": [
    "mae_wavelet_f"
   ],
   "metadata": {
    "collapsed": false
   }
  },
  {
   "cell_type": "code",
   "execution_count": null,
   "outputs": [],
   "source": [
    "mae_wavelet_t"
   ],
   "metadata": {
    "collapsed": false
   }
  },
  {
   "cell_type": "markdown",
   "source": [
    "There's a tradeoff above; using a low number of cycles results in high temporal resolution, but poor frequency resolution (the activations are \"smeared\" on the frequency dimension). On the other hand, a high number of cycles results in high frequency resolution, but poor temporal resolution. \n",
    "\n",
    "There are fundamental limits to how precise we can be on *both* aspects without making a tradeoff on either (the Gabor limit), but the standard wavelet transform isn't on that optimal boundary. Superlets improve resolution on both (time *and* frequency) by taking the geometric mean of wavelet transforms of different cycle lengths, more tightly approaching the Gabor limit."
   ],
   "metadata": {
    "collapsed": false,
    "ExecuteTime": {
     "end_time": "2025-02-12T10:57:05.229614Z",
     "start_time": "2025-02-12T10:57:05.182424Z"
    }
   }
  },
  {
   "cell_type": "markdown",
   "source": [
    "## PARÁMETROS SUPERLET: base_cycle, min_order, max_order = [3, 5, 1, 1, 1, 1], [1, 1, 5, 10, 20, 30], [30, 30, 40, 100, 100, 200]"
   ],
   "metadata": {
    "collapsed": false,
    "ExecuteTime": {
     "end_time": "2025-02-12T10:58:08.602785Z",
     "start_time": "2025-02-12T10:57:42.426707Z"
    }
   }
  },
  {
   "cell_type": "code",
   "execution_count": null,
   "outputs": [],
   "source": [
    "importlib.reload(superlet)"
   ],
   "metadata": {
    "collapsed": false
   }
  },
  {
   "cell_type": "code",
   "execution_count": null,
   "outputs": [],
   "source": [
    "params_superlet = [[1, 1, 3, 5, 5], [3, 5, 1, 1, 1], [30, 40, 30, 40, 50]]"
   ],
   "metadata": {
    "collapsed": false
   }
  },
  {
   "cell_type": "code",
   "execution_count": null,
   "outputs": [],
   "source": [
    "if plot_1:\n",
    "    fig, ax = plt.subplots(ncols=len(params_superlet[0]), figsize=(15, 5), dpi=300)\n",
    "\n",
    "if plot_2:\n",
    "    fig_2, ax_2 = plt.subplots(ncols=len(params_superlet[0]), figsize=(15, 5), dpi=300)\n",
    "    fig_3, ax_3 = plt.subplots(figsize=(10, 6))\n",
    "\n",
    "mae_superlet_f = []\n",
    "std_superlet_f = []\n",
    "\n",
    "mae_superlet_t = []\n",
    "std_superlet_t = []\n",
    "\n",
    "total_time = []\n",
    "total_freq = []\n",
    "\n",
    "total_scalogram_superlet = []\n",
    "\n",
    "for (i, (base_cycle, min_order, max_order)) in enumerate(zip(*params_superlet)):\n",
    "\n",
    "    wv, scalogram = superlet.adaptive_superlet_transform(signal, freqs, sampling_freq=fs,\n",
    "                                                         base_cycle=base_cycle, min_order=min_order,\n",
    "                                                         max_order=max_order, mode=\"mul\")\n",
    "    \n",
    "    if plot_1:\n",
    "        im = ax[i].imshow(jnp.abs(scalogram) ** 2, aspect='auto', cmap=\"jet\", interpolation=\"none\", origin=\"lower\",extent=[0, len(signal) / fs, freqs[0], freqs[-1]])\n",
    "        ax[i].set_title(f\"$c_1$: {base_cycle}, o: {min_order}-{max_order}\")\n",
    "        ax[i].set_xlabel(\"Time (s)\")\n",
    "        ax[i].set_ylabel(\"Frequency (Hz)\")\n",
    "\n",
    "        cbar = fig.colorbar(im, ax=ax[i], orientation='horizontal')\n",
    "        cbar.set_label('Power [a.u]', rotation=0, labelpad=15)  # Etiqueta de la colorbar\n",
    "        plt.tight_layout()\n",
    "\n",
    "    scalogram_2 = np.abs(scalogram) ** 2\n",
    "    \n",
    "    if save:\n",
    "        df = pd.DataFrame(scalogram_2)\n",
    "    \n",
    "        # Guardar en un archivo CSV\n",
    "        filename = os.path.join(new_folder_path,str(SNR) + \"dB_superlet_\" + str(base_cycle) + \"-\" + str(min_order) + \"-\" + str(max_order) + \".csv\")\n",
    "        df.to_csv(filename, index=False, header=False)  # Sin índices ni encabezados\n",
    "\n",
    "    # if np.any(np.isnan(jnp.abs(scalogram) ** 2)) or np.any(np.isinf(jnp.abs(scalogram) ** 2)):\n",
    "    #     scalogram_2 = np.nan_to_num(jnp.abs(scalogram) ** 2)\n",
    "\n",
    "    instant_mean_freq_total = []\n",
    "    total_scalogram_superlet.append(scalogram_2)\n",
    "    #scalogram_2 = scalogram_2 * freqs[:, np.newaxis]\n",
    "    \n",
    "    instant_freq = np.sum(scalogram_2 * freqs[:, np.newaxis], axis=0) / np.sum(scalogram_2, axis=0)\n",
    "    if plot_means:\n",
    "        plt.figure()\n",
    "        plt.plot(instant_freq)\n",
    "        plt.title('Frecuencia instantánea')\n",
    "\n",
    "    # Mismo WINDOW_SIZE que para la wavelet\n",
    "    window = np.ones(window_size) / window_size  # Ventana normalizada\n",
    "\n",
    "    # Calcular la media móvil con convolución\n",
    "    media_movil = np.convolve(instant_freq, window, mode='same') \n",
    "    media_movil = gaussian_filter1d(media_movil, sigma)\n",
    "    if plot_means:\n",
    "        plt.figure()\n",
    "        plt.plot(media_movil, color = 'red')\n",
    "        plt.title('Media de la señal')\n",
    "    \n",
    "    # Derivada de la media para ver el cambio en el valor medio de la señal\n",
    "    slope_gradient = np.gradient(media_movil, t)\n",
    "    if plot_means:\n",
    "        plt.figure()\n",
    "        plt.plot(slope_gradient, color = 'green')\n",
    "        plt.title('Gradiente de la media de la señal')\n",
    "    \n",
    "    first_index = np.argmin(slope_gradient[inicio:time_range]) + inicio\n",
    "    last_index = np.argmax(slope_gradient[time_range:time_range+time_shift]) + time_range \n",
    "    \n",
    "    t_onset = t[first_index]\n",
    "    t_offset = t[last_index]     \n",
    "\n",
    "    initial_imnf = instant_freq[:round(burst_start_1 * fs) - offset]\n",
    "    instant_mean_freq_total.extend(initial_imnf)\n",
    "    # plt.figure()\n",
    "    # plt.plot(initial_imnf)\n",
    "\n",
    "    instant_mean_freq_burst = instant_freq[\n",
    "                              round(burst_start_1 * fs):round((burst_start_1 + burst_duration_1) * fs)]\n",
    "    instant_mean_freq_burst = instant_mean_freq_burst[offset_burst:round(len(instant_mean_freq_burst)) - offset_burst]\n",
    "    instant_mean_freq_total.extend(instant_mean_freq_burst)\n",
    "\n",
    "    final_imnf = instant_freq[round((burst_start_1 + burst_duration_1) * fs) + offset:]\n",
    "    instant_mean_freq_total.extend(final_imnf)\n",
    "    # plt.figure()\n",
    "    # plt.plot(final_imnf)\n",
    "    # plt.figure()\n",
    "    # plt.plot(instant_mean_freq_total)\n",
    "\n",
    "    if plot_2:\n",
    "        ax_2[i].plot(t, instant_mean_freq_total,\n",
    "                     label=\"Mean frequency (each window of \" + str(len(freqs)) + ' samples)')\n",
    "\n",
    "        ax_2[i].set_xlabel(\"Time (s)\")\n",
    "        ax_2[i].set_ylabel(\"Frequency (Hz)\")\n",
    "        #ax_2[i].set_xlim(tiempo[0], tiempo[-1])\n",
    "        #plt.title(\"Medias de cada fila en función del tiempo\")\n",
    "        ax_2[i].legend()\n",
    "        ax_2[i].grid(True)\n",
    "\n",
    "        ax_3.plot(t, instant_mean_freq_total, label=f\"Mean frequency (Cycles: {base_cycle})\")\n",
    "\n",
    "     #MAE in frequency\n",
    "    print(f'Estimated mean frequency: {np.mean(instant_mean_freq_burst)} Hz')\n",
    "    mae_f, std_f = calculate_mae(instant_mean_freq_burst, MNF_1)\n",
    "    mae_superlet_f.append(mae_f)\n",
    "    std_superlet_f.append(std_f)\n",
    "    \n",
    "    #MAE in time\n",
    "    print(f'Estimated onset = {t_onset} s, offset = {t_offset} s')\n",
    "    # estimates_combined = t_offset - t_onset\n",
    "    # print(f'Estimated difference: {estimates_combined} s')\n",
    "    # true_values_combined = t_offset_1 - t_onset_1\n",
    "    # print(f'Real difference: {true_values_combined} s')\n",
    "\n",
    "    mae_t, std_t = calculate_mae([(t_onset,t_offset)], (t_onset_1,t_offset_1))\n",
    "    mae_superlet_t.append(mae_t)\n",
    "    std_superlet_t.append(std_t)\n",
    "\n",
    "    time = np.arange(scalogram_2.shape[1]) / fs\n",
    "\n",
    "    total_time.append(time)\n",
    "    total_freq.append(freqs)\n",
    "\n",
    "    total_time.append(t)\n",
    "    total_freq.append(freqs)\n",
    "    \n",
    "    # Visualization\n",
    "    plt.figure(figsize=(12, 6))\n",
    "\n",
    "    plt.subplot(2, 1, 1)\n",
    "    #plt.plot(t, instant_freq)\n",
    "    plt.plot(t, media_movil)\n",
    "    plt.axvline(t_onset, color='green', linestyle='--', label='t_onset')\n",
    "    plt.axvline(t_offset, color='red', linestyle='--', label='t_offset')\n",
    "    plt.xlabel('Time (s)')\n",
    "    plt.ylabel('Freq (Hz)')\n",
    "    plt.legend()\n",
    "    plt.grid()\n",
    "\n",
    "    plt.subplot(2, 1, 2)\n",
    "    plt.plot(t, slope_gradient)\n",
    "    plt.axvline(t_onset, color='green', linestyle='--', label='t_onset')\n",
    "    plt.axvline(t_offset, color='red', linestyle='--', label='t_offset')\n",
    "    plt.xlabel('Time (s)')\n",
    "    plt.ylabel('Freq (Hz)')\n",
    "    plt.legend()\n",
    "    plt.grid()\n",
    "    \n",
    "    plt.tight_layout()\n",
    "\n",
    "if plot_2:\n",
    "    ax_3.set_xlabel(\"Time (s)\")\n",
    "    ax_3.set_ylabel(\"Frequency (Hz)\")\n",
    "    ax_3.legend()\n",
    "    ax_3.grid(True)\n",
    "    ax_3.set_title(\"Comparación de frecuencias medias instantáneas\")\n",
    "\n",
    "res_superlet = superlet.compute_avg_response_resolution(total_scalogram_superlet, total_time, total_freq, [f'$c_1$={c3}, o:{c1}-{c2}' for c1, c2, c3 in zip(*params_superlet)])"
   ],
   "metadata": {
    "collapsed": false
   }
  },
  {
   "cell_type": "code",
   "execution_count": null,
   "outputs": [],
   "source": [
    "mae_superlet_f"
   ],
   "metadata": {
    "collapsed": false
   }
  },
  {
   "cell_type": "code",
   "execution_count": null,
   "outputs": [],
   "source": [
    "mae_superlet_t"
   ],
   "metadata": {
    "collapsed": false
   }
  },
  {
   "cell_type": "markdown",
   "source": [
    "## STFT PARAMETERS (window = duration/cycles) = 38, 200, 413, 550, 600, 824 ms"
   ],
   "metadata": {
    "collapsed": false,
    "ExecuteTime": {
     "end_time": "2025-02-12T10:55:35.411452Z",
     "start_time": "2025-02-12T10:55:35.327800Z"
    }
   }
  },
  {
   "cell_type": "code",
   "execution_count": null,
   "outputs": [],
   "source": [
    "importlib.reload(superlet)"
   ],
   "metadata": {
    "collapsed": false
   }
  },
  {
   "cell_type": "code",
   "execution_count": null,
   "outputs": [],
   "source": [
    "offset_burst = 0\n",
    "offset = 0"
   ],
   "metadata": {
    "collapsed": false
   }
  },
  {
   "cell_type": "code",
   "execution_count": null,
   "outputs": [],
   "source": [
    "from scipy.signal import stft\n",
    "from scipy.signal import windows\n",
    "\n",
    "windows_ms = [38, 200, 413, 550, 600]\n",
    "\n",
    "if plot_1:\n",
    "    fig, ax = plt.subplots(ncols=len(windows_ms), figsize=(15, 5), dpi=300)\n",
    "\n",
    "if plot_2:\n",
    "    fig_2, ax_2 = plt.subplots(ncols=len(windows_ms), figsize=(15, 5), dpi=300)\n",
    "    fig_3, ax_3 = plt.subplots(figsize=(10, 6))\n",
    "\n",
    "mae_stft_f = []\n",
    "std_stft_f = []\n",
    "\n",
    "mae_stft_t = []\n",
    "std_stft_t = []\n",
    "\n",
    "total_time = []\n",
    "total_freq = []\n",
    "\n",
    "res_stft = []\n",
    "total_scalogram_stft = []\n",
    "\n",
    "for i, w in enumerate(windows_ms):\n",
    "    # Calcular la ventana Blackman\n",
    "    window = windows.blackman(w)\n",
    "    \n",
    "    # Hacer que la f de la stft tenga el mismo tamaño que las demás\n",
    "    nfft = 2 * (len(freqs))\n",
    "\n",
    "    f, t_stft, Zxx = stft(signal, fs=fs, window='blackman', nperseg=w, noverlap=w-1, nfft=nfft, detrend=False, return_onesided=True, boundary='zeros', padded=True, axis=-1, scaling='spectrum')\n",
    "\n",
    "    # Calcular la representación de potencia (magnitud al cuadrado)\n",
    "    Zxx_power = np.abs(Zxx) ** 2\n",
    "    \n",
    "    if plot_1:\n",
    "        pcm = ax[i].pcolormesh(t_stft, f, Zxx_power, shading='gouraud', cmap='jet')\n",
    "        \n",
    "        ax[i].set_title(f'W={w * 1000 // fs} ms')\n",
    "        ax[i].set_ylabel('Frecuencia [Hz]')\n",
    "        ax[i].set_xlabel('Tiempo [s]')\n",
    "        \n",
    "        cbar = fig.colorbar(pcm, ax=ax[i], orientation='horizontal')\n",
    "        cbar.set_label('Power', rotation=0, labelpad=15)  # Etiqueta de la colorbar\n",
    "    \n",
    "        #fig.colorbar(pcm, ax=ax[i], label='Potencia')\n",
    "        ax[i].set_ylim(freqs[0], freqs[-1])  # Ajustar el rango de frecuencias si es necesario\n",
    "        plt.tight_layout()\n",
    "    \n",
    "    scalogram_2 = Zxx_power\n",
    "    \n",
    "    #if np.any(np.isnan(jnp.abs(Zxx)**2)) or np.any(np.isinf(jnp.abs(Zxx)**2)):\n",
    "    #scalogram_2 = jnp.nan_to_num(jnp.abs(Zxx)**2, nan=0.0, posinf=0.0, neginf=0.0)\n",
    "    \n",
    "    if save:\n",
    "        df = pd.DataFrame(scalogram_2)\n",
    "    \n",
    "        # Guardar en un archivo CSV\n",
    "        filename = os.path.join(new_folder_path, str(SNR) + \"dB_stft_\" + str(w) + \".csv\")\n",
    "        df.to_csv(filename, index=False, header=False)  # Sin índices ni encabezados\n",
    "        \n",
    "    total_scalogram_stft.append(scalogram_2)\n",
    " \n",
    "    instant_mean_freq_total = []   \n",
    "    \n",
    "    # Para evitar la división por cero\n",
    "    denominador = np.sum(scalogram_2, axis=0)\n",
    "    # denominador = np.where(denominador == 0, 1e-10, denominador)\n",
    "    instant_freq = np.sum(scalogram_2 * f[:, np.newaxis], axis=0) / denominador\n",
    "    if plot_means:\n",
    "        plt.figure()\n",
    "        plt.plot(instant_freq)\n",
    "        plt.title('Frecuencia instantánea')\n",
    "    \n",
    "    # Mismo WINDOW_SIZE\n",
    "    window = np.ones(window_size) / window_size  # Ventana normalizada\n",
    "\n",
    "    # Calcular la media móvil con convolución\n",
    "    media_movil = np.convolve(instant_freq, window, mode='same')\n",
    "    media_movil = gaussian_filter1d(media_movil, sigma)\n",
    "    if plot_means:\n",
    "        plt.figure()\n",
    "        plt.plot(media_movil, color = 'red')\n",
    "        plt.title('Media de la señal')\n",
    "    \n",
    "    slope_gradient = np.gradient(media_movil, t_stft)\n",
    "    if plot_means:\n",
    "        plt.figure()\n",
    "        plt.plot(slope_gradient, color = 'green')\n",
    "        plt.title('Gradiente de la media de la señal')\n",
    "    \n",
    "    first_index = np.argmin(slope_gradient[inicio:time_range]) + inicio\n",
    "    last_index = np.argmax(slope_gradient[time_range:time_range+time_shift]) + time_range \n",
    "    \n",
    "    t_onset = t[first_index]\n",
    "    t_offset = t[last_index]\n",
    "    \n",
    "    start_idx = np.searchsorted(t, burst_start_1)  # Encuentra el índice de inicio\n",
    "    end_idx = np.searchsorted(t, burst_start_1 + burst_duration_1)  # Encuentra el índice final\n",
    "\n",
    "    instant_mean_freq_burst = instant_freq[start_idx:end_idx]\n",
    "\n",
    "    if plot_2:\n",
    "        ax_2[i].plot(t_stft, instant_freq)\n",
    "\n",
    "        ax_2[i].set_xlabel(\"Time (s)\")\n",
    "        ax_2[i].set_ylabel(\"Frequency (Hz)\")\n",
    "        ax_2[i].grid(True)\n",
    "\n",
    "        ax_3.plot(t_stft, instant_freq, label=f\"Mean frequency (Cycles: {c})\")\n",
    "        plt.tight_layout()\n",
    "\n",
    "    #MAE in frequency\n",
    "    print(f'Estimated mean frequency: np.mean(instant_mean_freq_burst) Hz')\n",
    "    mae_f, std_f = calculate_mae(instant_mean_freq_burst, MNF_1)\n",
    "    mae_stft_f.append(mae_f)\n",
    "    std_stft_f.append(std_f)\n",
    "    \n",
    "    #MAE in time\n",
    "    print(f'Estimated onset = {t_onset} s, offset = {t_offset} s')\n",
    "    # estimates_combined = t_offset - t_onset\n",
    "    # print(f'Estimated difference: {estimates_combined} s')\n",
    "    # true_values_combined = t_offset_1 - t_onset_1\n",
    "    # print(f'Real difference: {true_values_combined} s')\n",
    "\n",
    "    mae_t, std_t = calculate_mae([(t_onset,t_offset)], (t_onset_1,t_offset_1))\n",
    "    mae_stft_t.append(mae_t)\n",
    "    std_stft_t.append(std_t)\n",
    "    \n",
    "    total_time.append(np.linspace(t_stft[0], t_stft[-1], scalogram_2.shape[1]))\n",
    "    total_freq.append(np.linspace(f[0], f[-1], scalogram_2.shape[0]))\n",
    "    \n",
    "    # Visualization\n",
    "    plt.figure(figsize=(12, 6))\n",
    "\n",
    "    plt.subplot(2, 1, 1)\n",
    "    #plt.plot(t_stft, instant_freq)\n",
    "    plt.plot(t_stft, media_movil)\n",
    "    plt.axvline(t_onset, color='green', linestyle='--', label='t_onset')\n",
    "    plt.axvline(t_offset, color='red', linestyle='--', label='t_offset')\n",
    "    plt.xlabel('Time (s)')\n",
    "    plt.ylabel('Freq (Hz)')\n",
    "    plt.legend()\n",
    "    plt.grid()\n",
    "    \n",
    "    plt.subplot(2, 1, 2)\n",
    "    plt.plot(t_stft, slope_gradient)\n",
    "    plt.axvline(t_onset, color='green', linestyle='--', label='t_onset')\n",
    "    plt.axvline(t_offset, color='red', linestyle='--', label='t_offset')\n",
    "    plt.xlabel('Time (s)')\n",
    "    plt.ylabel('Freq (Hz)')\n",
    "    plt.legend()\n",
    "    plt.grid()\n",
    "\n",
    "    plt.tight_layout()\n",
    "\n",
    "# Configuración del gráfico\n",
    "if plot_2:\n",
    "    ax_3.set_xlabel(\"Time (s)\")\n",
    "    ax_3.set_ylabel(\"Frequency (Hz)\")\n",
    "    ax_3.legend()\n",
    "    ax_3.grid(True)\n",
    "    ax_3.set_title(\"Comparación de frecuencias medias instantáneas\")\n",
    "        \n",
    "res_stft = superlet.compute_avg_response_resolution(total_scalogram_stft, total_time, total_freq, windows_ms, stft=[freqs[0],freqs[-1]])"
   ],
   "metadata": {
    "collapsed": false
   }
  },
  {
   "cell_type": "code",
   "execution_count": null,
   "outputs": [],
   "source": [
    "mae_stft_f"
   ],
   "metadata": {
    "collapsed": false
   }
  },
  {
   "cell_type": "code",
   "execution_count": null,
   "outputs": [],
   "source": [
    "mae_stft_t"
   ],
   "metadata": {
    "collapsed": false
   }
  },
  {
   "cell_type": "markdown",
   "source": [
    "### Plot comparison of the same SNR"
   ],
   "metadata": {
    "collapsed": false,
    "ExecuteTime": {
     "end_time": "2025-02-12T10:56:01.586335Z",
     "start_time": "2025-02-12T10:56:01.289892Z"
    }
   }
  },
  {
   "cell_type": "markdown",
   "source": [
    "# MAE IN FREQUENCY"
   ],
   "metadata": {
    "collapsed": false
   }
  },
  {
   "cell_type": "code",
   "execution_count": null,
   "outputs": [],
   "source": [
    "params_stft = windows_ms\n",
    "\n",
    "# Número de condiciones\n",
    "num_conditions = len(mae_wavelet_f)\n",
    "x = np.arange(num_conditions)  # Posiciones para cada grupo de barras\n",
    "bar_width = 0.25  # Ancho de las barras\n",
    "\n",
    "# Crear el gráfico de barras\n",
    "plt.figure(figsize=(14, 7))\n",
    "\n",
    "# Graficar cada técnica con sus valores y barras de error\n",
    "plt.bar(x - bar_width, mae_stft_f, width=bar_width, yerr=std_stft_f, capsize=5, label='STFT', color='skyblue', alpha=0.7)\n",
    "plt.bar(x, mae_wavelet_f, width=bar_width, yerr=std_wavelet_f, capsize=5, label='Wavelet', color='lightgreen', alpha=0.7)\n",
    "plt.bar(x + bar_width, mae_superlet_f, width=bar_width, yerr=std_superlet_f, capsize=5, label='Superlet', color='salmon', alpha=0.7)\n",
    "\n",
    "# Configuración de etiquetas en el eje x con los parámetros específicos\n",
    "labels = [\n",
    "    f\"W={p_stft} ms\\n\\nc={p_w}\\n\\nc$_1$={p_s[0]}, o: {p_s[1]}-{p_s[2]}\"\n",
    "    for p_w, p_s, p_stft in zip(params_wavelet, zip(*params_superlet), params_stft)\n",
    "]\n",
    "\n",
    "plt.xticks(x, labels, rotation=90, ha='center', fontsize=18)\n",
    "#plt.xlabel('Condiciones y Parámetros')\n",
    "plt.yticks(np.arange(0, 81, 10))\n",
    "\n",
    "plt.ylabel('MAE (Hz)')\n",
    "plt.title('MAE in FREQUENCY (SNR = ' + str(SNR) +')', fontsize=18)\n",
    "plt.ylim(0,80)\n",
    "plt.legend(fontsize=14)\n",
    "plt.grid(True)\n",
    "\n",
    "# Ajustar el layout para mejorar visualización de etiquetas\n",
    "plt.tight_layout()\n",
    "\n",
    "# Mostrar el gráfico\n",
    "plt.show()"
   ],
   "metadata": {
    "collapsed": false
   }
  },
  {
   "cell_type": "markdown",
   "source": [
    "# MAE IN TIME"
   ],
   "metadata": {
    "collapsed": false
   }
  },
  {
   "cell_type": "code",
   "execution_count": null,
   "outputs": [],
   "source": [
    "params_stft = windows_ms\n",
    "\n",
    "# Número de condiciones\n",
    "num_conditions = len(mae_wavelet_t)\n",
    "x = np.arange(num_conditions)  # Posiciones para cada grupo de barras\n",
    "bar_width = 0.25  # Ancho de las barras\n",
    "\n",
    "# Crear el gráfico de barras\n",
    "plt.figure(figsize=(14, 7))\n",
    "\n",
    "# Graficar cada técnica con sus valores y barras de error\n",
    "plt.bar(x - bar_width, mae_stft_t, width=bar_width, yerr=std_stft_t, capsize=5, label='STFT', color='skyblue', alpha=0.7)\n",
    "plt.bar(x, mae_wavelet_t, width=bar_width, yerr=std_wavelet_t, capsize=5, label='Wavelet', color='lightgreen', alpha=0.7)\n",
    "plt.bar(x + bar_width, mae_superlet_t, width=bar_width, yerr=std_superlet_t, capsize=5, label='Superlet', color='salmon', alpha=0.7)\n",
    "\n",
    "# Configuración de etiquetas en el eje x con los parámetros específicos\n",
    "labels = [\n",
    "    f\"W={p_stft} ms\\n\\nc={p_w}\\n\\nc$_1$={p_s[0]}, o: {p_s[1]}-{p_s[2]}\"\n",
    "    for p_w, p_s, p_stft in zip(params_wavelet, zip(*params_superlet), params_stft)\n",
    "]\n",
    "\n",
    "plt.xticks(x, labels, rotation=90, ha='center', fontsize=18)\n",
    "#plt.xlabel('Condiciones y Parámetros')\n",
    "plt.yticks(np.arange(0, 1.1, 0.1))\n",
    "\n",
    "plt.ylabel('MAE (s)')\n",
    "plt.title('MAE in TIME (SNR = ' + str(SNR) +')', fontsize=18)\n",
    "plt.ylim(0,1)\n",
    "plt.legend(fontsize=14)\n",
    "plt.grid(True)\n",
    "\n",
    "# Ajustar el layout para mejorar visualización de etiquetas\n",
    "plt.tight_layout()\n",
    "\n",
    "# Mostrar el gráfico\n",
    "plt.show()"
   ],
   "metadata": {
    "collapsed": false
   }
  },
  {
   "cell_type": "markdown",
   "source": [
    "# COMPUTE RESOLUTION"
   ],
   "metadata": {
    "collapsed": false
   }
  },
  {
   "cell_type": "code",
   "execution_count": null,
   "outputs": [],
   "source": [
    "rayleigh_limit = 1 / (4 * np.pi)\n",
    "\n",
    "# Etiquetas para los grupos de parámetros con salto de línea adicional\n",
    "labels = [\n",
    "    f\"W={p_stft} ms\\nc={p_wavelet}\\nc$_1$={p_superlet[0]}, o={p_superlet[1]}-{p_superlet[2]}\"\n",
    "    for p_wavelet, p_superlet, p_stft in zip(params_wavelet, zip(*params_superlet), params_stft)\n",
    "]\n",
    "\n",
    "x = np.arange(1,len(params_wavelet)+1)\n",
    "\n",
    "plt.figure(figsize=(12, 8))\n",
    "\n",
    "# Primer gráfico (Frecuencia)\n",
    "plt.subplot(2, 1, 1)\n",
    "plt.plot(x, [r[1] for r in res_wavelet], 'ro-', label=\"Wavelet (Frequency)\")\n",
    "plt.plot(x, [r[1] for r in res_stft], 'bo-', label=\"STFT (Frequency)\")\n",
    "plt.plot(x, [r[1] for r in res_superlet], 'go-', label=\"Superlet (Frequency)\")\n",
    "plt.axhline(rayleigh_limit, color='k', linestyle='--', label=\"Rayleigh Limit\")\n",
    "plt.xlabel(\"Window Size / Cycles / Order\")\n",
    "plt.ylabel(\"Frequency Resolution (Hz)\")\n",
    "plt.legend()\n",
    "\n",
    "# Segundo gráfico (Tiempo)\n",
    "plt.subplot(2, 1, 2)\n",
    "plt.plot(x, [r[0] for r in res_wavelet], 'ro-', label=\"Wavelet (Time)\")\n",
    "plt.plot(x, [r[0] for r in res_stft], 'bo-', label=\"STFT (Time)\")\n",
    "plt.plot(x, [r[0] for r in res_superlet], 'go-', label=\"Superlet (Time)\")\n",
    "plt.axhline(1 / MNF_1[0], color='k', linestyle='--', label=\"Temporal Limit\")\n",
    "plt.xlabel(\"Window Size / Cycles / Order\")\n",
    "plt.ylabel(\"Time Resolution (s)\")\n",
    "plt.legend()\n",
    "\n",
    "# Ajuste de los xticks para ambos subgráficos\n",
    "for ax in plt.gcf().get_axes():\n",
    "    ax.set_xticks(x)  # Establecer los valores de los ticks\n",
    "    ax.set_xticklabels(labels, rotation=90, ha='center', fontsize=10)  # Establecer las etiquetas con el formato deseado\n",
    "\n",
    "# Ajustar el diseño\n",
    "plt.tight_layout()\n",
    "plt.show()"
   ],
   "metadata": {
    "collapsed": false
   }
  },
  {
   "cell_type": "markdown",
   "source": [
    "# Only first time!!!!"
   ],
   "metadata": {
    "collapsed": false
   }
  },
  {
   "cell_type": "code",
   "execution_count": null,
   "outputs": [],
   "source": [
    "MAES_f = {\n",
    "    'stft': [],\n",
    "    'wavelet': [],\n",
    "    'superlet': [],\n",
    "    'std_stft': [],\n",
    "    'std_wavelet': [],\n",
    "    'std_superlet': []\n",
    "}"
   ],
   "metadata": {
    "collapsed": false
   }
  },
  {
   "cell_type": "code",
   "execution_count": null,
   "outputs": [],
   "source": [
    "MAES_f['wavelet'].append(mae_wavelet_f)\n",
    "MAES_f['stft'].append(mae_stft_f)\n",
    "MAES_f['superlet'].append(mae_superlet_f)\n",
    "MAES_f['std_wavelet'].append(std_wavelet_f)\n",
    "MAES_f['std_stft'].append(std_stft_f)\n",
    "MAES_f['std_superlet'].append(std_superlet_f)"
   ],
   "metadata": {
    "collapsed": false
   }
  },
  {
   "cell_type": "code",
   "execution_count": null,
   "outputs": [],
   "source": [
    "MAES_f"
   ],
   "metadata": {
    "collapsed": false
   }
  },
  {
   "cell_type": "code",
   "execution_count": null,
   "outputs": [],
   "source": [
    "MAES_t = {\n",
    "    'stft': [],\n",
    "    'wavelet': [],\n",
    "    'superlet': [],\n",
    "    'std_stft': [],\n",
    "    'std_wavelet': [],\n",
    "    'std_superlet': []\n",
    "}"
   ],
   "metadata": {
    "collapsed": false
   }
  },
  {
   "cell_type": "code",
   "execution_count": null,
   "outputs": [],
   "source": [
    "MAES_t['wavelet'].append(mae_wavelet_t)\n",
    "MAES_t['stft'].append(mae_stft_t)\n",
    "MAES_t['superlet'].append(mae_superlet_t)\n",
    "MAES_t['std_wavelet'].append(std_wavelet_t)\n",
    "MAES_t['std_stft'].append(std_stft_t)\n",
    "MAES_t['std_superlet'].append(std_superlet_t)"
   ],
   "metadata": {
    "collapsed": false
   }
  },
  {
   "cell_type": "code",
   "execution_count": null,
   "outputs": [],
   "source": [
    "MAES_t"
   ],
   "metadata": {
    "collapsed": false
   }
  },
  {
   "cell_type": "markdown",
   "source": [
    "### WE REPEAT EVERYTHING WITH DIFFERENT SNR"
   ],
   "metadata": {
    "collapsed": false
   }
  },
  {
   "cell_type": "markdown",
   "source": [
    "## We reset the signal"
   ],
   "metadata": {
    "collapsed": false
   }
  },
  {
   "cell_type": "markdown",
   "source": [
    "#### Baseline parameters"
   ],
   "metadata": {
    "collapsed": false
   }
  },
  {
   "cell_type": "code",
   "execution_count": null,
   "outputs": [],
   "source": [
    "noise = np.random.normal(0, 0.04, len(t))"
   ],
   "metadata": {
    "collapsed": false
   }
  },
  {
   "cell_type": "code",
   "execution_count": null,
   "outputs": [],
   "source": [
    "baseline_1 = noise.copy()\n",
    "baseline_1[int(burst_start_1*fs):int(burst_start_1*fs + len(burst_1))] += burst_1"
   ],
   "metadata": {
    "collapsed": false
   }
  },
  {
   "cell_type": "code",
   "execution_count": null,
   "outputs": [],
   "source": [
    "#signal = baseline_1 + noise_2\n",
    "signal = baseline_1\n",
    "fig, ax = plt.subplots(figsize=(15, 2), dpi=300)\n",
    "ax.set_xlabel(\"Time (ms)\")\n",
    "ax.plot(jnp.linspace(0, len(signal) / fs, len(signal)), signal)\n",
    "print(f\"Reference mean frequency: {MNF_1} Hz\")"
   ],
   "metadata": {
    "collapsed": false
   }
  },
  {
   "cell_type": "code",
   "execution_count": null,
   "outputs": [],
   "source": [
    "SNR = 5\n",
    "#signal_noise = add_noise(baseline_1, SNR, plot = True)\n",
    "signal_noise = add_noise(signal, SNR, plot=True)\n",
    "#signal_noise = add_wgn_to_sig(baseline_1, noise, SNR)\n",
    "signal = signal_noise"
   ],
   "metadata": {
    "collapsed": false
   }
  },
  {
   "cell_type": "code",
   "execution_count": null,
   "outputs": [],
   "source": [
    "psd_welch, f_welch, MNF = superlet.compute_psd_welch(signal, fs, plot=True, muscle='Simulated EMG signal with burst')"
   ],
   "metadata": {
    "collapsed": false
   }
  },
  {
   "cell_type": "code",
   "execution_count": null,
   "outputs": [],
   "source": [
    "MNF_1"
   ],
   "metadata": {
    "collapsed": false
   }
  },
  {
   "cell_type": "code",
   "execution_count": null,
   "outputs": [],
   "source": [
    "fig, ax = plt.subplots(figsize=(15, 2), dpi=300)\n",
    "ax.set_xlabel(\"Time (ms)\")\n",
    "ax.plot(jnp.linspace(0, len(signal) / fs, len(signal)), signal)\n",
    "print(f\"Reference mean frequency: {MNF_1} Hz\")"
   ],
   "metadata": {
    "collapsed": false
   }
  },
  {
   "cell_type": "markdown",
   "source": [
    "## WAVELET PARAMETERS = 3, 16, 33, 55, 60, 115 cycles"
   ],
   "metadata": {
    "collapsed": false
   }
  },
  {
   "cell_type": "code",
   "execution_count": null,
   "outputs": [],
   "source": [
    "importlib.reload(superlet)"
   ],
   "metadata": {
    "collapsed": false
   }
  },
  {
   "cell_type": "code",
   "execution_count": null,
   "outputs": [],
   "source": [
    "if plot_1:\n",
    "    fig, ax = plt.subplots(ncols=len(params_wavelet), figsize=(18, 5), dpi=300)\n",
    "if plot_2:\n",
    "    fig_2, ax_2 = plt.subplots(ncols=len(params_wavelet), figsize=(18, 5), dpi=300)\n",
    "    fig_3, ax_3 = plt.subplots(figsize=(10, 6))\n",
    "\n",
    "mae_wavelet_f = []\n",
    "std_wavelet_f = []\n",
    "\n",
    "mae_wavelet_t = []\n",
    "std_wavelet_t = []\n",
    "\n",
    "total_time = []\n",
    "total_freq = []\n",
    "\n",
    "total_scalogram_wavelet = []\n",
    "res_wavelet = []\n",
    "\n",
    "# Iterar sobre los parámetros de wavelet\n",
    "for i, c in enumerate(params_wavelet):\n",
    "    wavelet = f\"cmor{c}-1.0\"\n",
    "\n",
    "    cwtmatr, f, physical_freqs = morlet.wavelet_transform_2(signal,wavelet,freqs,fs)\n",
    "    cwtmatr = np.abs(cwtmatr[:, :])\n",
    "    \n",
    "    if save:\n",
    "        df = pd.DataFrame(cwtmatr)\n",
    "    \n",
    "        # Guardar en un archivo CSV\n",
    "        filename = os.path.join(new_folder_path, str(SNR) + \"dB_wv_\" + str(c) + \".csv\")\n",
    "        df.to_csv(filename, index=False, header=False)  # Sin índices ni encabezados\n",
    "    \n",
    "    scalogram_2 = jnp.abs(cwtmatr)**2\n",
    "\n",
    "    if plot_1:\n",
    "        pcm = ax[i].pcolormesh(t,f, scalogram_2, shading='gouraud', cmap='jet')\n",
    "        \n",
    "        ax[i].set_title(f'c={c}')\n",
    "        ax[i].set_ylabel('Frecuencia [Hz]')\n",
    "        ax[i].set_xlabel('Tiempo [s]')\n",
    "        \n",
    "        cbar = fig.colorbar(pcm, ax=ax[i], orientation='horizontal')\n",
    "        cbar.set_label('Power', rotation=0, labelpad=15)  # Etiqueta de la colorbar\n",
    "    \n",
    "        ax[i].set_ylim(freqs[0], freqs[-1])  # Ajustar el rango de frecuencias si es necesario\n",
    "        plt.tight_layout()\n",
    "\n",
    "    total_scalogram_wavelet.append(scalogram_2)\n",
    "    instant_mean_freq_total = []\n",
    "\n",
    "    instant_freq = np.sum(scalogram_2 * f[:, np.newaxis], axis=0) / np.sum(scalogram_2, axis=0)\n",
    "    if plot_means:\n",
    "        plt.figure()\n",
    "        plt.plot(instant_freq)\n",
    "        plt.title('Frecuencia instantánea')\n",
    "\n",
    "    # VALOR MEDIO EN UNA VENTANA DESLIZANTE\n",
    "    window = np.ones(window_size) / window_size  # Ventana normalizada\n",
    "\n",
    "    # Calcular la media móvil con convolución\n",
    "    media_movil = np.convolve(instant_freq, window, mode='same')    \n",
    "    media_movil = gaussian_filter1d(media_movil, sigma)\n",
    "    if plot_means:\n",
    "        plt.figure()\n",
    "        plt.plot(media_movil, color = 'red')\n",
    "        plt.title('Media de la señal')\n",
    "    \n",
    "    # Derivada de la media para ver el cambio en el valor medio de la señal\n",
    "    slope_gradient = np.gradient(media_movil, t)\n",
    "    if plot_means:\n",
    "        plt.figure()\n",
    "        plt.plot(slope_gradient, color = 'green')\n",
    "        plt.title('Gradiente de la media de la señal')\n",
    "    \n",
    "    first_index = np.argmin(slope_gradient[inicio:time_range]) + inicio\n",
    "    last_index = np.argmax(slope_gradient[time_range:time_range+time_shift]) + time_range \n",
    "    \n",
    "    t_onset = t[first_index]\n",
    "    t_offset = t[last_index]\n",
    "    \n",
    "    start_idx = np.searchsorted(t, burst_start_1)  # Encuentra el índice de inicio\n",
    "    end_idx = np.searchsorted(t, burst_start_1 + burst_duration_1)  # Encuentra el índice final\n",
    "\n",
    "    instant_mean_freq_burst = instant_freq[start_idx:end_idx]\n",
    "\n",
    "    if plot_2:\n",
    "        ax_2[i].plot(t, instant_freq)\n",
    "\n",
    "        ax_2[i].set_xlabel(\"Time (s)\")\n",
    "        ax_2[i].set_ylabel(\"Frequency (Hz)\")\n",
    "        #ax_2[i].set_xlim(t[0], t[-1])\n",
    "        #plt.title(\"Medias de cada fila en función del tiempo\")\n",
    "        ax_2[i].grid(True)\n",
    "\n",
    "        ax_3.plot(t, instant_freq, label=f\"Mean frequency (Cycles: {c})\")\n",
    "        plt.tight_layout()\n",
    "\n",
    "    #MAE in frequency\n",
    "    print(f'Estimated mean frequency {np.mean(instant_mean_freq_burst)} Hz')\n",
    "    mae_f, std_f = calculate_mae(instant_mean_freq_burst, MNF_1)\n",
    "    mae_wavelet_f.append(mae_f)\n",
    "    std_wavelet_f.append(std_f)\n",
    "    \n",
    "    #MAE in time\n",
    "    print(f'Estimated onset = {t_onset} s, offset = {t_offset} s')\n",
    "    # estimates_combined = t_offset - t_onset\n",
    "    # print(f'Estimated difference: {estimates_combined} s')\n",
    "    # true_values_combined = t_offset_1 - t_onset_1\n",
    "    # print(f'Real difference: {true_values_combined} s')\n",
    "\n",
    "    mae_t, std_t = calculate_mae([(t_onset,t_offset)], (t_onset_1,t_offset_1))\n",
    "    mae_wavelet_t.append(mae_t)\n",
    "    std_wavelet_t.append(std_t)\n",
    "\n",
    "    time = np.arange(scalogram_2.shape[1]) / fs\n",
    "\n",
    "    total_time.append(time)\n",
    "    total_freq.append(freqs)\n",
    "    \n",
    "    # Visualization\n",
    "    plt.figure(figsize=(12, 6))\n",
    "\n",
    "    plt.subplot(2, 1, 1)\n",
    "    #plt.plot(t, instant_freq)\n",
    "    plt.plot(t,media_movil)\n",
    "    plt.axvline(t_onset, color='green', linestyle='--', label='t_onset')\n",
    "    plt.axvline(t_offset, color='red', linestyle='--', label='t_offset')\n",
    "    plt.xlabel('Time (s)')\n",
    "    plt.ylabel('Freq (Hz)')\n",
    "    plt.legend()\n",
    "    plt.grid()\n",
    "    \n",
    "    # Slopes and t_onset and t_offset\n",
    "    plt.subplot(2, 1, 2)\n",
    "    plt.plot(t, slope_gradient, 'g-', label='Local slope (np.gradient)')\n",
    "    plt.axvline(t_onset, color='green', linestyle='--', label='Start of the first positive slope')\n",
    "    plt.axvline(t_offset, color='red', linestyle='--', label='End of the final negative slope')\n",
    "    plt.xlabel('Time (s)')\n",
    "    plt.ylabel('Slope')\n",
    "    plt.legend()\n",
    "    plt.grid()\n",
    "\n",
    "    plt.tight_layout()\n",
    "\n",
    "# Configuración del gráfico\n",
    "if plot_2:\n",
    "    ax_3.set_xlabel(\"Time (s)\")\n",
    "    ax_3.set_ylabel(\"Frequency (Hz)\")\n",
    "    ax_3.legend()\n",
    "    ax_3.grid(True)\n",
    "    ax_3.set_title(\"Comparación de frecuencias medias instantáneas\")\n",
    "\n",
    "res_wavelet = superlet.compute_avg_response_resolution(total_scalogram_wavelet, total_time, total_freq, params_wavelet)"
   ],
   "metadata": {
    "collapsed": false
   }
  },
  {
   "cell_type": "code",
   "execution_count": null,
   "outputs": [],
   "source": [
    "mae_wavelet_f"
   ],
   "metadata": {
    "collapsed": false
   }
  },
  {
   "cell_type": "code",
   "execution_count": null,
   "outputs": [],
   "source": [
    "mae_wavelet_t"
   ],
   "metadata": {
    "collapsed": false
   }
  },
  {
   "cell_type": "markdown",
   "source": [
    "## PARÁMETROS SUPERLET: base_cycle, min_order, max_order = [3, 5, 1, 1, 1, 1], [1, 1, 5, 10, 20, 30], [30, 30, 40, 100, 100, 200]"
   ],
   "metadata": {
    "collapsed": false
   }
  },
  {
   "cell_type": "code",
   "execution_count": null,
   "outputs": [],
   "source": [
    "importlib.reload(superlet)"
   ],
   "metadata": {
    "collapsed": false
   }
  },
  {
   "cell_type": "code",
   "execution_count": null,
   "outputs": [],
   "source": [
    "if plot_1:\n",
    "    fig, ax = plt.subplots(ncols=len(params_superlet[0]), figsize=(15, 5), dpi=300)\n",
    "\n",
    "if plot_2:\n",
    "    fig_2, ax_2 = plt.subplots(ncols=len(params_superlet[0]), figsize=(15, 5), dpi=300)\n",
    "    fig_3, ax_3 = plt.subplots(figsize=(10, 6))\n",
    "\n",
    "mae_superlet_f = []\n",
    "std_superlet_f = []\n",
    "\n",
    "mae_superlet_t = []\n",
    "std_superlet_t = []\n",
    "\n",
    "total_time = []\n",
    "total_freq = []\n",
    "\n",
    "total_scalogram_superlet = []\n",
    "\n",
    "for (i, (base_cycle, min_order, max_order)) in enumerate(zip(*params_superlet)):\n",
    "\n",
    "    wv, scalogram = superlet.adaptive_superlet_transform(signal, freqs, sampling_freq=fs,\n",
    "                                                         base_cycle=base_cycle, min_order=min_order,\n",
    "                                                         max_order=max_order, mode=\"mul\")\n",
    "    \n",
    "    if plot_1:\n",
    "        im = ax[i].imshow(jnp.abs(scalogram) ** 2, aspect='auto', cmap=\"jet\", interpolation=\"none\", origin=\"lower\",extent=[0, len(signal) / fs, freqs[0], freqs[-1]])\n",
    "        ax[i].set_title(f\"$c_1$: {base_cycle}, o: {min_order}-{max_order}\")\n",
    "        ax[i].set_xlabel(\"Time (s)\")\n",
    "        ax[i].set_ylabel(\"Frequency (Hz)\")\n",
    "\n",
    "        cbar = fig.colorbar(im, ax=ax[i], orientation='horizontal')\n",
    "        cbar.set_label('Power [a.u]', rotation=0, labelpad=15)  # Etiqueta de la colorbar\n",
    "        plt.tight_layout()\n",
    "\n",
    "    scalogram_2 = np.abs(scalogram) ** 2\n",
    "    \n",
    "    if save:\n",
    "        df = pd.DataFrame(scalogram_2)\n",
    "    \n",
    "        # Guardar en un archivo CSV\n",
    "        filename = os.path.join(new_folder_path,str(SNR) + \"dB_superlet_\" + str(base_cycle) + \"-\" + str(min_order) + \"-\" + str(max_order) + \".csv\")\n",
    "        df.to_csv(filename, index=False, header=False)  # Sin índices ni encabezados\n",
    "\n",
    "    instant_mean_freq_total = []\n",
    "    total_scalogram_superlet.append(scalogram_2)\n",
    "    \n",
    "    instant_freq = np.sum(scalogram_2 * freqs[:, np.newaxis], axis=0) / np.sum(scalogram_2, axis=0)\n",
    "    if plot_means:\n",
    "        plt.figure()\n",
    "        plt.plot(instant_freq)\n",
    "        plt.title('Frecuencia instantánea')\n",
    "\n",
    "    # Misms WINDOW_SIZE que para la wavelet\n",
    "    window = np.ones(window_size) / window_size  # Ventana normalizada\n",
    "\n",
    "    # Calcular la media móvil con convolución\n",
    "    media_movil = np.convolve(instant_freq, window, mode='same')   \n",
    "    media_movil = gaussian_filter1d(media_movil,sigma)\n",
    "    if plot_means:\n",
    "        plt.figure()\n",
    "        plt.plot(media_movil, color = 'red')\n",
    "        plt.title('Media de la señal')\n",
    "    \n",
    "    # Derivada de la media para ver el cambio en el valor medio de la señal\n",
    "    slope_gradient = np.gradient(media_movil, t)\n",
    "    if plot_means:\n",
    "        plt.figure()\n",
    "        plt.plot(slope_gradient, color = 'green')\n",
    "        plt.title('Gradiente de la media de la señal')\n",
    "    \n",
    "    first_index = np.argmin(slope_gradient[inicio:time_range]) + inicio\n",
    "    last_index = np.argmax(slope_gradient[time_range:time_range+time_shift]) + time_range \n",
    "    \n",
    "    t_onset = t[first_index]\n",
    "    t_offset = t[last_index]    \n",
    "\n",
    "    initial_imnf = instant_freq[:round(burst_start_1 * fs) - offset]\n",
    "    instant_mean_freq_total.extend(initial_imnf)\n",
    "    # plt.figure()\n",
    "    # plt.plot(initial_imnf)\n",
    "\n",
    "    instant_mean_freq_burst = instant_freq[\n",
    "                              round(burst_start_1 * fs):round((burst_start_1 + burst_duration_1) * fs)]\n",
    "    instant_mean_freq_burst = instant_mean_freq_burst[offset_burst:round(len(instant_mean_freq_burst)) - offset_burst]\n",
    "    instant_mean_freq_total.extend(instant_mean_freq_burst)\n",
    "\n",
    "    final_imnf = instant_freq[round((burst_start_1 + burst_duration_1) * fs) + offset:]\n",
    "    instant_mean_freq_total.extend(final_imnf)\n",
    "    # plt.figure()\n",
    "    # plt.plot(final_imnf)\n",
    "    # plt.figure()\n",
    "    # plt.plot(instant_mean_freq_total)\n",
    "\n",
    "    if plot_2:\n",
    "        ax_2[i].plot(t, instant_mean_freq_total,\n",
    "                     label=\"Mean frequency (each window of \" + str(len(freqs)) + ' samples)')\n",
    "\n",
    "        ax_2[i].set_xlabel(\"Time (s)\")\n",
    "        ax_2[i].set_ylabel(\"Frequency (Hz)\")\n",
    "        #ax_2[i].set_xlim(tiempo[0], tiempo[-1])\n",
    "        #plt.title(\"Medias de cada fila en función del tiempo\")\n",
    "        ax_2[i].legend()\n",
    "        ax_2[i].grid(True)\n",
    "\n",
    "        ax_3.plot(t, instant_mean_freq_total, label=f\"Mean frequency (Cycles: {base_cycle})\")\n",
    "\n",
    "     #MAE in frequency\n",
    "    print(f'Estimated mean frequency {np.mean(instant_mean_freq_burst)} Hz')\n",
    "    mae_f, std_f = calculate_mae(instant_mean_freq_burst, MNF_1)\n",
    "    mae_superlet_f.append(mae_f)\n",
    "    std_superlet_f.append(std_f)\n",
    "    \n",
    "    #MAE in time\n",
    "    print(f'Estimated onset = {t_onset} s, offset = {t_offset} s')\n",
    "    # estimates_combined = t_offset - t_onset\n",
    "    # print(f'Estimated difference: {estimates_combined} s')\n",
    "    # true_values_combined = t_offset_1 - t_onset_1\n",
    "    # print(f'Real difference: {true_values_combined} s')\n",
    "\n",
    "    mae_t, std_t = calculate_mae([(t_onset,t_offset)], (t_onset_1,t_offset_1))\n",
    "    mae_superlet_t.append(mae_t)\n",
    "    std_superlet_t.append(std_t)\n",
    "\n",
    "    time = np.arange(scalogram_2.shape[1]) / fs\n",
    "\n",
    "    total_time.append(time)\n",
    "    total_freq.append(freqs)\n",
    "\n",
    "    total_time.append(t)\n",
    "    total_freq.append(freqs)\n",
    "    \n",
    "    # Visualización\n",
    "    plt.figure(figsize=(12, 6))\n",
    "    \n",
    "    # Gráfica original\n",
    "    plt.subplot(2, 1, 1)\n",
    "    plt.plot(t, instant_freq, label='Datos originales')\n",
    "    plt.plot(t, media_movil, label='Datos originales')\n",
    "    plt.axvline(t_onset, color='green', linestyle='--', label='Inicio de la primera pendiente positiva')\n",
    "    plt.axvline(t_offset, color='red', linestyle='--', label='Final de la última pendiente negativa')\n",
    "    plt.title('Gráfica original y cálculo de pendientes')\n",
    "    plt.xlabel('X')\n",
    "    plt.ylabel('Y')\n",
    "    plt.legend()\n",
    "    plt.grid()\n",
    "    \n",
    "    # Gráfica de pendientes\n",
    "    plt.subplot(2, 1, 2)\n",
    "    plt.plot(t, slope_gradient, 'g-', label='Pendiente local (np.gradient)')\n",
    "    plt.axvline(t_onset, color='green', linestyle='--', label='Inicio de la primera pendiente positiva')\n",
    "    plt.axvline(t_offset, color='red', linestyle='--', label='Final de la última pendiente negativa')\n",
    "    plt.xlabel('Time (s)')\n",
    "    plt.ylabel('Slope')\n",
    "    plt.legend()\n",
    "    plt.grid()\n",
    "\n",
    "    plt.tight_layout()\n",
    "\n",
    "if plot_2:\n",
    "    ax_3.set_xlabel(\"Time (s)\")\n",
    "    ax_3.set_ylabel(\"Frequency (Hz)\")\n",
    "    ax_3.legend()\n",
    "    ax_3.grid(True)\n",
    "    ax_3.set_title(\"Comparación de frecuencias medias instantáneas\")\n",
    "\n",
    "res_superlet = superlet.compute_avg_response_resolution(total_scalogram_superlet, total_time, total_freq, [f'$c_1$={c3}, o:{c1}-{c2}' for c1, c2, c3 in zip(*params_superlet)])"
   ],
   "metadata": {
    "collapsed": false
   }
  },
  {
   "cell_type": "code",
   "execution_count": null,
   "outputs": [],
   "source": [
    "mae_superlet_f"
   ],
   "metadata": {
    "collapsed": false
   }
  },
  {
   "cell_type": "code",
   "execution_count": null,
   "outputs": [],
   "source": [
    "mae_superlet_t"
   ],
   "metadata": {
    "collapsed": false
   }
  },
  {
   "cell_type": "markdown",
   "source": [
    "## STFT PARAMETERS (window = duration/cycles) = 38, 200, 413, 550, 600, 824 ms"
   ],
   "metadata": {
    "collapsed": false
   }
  },
  {
   "cell_type": "code",
   "execution_count": null,
   "outputs": [],
   "source": [
    "importlib.reload(superlet)"
   ],
   "metadata": {
    "collapsed": false
   }
  },
  {
   "cell_type": "markdown",
   "source": [
    "# Parámetros de la STFT con ventanas de 38 ms, 200 ms, y 413 ms (convertido a muestras)"
   ],
   "metadata": {
    "collapsed": false
   }
  },
  {
   "cell_type": "code",
   "execution_count": null,
   "outputs": [],
   "source": [
    "if plot_1:\n",
    "    fig, ax = plt.subplots(ncols=len(windows_ms), figsize=(15, 5), dpi=300)\n",
    "\n",
    "if plot_2:\n",
    "    fig_2, ax_2 = plt.subplots(ncols=len(windows_ms), figsize=(15, 5), dpi=300)\n",
    "    fig_3, ax_3 = plt.subplots(figsize=(10, 6))\n",
    "\n",
    "mae_stft_f = []\n",
    "std_stft_f = []\n",
    "\n",
    "mae_stft_t = []\n",
    "std_stft_t = []\n",
    "\n",
    "total_time = []\n",
    "total_freq = []\n",
    "\n",
    "res_stft = []\n",
    "total_scalogram_stft = []\n",
    "\n",
    "for i, w in enumerate(windows_ms):\n",
    "    # Calcular la ventana Blackman\n",
    "    window = windows.blackman(w)\n",
    "    \n",
    "    # Hacer que la f de la stft tenga el mismo tamaño que las demás\n",
    "    nfft = 2 * (len(freqs))\n",
    "    \n",
    "    f, t_stft, Zxx = stft(signal, fs=fs, window='blackman', nperseg=w, noverlap=w-1, nfft=nfft, detrend=False, return_onesided=True, boundary='zeros', padded=True, axis=-1, scaling='spectrum')\n",
    "    \n",
    "    # Calcular la representación de potencia (magnitud al cuadrado)\n",
    "    Zxx_power = np.abs(Zxx) ** 2\n",
    "    \n",
    "    if plot_1:\n",
    "        pcm = ax[i].pcolormesh(t_stft, f, Zxx_power, shading='gouraud', cmap='jet')\n",
    "        \n",
    "        ax[i].set_title(f'W={w * 1000 // fs} ms')\n",
    "        ax[i].set_ylabel('Frecuencia [Hz]')\n",
    "        ax[i].set_xlabel('Tiempo [s]')\n",
    "        \n",
    "        cbar = fig.colorbar(pcm, ax=ax[i], orientation='horizontal')\n",
    "        cbar.set_label('Power', rotation=0, labelpad=15)  # Etiqueta de la colorbar\n",
    "    \n",
    "        #fig.colorbar(pcm, ax=ax[i], label='Potencia')\n",
    "        ax[i].set_ylim(freqs[0], freqs[-1])  # Ajustar el rango de frecuencias si es necesario\n",
    "        plt.tight_layout()\n",
    "    \n",
    "    scalogram_2 = Zxx_power\n",
    "    \n",
    "    if save:\n",
    "        df = pd.DataFrame(scalogram_2)\n",
    "    \n",
    "        # Guardar en un archivo CSV\n",
    "        filename = os.path.join(new_folder_path, str(SNR) + \"dB_stft_\" + str(w) + \".csv\")\n",
    "        df.to_csv(filename, index=False, header=False)  # Sin índices ni encabezados\n",
    "        \n",
    "    total_scalogram_stft.append(scalogram_2)\n",
    " \n",
    "    instant_mean_freq_total = []  \n",
    "    \n",
    "    instant_freq = np.sum(scalogram_2 * f[:, np.newaxis], axis=0) / np.sum(scalogram_2, axis=0)\n",
    "    if plot_means:\n",
    "        plt.figure()\n",
    "        plt.plot(instant_freq)\n",
    "        plt.title('Frecuencia instantánea')\n",
    "    \n",
    "    # Mismo WINDOW_SIZE\n",
    "    window = np.ones(window_size) / window_size  # Ventana normalizada\n",
    "\n",
    "    # Calcular la media móvil con convolución\n",
    "    media_movil = np.convolve(instant_freq, window, mode='same')\n",
    "    media_movil = gaussian_filter1d(media_movil,sigma)\n",
    "    if plot_means:\n",
    "        plt.figure()\n",
    "        plt.plot(media_movil, color = 'red')\n",
    "        plt.title('Media de la señal')\n",
    "    \n",
    "    slope_gradient = np.gradient(media_movil, t_stft)\n",
    "    if plot_means:\n",
    "        plt.figure()\n",
    "        plt.plot(slope_gradient, color = 'green')\n",
    "        plt.title('Gradiente de la media de la señal')\n",
    "    \n",
    "    first_index = np.argmin(slope_gradient[inicio:time_range]) + inicio\n",
    "    last_index = np.argmax(slope_gradient[time_range:time_range+time_shift]) + time_range \n",
    "    \n",
    "    t_onset = t_stft[first_index]\n",
    "    t_offset = t_stft[last_index]\n",
    "    \n",
    "    start_idx = np.searchsorted(t_stft, burst_start_1)  # Encuentra el índice de inicio\n",
    "    end_idx = np.searchsorted(t_stft, burst_start_1 + burst_duration_1)  # Encuentra el índice final\n",
    "\n",
    "    instant_mean_freq_burst = instant_freq[start_idx:end_idx]\n",
    "   \n",
    "    if plot_2:\n",
    "        ax_2[i].plot(t_stft, instant_freq, label=\"Mean frequency (each window of \" + str(len(freqs)) + ' samples)')\n",
    "        \n",
    "        ax_2[i].set_xlabel(\"Time (s)\")\n",
    "        ax_2[i].set_ylabel(\"Frequency (Hz)\")\n",
    "        #ax_2[i].set_xlim(tiempo[0], tiempo[-1])\n",
    "        #plt.title(\"Medias de cada fila en función del tiempo\")\n",
    "        ax_2[i].legend()\n",
    "        ax_2[i].grid(True)\n",
    "        \n",
    "        ax_3.plot(t_stft, instant_freq, label=f\"Mean frequency (Cycles: {w})\")\n",
    "    \n",
    "    #MAE in frequency\n",
    "    print(f'Estimated mean frequency = {np.mean(instant_mean_freq_burst)} Hz')\n",
    "    mae_f, std_f = calculate_mae(instant_mean_freq_burst, MNF_1)\n",
    "    mae_stft_f.append(mae_f)\n",
    "    std_stft_f.append(std_f)\n",
    "    \n",
    "    #MAE in time\n",
    "    print(f'Estimated onset = {t_onset} s, offset = {t_offset} s')\n",
    "    # estimates_combined = t_offset - t_onset\n",
    "    # print(f'Estimated difference: {estimates_combined} s')\n",
    "    # true_values_combined = t_offset_1 - t_onset_1\n",
    "    # print(f'Real difference: {true_values_combined} s')\n",
    "\n",
    "    mae_t, std_t = calculate_mae([(t_onset,t_offset)], (t_onset_1,t_offset_1))\n",
    "    mae_stft_t.append(mae_t)\n",
    "    std_stft_t.append(std_t)\n",
    "    \n",
    "    total_time.append(np.linspace(t_stft[0], t_stft[-1], scalogram_2.shape[1]))\n",
    "    total_freq.append(np.linspace(f[0], f[-1], scalogram_2.shape[0]))\n",
    "    \n",
    "    # Visualization\n",
    "    plt.figure(figsize=(12, 6))\n",
    "\n",
    "    plt.subplot(2, 1, 1)\n",
    "    #plt.plot(t_stft, instant_freq)\n",
    "    plt.plot(t_stft, media_movil)\n",
    "    plt.axvline(t_onset, color='green', linestyle='--', label='t_onset')\n",
    "    plt.axvline(t_offset, color='red', linestyle='--', label='t_offset')\n",
    "    plt.xlabel('Time (s)')\n",
    "    plt.ylabel('Freq (Hz)')\n",
    "    plt.legend()\n",
    "    plt.grid()\n",
    "    \n",
    "    # Slopes and t_onset and t_offset\n",
    "    plt.subplot(2, 1, 2)\n",
    "    plt.plot(t_stft, slope_gradient, 'g-', label='Local slope (np.gradient)')\n",
    "    plt.axvline(t_onset, color='green', linestyle='--', label='Start of the first positive slope')\n",
    "    plt.axvline(t_offset, color='red', linestyle='--', label='End of the final negative slope')\n",
    "    plt.xlabel('Time (s)')\n",
    "    plt.ylabel('Slope')\n",
    "    plt.legend()\n",
    "    plt.grid()\n",
    "\n",
    "    plt.tight_layout()\n",
    "\n",
    "# Configuración del gráfico\n",
    "if plot_2:\n",
    "    ax_3.set_xlabel(\"Time (s)\")\n",
    "    ax_3.set_ylabel(\"Frequency (Hz)\")\n",
    "    ax_3.legend()\n",
    "    ax_3.grid(True)\n",
    "    ax_3.set_title(\"Comparación de frecuencias medias instantáneas\")\n",
    "        \n",
    "res_stft = superlet.compute_avg_response_resolution(total_scalogram_stft, total_time, total_freq, windows_ms, stft=[freqs[0],freqs[-1]])"
   ],
   "metadata": {
    "collapsed": false
   }
  },
  {
   "cell_type": "code",
   "execution_count": null,
   "outputs": [],
   "source": [
    "mae_stft_f"
   ],
   "metadata": {
    "collapsed": false
   }
  },
  {
   "cell_type": "code",
   "execution_count": null,
   "outputs": [],
   "source": [
    "mae_stft_t"
   ],
   "metadata": {
    "collapsed": false
   }
  },
  {
   "cell_type": "markdown",
   "source": [
    "### Plot comparison of the same SNR"
   ],
   "metadata": {
    "collapsed": false
   }
  },
  {
   "cell_type": "markdown",
   "source": [
    "# MAE IN FREQUENCY"
   ],
   "metadata": {
    "collapsed": false
   }
  },
  {
   "cell_type": "code",
   "execution_count": null,
   "outputs": [],
   "source": [
    "params_stft = windows_ms\n",
    "\n",
    "# Número de condiciones\n",
    "num_conditions = len(mae_wavelet_f)\n",
    "x = np.arange(num_conditions)  # Posiciones para cada grupo de barras\n",
    "bar_width = 0.25  # Ancho de las barras\n",
    "\n",
    "# Crear el gráfico de barras\n",
    "plt.figure(figsize=(14, 7))\n",
    "\n",
    "# Graficar cada técnica con sus valores y barras de error\n",
    "plt.bar(x - bar_width, mae_stft_f, width=bar_width, yerr=std_stft_f, capsize=5, label='STFT', color='skyblue', alpha=0.7)\n",
    "plt.bar(x, mae_wavelet_f, width=bar_width, yerr=std_wavelet_f, capsize=5, label='Wavelet', color='lightgreen', alpha=0.7)\n",
    "plt.bar(x + bar_width, mae_superlet_f, width=bar_width, yerr=std_superlet_f, capsize=5, label='Superlet', color='salmon', alpha=0.7)\n",
    "\n",
    "# Configuración de etiquetas en el eje x con los parámetros específicos\n",
    "labels = [\n",
    "    f\"W={p_stft} ms\\n\\nc={p_w}\\n\\nc$_1$={p_s[0]}, o: {p_s[1]}-{p_s[2]}\"\n",
    "    for p_w, p_s, p_stft in zip(params_wavelet, zip(*params_superlet), params_stft)\n",
    "]\n",
    "\n",
    "plt.xticks(x, labels, rotation=90, ha='center', fontsize=18)\n",
    "#plt.xlabel('Condiciones y Parámetros')\n",
    "plt.yticks(np.arange(0, 81, 10))\n",
    "\n",
    "plt.ylabel('MAE (Hz)')\n",
    "plt.title('MAE in FREQUENCY (SNR = ' + str(SNR) +')', fontsize=18)\n",
    "plt.ylim(0,80)\n",
    "plt.legend(fontsize=14)\n",
    "plt.grid(True)\n",
    "\n",
    "# Ajustar el layout para mejorar visualización de etiquetas\n",
    "plt.tight_layout()\n",
    "\n",
    "# Mostrar el gráfico\n",
    "plt.show()"
   ],
   "metadata": {
    "collapsed": false
   }
  },
  {
   "cell_type": "markdown",
   "source": [
    "# MAE IN TIME"
   ],
   "metadata": {
    "collapsed": false
   }
  },
  {
   "cell_type": "code",
   "execution_count": null,
   "outputs": [],
   "source": [
    "params_stft = windows_ms\n",
    "\n",
    "# Número de condiciones\n",
    "num_conditions = len(mae_wavelet_t)\n",
    "x = np.arange(num_conditions)  # Posiciones para cada grupo de barras\n",
    "bar_width = 0.25  # Ancho de las barras\n",
    "\n",
    "# Crear el gráfico de barras\n",
    "plt.figure(figsize=(14, 7))\n",
    "\n",
    "# Graficar cada técnica con sus valores y barras de error\n",
    "plt.bar(x - bar_width, mae_stft_t, width=bar_width, yerr=std_stft_t, capsize=5, label='STFT', color='skyblue', alpha=0.7)\n",
    "plt.bar(x, mae_wavelet_t, width=bar_width, yerr=std_wavelet_t, capsize=5, label='Wavelet', color='lightgreen', alpha=0.7)\n",
    "plt.bar(x + bar_width, mae_superlet_t, width=bar_width, yerr=std_superlet_t, capsize=5, label='Superlet', color='salmon', alpha=0.7)\n",
    "\n",
    "# Configuración de etiquetas en el eje x con los parámetros específicos\n",
    "labels = [\n",
    "    f\"W={p_stft} ms\\n\\nc={p_w}\\n\\nc$_1$={p_s[0]}, o: {p_s[1]}-{p_s[2]}\"\n",
    "    for p_w, p_s, p_stft in zip(params_wavelet, zip(*params_superlet), params_stft)\n",
    "]\n",
    "\n",
    "plt.xticks(x, labels, rotation=90, ha='center', fontsize=18)\n",
    "#plt.xlabel('Condiciones y Parámetros')\n",
    "plt.yticks(np.arange(0, 1.1, 0.1))\n",
    "\n",
    "plt.ylabel('MAE (s)')\n",
    "plt.title('MAE in TIME (SNR = ' + str(SNR) +')', fontsize=18)\n",
    "plt.ylim(0,1)\n",
    "plt.legend(fontsize=14)\n",
    "plt.grid(True)\n",
    "\n",
    "# Ajustar el layout para mejorar visualización de etiquetas\n",
    "plt.tight_layout()\n",
    "\n",
    "# Mostrar el gráfico\n",
    "plt.show()\n",
    "plt.show()"
   ],
   "metadata": {
    "collapsed": false
   }
  },
  {
   "cell_type": "markdown",
   "source": [
    "# COMPUTE RESOLUTION"
   ],
   "metadata": {
    "collapsed": false
   }
  },
  {
   "cell_type": "code",
   "execution_count": null,
   "outputs": [],
   "source": [
    "rayleigh_limit = 1 / (4 * np.pi)\n",
    "\n",
    "# Etiquetas para los grupos de parámetros con salto de línea adicional\n",
    "labels = [\n",
    "    f\"W={p_stft} ms\\nc={p_wavelet}\\nc$_1$={p_superlet[0]}, o={p_superlet[1]}-{p_superlet[2]}\"\n",
    "    for p_wavelet, p_superlet, p_stft in zip(params_wavelet, zip(*params_superlet), params_stft)\n",
    "]\n",
    "\n",
    "x = np.arange(1,len(params_wavelet)+1)\n",
    "\n",
    "plt.figure(figsize=(12, 8))\n",
    "\n",
    "# Primer gráfico (Frecuencia)\n",
    "plt.subplot(2, 1, 1)\n",
    "plt.plot(x, [r[1] for r in res_wavelet], 'ro-', label=\"Wavelet (Frequency)\")\n",
    "plt.plot(x, [r[1] for r in res_stft], 'bo-', label=\"STFT (Frequency)\")\n",
    "plt.plot(x, [r[1] for r in res_superlet], 'go-', label=\"Superlet (Frequency)\")\n",
    "plt.axhline(rayleigh_limit, color='k', linestyle='--', label=\"Rayleigh Limit\")\n",
    "plt.xlabel(\"Window Size / Cycles / Order\")\n",
    "plt.ylabel(\"Frequency Resolution (Hz)\")\n",
    "plt.legend()\n",
    "\n",
    "# Segundo gráfico (Tiempo)\n",
    "plt.subplot(2, 1, 2)\n",
    "plt.plot(x, [r[0] for r in res_wavelet], 'ro-', label=\"Wavelet (Time)\")\n",
    "plt.plot(x, [r[0] for r in res_stft], 'bo-', label=\"STFT (Time)\")\n",
    "plt.plot(x, [r[0] for r in res_superlet], 'go-', label=\"Superlet (Time)\")\n",
    "plt.axhline(1 / MNF_1[0], color='k', linestyle='--', label=\"Temporal Limit\")\n",
    "plt.xlabel(\"Window Size / Cycles / Order\")\n",
    "plt.ylabel(\"Time Resolution (s)\")\n",
    "plt.legend()\n",
    "\n",
    "# Ajuste de los xticks para ambos subgráficos\n",
    "for ax in plt.gcf().get_axes():\n",
    "    ax.set_xticks(x)  # Establecer los valores de los ticks\n",
    "    ax.set_xticklabels(labels, rotation=90, ha='center', fontsize=10)  # Establecer las etiquetas con el formato deseado\n",
    "\n",
    "# Ajustar el diseño\n",
    "plt.tight_layout()\n",
    "plt.show()"
   ],
   "metadata": {
    "collapsed": false
   }
  },
  {
   "cell_type": "code",
   "execution_count": null,
   "outputs": [],
   "source": [
    "MAES_f"
   ],
   "metadata": {
    "collapsed": false
   }
  },
  {
   "cell_type": "code",
   "execution_count": null,
   "outputs": [],
   "source": [
    "MAES_f['wavelet'].append(mae_wavelet_f)\n",
    "MAES_f['stft'].append(mae_stft_f)\n",
    "MAES_f['superlet'].append(mae_superlet_f)\n",
    "MAES_f['std_wavelet'].append(std_wavelet_f)\n",
    "MAES_f['std_stft'].append(std_stft_f)\n",
    "MAES_f['std_superlet'].append(std_superlet_f)"
   ],
   "metadata": {
    "collapsed": false
   }
  },
  {
   "cell_type": "code",
   "execution_count": null,
   "outputs": [],
   "source": [
    "MAES_t"
   ],
   "metadata": {
    "collapsed": false
   }
  },
  {
   "cell_type": "code",
   "execution_count": null,
   "outputs": [],
   "source": [
    "MAES_t['wavelet'].append(mae_wavelet_t)\n",
    "MAES_t['stft'].append(mae_stft_t)\n",
    "MAES_t['superlet'].append(mae_superlet_t)\n",
    "MAES_t['std_wavelet'].append(std_wavelet_t)\n",
    "MAES_t['std_stft'].append(std_stft_t)\n",
    "MAES_t['std_superlet'].append(std_superlet_t)"
   ],
   "metadata": {
    "collapsed": false
   }
  },
  {
   "cell_type": "markdown",
   "source": [
    "### COMPARISON BETWEEN ALL SNR"
   ],
   "metadata": {
    "collapsed": false
   }
  },
  {
   "cell_type": "markdown",
   "source": [
    "# COMPARISON OF MAE IN FREQUENCY"
   ],
   "metadata": {
    "collapsed": false
   }
  },
  {
   "cell_type": "code",
   "execution_count": null,
   "outputs": [],
   "source": [
    "params_wavelet = params_wavelet\n",
    "params_superlet = params_superlet\n",
    "params_stft = windows_ms  # Tamaños de ventana en ms\n",
    "\n",
    "# Datos MAE para cada técnica y SNR\n",
    "mae_stft = MAES_f['stft']\n",
    "std_stft = MAES_f['std_stft']\n",
    "\n",
    "mae_wavelet = MAES_f['wavelet']\n",
    "std_wavelet = MAES_f['std_wavelet']\n",
    "\n",
    "mae_superlet = MAES_f['superlet']\n",
    "std_superlet = MAES_f['std_superlet']\n",
    "\n",
    "# Reordenar los niveles de SNR al orden deseado: 5 dB, 20 dB, Sin SNR\n",
    "snr_labels = [\"5 dB\", \"20 dB\"]\n",
    "mae_stft_2 = [mae_stft[1], mae_stft[0]]\n",
    "std_stft_2 = [std_stft[1], std_stft[0]]\n",
    "\n",
    "mae_wavelet_2 = [mae_wavelet[1], mae_wavelet[0]]\n",
    "std_wavelet_2 = [std_wavelet[1], std_wavelet[0]]\n",
    "\n",
    "mae_superlet_2 = [mae_superlet[1], mae_superlet[0]]\n",
    "std_superlet_2 = [std_superlet[1], std_superlet[0]]\n",
    "\n",
    "# Configuración del gráfico\n",
    "num_params = len(params_stft)  # Número de parámetros\n",
    "num_snr = len(snr_labels)  # Número de niveles de ruido\n",
    "x = np.arange(num_params)  # Posiciones base para cada grupo de parámetros\n",
    "bar_width = 0.1  # Ancho de cada barra\n",
    "group_width = bar_width * num_snr  # Espacio reservado para cada grupo de barras\n",
    "\n",
    "# Tonalidades por nivel de ruido (ordenadas)\n",
    "tonalidades = {\n",
    "    \"5 dB\": 0.4,\n",
    "    \"20 dB\": 0.6,\n",
    "}\n",
    "\n",
    "# Colores base por metodología (asegurando correspondencia)\n",
    "colores_base = {\n",
    "    \"STFT\": plt.colormaps[\"Blues\"],\n",
    "    \"Wavelet\": plt.colormaps[\"Greens\"],\n",
    "    \"Superlet\": plt.colormaps[\"Oranges\"],\n",
    "}\n",
    "\n",
    "# Crear el gráfico\n",
    "plt.figure(figsize=(18, 8))\n",
    "\n",
    "# Crear listas para la leyenda\n",
    "handles = []\n",
    "labels_legend = []\n",
    "\n",
    "# Dibujar barras para cada técnica y SNR\n",
    "for i, snr in enumerate(snr_labels):  # Iterar sobre niveles de SNR\n",
    "    # Dibujar barras para STFT\n",
    "    bar = plt.bar(\n",
    "        x - 0.01 - group_width + i * bar_width,\n",
    "        [np.array(mae_stft_2[i])[k] for k in range(num_params)],\n",
    "        width=bar_width,\n",
    "        color=colores_base[\"STFT\"](tonalidades[snr]),\n",
    "        label=f'STFT ({snr})'\n",
    "    )\n",
    "    handles.append(bar[0])\n",
    "\n",
    "    plt.errorbar(\n",
    "        x - 0.01 - group_width + i * bar_width,\n",
    "        [np.array(mae_stft_2[i])[k] for k in range(num_params)],\n",
    "        yerr=[np.array(std_stft_2[i])[k] for k in range(num_params)],\n",
    "        fmt='none',\n",
    "        ecolor='black',\n",
    "        capsize=3\n",
    "    )\n",
    "    \n",
    "    # Dibujar barras para Wavelet\n",
    "    bar = plt.bar(\n",
    "        x + i * bar_width,\n",
    "        [np.array(mae_wavelet_2[i])[k] for k in range(num_params)],\n",
    "        width=bar_width,\n",
    "        color=colores_base[\"Wavelet\"](tonalidades[snr]),\n",
    "        label=f'Wavelet ({snr})'\n",
    "    )\n",
    "    handles.append(bar[0])\n",
    "\n",
    "    plt.errorbar(\n",
    "        x + i * bar_width,\n",
    "        [np.array(mae_wavelet_2[i])[k] for k in range(num_params)],\n",
    "        yerr=[np.array(std_wavelet_2[i])[k] for k in range(num_params)],\n",
    "        fmt='none',\n",
    "        ecolor='black',\n",
    "        capsize=3\n",
    "    )\n",
    "\n",
    "    # Dibujar barras para Superlet\n",
    "    bar = plt.bar(\n",
    "        x + 0.01 + group_width + i * bar_width,\n",
    "        [np.array(mae_superlet_2[i])[k] for k in range(num_params)],\n",
    "        width=bar_width,\n",
    "        color=colores_base[\"Superlet\"](tonalidades[snr]),\n",
    "        label=f'Superlet ({snr})'\n",
    "    )\n",
    "    handles.append(bar[0])\n",
    "\n",
    "    plt.errorbar(\n",
    "        x + 0.01 + group_width + i * bar_width,\n",
    "        [np.array(mae_superlet_2[i])[k] for k in range(num_params)],\n",
    "        yerr=[np.array(std_superlet_2[i])[k] for k in range(num_params)],\n",
    "        fmt='none',\n",
    "        ecolor='black',\n",
    "        capsize=3\n",
    "    )\n",
    "\n",
    "# Ordenar la leyenda agrupada por metodología\n",
    "labels_legend = [f'STFT ({snr})' for snr in snr_labels] + \\\n",
    "                [f'Wavelet ({snr})' for snr in snr_labels] + \\\n",
    "                [f'Superlet ({snr})' for snr in snr_labels]\n",
    "handles = handles[:len(labels_legend)]\n",
    "\n",
    "# Etiquetas para los grupos de parámetros con salto de línea adicional\n",
    "labels = [\n",
    "    f\"W={p_stft} ms\\n\\nc={p_wavelet}\\n\\n\\nc$_1$={p_superlet[0]}, o={p_superlet[1]}-{p_superlet[2]}\"\n",
    "    for p_wavelet, p_superlet, p_stft in zip(params_wavelet, zip(*params_superlet), params_stft)\n",
    "]\n",
    "\n",
    "# Configurar eje X y otros detalles\n",
    "plt.xticks(x, labels, rotation=90, ha='center', fontsize=18)\n",
    "plt.yticks(np.arange(0, 101, 10))\n",
    "plt.ylabel('MAE (Hz)', fontsize=14)\n",
    "plt.ylim(0, 100)\n",
    "#plt.legend(handles, labels_legend, fontsize=10, ncol=1)  # Leyenda agrupada\n",
    "plt.tight_layout()\n",
    "plt.grid(True)\n",
    "\n",
    "# Mostrar el gráfico\n",
    "plt.show()"
   ],
   "metadata": {
    "collapsed": false
   }
  },
  {
   "cell_type": "code",
   "execution_count": null,
   "outputs": [],
   "source": [
    "MAES_f"
   ],
   "metadata": {
    "collapsed": false
   }
  },
  {
   "cell_type": "markdown",
   "source": [
    "# COMPARISON OF MAE IN TIME"
   ],
   "metadata": {
    "collapsed": false
   }
  },
  {
   "cell_type": "code",
   "execution_count": null,
   "outputs": [],
   "source": [
    "MAES_t"
   ],
   "metadata": {
    "collapsed": false
   }
  },
  {
   "cell_type": "code",
   "execution_count": null,
   "outputs": [],
   "source": [
    "params_wavelet = params_wavelet\n",
    "params_superlet = params_superlet\n",
    "params_stft = windows_ms  # Tamaños de ventana en ms\n",
    "\n",
    "# Datos MAE para cada técnica y SNR\n",
    "mae_stft = MAES_t['stft']\n",
    "std_stft = MAES_t['std_stft']\n",
    "\n",
    "mae_wavelet = MAES_t['wavelet']\n",
    "std_wavelet = MAES_t['std_wavelet']\n",
    "\n",
    "mae_superlet = MAES_t['superlet']\n",
    "std_superlet = MAES_t['std_superlet']\n",
    "\n",
    "# Reordenar los niveles de SNR al orden deseado: 5 dB, 20 dB, Sin SNR\n",
    "snr_labels = [\"5 dB\", \"20 dB\"]\n",
    "mae_stft_2 = [mae_stft[1], mae_stft[0]]\n",
    "std_stft_2 = [std_stft[1], std_stft[0]]\n",
    "\n",
    "mae_wavelet_2 = [mae_wavelet[1], mae_wavelet[0]]\n",
    "std_wavelet_2 = [std_wavelet[1], std_wavelet[0]]\n",
    "\n",
    "mae_superlet_2 = [mae_superlet[1], mae_superlet[0]]\n",
    "std_superlet_2 = [std_superlet[1], std_superlet[0]]\n",
    "\n",
    "# Configuración del gráfico\n",
    "num_params = len(params_stft)  # Número de parámetros\n",
    "num_snr = len(snr_labels)  # Número de niveles de ruido\n",
    "x = np.arange(num_params)  # Posiciones base para cada grupo de parámetros\n",
    "bar_width = 0.1  # Ancho de cada barra\n",
    "group_width = bar_width * num_snr  # Espacio reservado para cada grupo de barras\n",
    "\n",
    "# Tonalidades por nivel de ruido (ordenadas)\n",
    "tonalidades = {\n",
    "    \"5 dB\": 0.4,\n",
    "    \"20 dB\": 0.6,\n",
    "}\n",
    "\n",
    "# Colores base por metodología (asegurando correspondencia)\n",
    "colores_base = {\n",
    "    \"STFT\": plt.colormaps[\"Blues\"],\n",
    "    \"Wavelet\": plt.colormaps[\"Greens\"],\n",
    "    \"Superlet\": plt.colormaps[\"Oranges\"],\n",
    "}\n",
    "\n",
    "# Crear el gráfico\n",
    "plt.figure(figsize=(18, 8))\n",
    "\n",
    "# Crear listas para la leyenda\n",
    "handles = []\n",
    "labels_legend = []\n",
    "\n",
    "# Dibujar barras para cada técnica y SNR\n",
    "for i, snr in enumerate(snr_labels):  # Iterar sobre niveles de SNR\n",
    "    # Dibujar barras para STFT\n",
    "    bar = plt.bar(\n",
    "        x - 0.01 - group_width + i * bar_width,\n",
    "        [np.array(mae_stft_2[i])[k] for k in range(num_params)],\n",
    "        width=bar_width,\n",
    "        color=colores_base[\"STFT\"](tonalidades[snr]),\n",
    "        label=f'STFT ({snr})'\n",
    "    )\n",
    "    handles.append(bar[0])\n",
    "\n",
    "    plt.errorbar(\n",
    "        x - 0.01 - group_width + i * bar_width,\n",
    "        [np.array(mae_stft_2[i])[k] for k in range(num_params)],\n",
    "        yerr=[np.array(std_stft_2[i])[k] for k in range(num_params)],\n",
    "        fmt='none',\n",
    "        ecolor='black',\n",
    "        capsize=3\n",
    "    )\n",
    "    \n",
    "    # Dibujar barras para Wavelet\n",
    "    bar = plt.bar(\n",
    "        x + i * bar_width,\n",
    "        [np.array(mae_wavelet_2[i])[k] for k in range(num_params)],\n",
    "        width=bar_width,\n",
    "        color=colores_base[\"Wavelet\"](tonalidades[snr]),\n",
    "        label=f'Wavelet ({snr})'\n",
    "    )\n",
    "    handles.append(bar[0])\n",
    "\n",
    "    plt.errorbar(\n",
    "        x + i * bar_width,\n",
    "        [np.array(mae_wavelet_2[i])[k] for k in range(num_params)],\n",
    "        yerr=[np.array(std_wavelet_2[i])[k] for k in range(num_params)],\n",
    "        fmt='none',\n",
    "        ecolor='black',\n",
    "        capsize=3\n",
    "    )\n",
    "\n",
    "    # Dibujar barras para Superlet\n",
    "    bar = plt.bar(\n",
    "        x + 0.01 + group_width + i * bar_width,\n",
    "        [np.array(mae_superlet_2[i])[k] for k in range(num_params)],\n",
    "        width=bar_width,\n",
    "        color=colores_base[\"Superlet\"](tonalidades[snr]),\n",
    "        label=f'Superlet ({snr})'\n",
    "    )\n",
    "    handles.append(bar[0])\n",
    "\n",
    "    plt.errorbar(\n",
    "        x + 0.01 + group_width + i * bar_width,\n",
    "        [np.array(mae_superlet_2[i])[k] for k in range(num_params)],\n",
    "        yerr=[np.array(std_superlet_2[i])[k] for k in range(num_params)],\n",
    "        fmt='none',\n",
    "        ecolor='black',\n",
    "        capsize=3\n",
    "    )\n",
    "\n",
    "# Ordenar la leyenda agrupada por metodología\n",
    "labels_legend = [f'STFT ({snr})' for snr in snr_labels] + \\\n",
    "                [f'Wavelet ({snr})' for snr in snr_labels] + \\\n",
    "                [f'Superlet ({snr})' for snr in snr_labels]\n",
    "handles = handles[:len(labels_legend)]\n",
    "\n",
    "# Etiquetas para los grupos de parámetros con salto de línea adicional\n",
    "labels = [\n",
    "    f\"W={p_stft} ms\\n\\nc={p_wavelet}\\n\\n\\nc$_1$={p_superlet[0]}, o={p_superlet[1]}-{p_superlet[2]}\"\n",
    "    for p_wavelet, p_superlet, p_stft in zip(params_wavelet, zip(*params_superlet), params_stft)\n",
    "]\n",
    "\n",
    "# Configurar eje X y otros detalles\n",
    "plt.xticks(x, labels, rotation=90, ha='center', fontsize=18)\n",
    "plt.yticks(np.arange(0, 0.61, 0.1))\n",
    "plt.ylabel('MAE (Hz)', fontsize=14)\n",
    "plt.ylim(0, 0.6)\n",
    "#plt.legend(handles, labels_legend, fontsize=10, ncol=1)  # Leyenda agrupada\n",
    "plt.tight_layout()\n",
    "plt.grid(True)\n",
    "\n",
    "# Mostrar el gráfico\n",
    "plt.show()"
   ],
   "metadata": {
    "collapsed": false
   }
  },
  {
   "cell_type": "code",
   "execution_count": null,
   "outputs": [],
   "source": [],
   "metadata": {
    "collapsed": false
   }
  }
 ],
 "metadata": {
  "orig_nbformat": 4,
  "language_info": {
   "name": "python",
   "version": "3.9.5",
   "mimetype": "text/x-python",
   "codemirror_mode": {
    "name": "ipython",
    "version": 3
   },
   "pygments_lexer": "ipython3",
   "nbconvert_exporter": "python",
   "file_extension": ".py"
  },
  "kernelspec": {
   "name": "python3",
   "language": "python",
   "display_name": "Python 3 (ipykernel)"
  },
  "interpreter": {
   "hash": "e48f8d055d2026c93dde5bece2bd39ef1a30cdeb217293bd4c941497f5d68bb8"
  }
 },
 "nbformat": 4,
 "nbformat_minor": 2
}
