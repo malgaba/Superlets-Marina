{
 "cells": [
  {
   "cell_type": "code",
   "execution_count": null,
   "id": "initial_id",
   "metadata": {
    "collapsed": true
   },
   "outputs": [],
   "source": [
    "import sys\n",
    "\n",
    "import pandas as pd\n",
    "\n",
    "sys.path.insert(0, '..')"
   ]
  },
  {
   "cell_type": "code",
   "execution_count": null,
   "outputs": [],
   "source": [
    "import jax.numpy as jnp\n",
    "import matplotlib.pyplot as plt\n",
    "import numpy as np\n",
    "import importlib\n",
    "import scipy.signal as signal_scipy\n",
    "import os\n",
    "\n",
    "from scipy.ndimage import gaussian_filter1d\n",
    "\n",
    "import superlets_package.morlet as morlet\n",
    "import superlets_package.superlets as superlet\n",
    "\n",
    "np.random.seed(10)"
   ],
   "metadata": {
    "collapsed": false
   },
   "id": "e1a27c67eebad271"
  },
  {
   "cell_type": "code",
   "execution_count": null,
   "outputs": [],
   "source": [
    "importlib.reload(superlet)"
   ],
   "metadata": {
    "collapsed": false
   },
   "id": "68350e26aa1189e"
  },
  {
   "cell_type": "code",
   "execution_count": null,
   "outputs": [],
   "source": [
    "importlib.reload(morlet)"
   ],
   "metadata": {
    "collapsed": false
   },
   "id": "25d6314ac3f59f8f"
  },
  {
   "cell_type": "code",
   "execution_count": null,
   "outputs": [],
   "source": [
    "fs = 1024\n",
    "signal_duration = 3\n",
    "t = np.linspace(0, signal_duration, signal_duration * fs)"
   ],
   "metadata": {
    "collapsed": false
   },
   "id": "f9439e5e778bd57d"
  },
  {
   "cell_type": "code",
   "execution_count": null,
   "outputs": [],
   "source": [
    "#noise = np.random.normal(0, 0.05, len(t))\n",
    "#noise = np.random.normal(0, 0.00001, len(t))\n",
    "noise = np.array([0.00001] * len(t))"
   ],
   "metadata": {
    "collapsed": false
   },
   "id": "1f726506767ff7f9"
  },
  {
   "cell_type": "code",
   "execution_count": null,
   "outputs": [],
   "source": [
    "burst_duration = 1\n",
    "burst_start = 1\n",
    "real_t_onset = burst_start\n",
    "real_t_offset = burst_start + burst_duration"
   ],
   "metadata": {
    "collapsed": false
   },
   "id": "7b423999daefa1f4"
  },
  {
   "cell_type": "code",
   "execution_count": null,
   "outputs": [],
   "source": [
    "burst = []\n",
    "[filtro, PdeLuca, burst, MNF_ideal, MNF_analytic] = superlet.fdeluca(40, 20, fs, burst_duration, plot = False)\n",
    "print(f'MNF ideal = {MNF_ideal}')\n",
    "print(f'MNF analytic = {MNF_analytic}')"
   ],
   "metadata": {
    "collapsed": false
   },
   "id": "e7b6e739016e928"
  }
 ],
 "metadata": {
  "kernelspec": {
   "display_name": "Python 3",
   "language": "python",
   "name": "python3"
  },
  "language_info": {
   "codemirror_mode": {
    "name": "ipython",
    "version": 2
   },
   "file_extension": ".py",
   "mimetype": "text/x-python",
   "name": "python",
   "nbconvert_exporter": "python",
   "pygments_lexer": "ipython2",
   "version": "2.7.6"
  }
 },
 "nbformat": 4,
 "nbformat_minor": 5
}
