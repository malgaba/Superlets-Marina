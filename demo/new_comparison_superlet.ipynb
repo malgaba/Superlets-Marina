{
 "cells": [
  {
   "cell_type": "code",
   "execution_count": 1,
   "id": "initial_id",
   "metadata": {
    "collapsed": true,
    "ExecuteTime": {
     "end_time": "2025-03-12T14:52:50.219544Z",
     "start_time": "2025-03-12T14:52:46.690388Z"
    }
   },
   "outputs": [],
   "source": [
    "import sys\n",
    "\n",
    "import pandas as pd\n",
    "\n",
    "sys.path.insert(0, '..')"
   ]
  },
  {
   "cell_type": "code",
   "execution_count": null,
   "outputs": [],
   "source": [
    "import jax.numpy as jnp\n",
    "import matplotlib.pyplot as plt\n",
    "import numpy as np\n",
    "import importlib\n",
    "import scipy.signal as signal_scipy\n",
    "import os\n",
    "\n",
    "from scipy.ndimage import gaussian_filter1d\n",
    "\n",
    "import superlets_package.morlet as morlet\n",
    "import superlets_package.superlets as superlet\n"
   ],
   "metadata": {
    "collapsed": false,
    "is_executing": true,
    "ExecuteTime": {
     "start_time": "2025-03-12T14:52:50.223406Z"
    }
   },
   "id": "baaeb2f024677260"
  },
  {
   "cell_type": "code",
   "execution_count": null,
   "outputs": [],
   "source": [
    "importlib.reload(superlet)"
   ],
   "metadata": {
    "collapsed": false,
    "is_executing": true
   },
   "id": "8f1e2f09a4e2f383"
  },
  {
   "cell_type": "code",
   "execution_count": null,
   "outputs": [],
   "source": [
    "importlib.reload(morlet)"
   ],
   "metadata": {
    "collapsed": false,
    "is_executing": true
   },
   "id": "131e0a26e2d43fec"
  },
  {
   "cell_type": "markdown",
   "source": [
    "# Create simulated EMG signals"
   ],
   "metadata": {
    "collapsed": false
   },
   "id": "f3f5a1c900005997"
  },
  {
   "cell_type": "markdown",
   "source": [
    "### Signal parameters"
   ],
   "metadata": {
    "collapsed": false
   },
   "id": "da71ec9aaa07e7fb"
  },
  {
   "cell_type": "code",
   "execution_count": null,
   "outputs": [],
   "source": [
    "fs = 1024\n",
    "signal_duration = 3\n",
    "t = np.linspace(0, signal_duration, signal_duration * fs)"
   ],
   "metadata": {
    "collapsed": false,
    "is_executing": true
   },
   "id": "f2b4846e32bc8c4b"
  },
  {
   "cell_type": "markdown",
   "source": [
    "### Baseline noise"
   ],
   "metadata": {
    "collapsed": false
   },
   "id": "2d35c8fb47d0f2e4"
  },
  {
   "cell_type": "code",
   "execution_count": null,
   "outputs": [],
   "source": [
    "np.random.seed(10)\n",
    "noise = np.random.normal(0, 0.01, len(t))\n",
    "#noise = np.random.normal(0, 0.00001, len(t))\n",
    "#noise = np.array([0.00001] * len(t))\n"
   ],
   "metadata": {
    "collapsed": false,
    "is_executing": true
   },
   "id": "92c922c42b170545"
  },
  {
   "cell_type": "markdown",
   "source": [
    "# Contaminaciones de frecuencia conocidas"
   ],
   "metadata": {
    "collapsed": false
   },
   "id": "adb77431cf22a29c"
  },
  {
   "cell_type": "code",
   "execution_count": null,
   "outputs": [],
   "source": [
    "# Contamination in time (sin) and in frequency (cos)\n",
    "contamination = False\n",
    "amplitud = 0.2\n",
    "\n",
    "if contamination:\n",
    "    base_signal = np.zeros_like(t)\n",
    "    \n",
    "    burst_seno = (t >= 1) & (t < 1.5)\n",
    "    base_signal[burst_seno] = amplitud * np.sin(2 * np.pi * 50 * t[burst_seno])\n",
    "    \n",
    "    burst_coseno = (t >= 0) & (t < 0.5)\n",
    "    base_signal[burst_coseno] += amplitud * np.cos(2 * np.pi * 100 * t[burst_coseno])\n",
    "else:\n",
    "    base_signal = np.zeros_like(t)\n",
    "\n",
    "fig, ax = plt.subplots(figsize=(15, 2), dpi=300)\n",
    "ax.set_xlabel(\"Time (s)\")\n",
    "ax.plot(t, base_signal)"
   ],
   "metadata": {
    "collapsed": false,
    "is_executing": true
   },
   "id": "632ed3222624f53b"
  },
  {
   "cell_type": "markdown",
   "source": [
    "### Burst parameters"
   ],
   "metadata": {
    "collapsed": false
   },
   "id": "591c54c9c580b560"
  },
  {
   "cell_type": "code",
   "execution_count": null,
   "outputs": [],
   "source": [
    "burst_duration = 1\n",
    "burst_start = 1\n",
    "real_t_onset = burst_start\n",
    "real_t_offset = burst_start + burst_duration"
   ],
   "metadata": {
    "collapsed": false,
    "is_executing": true
   },
   "id": "4fa55119ff93a337"
  },
  {
   "cell_type": "markdown",
   "source": [
    "### De Luca method to create burst with a known frequency"
   ],
   "metadata": {
    "collapsed": false
   },
   "id": "b711f21492c29c7f"
  },
  {
   "cell_type": "code",
   "execution_count": null,
   "outputs": [],
   "source": [
    "burst = []\n",
    "[filtro, PdeLuca, burst, MNF_ideal, MNF_analytic] = superlet.fdeluca(120, 60, fs, burst_duration, plot = False)\n",
    "print(f'MNF ideal = {MNF_ideal}')\n",
    "print(f'MNF analytic = {MNF_analytic}')"
   ],
   "metadata": {
    "collapsed": false,
    "is_executing": true
   },
   "id": "95d7d2fa79a9b234"
  },
  {
   "cell_type": "markdown",
   "source": [
    "### Add noise to the signal with a particular value for SNR"
   ],
   "metadata": {
    "collapsed": false
   },
   "id": "734e199020e7358"
  },
  {
   "cell_type": "code",
   "execution_count": null,
   "outputs": [],
   "source": [
    "filename = \"/Users/neuralrehabilitationgroup/PycharmProjects/Superlets-Marina/RESULTS/signal_burst_1.npy\""
   ],
   "metadata": {
    "collapsed": false,
    "is_executing": true
   },
   "id": "bd228de02d868e8c"
  },
  {
   "cell_type": "code",
   "execution_count": null,
   "outputs": [],
   "source": [
    "if os.path.exists(filename):\n",
    "    os.remove(filename)"
   ],
   "metadata": {
    "collapsed": false,
    "is_executing": true
   },
   "id": "62b62b65ff32163a"
  },
  {
   "cell_type": "code",
   "execution_count": null,
   "outputs": [],
   "source": [
    "if os.path.exists(filename):\n",
    "    burst_signal = np.load(filename)\n",
    "else:\n",
    "    burst_signal = noise.copy()\n",
    "    burst_signal[int(burst_start * fs):int(burst_start * fs + len(burst))] += burst\n",
    "    np.save('/Users/neuralrehabilitationgroup/PycharmProjects/Superlets-Marina/RESULTS/signal_burst_1.npy', burst_signal)\n",
    "\n",
    "plt.plot(noise)\n",
    "plt.figure()\n",
    "plt.plot(burst_signal)"
   ],
   "metadata": {
    "collapsed": false,
    "is_executing": true
   },
   "id": "4b1d8db94828cee6"
  },
  {
   "cell_type": "markdown",
   "source": [
    "### Signal visualization"
   ],
   "metadata": {
    "collapsed": false
   },
   "id": "36c8ec79f1fd828b"
  },
  {
   "cell_type": "code",
   "execution_count": null,
   "outputs": [],
   "source": [
    "importlib.reload(superlet)"
   ],
   "metadata": {
    "collapsed": false,
    "is_executing": true
   },
   "id": "84ec4a495282d3c3"
  },
  {
   "cell_type": "code",
   "execution_count": null,
   "outputs": [],
   "source": [
    "psd_welch, f_welch, MNF = superlet.compute_psd_welch(burst_signal, fs, plot=True, muscle='Simulated EMG signal with burst')\n",
    "MNF_1 = [MNF]"
   ],
   "metadata": {
    "collapsed": false,
    "is_executing": true
   },
   "id": "9d2a21dd413ae057"
  },
  {
   "cell_type": "code",
   "execution_count": null,
   "outputs": [],
   "source": [
    "burst_signal+=base_signal"
   ],
   "metadata": {
    "collapsed": false,
    "is_executing": true
   },
   "id": "5ad085c66178a6b7"
  },
  {
   "cell_type": "code",
   "execution_count": null,
   "outputs": [],
   "source": [
    "fig, ax = plt.subplots(figsize=(15, 2), dpi=300)\n",
    "ax.set_xlabel(\"Time (s)\")\n",
    "ax.plot(jnp.linspace(0, len(burst_signal)/fs, len(burst_signal)), burst_signal)"
   ],
   "metadata": {
    "collapsed": false,
    "is_executing": true
   },
   "id": "bcc1861f1cafca6b"
  },
  {
   "cell_type": "code",
   "execution_count": null,
   "outputs": [],
   "source": [
    "MNF_1"
   ],
   "metadata": {
    "collapsed": false,
    "is_executing": true
   },
   "id": "44d42faeeea40b3a"
  },
  {
   "cell_type": "markdown",
   "source": [
    "### Definición del vector de frecuencia"
   ],
   "metadata": {
    "collapsed": false
   },
   "id": "62b36da589dd6ee8"
  },
  {
   "cell_type": "code",
   "execution_count": null,
   "outputs": [],
   "source": [
    "freqs = np.linspace(20,500,int(fs/2)) # Número de puntos del vector frecuencia\n",
    "freq_min = freqs[0]  # Minimum freq\n",
    "freq_max = freqs[-1]  # Frecuencia máxima\n",
    "num_freqs = len(freqs)  # Resolución del rango de frecuencias"
   ],
   "metadata": {
    "collapsed": false,
    "is_executing": true
   },
   "id": "c3e134586db3f86c"
  },
  {
   "cell_type": "code",
   "execution_count": null,
   "outputs": [],
   "source": [
    "def calcular_snr(signal, noise):\n",
    "    # Potencia de la señal\n",
    "    signal_power = np.mean(signal ** 2)\n",
    "    # Potencia del ruido\n",
    "    noise_power = np.mean(noise ** 2)\n",
    "    # Cálculo del SNR en dB\n",
    "    snr_db = 10 * np.log10(signal_power / noise_power)\n",
    "    return snr_db"
   ],
   "metadata": {
    "collapsed": false,
    "is_executing": true
   },
   "id": "95161e81f34d4ccb"
  },
  {
   "cell_type": "code",
   "execution_count": null,
   "outputs": [],
   "source": [
    "SNR = 5\n",
    "# if 'SNR' not in globals():\n",
    "#     SNR = \"Inf\"\n",
    "signal_1 = burst_signal\n",
    "signal_1, xn = superlet.add_noise(burst_signal, SNR, fs, plot = True)\n",
    "snr_real = calcular_snr(signal_1, xn)\n",
    "#signal_1 = superlet.add_wgn_to_sig(burst_signal, noise, SNR)"
   ],
   "metadata": {
    "collapsed": false,
    "is_executing": true
   },
   "id": "5100612a71154ada"
  },
  {
   "cell_type": "code",
   "execution_count": null,
   "outputs": [],
   "source": [
    "psd_welch, f_welch, MNF = superlet.compute_psd_welch(signal_1, fs, plot=True, muscle='Simulated EMG signal with burst')"
   ],
   "metadata": {
    "collapsed": false,
    "is_executing": true
   },
   "id": "734b9a522c764903"
  },
  {
   "cell_type": "code",
   "execution_count": null,
   "outputs": [],
   "source": [
    "snr_real"
   ],
   "metadata": {
    "collapsed": false,
    "is_executing": true
   },
   "id": "d76f7a15b8c6226c"
  },
  {
   "cell_type": "code",
   "execution_count": null,
   "outputs": [],
   "source": [
    "fig, ax = plt.subplots(figsize=(15, 2), dpi=300)\n",
    "ax.set_xlabel(\"Time (ms)\")\n",
    "ax.plot(jnp.linspace(0, len(signal_1) / fs, len(signal_1)), signal_1)\n",
    "print(f\"Reference mean frequency: {MNF_1[0]} Hz\")\n",
    "plt.plot(t, signal_1)"
   ],
   "metadata": {
    "collapsed": false,
    "is_executing": true
   },
   "id": "a3763ad33c974cfe"
  },
  {
   "cell_type": "markdown",
   "source": [
    "# WAVELET PARAMETERS = 3, 16, 33, 55, 60 cycles"
   ],
   "metadata": {
    "collapsed": false
   },
   "id": "ae2b9f488d432539"
  },
  {
   "cell_type": "code",
   "execution_count": null,
   "outputs": [],
   "source": [
    "params_wavelet = [3, 16, 33, 55, 60]"
   ],
   "metadata": {
    "collapsed": false,
    "is_executing": true
   },
   "id": "837f5207066934de"
  },
  {
   "cell_type": "code",
   "execution_count": null,
   "outputs": [],
   "source": [
    "plot_scalogram = True\n",
    "plot_imnf = False\n",
    "plot_response = True\n",
    "plot_means = False\n",
    "plot_time_estimation = False"
   ],
   "metadata": {
    "collapsed": false,
    "is_executing": true
   },
   "id": "ebc13a47442a0fd8"
  },
  {
   "cell_type": "code",
   "execution_count": null,
   "outputs": [],
   "source": [
    "importlib.reload(superlet)\n",
    "if plot_scalogram:\n",
    "    fig, ax = plt.subplots(ncols=len(params_wavelet), figsize=(18,5), dpi=300, sharey=True, sharex=True)\n",
    "if plot_imnf:\n",
    "    fig_2, ax_2 = plt.subplots(ncols=len(params_wavelet), figsize=(18, 5), dpi=300)\n",
    "if plot_response:\n",
    "    fig_3, (ax_3_1, ax_3_2) = plt.subplots(1, 2, figsize=(18, 5))  \n",
    "\n",
    "mae_wavelet_f = []\n",
    "std_wavelet_f = []\n",
    "\n",
    "mae_wavelet_t = []\n",
    "std_wavelet_t = []\n",
    "\n",
    "total_time = []\n",
    "total_freq = []\n",
    "\n",
    "total_scalogram_wavelet = []\n",
    "res_wavelet = []\n",
    "\n",
    "for i, c in enumerate(params_wavelet):\n",
    "    wavelet = f'cmor{c}-1.0'\n",
    "    \n",
    "    cwtmatr, f, physical_freqs = morlet.wavelet_transform_2(signal_1,wavelet,freqs,fs)\n",
    "    cwtmatr = np.abs(cwtmatr[:,:])\n",
    "    \n",
    "    scalogram_2 = np.array(jnp.abs(cwtmatr)**2)\n",
    "    \n",
    "    if plot_scalogram:\n",
    "        pcm = ax[i].pcolormesh(t,f, scalogram_2, shading='gouraud', cmap='jet')\n",
    "        \n",
    "        ax[i].set_title(f'c={c}')\n",
    "        if i == 0:\n",
    "            ax[i].set_ylabel('Frequency (Hz)')\n",
    "        else:\n",
    "            ax[i].set_ylabel('')  # Eliminar la etiqueta del eje Y en los demás subplots\n",
    "\n",
    "        ax[i].set_xlabel('Time (s)')\n",
    "        ax[i].set_ylim(f[0], f[-1])\n",
    "     \n",
    "    total_scalogram_wavelet.append(scalogram_2)\n",
    "    instant_freq = np.sum(scalogram_2 * f[:, np.newaxis], axis=0) / np.sum(scalogram_2, axis=0)\n",
    "    \n",
    "    # VALOR MEDIO EN UNA VENTANA DESLIZANTE\n",
    "    window_size = 5\n",
    "    sigma = 60\n",
    "    smooth_sigma = 20\n",
    "    \n",
    "    # media_movil, slope_gradient, first_index, last_index = superlet.compute_smoothed_gradient(instant_freq, t, fs=fs, burst_start=burst_start, burst_duration=burst_duration, window_size=50, sigma=2)\n",
    "    # \n",
    "    # first_index, last_index = superlet.find_low_oscillation_region(instant_freq, t, fs, burst_start, burst_duration, threshold=0.05, min_duration=burst_duration/2)\n",
    "    \n",
    "    energia_temporal = np.sum(scalogram_2, axis=0)\n",
    "    \n",
    "    first_index, last_index = superlet.find_plateau_region(energia_temporal, burst_start, burst_duration, t, fs, smooth_sigma=smooth_sigma)\n",
    "    \n",
    "    t_onset = t[first_index]\n",
    "    t_offset = t[last_index]\n",
    "       \n",
    "    start_idx = np.searchsorted(t, burst_start)  # Encuentra el índice de inicio\n",
    "    end_idx = np.searchsorted(t, burst_start + burst_duration)  # Encuentra el índice final\n",
    "    \n",
    "    instant_mean_freq_burst = instant_freq[start_idx:end_idx]\n",
    "    \n",
    "    if plot_imnf:\n",
    "        ax_2[i].plot(t, instant_freq)\n",
    "\n",
    "        ax_2[i].set_xlabel(\"Time (s)\")\n",
    "        ax_2[i].set_ylabel(\"Frequency (Hz)\")\n",
    "        #ax_2[i].set_xlim(t[0], t[-1])\n",
    "        plt.title(\"Instantaneous frequency\")\n",
    "        ax_2[i].grid(True)\n",
    "\n",
    "    if plot_response:\n",
    "        ax_3_1.plot(t, instant_freq, label=f\"c={c}\")\n",
    "        ax_3_1.set_xlabel(\"Time (s)\")\n",
    "        ax_3_1.set_ylabel(\"Frequency (Hz)\")\n",
    "        ax_3_1.legend()\n",
    "        ax_3_1.grid(True)\n",
    "        ax_3_1.set_title(\"Instantaneous frequency\")\n",
    "        \n",
    "        ax_3_2.plot(t, energia_temporal, label=f\"c={c}\")\n",
    "        ax_3_2.set_xlabel(\"Time (s)\")\n",
    "        ax_3_2.set_ylabel(\"Energy (V²)\")\n",
    "        ax_3_2.legend()\n",
    "        ax_3_2.grid(True)\n",
    "        ax_3_2.set_title(\"Energy over time\")\n",
    "        \n",
    "    #MAE in frequency\n",
    "    print(f'Estimated mean frequency: {np.mean(instant_mean_freq_burst)} Hz')\n",
    "    mae_f, std_f = superlet.calculate_mae(instant_mean_freq_burst, MNF_1)\n",
    "    mae_wavelet_f.append(mae_f)\n",
    "    std_wavelet_f.append(std_f)\n",
    "    \n",
    "    #MAE in time\n",
    "    print(f'Estimated onset = {t_onset} s, offset = {t_offset} s')\n",
    "    mae_t, std_t = superlet.calculate_mae((t_onset,t_offset), (real_t_onset,real_t_offset))\n",
    "    mae_wavelet_t.append(mae_t)\n",
    "    std_wavelet_t.append(std_t)\n",
    "    \n",
    "    time = np.arange(scalogram_2.shape[1]) / fs\n",
    "\n",
    "    total_time.append(time)\n",
    "    total_freq.append(freqs)\n",
    "    \n",
    "res_wavelet = superlet.compute_avg_response_resolution(total_scalogram_wavelet, total_time, total_freq, params_wavelet)\n",
    "\n",
    "if plot_scalogram:\n",
    "    cbar = fig.colorbar(pcm, ax=ax, orientation='horizontal', pad=0.15, shrink=0.1)\n",
    "    cbar.set_label('Power (V²)', rotation=0, labelpad=15)\n",
    "    \n",
    "plt.tight_layout()\n",
    "plt.show()\n",
    "    "
   ],
   "metadata": {
    "collapsed": false,
    "is_executing": true
   },
   "id": "f0b46a3c9cd42485"
  },
  {
   "cell_type": "code",
   "execution_count": null,
   "outputs": [],
   "source": [
    "mae_wavelet_f"
   ],
   "metadata": {
    "collapsed": false,
    "is_executing": true
   },
   "id": "f2517a5832707411"
  },
  {
   "cell_type": "code",
   "execution_count": null,
   "outputs": [],
   "source": [
    "mae_wavelet_t"
   ],
   "metadata": {
    "collapsed": false,
    "is_executing": true
   },
   "id": "92205afb8d67c3e0"
  },
  {
   "cell_type": "markdown",
   "source": [
    "## PARÁMETROS SUPERLET: base_cycle, min_order, max_order = [3, 5, 1, 1, 1, 1], [1, 1, 5, 10, 20, 30], [30, 30, 40, 100, 100, 200]"
   ],
   "metadata": {
    "collapsed": false
   },
   "id": "c2f48fb121495aa1"
  },
  {
   "cell_type": "code",
   "execution_count": null,
   "outputs": [],
   "source": [
    "params_superlet = [[1, 1, 3, 5, 5], [3, 5, 1, 1, 1], [30, 40, 40, 50, 60]]"
   ],
   "metadata": {
    "collapsed": false,
    "is_executing": true
   },
   "id": "8079ba32412dbe63"
  },
  {
   "cell_type": "code",
   "execution_count": null,
   "outputs": [],
   "source": [
    "importlib.reload(superlet)\n",
    "\n",
    "if plot_scalogram:\n",
    "    fig, ax = plt.subplots(ncols=len(params_wavelet), figsize=(18,5), dpi=300, sharey=True, sharex=True)\n",
    "if plot_imnf:\n",
    "    fig_2, ax_2 = plt.subplots(ncols=len(params_wavelet), figsize=(18, 5), dpi=300)\n",
    "if plot_response:\n",
    "    fig_3, (ax_3_1, ax_3_2) = plt.subplots(1, 2, figsize=(18, 5)) \n",
    "\n",
    "mae_superlet_f = []\n",
    "std_superlet_f = []\n",
    "\n",
    "mae_superlet_t = []\n",
    "std_superlet_t = []\n",
    "\n",
    "total_time = []\n",
    "total_freq = []\n",
    "\n",
    "total_scalogram_superlet = []\n",
    "\n",
    "for (i, (base_cycle, min_order, max_order)) in enumerate(zip(*params_superlet)):\n",
    "\n",
    "    wv, scalogram = superlet.adaptive_superlet_transform(signal_1, freqs, sampling_freq=fs,\n",
    "                                                         base_cycle=base_cycle, min_order=min_order,\n",
    "                                                         max_order=max_order, mode=\"mul\")\n",
    "    \n",
    "    if plot_scalogram:\n",
    "        im = ax[i].imshow(jnp.abs(scalogram) ** 2, aspect='auto', cmap=\"jet\", interpolation=\"none\", origin=\"lower\",extent=[0, len(signal_1) / fs, freqs[0], freqs[-1]])\n",
    "        ax[i].set_title(f\"$c_1$: {base_cycle}, o: {min_order}-{max_order}\")\n",
    "        ax[i].set_xlabel(\"Time (s)\")\n",
    "        if i == 0:\n",
    "            ax[i].set_ylabel(\"Frequency (Hz)\")\n",
    "        else:\n",
    "            ax[i].set_ylabel(\"\")\n",
    "        ax[i].set_ylim(freqs[0], freqs[-1])\n",
    "\n",
    "\n",
    "    scalogram_2 = np.abs(scalogram) ** 2\n",
    "\n",
    "    total_scalogram_superlet.append(scalogram_2)\n",
    "    \n",
    "    instant_freq = np.sum(scalogram_2 * freqs[:, np.newaxis], axis=0) / np.sum(scalogram_2, axis=0)\n",
    "        \n",
    "    energia_temporal = np.sum(scalogram_2, axis=0)\n",
    "        \n",
    "    first_index, last_index = superlet.find_plateau_region(energia_temporal, burst_start, burst_duration, t, fs, smooth_sigma=smooth_sigma)\n",
    "    \n",
    "    t_onset = t[first_index]\n",
    "    t_offset = t[last_index]\n",
    "    \n",
    "    instant_mean_freq_burst = instant_freq[start_idx:end_idx]\n",
    "    \n",
    "    if plot_imnf:\n",
    "        ax_2[i].plot(t, instant_freq)\n",
    "    \n",
    "        ax_2[i].set_xlabel(\"Time (s)\")\n",
    "        ax_2[i].set_ylabel(\"Frequency (Hz)\")\n",
    "        #ax_2[i].set_xlim(t[0], t[-1])\n",
    "        plt.title(\"Instantaneous frequency\")\n",
    "        ax_2[i].grid(True)\n",
    "        \n",
    "    if plot_response:\n",
    "        ax_3_1.plot(t, instant_freq, label=f\"$c_1$: {base_cycle}, o: {min_order}-{max_order}\")\n",
    "        ax_3_1.set_xlabel(\"Time (s)\")\n",
    "        ax_3_1.set_ylabel(\"Frequency (Hz)\")\n",
    "        ax_3_1.legend()\n",
    "        ax_3_1.grid(True)\n",
    "        ax_3_1.set_title(\"Instantaneous frequency\")\n",
    "        \n",
    "        ax_3_2.plot(t, energia_temporal, label=f\"$c_1$: {base_cycle}, o: {min_order}-{max_order}\")\n",
    "        ax_3_2.set_xlabel(\"Time (s)\")\n",
    "        ax_3_2.set_ylabel(\"Energy (V²)\")\n",
    "        ax_3_2.legend()\n",
    "        ax_3_2.grid(True)\n",
    "        ax_3_2.set_title(\"Energy over time\")\n",
    "        \n",
    "    #MAE in frequency\n",
    "    print(f'Estimated mean frequency: {np.mean(instant_mean_freq_burst)} Hz')\n",
    "    mae_f, std_f = superlet.calculate_mae(instant_mean_freq_burst, MNF_1)\n",
    "    mae_superlet_f.append(mae_f)\n",
    "    std_superlet_f.append(std_f)\n",
    "    \n",
    "    #MAE in time\n",
    "    print(f'Estimated onset = {t_onset} s, offset = {t_offset} s')\n",
    "    # estimates_combined = t_offset - t_onset\n",
    "    # print(f'Estimated difference: {estimates_combined} s')\n",
    "    # true_values_combined = t_offset_1 - t_onset_1\n",
    "    # print(f'Real difference: {true_values_combined} s')\n",
    "\n",
    "    mae_t, std_t = superlet.calculate_mae((t_onset,t_offset), (real_t_onset,real_t_offset))\n",
    "    mae_superlet_t.append(mae_t)\n",
    "    std_superlet_t.append(std_t)\n",
    "    \n",
    "    # Visualization\n",
    "    plt.figure(figsize=(12, 6))\n",
    "\n",
    "    plt.subplot(2, 1, 1)\n",
    "    plt.plot(t, instant_freq)\n",
    "    plt.axvline(t_onset, color='green', linestyle='--', label='t_onset')\n",
    "    plt.axvline(t_offset, color='red', linestyle='--', label='t_offset')\n",
    "    plt.xlabel('Time (s)')\n",
    "    plt.ylabel('Freq (Hz)')\n",
    "    plt.legend()\n",
    "    plt.grid()\n",
    "    \n",
    "    time = np.arange(scalogram_2.shape[1]) / fs\n",
    "\n",
    "    total_time.append(time)\n",
    "    total_freq.append(freqs)\n",
    "\n",
    "    total_time.append(t)\n",
    "    total_freq.append(freqs)\n",
    "\n",
    "res_superlet = superlet.compute_avg_response_resolution(total_scalogram_superlet, total_time, total_freq, [f'$c_1$={c3}, o:{c1}-{c2}' for c1, c2, c3 in zip(*params_superlet)])\n",
    "\n",
    "if plot_scalogram:\n",
    "    cbar = fig.colorbar(im, ax=ax, orientation='horizontal', pad=0.15, shrink=0.1)\n",
    "    cbar.set_label('Power (V²)', rotation=0, labelpad=15)"
   ],
   "metadata": {
    "collapsed": false,
    "is_executing": true
   },
   "id": "4ef62855e8b112b3"
  },
  {
   "cell_type": "code",
   "execution_count": null,
   "outputs": [],
   "source": [
    "mae_superlet_f"
   ],
   "metadata": {
    "collapsed": false,
    "is_executing": true
   },
   "id": "d454f4196f53f892"
  },
  {
   "cell_type": "code",
   "execution_count": null,
   "outputs": [],
   "source": [
    "mae_superlet_t"
   ],
   "metadata": {
    "collapsed": false,
    "is_executing": true
   },
   "id": "51adfff7c4a6f65c"
  },
  {
   "cell_type": "markdown",
   "source": [
    "## STFT PARAMETERS (window = duration/cycles) = 38, 200, 413, 550, 600, 824 ms"
   ],
   "metadata": {
    "collapsed": false
   },
   "id": "a378373825b9fd72"
  },
  {
   "cell_type": "code",
   "execution_count": null,
   "outputs": [],
   "source": [
    "offset_burst = 0\n",
    "offset = 0"
   ],
   "metadata": {
    "collapsed": false,
    "is_executing": true
   },
   "id": "d7f52ba47e704e1"
  },
  {
   "cell_type": "code",
   "execution_count": null,
   "outputs": [],
   "source": [
    "importlib.reload(superlet)"
   ],
   "metadata": {
    "collapsed": false,
    "is_executing": true
   },
   "id": "76e5889195b9f5f1"
  },
  {
   "cell_type": "code",
   "execution_count": null,
   "outputs": [],
   "source": [
    "from scipy.signal import stft\n",
    "from scipy.signal import windows\n",
    "\n",
    "windows_ms = [38, 200, 413, 550, 600]\n",
    "\n",
    "if plot_scalogram:\n",
    "    fig, ax = plt.subplots(ncols=len(params_wavelet), figsize=(18,5), dpi=300, sharey=True, sharex=True)\n",
    "if plot_imnf:\n",
    "    fig_2, ax_2 = plt.subplots(ncols=len(params_wavelet), figsize=(18, 5), dpi=300)\n",
    "if plot_response:\n",
    "    fig_3, (ax_3_1, ax_3_2) = plt.subplots(1, 2, figsize=(18, 5)) \n",
    "\n",
    "mae_stft_f = []\n",
    "std_stft_f = []\n",
    "\n",
    "mae_stft_t = []\n",
    "std_stft_t = []\n",
    "\n",
    "total_time = []\n",
    "total_freq = []\n",
    "\n",
    "res_stft = []\n",
    "total_scalogram_stft = []\n",
    "\n",
    "for i, w in enumerate(windows_ms):\n",
    "    # Calcular la ventana Blackman\n",
    "    window = windows.blackman(w)\n",
    "    \n",
    "    # Hacer que la f de la stft tenga el mismo tamaño que las demás\n",
    "    nfft = 2 * (len(freqs))\n",
    "\n",
    "    f, t_stft, Zxx = stft(signal_1, fs=fs, window='blackman', nperseg=w, noverlap=w-1, nfft=nfft, detrend=False, return_onesided=True, boundary='zeros', padded=True, axis=-1, scaling='spectrum')\n",
    "\n",
    "    # Calcular la representación de potencia (magnitud al cuadrado)\n",
    "    Zxx_power = np.abs(Zxx) ** 2\n",
    "    \n",
    "    if plot_scalogram:\n",
    "        pcm = ax[i].pcolormesh(t_stft, f, Zxx_power, shading='gouraud', cmap='jet')\n",
    "        \n",
    "        ax[i].set_title(f'W={w * 1000 // fs} ms')\n",
    "        if i == 0:\n",
    "            ax[i].set_ylabel('Frecuencia [Hz]')\n",
    "        else: \n",
    "            ax[i].set_ylabel('')\n",
    "        ax[i].set_xlabel('Time [s]')\n",
    "\n",
    "        ax[i].set_ylim(f[0], f[-1])\n",
    "    \n",
    "    scalogram_2 = Zxx_power\n",
    "    \n",
    "    #if np.any(np.isnan(jnp.abs(Zxx)**2)) or np.any(np.isinf(jnp.abs(Zxx)**2)):\n",
    "    #scalogram_2 = jnp.nan_to_num(jnp.abs(Zxx)**2, nan=0.0, posinf=0.0, neginf=0.0)\n",
    "    \n",
    "    total_scalogram_stft.append(scalogram_2)\n",
    "    \n",
    "    # Para evitar la división por cero\n",
    "    denominador = np.sum(scalogram_2, axis=0)\n",
    "    # denominador = np.where(denominador == 0, 1e-10, denominador)\n",
    "    instant_freq = np.sum(scalogram_2 * f[:, np.newaxis], axis=0) / denominador\n",
    "    \n",
    "    energia_temporal = np.sum(scalogram_2, axis=0)\n",
    "    \n",
    "    first_index, last_index = superlet.find_plateau_region(energia_temporal, burst_start, burst_duration, t, fs, smooth_sigma=smooth_sigma)\n",
    "    \n",
    "    t_onset = t[first_index]\n",
    "    t_offset = t[last_index]\n",
    "\n",
    "    instant_mean_freq_burst = instant_freq[start_idx:end_idx]\n",
    "\n",
    "    if plot_imnf:\n",
    "        ax_2[i].plot(t_stft, instant_freq)\n",
    "\n",
    "        ax_2[i].set_xlabel(\"Time (s)\")\n",
    "        ax_2[i].set_ylabel(\"Frequency (Hz)\")\n",
    "        plt.title(\"Instantaneous frequency\")\n",
    "        ax_2[i].grid(True)\n",
    "\n",
    "    if plot_response:\n",
    "        ax_3_1.plot(t_stft, instant_freq, label=f'W={w * 1000 // fs} ms')\n",
    "        ax_3_1.set_xlabel(\"Time (s)\")\n",
    "        ax_3_1.set_ylabel(\"Frequency (Hz)\")\n",
    "        ax_3_1.legend()\n",
    "        ax_3_1.grid(True)\n",
    "        ax_3_1.set_title(\"Instantaneous frequency\")\n",
    "        \n",
    "        ax_3_2.plot(t_stft, energia_temporal, label=f'W={w * 1000 // fs} ms')\n",
    "        ax_3_2.set_xlabel(\"Time (s)\")\n",
    "        ax_3_2.set_ylabel(\"Energy (V²)\")\n",
    "        ax_3_2.legend()\n",
    "        ax_3_2.grid(True)\n",
    "        ax_3_2.set_title(\"Energy over time\")\n",
    "\n",
    "    #MAE in frequency\n",
    "    print(f'Estimated mean frequency: {np.mean(instant_mean_freq_burst)} Hz')\n",
    "    mae_f, std_f = superlet.calculate_mae(instant_mean_freq_burst, MNF_1)\n",
    "    mae_stft_f.append(mae_f)\n",
    "    std_stft_f.append(std_f)\n",
    "    \n",
    "    #MAE in time\n",
    "    print(f'Estimated onset = {t_onset} s, offset = {t_offset} s')\n",
    "    # estimates_combined = t_offset - t_onset\n",
    "    # print(f'Estimated difference: {estimates_combined} s')\n",
    "    # true_values_combined = t_offset_1 - t_onset_1\n",
    "    # print(f'Real difference: {true_values_combined} s')\n",
    "\n",
    "    mae_t, std_t = superlet.calculate_mae((t_onset,t_offset), (real_t_onset,real_t_offset))\n",
    "    mae_stft_t.append(mae_t)\n",
    "    std_stft_t.append(std_t)\n",
    "    \n",
    "    # Visualization\n",
    "    plt.figure(figsize=(12, 6))\n",
    "\n",
    "    plt.subplot(2, 1, 1)\n",
    "    plt.plot(t_stft, instant_freq)\n",
    "    plt.axvline(t_onset, color='green', linestyle='--', label='t_onset')\n",
    "    plt.axvline(t_offset, color='red', linestyle='--', label='t_offset')\n",
    "    plt.xlabel('Time (s)')\n",
    "    plt.ylabel('Freq (Hz)')\n",
    "    plt.legend()\n",
    "    plt.grid()\n",
    "\n",
    "    plt.tight_layout()\n",
    "    \n",
    "    total_time.append(np.linspace(t_stft[0], t_stft[-1], scalogram_2.shape[1]))\n",
    "    total_freq.append(np.linspace(f[0], f[-1], scalogram_2.shape[0]))\n",
    "\n",
    "res_stft = superlet.compute_avg_response_resolution(total_scalogram_stft, total_time, total_freq, windows_ms, stft=[freqs[0],freqs[-1]])\n",
    "\n",
    "if plot_scalogram:\n",
    "    cbar = fig.colorbar(pcm, ax=ax, orientation='horizontal', pad=0.15, shrink=0.1)\n",
    "    cbar.set_label('Power (V²)', rotation=0, labelpad=15)"
   ],
   "metadata": {
    "collapsed": false,
    "is_executing": true
   },
   "id": "bb2b771f9cb7abeb"
  },
  {
   "cell_type": "code",
   "execution_count": null,
   "outputs": [],
   "source": [
    "mae_stft_f"
   ],
   "metadata": {
    "collapsed": false,
    "is_executing": true
   },
   "id": "97c941448d65cd00"
  },
  {
   "cell_type": "code",
   "execution_count": null,
   "outputs": [],
   "source": [
    "mae_stft_t"
   ],
   "metadata": {
    "collapsed": false,
    "is_executing": true
   },
   "id": "e039f01c006013cd"
  },
  {
   "cell_type": "markdown",
   "source": [
    "# Plot comparison of the same SNR"
   ],
   "metadata": {
    "collapsed": false
   },
   "id": "aca73d56d5c1f4d6"
  },
  {
   "cell_type": "markdown",
   "source": [
    "## MAE IN FREQUENCY"
   ],
   "metadata": {
    "collapsed": false
   },
   "id": "2b43bdccb45c85e6"
  },
  {
   "cell_type": "code",
   "execution_count": null,
   "outputs": [],
   "source": [
    "params_stft = windows_ms\n",
    "\n",
    "# Número de condiciones\n",
    "num_conditions = len(mae_wavelet_f)\n",
    "x = np.arange(num_conditions)  # Posiciones para cada grupo de barras\n",
    "bar_width = 0.25  # Ancho de las barras\n",
    "\n",
    "# Crear el gráfico de barras\n",
    "plt.figure(figsize=(14, 7))\n",
    "\n",
    "# Graficar cada técnica con sus valores y barras de error\n",
    "plt.bar(x - bar_width, mae_stft_f, width=bar_width, yerr=std_stft_f, capsize=5, label='STFT', color='skyblue', alpha=0.7)\n",
    "plt.bar(x, mae_wavelet_f, width=bar_width, yerr=std_wavelet_f, capsize=5, label='Wavelet', color='lightgreen', alpha=0.7)\n",
    "plt.bar(x + bar_width, mae_superlet_f, width=bar_width, yerr=std_superlet_f, capsize=5, label='Superlet', color='salmon', alpha=0.7)\n",
    "\n",
    "# Configuración de etiquetas en el eje x con los parámetros específicos\n",
    "labels = [\n",
    "    f\"W={p_stft} ms\\n\\nc={p_w}\\n\\nc$_1$={p_s[0]}, o: {p_s[1]}-{p_s[2]}\"\n",
    "    for p_w, p_s, p_stft in zip(params_wavelet, zip(*params_superlet), params_stft)\n",
    "]\n",
    "\n",
    "plt.xticks(x, labels, rotation=90, ha='center', fontsize=18)\n",
    "#plt.xlabel('Condiciones y Parámetros')\n",
    "plt.yticks(np.arange(0, 101, 10))\n",
    "\n",
    "plt.ylabel('MAE (Hz)')\n",
    "plt.title('MAE in FREQUENCY (SNR = ' + str(SNR) +')', fontsize=18)\n",
    "plt.ylim(0,100)\n",
    "plt.legend(fontsize=14)\n",
    "plt.grid(True)\n",
    "\n",
    "# Ajustar el layout para mejorar visualización de etiquetas\n",
    "plt.tight_layout()\n",
    "\n",
    "# Mostrar el gráfico\n",
    "plt.show()"
   ],
   "metadata": {
    "collapsed": false,
    "is_executing": true
   },
   "id": "705174b97031e347"
  },
  {
   "cell_type": "markdown",
   "source": [
    "## MAE IN TIME"
   ],
   "metadata": {
    "collapsed": false
   },
   "id": "e02e67646915d84a"
  },
  {
   "cell_type": "code",
   "execution_count": null,
   "outputs": [],
   "source": [
    "params_stft = windows_ms\n",
    "\n",
    "# Número de condiciones\n",
    "num_conditions = len(mae_wavelet_t)\n",
    "x = np.arange(num_conditions)  # Posiciones para cada grupo de barras\n",
    "bar_width = 0.25  # Ancho de las barras\n",
    "\n",
    "# Crear el gráfico de barras\n",
    "plt.figure(figsize=(14, 7))\n",
    "\n",
    "# Graficar cada técnica con sus valores y barras de error\n",
    "plt.bar(x - bar_width, mae_stft_t, width=bar_width, yerr=std_stft_t, capsize=5, label='STFT', color='skyblue', alpha=0.7)\n",
    "plt.bar(x, mae_wavelet_t, width=bar_width, yerr=std_wavelet_t, capsize=5, label='Wavelet', color='lightgreen', alpha=0.7)\n",
    "plt.bar(x + bar_width, mae_superlet_t, width=bar_width, yerr=std_superlet_t, capsize=5, label='Superlet', color='salmon', alpha=0.7)\n",
    "\n",
    "# Configuración de etiquetas en el eje x con los parámetros específicos\n",
    "labels = [\n",
    "    f\"W={p_stft} ms\\n\\nc={p_w}\\n\\nc$_1$={p_s[0]}, o: {p_s[1]}-{p_s[2]}\"\n",
    "    for p_w, p_s, p_stft in zip(params_wavelet, zip(*params_superlet), params_stft)\n",
    "]\n",
    "\n",
    "plt.xticks(x, labels, rotation=90, ha='center', fontsize=18)\n",
    "#plt.xlabel('Condiciones y Parámetros')\n",
    "plt.yticks(np.arange(0, 0.21, 0.1))\n",
    "\n",
    "plt.ylabel('MAE (s)')\n",
    "plt.title('MAE in TIME (SNR = ' + str(SNR) +')', fontsize=18)\n",
    "plt.ylim(0,0.2)\n",
    "plt.legend(fontsize=14)\n",
    "plt.grid(True)\n",
    "\n",
    "# Ajustar el layout para mejorar visualización de etiquetas\n",
    "plt.tight_layout()\n",
    "\n",
    "# Mostrar el gráfico\n",
    "plt.show()"
   ],
   "metadata": {
    "collapsed": false,
    "is_executing": true
   },
   "id": "1852d385843953d7"
  },
  {
   "cell_type": "markdown",
   "source": [
    "# Compute resolution"
   ],
   "metadata": {
    "collapsed": false
   },
   "id": "3da8c6b029e57594"
  },
  {
   "cell_type": "code",
   "execution_count": null,
   "outputs": [],
   "source": [
    "importlib.reload(superlet)"
   ],
   "metadata": {
    "collapsed": false,
    "is_executing": true
   },
   "id": "e4b4b561faa78830"
  },
  {
   "cell_type": "code",
   "execution_count": null,
   "outputs": [],
   "source": [
    "rayleigh_limit = 1 / (4 * np.pi)\n",
    "\n",
    "# Etiquetas para los grupos de parámetros con salto de línea adicional\n",
    "labels = [\n",
    "    f\"W={p_stft} ms\\nc={p_wavelet}\\nc$_1$={p_superlet[0]}, o={p_superlet[1]}-{p_superlet[2]}\"\n",
    "    for p_wavelet, p_superlet, p_stft in zip(params_wavelet, zip(*params_superlet), params_stft)\n",
    "]\n",
    "\n",
    "x = np.arange(1,len(params_wavelet)+1)\n",
    "\n",
    "plt.figure(figsize=(12, 8))\n",
    "\n",
    "# Primer gráfico (Frecuencia)\n",
    "plt.subplot(2, 1, 1)\n",
    "plt.plot(x, [r[1] for r in res_wavelet], 'go-', label=\"Wavelet (Frequency)\")\n",
    "plt.plot(x, [r[1] for r in res_stft], 'bo-', label=\"STFT (Frequency)\")\n",
    "plt.plot(x, [r[1] for r in res_superlet], 'ro-', label=\"Superlet (Frequency)\")\n",
    "#plt.axhline(rayleigh_limit, color='k', linestyle='--', label=\"Rayleigh Limit\")\n",
    "plt.xlabel(\"Window Size / Cycles / Order\")\n",
    "plt.ylabel(\"Frequency Resolution (Hz)\")\n",
    "plt.legend()\n",
    "\n",
    "# Segundo gráfico (Tiempo)\n",
    "plt.subplot(2, 1, 2)\n",
    "plt.plot(x, [r[0] for r in res_wavelet], 'go-', label=\"Wavelet (Time)\")\n",
    "plt.plot(x, [r[0] for r in res_stft], 'bo-', label=\"STFT (Time)\")\n",
    "plt.plot(x, [r[0] for r in res_superlet], 'ro-', label=\"Superlet (Time)\")\n",
    "#plt.axhline(1 / MNF_1[0], color='k', linestyle='--', label=\"Temporal Limit\")\n",
    "plt.xlabel(\"Window Size / Cycles / Order\")\n",
    "plt.ylabel(\"Time Resolution (s)\")\n",
    "plt.legend()\n",
    "\n",
    "# Ajuste de los xticks para ambos subgráficos\n",
    "for ax in plt.gcf().get_axes():\n",
    "    ax.set_xticks(x)  # Establecer los valores de los ticks\n",
    "    ax.set_xticklabels(labels, rotation=90, ha='center', fontsize=10)  # Establecer las etiquetas con el formato deseado\n",
    "\n",
    "# Ajustar el diseño\n",
    "plt.tight_layout()\n",
    "plt.show()"
   ],
   "metadata": {
    "collapsed": false,
    "is_executing": true
   },
   "id": "52e521980d27c7b5"
  },
  {
   "cell_type": "markdown",
   "source": [
    "# Only first time !!!!"
   ],
   "metadata": {
    "collapsed": false
   },
   "id": "475872972ebd60bb"
  },
  {
   "cell_type": "code",
   "execution_count": null,
   "outputs": [],
   "source": [
    "MAES_f = {\n",
    "    'stft': [],\n",
    "    'wavelet': [],\n",
    "    'superlet': [],\n",
    "    'std_stft': [],\n",
    "    'std_wavelet': [],\n",
    "    'std_superlet': []\n",
    "}"
   ],
   "metadata": {
    "collapsed": false,
    "is_executing": true
   },
   "id": "346d4f8e87571077"
  },
  {
   "cell_type": "code",
   "execution_count": null,
   "outputs": [],
   "source": [
    "MAES_f['wavelet'].append(mae_wavelet_f)\n",
    "MAES_f['stft'].append(mae_stft_f)\n",
    "MAES_f['superlet'].append(mae_superlet_f)\n",
    "MAES_f['std_wavelet'].append(std_wavelet_f)\n",
    "MAES_f['std_stft'].append(std_stft_f)\n",
    "MAES_f['std_superlet'].append(std_superlet_f)"
   ],
   "metadata": {
    "collapsed": false,
    "is_executing": true
   },
   "id": "6958e2ff860b9f7f"
  },
  {
   "cell_type": "code",
   "execution_count": null,
   "outputs": [],
   "source": [
    "MAES_f"
   ],
   "metadata": {
    "collapsed": false,
    "is_executing": true
   },
   "id": "314bd98c94ee322b"
  },
  {
   "cell_type": "code",
   "execution_count": null,
   "outputs": [],
   "source": [
    "MAES_t = {\n",
    "    'stft': [],\n",
    "    'wavelet': [],\n",
    "    'superlet': [],\n",
    "    'std_stft': [],\n",
    "    'std_wavelet': [],\n",
    "    'std_superlet': []\n",
    "}"
   ],
   "metadata": {
    "collapsed": false,
    "is_executing": true
   },
   "id": "1751b5a1785a1430"
  },
  {
   "cell_type": "code",
   "execution_count": null,
   "outputs": [],
   "source": [
    "MAES_t['wavelet'].append(mae_wavelet_t)\n",
    "MAES_t['stft'].append(mae_stft_t)\n",
    "MAES_t['superlet'].append(mae_superlet_t)\n",
    "MAES_t['std_wavelet'].append(std_wavelet_t)\n",
    "MAES_t['std_stft'].append(std_stft_t)\n",
    "MAES_t['std_superlet'].append(std_superlet_t)"
   ],
   "metadata": {
    "collapsed": false,
    "is_executing": true
   },
   "id": "a96f810fc6b96a47"
  },
  {
   "cell_type": "code",
   "execution_count": null,
   "outputs": [],
   "source": [
    "MAES_t"
   ],
   "metadata": {
    "collapsed": false,
    "is_executing": true
   },
   "id": "39e2c4e2c6a5e799"
  },
  {
   "cell_type": "markdown",
   "source": [
    "# WE REPEAT EVERYTHING WITH DIFFERENT SNR"
   ],
   "metadata": {
    "collapsed": false
   },
   "id": "791f1ea270c74041"
  },
  {
   "cell_type": "code",
   "execution_count": null,
   "outputs": [],
   "source": [
    "if os.path.exists(filename):\n",
    "    burst_signal = np.load(filename) + base_signal\n",
    "else:\n",
    "    #burst_signal = np.random.normal(0, 0.08, len(t))\n",
    "    burst_signal = np.array([0.00001] * len(t))\n",
    "    burst_signal[int(burst_start * fs):int(burst_start * fs + len(burst))] += burst\n",
    "    #np.save('/Users/neuralrehabilitationgroup/PycharmProjects/Superlets-Marina/RESULTS/signal_burst_1.npy', burst_signal)\n",
    "\n",
    "plt.plot(noise)\n",
    "plt.figure()\n",
    "plt.plot(burst_signal)"
   ],
   "metadata": {
    "collapsed": false,
    "is_executing": true
   },
   "id": "318d7c58e6440d4e"
  },
  {
   "cell_type": "code",
   "execution_count": null,
   "outputs": [],
   "source": [
    "SNR = 15\n",
    "# if 'SNR' not in globals():\n",
    "#     SNR = \"Inf\"\n",
    "signal_2 = burst_signal\n",
    "signal_2, xn = superlet.add_noise(burst_signal, SNR, fs, plot = True)\n",
    "#signal_2 = superlet.add_wgn_to_sig(burst_signal, noise, SNR)\n",
    "snr_real = calcular_snr(signal_2, xn)"
   ],
   "metadata": {
    "collapsed": false,
    "is_executing": true
   },
   "id": "6e54d8dcb56b67a4"
  },
  {
   "cell_type": "code",
   "execution_count": null,
   "outputs": [],
   "source": [
    "psd_welch, f_welch, MNF = superlet.compute_psd_welch(signal_2, fs, plot=True, muscle='Simulated EMG signal with burst')"
   ],
   "metadata": {
    "collapsed": false,
    "is_executing": true
   },
   "id": "6633b80d37bc6650"
  },
  {
   "cell_type": "code",
   "execution_count": null,
   "outputs": [],
   "source": [
    "snr_real"
   ],
   "metadata": {
    "collapsed": false,
    "is_executing": true
   },
   "id": "cb7ed67840f054ba"
  },
  {
   "cell_type": "code",
   "execution_count": null,
   "outputs": [],
   "source": [
    "plt.plot(signal_1)\n",
    "plt.plot(signal_2)"
   ],
   "metadata": {
    "collapsed": false,
    "is_executing": true
   },
   "id": "245888ef2bb63c29"
  },
  {
   "cell_type": "code",
   "execution_count": null,
   "outputs": [],
   "source": [
    "fig, ax = plt.subplots(figsize=(15, 2), dpi=300)\n",
    "ax.set_xlabel(\"Time (s)\")\n",
    "ax.plot(jnp.linspace(0, len(signal_2) / fs, len(signal_2)), signal_2)\n",
    "print(f\"Reference mean frequency: {MNF_1[0]} Hz\")\n",
    "plt.plot(t, signal_2)"
   ],
   "metadata": {
    "collapsed": false,
    "is_executing": true
   },
   "id": "a67d9e9f1996c595"
  },
  {
   "cell_type": "markdown",
   "source": [
    "# WAVELET PARAMETERS = 3, 16, 33, 55, 60 115 cycles"
   ],
   "metadata": {
    "collapsed": false
   },
   "id": "5bb32f00592c9fa7"
  },
  {
   "cell_type": "code",
   "execution_count": null,
   "outputs": [],
   "source": [
    "if plot_scalogram:\n",
    "    fig, ax = plt.subplots(ncols=len(params_wavelet), figsize=(18,5), dpi=300, sharey=True, sharex=True)\n",
    "if plot_imnf:\n",
    "    fig_2, ax_2 = plt.subplots(ncols=len(params_wavelet), figsize=(18, 5), dpi=300)\n",
    "if plot_response:\n",
    "    fig_3, (ax_3_1, ax_3_2) = plt.subplots(1, 2, figsize=(18, 5))  \n",
    "\n",
    "mae_wavelet_f = []\n",
    "std_wavelet_f = []\n",
    "\n",
    "mae_wavelet_t = []\n",
    "std_wavelet_t = []\n",
    "\n",
    "total_time = []\n",
    "total_freq = []\n",
    "\n",
    "total_scalogram_wavelet = []\n",
    "res_wavelet = []\n",
    "\n",
    "for i, c in enumerate(params_wavelet):\n",
    "    wavelet = f'cmor{c}-1.0'\n",
    "    \n",
    "    cwtmatr, f, physical_freqs = morlet.wavelet_transform_2(signal_2,wavelet,freqs,fs)\n",
    "    cwtmatr = np.abs(cwtmatr[:,:])\n",
    "    \n",
    "    scalogram_2 = np.array(jnp.abs(cwtmatr)**2)\n",
    "    \n",
    "    if plot_scalogram:\n",
    "        pcm = ax[i].pcolormesh(t,f, scalogram_2, shading='gouraud', cmap='jet')\n",
    "        \n",
    "        ax[i].set_title(f'c={c}')\n",
    "        if i == 0:\n",
    "            ax[i].set_ylabel('Frequency (Hz)')\n",
    "        else:\n",
    "            ax[i].set_ylabel('')  # Eliminar la etiqueta del eje Y en los demás subplots\n",
    "    \n",
    "        ax[i].set_xlabel('Time (s)')\n",
    "        ax[i].set_ylim(f[0], f[-1])\n",
    "        \n",
    "    total_scalogram_wavelet.append(scalogram_2)\n",
    "    instant_freq = np.sum(scalogram_2 * f[:, np.newaxis], axis=0) / np.sum(scalogram_2, axis=0)\n",
    "    \n",
    "    energia_temporal = np.sum(scalogram_2, axis=0)\n",
    "    \n",
    "    first_index, last_index = superlet.find_plateau_region(energia_temporal, burst_start, burst_duration, t, fs, smooth_sigma=smooth_sigma)\n",
    "    \n",
    "    t_onset = t[first_index]\n",
    "    t_offset = t[last_index]\n",
    "    \n",
    "    instant_mean_freq_burst = instant_freq[start_idx:end_idx]\n",
    "    \n",
    "    if plot_imnf:\n",
    "        ax_2[i].plot(t, instant_freq)\n",
    "    \n",
    "        ax_2[i].set_xlabel(\"Time (s)\")\n",
    "        ax_2[i].set_ylabel(\"Frequency (Hz)\")\n",
    "        #ax_2[i].set_xlim(t[0], t[-1])\n",
    "        plt.title(\"Instantaneous frequency\")\n",
    "        ax_2[i].grid(True)\n",
    "    \n",
    "    if plot_response:\n",
    "        ax_3_1.plot(t, instant_freq, label=f\"c={c}\")\n",
    "        ax_3_1.set_xlabel(\"Time (s)\")\n",
    "        ax_3_1.set_ylabel(\"Frequency (Hz)\")\n",
    "        ax_3_1.legend()\n",
    "        ax_3_1.grid(True)\n",
    "        ax_3_1.set_title(\"Instantaneous frequency\")\n",
    "        \n",
    "        ax_3_2.plot(t, energia_temporal, label=f\"c={c}\")\n",
    "        ax_3_2.set_xlabel(\"Time (s)\")\n",
    "        ax_3_2.set_ylabel(\"Energy (V²)\")\n",
    "        ax_3_2.legend()\n",
    "        ax_3_2.grid(True)\n",
    "        ax_3_2.set_title(\"Energy over time\")\n",
    "        \n",
    "    #MAE in frequency\n",
    "    print(f'Estimated mean frequency: {np.mean(instant_mean_freq_burst)} Hz')\n",
    "    mae_f, std_f = superlet.calculate_mae(instant_mean_freq_burst, MNF_1)\n",
    "    mae_wavelet_f.append(mae_f)\n",
    "    std_wavelet_f.append(std_f)\n",
    "    \n",
    "    #MAE in time\n",
    "    print(f'Estimated onset = {t_onset} s, offset = {t_offset} s')\n",
    "    mae_t, std_t = superlet.calculate_mae((t_onset,t_offset), (real_t_onset,real_t_offset))\n",
    "    mae_wavelet_t.append(mae_t)\n",
    "    std_wavelet_t.append(std_t)\n",
    "    \n",
    "    # Visualization\n",
    "    plt.figure(figsize=(8, 5))\n",
    "\n",
    "    plt.subplot(2, 1, 1)\n",
    "    plt.plot(t, instant_freq)\n",
    "    #plt.plot(t, media_movil)\n",
    "    plt.axvline(t_onset, color='green', linestyle='--', label='t_onset')\n",
    "    plt.axvline(t_offset, color='red', linestyle='--', label='t_offset')\n",
    "    plt.xlabel('Time (s)')\n",
    "    plt.ylabel('Freq (Hz)')\n",
    "    plt.legend()\n",
    "    plt.grid()\n",
    "\n",
    "    plt.tight_layout()\n",
    "    \n",
    "    time = np.arange(scalogram_2.shape[1]) / fs\n",
    "\n",
    "    total_time.append(time)\n",
    "    total_freq.append(freqs)\n",
    "    \n",
    "res_wavelet = superlet.compute_avg_response_resolution(total_scalogram_wavelet, total_time, total_freq, params_wavelet)\n",
    "\n",
    "if plot_scalogram:\n",
    "    cbar = fig.colorbar(pcm, ax=ax, orientation='horizontal', pad=0.15, shrink=0.1)\n",
    "    cbar.set_label('Power (V²)', rotation=0, labelpad=15)"
   ],
   "metadata": {
    "collapsed": false,
    "is_executing": true
   },
   "id": "f5a1ec21469aa193"
  },
  {
   "cell_type": "code",
   "execution_count": null,
   "outputs": [],
   "source": [
    "mae_wavelet_f"
   ],
   "metadata": {
    "collapsed": false,
    "is_executing": true
   },
   "id": "df90c8870e53d6a2"
  },
  {
   "cell_type": "code",
   "execution_count": null,
   "outputs": [],
   "source": [
    "mae_wavelet_t"
   ],
   "metadata": {
    "collapsed": false,
    "is_executing": true
   },
   "id": "bc81d02242503b93"
  },
  {
   "cell_type": "markdown",
   "source": [
    "## PARÁMETROS SUPERLET: base_cycle, min_order, max_order = [3, 5, 1, 1, 1, 1], [1, 1, 5, 10, 20, 30], [30, 30, 40, 100, 100, 200]"
   ],
   "metadata": {
    "collapsed": false
   },
   "id": "5235269cb647c0ed"
  },
  {
   "cell_type": "code",
   "execution_count": null,
   "outputs": [],
   "source": [
    "if plot_scalogram:\n",
    "    fig, ax = plt.subplots(ncols=len(params_wavelet), figsize=(18,5), dpi=300, sharey=True, sharex=True)\n",
    "if plot_imnf:\n",
    "    fig_2, ax_2 = plt.subplots(ncols=len(params_wavelet), figsize=(18, 5), dpi=300)\n",
    "if plot_response:\n",
    "    fig_3, (ax_3_1, ax_3_2) = plt.subplots(1, 2, figsize=(18, 5))\n",
    "\n",
    "mae_superlet_f = []\n",
    "std_superlet_f = []\n",
    "\n",
    "mae_superlet_t = []\n",
    "std_superlet_t = []\n",
    "\n",
    "total_time = []\n",
    "total_freq = []\n",
    "\n",
    "total_scalogram_superlet = []\n",
    "\n",
    "for (i, (base_cycle, min_order, max_order)) in enumerate(zip(*params_superlet)):\n",
    "\n",
    "    wv, scalogram = superlet.adaptive_superlet_transform(signal_2, freqs, sampling_freq=fs,\n",
    "                                                         base_cycle=base_cycle, min_order=min_order,\n",
    "                                                         max_order=max_order, mode=\"mul\")\n",
    "    \n",
    "    if plot_scalogram:\n",
    "        im = ax[i].imshow(jnp.abs(scalogram) ** 2, aspect='auto', cmap=\"jet\", interpolation=\"none\", origin=\"lower\",extent=[0, len(signal_1) / fs, freqs[0], freqs[-1]])\n",
    "        ax[i].set_title(f\"$c_1$: {base_cycle}, o: {min_order}-{max_order}\")\n",
    "        ax[i].set_xlabel(\"Time (s)\")\n",
    "        if i == 0:\n",
    "            ax[i].set_ylabel(\"Frequency (Hz)\")\n",
    "        else:\n",
    "            ax[i].set_ylabel(\"\")\n",
    "        ax[i].set_ylim(freqs[0], freqs[-1])\n",
    "\n",
    "    scalogram_2 = np.abs(scalogram) ** 2\n",
    "\n",
    "    total_scalogram_superlet.append(scalogram_2)\n",
    "    \n",
    "    instant_freq = np.sum(scalogram_2 * freqs[:, np.newaxis], axis=0) / np.sum(scalogram_2, axis=0)\n",
    "        \n",
    "    energia_temporal = np.sum(scalogram_2, axis=0)\n",
    "        \n",
    "    first_index, last_index = superlet.find_plateau_region(energia_temporal, burst_start, burst_duration, t, fs, smooth_sigma=smooth_sigma)\n",
    "    \n",
    "    t_onset = t[first_index]\n",
    "    t_offset = t[last_index]\n",
    "    \n",
    "    instant_mean_freq_burst = instant_freq[start_idx:end_idx]\n",
    "    \n",
    "    if plot_imnf:\n",
    "        ax_2[i].plot(t, instant_freq)\n",
    "\n",
    "        ax_2[i].set_xlabel(\"Time (s)\")\n",
    "        ax_2[i].set_ylabel(\"Frequency (Hz)\")\n",
    "        #ax_2[i].set_xlim(t[0], t[-1])\n",
    "        plt.title(\"Instantaneous frequency\")\n",
    "        ax_2[i].grid(True)\n",
    "\n",
    "    if plot_response:\n",
    "        ax_3_1.plot(t, instant_freq, label=f\"$c_1$: {base_cycle}, o: {min_order}-{max_order}\")\n",
    "        ax_3_1.set_xlabel(\"Time (s)\")\n",
    "        ax_3_1.set_ylabel(\"Frequency (Hz)\")\n",
    "        ax_3_1.legend()\n",
    "        ax_3_1.grid(True)\n",
    "        ax_3_1.set_title(\"Instantaneous frequency\")\n",
    "        \n",
    "        ax_3_2.plot(t, energia_temporal, label=f\"$c_1$: {base_cycle}, o: {min_order}-{max_order}\")\n",
    "        ax_3_2.set_xlabel(\"Time (s)\")\n",
    "        ax_3_2.set_ylabel(\"Energy (V²)\")\n",
    "        ax_3_2.legend()\n",
    "        ax_3_2.grid(True)\n",
    "        ax_3_2.set_title(\"Energy over time\")\n",
    "        \n",
    "    #MAE in frequency\n",
    "    print(f'Estimated mean frequency: {np.mean(instant_mean_freq_burst)} Hz')\n",
    "    mae_f, std_f = superlet.calculate_mae(instant_mean_freq_burst, MNF_1)\n",
    "    mae_superlet_f.append(mae_f)\n",
    "    std_superlet_f.append(std_f)\n",
    "    \n",
    "    #MAE in time\n",
    "    print(f'Estimated onset = {t_onset} s, offset = {t_offset} s')\n",
    "    # estimates_combined = t_offset - t_onset\n",
    "    # print(f'Estimated difference: {estimates_combined} s')\n",
    "    # true_values_combined = t_offset_1 - t_onset_1\n",
    "    # print(f'Real difference: {true_values_combined} s')\n",
    "\n",
    "    mae_t, std_t = superlet.calculate_mae((t_onset,t_offset), (real_t_onset,real_t_offset))\n",
    "    mae_superlet_t.append(mae_t)\n",
    "    std_superlet_t.append(std_t)\n",
    "    \n",
    "    # Visualization\n",
    "    plt.figure(figsize=(12, 6))\n",
    "\n",
    "    plt.subplot(2, 1, 1)\n",
    "    plt.plot(t, instant_freq)\n",
    "    plt.axvline(t_onset, color='green', linestyle='--', label='t_onset')\n",
    "    plt.axvline(t_offset, color='red', linestyle='--', label='t_offset')\n",
    "    plt.xlabel('Time (s)')\n",
    "    plt.ylabel('Freq (Hz)')\n",
    "    plt.legend()\n",
    "    plt.grid()\n",
    "    \n",
    "    time = np.arange(scalogram_2.shape[1]) / fs\n",
    "\n",
    "    total_time.append(time)\n",
    "    total_freq.append(freqs)\n",
    "\n",
    "    total_time.append(t)\n",
    "    total_freq.append(freqs)\n",
    "\n",
    "res_superlet = superlet.compute_avg_response_resolution(total_scalogram_superlet, total_time, total_freq, [f'$c_1$={c3}, o:{c1}-{c2}' for c1, c2, c3 in zip(*params_superlet)])\n",
    "\n",
    "if plot_scalogram:\n",
    "    cbar = fig.colorbar(im, ax=ax, orientation='horizontal', pad=0.15, shrink=0.1)\n",
    "    cbar.set_label('Power (V²)', rotation=0, labelpad=15)"
   ],
   "metadata": {
    "collapsed": false,
    "is_executing": true
   },
   "id": "7250bac1f00aa52e"
  },
  {
   "cell_type": "code",
   "execution_count": null,
   "outputs": [],
   "source": [
    "mae_superlet_f"
   ],
   "metadata": {
    "collapsed": false,
    "is_executing": true
   },
   "id": "ba860785d785aacf"
  },
  {
   "cell_type": "code",
   "execution_count": null,
   "outputs": [],
   "source": [
    "mae_superlet_t"
   ],
   "metadata": {
    "collapsed": false,
    "is_executing": true
   },
   "id": "4932d9ee14373ba6"
  },
  {
   "cell_type": "markdown",
   "source": [
    "## STFT PARAMETERS (window = duration/cycles) = 38, 200, 413, 550, 600, 824 ms"
   ],
   "metadata": {
    "collapsed": false
   },
   "id": "38c52cae6cdd06e7"
  },
  {
   "cell_type": "code",
   "execution_count": null,
   "outputs": [],
   "source": [
    "offset_burst = 0\n",
    "offset = 0"
   ],
   "metadata": {
    "collapsed": false,
    "is_executing": true
   },
   "id": "3f59ae5e3d9421b9"
  },
  {
   "cell_type": "code",
   "execution_count": null,
   "outputs": [],
   "source": [
    "if plot_scalogram:\n",
    "    fig, ax = plt.subplots(ncols=len(params_wavelet), figsize=(18,5), dpi=300, sharey=True, sharex=True)\n",
    "if plot_imnf:\n",
    "    fig_2, ax_2 = plt.subplots(ncols=len(params_wavelet), figsize=(18, 5), dpi=300)\n",
    "if plot_response:\n",
    "    fig_3, (ax_3_1, ax_3_2) = plt.subplots(1, 2, figsize=(18, 5))  \n",
    "\n",
    "mae_stft_f = []\n",
    "std_stft_f = []\n",
    "\n",
    "mae_stft_t = []\n",
    "std_stft_t = []\n",
    "\n",
    "total_time = []\n",
    "total_freq = []\n",
    "\n",
    "res_stft = []\n",
    "total_scalogram_stft = []\n",
    "\n",
    "for i, w in enumerate(windows_ms):\n",
    "    # Calcular la ventana Blackman\n",
    "    window = windows.blackman(w)\n",
    "    \n",
    "    # Hacer que la f de la stft tenga el mismo tamaño que las demás\n",
    "    nfft = 2 * (len(freqs))\n",
    "\n",
    "    f, t_stft, Zxx = stft(signal_2, fs=fs, window='blackman', nperseg=w, noverlap=w-1, nfft=nfft, detrend=False, return_onesided=True, boundary='zeros', padded=True, axis=-1, scaling='spectrum')\n",
    "\n",
    "    # Calcular la representación de potencia (magnitud al cuadrado)\n",
    "    Zxx_power = np.abs(Zxx) ** 2\n",
    "    \n",
    "    if plot_scalogram:\n",
    "        pcm = ax[i].pcolormesh(t_stft, f, Zxx_power, shading='gouraud', cmap='jet')\n",
    "        \n",
    "        ax[i].set_title(f'W={w * 1000 // fs} ms')\n",
    "        if i == 0:\n",
    "            ax[i].set_ylabel('Frecuencia [Hz]')\n",
    "        else: \n",
    "            ax[i].set_ylabel('')\n",
    "        ax[i].set_xlabel('Time [s]')\n",
    "\n",
    "        ax[i].set_ylim(f[0], f[-1])\n",
    "    \n",
    "    scalogram_2 = Zxx_power\n",
    "    \n",
    "    total_scalogram_stft.append(scalogram_2)\n",
    "    \n",
    "    # Para evitar la división por cero\n",
    "    denominador = np.sum(scalogram_2, axis=0)\n",
    "    # denominador = np.where(denominador == 0, 1e-10, denominador)\n",
    "    instant_freq = np.sum(scalogram_2 * f[:, np.newaxis], axis=0) / denominador\n",
    "    \n",
    "    energia_temporal = np.sum(scalogram_2, axis=0)\n",
    "    \n",
    "    first_index, last_index = superlet.find_plateau_region(energia_temporal, burst_start, burst_duration, t, fs, smooth_sigma=smooth_sigma)\n",
    "    \n",
    "    t_onset = t[first_index]\n",
    "    t_offset = t[last_index]\n",
    "\n",
    "    instant_mean_freq_burst = instant_freq[start_idx:end_idx]\n",
    "\n",
    "    if plot_imnf:\n",
    "        ax_2[i].plot(t_stft, instant_freq)\n",
    "\n",
    "        ax_2[i].set_xlabel(\"Time (s)\")\n",
    "        ax_2[i].set_ylabel(\"Frequency (Hz)\")\n",
    "        plt.title(\"Instantaneous frequency\")\n",
    "        ax_2[i].grid(True)\n",
    "\n",
    "    if plot_response:\n",
    "        ax_3_1.plot(t_stft, instant_freq, label=f'W={w * 1000 // fs} ms')\n",
    "        ax_3_1.set_xlabel(\"Time (s)\")\n",
    "        ax_3_1.set_ylabel(\"Frequency (Hz)\")\n",
    "        ax_3_1.legend()\n",
    "        ax_3_1.grid(True)\n",
    "        ax_3_1.set_title(\"Instantaneous frequency\")\n",
    "        \n",
    "        ax_3_2.plot(t_stft, energia_temporal, label=f'W={w * 1000 // fs} ms')\n",
    "        ax_3_2.set_xlabel(\"Time (s)\")\n",
    "        ax_3_2.set_ylabel(\"Energy (V²)\")\n",
    "        ax_3_2.legend()\n",
    "        ax_3_2.grid(True)\n",
    "        ax_3_2.set_title(\"Energy over time\")\n",
    "\n",
    "    #MAE in frequency\n",
    "    print(f'Estimated mean frequency: {np.mean(instant_mean_freq_burst)} Hz')\n",
    "    mae_f, std_f = superlet.calculate_mae(instant_mean_freq_burst, MNF_1)\n",
    "    mae_stft_f.append(mae_f)\n",
    "    std_stft_f.append(std_f)\n",
    "    \n",
    "    #MAE in time\n",
    "    print(f'Estimated onset = {t_onset} s, offset = {t_offset} s')\n",
    "    # estimates_combined = t_offset - t_onset\n",
    "    # print(f'Estimated difference: {estimates_combined} s')\n",
    "    # true_values_combined = t_offset_1 - t_onset_1\n",
    "    # print(f'Real difference: {true_values_combined} s')\n",
    "\n",
    "    mae_t, std_t = superlet.calculate_mae((t_onset,t_offset), (real_t_onset,real_t_offset))\n",
    "    mae_stft_t.append(mae_t)\n",
    "    std_stft_t.append(std_t)\n",
    "    \n",
    "    # Visualization\n",
    "    plt.figure(figsize=(12, 6))\n",
    "\n",
    "    plt.subplot(2, 1, 1)\n",
    "    plt.plot(t_stft, instant_freq)\n",
    "    plt.axvline(t_onset, color='green', linestyle='--', label='t_onset')\n",
    "    plt.axvline(t_offset, color='red', linestyle='--', label='t_offset')\n",
    "    plt.xlabel('Time (s)')\n",
    "    plt.ylabel('Freq (Hz)')\n",
    "    plt.legend()\n",
    "    plt.grid()\n",
    "\n",
    "    plt.tight_layout()\n",
    "    \n",
    "    total_time.append(np.linspace(t_stft[0], t_stft[-1], scalogram_2.shape[1]))\n",
    "    total_freq.append(np.linspace(f[0], f[-1], scalogram_2.shape[0]))\n",
    "\n",
    "res_stft = superlet.compute_avg_response_resolution(total_scalogram_stft, total_time, total_freq, windows_ms, stft=[freqs[0],freqs[-1]])\n",
    "\n",
    "if plot_scalogram:\n",
    "    cbar = fig.colorbar(pcm, ax=ax, orientation='horizontal', pad=0.15, shrink=0.1)\n",
    "    cbar.set_label('Power (V²)', rotation=0, labelpad=15)"
   ],
   "metadata": {
    "collapsed": false,
    "is_executing": true
   },
   "id": "9b73f71dd784aee6"
  },
  {
   "cell_type": "code",
   "execution_count": null,
   "outputs": [],
   "source": [
    "mae_stft_f"
   ],
   "metadata": {
    "collapsed": false,
    "is_executing": true
   },
   "id": "ec44570e8e20a6ce"
  },
  {
   "cell_type": "code",
   "execution_count": null,
   "outputs": [],
   "source": [
    "mae_stft_t"
   ],
   "metadata": {
    "collapsed": false,
    "is_executing": true
   },
   "id": "2488d9d6a646e13a"
  },
  {
   "cell_type": "markdown",
   "source": [
    "# Plot comparison of the same SNR"
   ],
   "metadata": {
    "collapsed": false
   },
   "id": "5d6230be76a25d67"
  },
  {
   "cell_type": "markdown",
   "source": [
    "## MAE IN FREQUENCY"
   ],
   "metadata": {
    "collapsed": false
   },
   "id": "dccf6515ec174065"
  },
  {
   "cell_type": "code",
   "execution_count": null,
   "outputs": [],
   "source": [
    "params_stft = windows_ms\n",
    "\n",
    "# Número de condiciones\n",
    "num_conditions = len(mae_wavelet_f)\n",
    "x = np.arange(num_conditions)  # Posiciones para cada grupo de barras\n",
    "bar_width = 0.25  # Ancho de las barras\n",
    "\n",
    "# Crear el gráfico de barras\n",
    "plt.figure(figsize=(14, 7))\n",
    "\n",
    "# Graficar cada técnica con sus valores y barras de error\n",
    "plt.bar(x - bar_width, mae_stft_f, width=bar_width, yerr=std_stft_f, capsize=5, label='STFT', color='skyblue', alpha=0.7)\n",
    "plt.bar(x, mae_wavelet_f, width=bar_width, yerr=std_wavelet_f, capsize=5, label='Wavelet', color='lightgreen', alpha=0.7)\n",
    "plt.bar(x + bar_width, mae_superlet_f, width=bar_width, yerr=std_superlet_f, capsize=5, label='Superlet', color='salmon', alpha=0.7)\n",
    "\n",
    "# Configuración de etiquetas en el eje x con los parámetros específicos\n",
    "labels = [\n",
    "    f\"W={p_stft} ms\\n\\nc={p_w}\\n\\nc$_1$={p_s[0]}, o: {p_s[1]}-{p_s[2]}\"\n",
    "    for p_w, p_s, p_stft in zip(params_wavelet, zip(*params_superlet), params_stft)\n",
    "]\n",
    "\n",
    "plt.xticks(x, labels, rotation=90, ha='center', fontsize=18)\n",
    "#plt.xlabel('Condiciones y Parámetros')\n",
    "plt.yticks(np.arange(0, 101, 10))\n",
    "\n",
    "plt.ylabel('MAE (Hz)')\n",
    "plt.title('MAE in FREQUENCY (SNR = ' + str(SNR) +')', fontsize=18)\n",
    "plt.ylim(0,100)\n",
    "plt.legend(fontsize=14)\n",
    "plt.grid(True)\n",
    "\n",
    "# Ajustar el layout para mejorar visualización de etiquetas\n",
    "plt.tight_layout()\n",
    "\n",
    "# Mostrar el gráfico\n",
    "plt.show()"
   ],
   "metadata": {
    "collapsed": false,
    "is_executing": true
   },
   "id": "f306e7999d68fc89"
  },
  {
   "cell_type": "markdown",
   "source": [
    "## MAE IN TIME"
   ],
   "metadata": {
    "collapsed": false
   },
   "id": "f2aa0e9ea7b1784"
  },
  {
   "cell_type": "code",
   "execution_count": null,
   "outputs": [],
   "source": [
    "params_stft = windows_ms\n",
    "\n",
    "# Número de condiciones\n",
    "num_conditions = len(mae_wavelet_t)\n",
    "x = np.arange(num_conditions)  # Posiciones para cada grupo de barras\n",
    "bar_width = 0.25  # Ancho de las barras\n",
    "\n",
    "# Crear el gráfico de barras\n",
    "plt.figure(figsize=(14, 7))\n",
    "\n",
    "# Graficar cada técnica con sus valores y barras de error\n",
    "plt.bar(x - bar_width, mae_stft_t, width=bar_width, yerr=std_stft_t, capsize=5, label='STFT', color='skyblue', alpha=0.7)\n",
    "plt.bar(x, mae_wavelet_t, width=bar_width, yerr=std_wavelet_t, capsize=5, label='Wavelet', color='lightgreen', alpha=0.7)\n",
    "plt.bar(x + bar_width, mae_superlet_t, width=bar_width, yerr=std_superlet_t, capsize=5, label='Superlet', color='salmon', alpha=0.7)\n",
    "\n",
    "# Configuración de etiquetas en el eje x con los parámetros específicos\n",
    "labels = [\n",
    "    f\"W={p_stft} ms\\n\\nc={p_w}\\n\\nc$_1$={p_s[0]}, o: {p_s[1]}-{p_s[2]}\"\n",
    "    for p_w, p_s, p_stft in zip(params_wavelet, zip(*params_superlet), params_stft)\n",
    "]\n",
    "\n",
    "plt.xticks(x, labels, rotation=90, ha='center', fontsize=18)\n",
    "#plt.xlabel('Condiciones y Parámetros')\n",
    "plt.yticks(np.arange(0, 0.21, 0.1))\n",
    "\n",
    "plt.ylabel('MAE (s)')\n",
    "plt.title('MAE in TIME (SNR = ' + str(SNR) +')', fontsize=18)\n",
    "plt.ylim(0,0.2)\n",
    "plt.legend(fontsize=14)\n",
    "plt.grid(True)\n",
    "\n",
    "# Ajustar el layout para mejorar visualización de etiquetas\n",
    "plt.tight_layout()\n",
    "\n",
    "# Mostrar el gráfico\n",
    "plt.show()"
   ],
   "metadata": {
    "collapsed": false,
    "is_executing": true
   },
   "id": "a378fe28121c3ca6"
  },
  {
   "cell_type": "markdown",
   "source": [
    "# COMPUTE RESOLUTION"
   ],
   "metadata": {
    "collapsed": false
   },
   "id": "ed001fc05f7f8b88"
  },
  {
   "cell_type": "code",
   "execution_count": null,
   "outputs": [],
   "source": [
    "rayleigh_limit = 1 / (4 * np.pi)\n",
    "\n",
    "# Etiquetas para los grupos de parámetros con salto de línea adicional\n",
    "labels = [\n",
    "    f\"W={p_stft} ms\\nc={p_wavelet}\\nc$_1$={p_superlet[0]}, o={p_superlet[1]}-{p_superlet[2]}\"\n",
    "    for p_wavelet, p_superlet, p_stft in zip(params_wavelet, zip(*params_superlet), params_stft)\n",
    "]\n",
    "\n",
    "x = np.arange(1,len(params_wavelet)+1)\n",
    "\n",
    "plt.figure(figsize=(12, 8))\n",
    "\n",
    "# Primer gráfico (Frecuencia)\n",
    "plt.subplot(2, 1, 1)\n",
    "plt.plot(x, [r[1] for r in res_wavelet], 'go-', label=\"Wavelet (Frequency)\")\n",
    "plt.plot(x, [r[1] for r in res_stft], 'bo-', label=\"STFT (Frequency)\")\n",
    "plt.plot(x, [r[1] for r in res_superlet], 'ro-', label=\"Superlet (Frequency)\")\n",
    "plt.axhline(rayleigh_limit, color='k', linestyle='--', label=\"Rayleigh Limit\")\n",
    "plt.xlabel(\"Window Size / Cycles / Order\")\n",
    "plt.ylabel(\"Frequency Resolution (Hz)\")\n",
    "plt.legend()\n",
    "\n",
    "# Segundo gráfico (Tiempo)\n",
    "plt.subplot(2, 1, 2)\n",
    "plt.plot(x, [r[0] for r in res_wavelet], 'go-', label=\"Wavelet (Time)\")\n",
    "plt.plot(x, [r[0] for r in res_stft], 'bo-', label=\"STFT (Time)\")\n",
    "plt.plot(x, [r[0] for r in res_superlet], 'ro-', label=\"Superlet (Time)\")\n",
    "#plt.axhline(1 / MNF_1[0], color='k', linestyle='--', label=\"Temporal Limit\")\n",
    "plt.xlabel(\"Window Size / Cycles / Order\")\n",
    "plt.ylabel(\"Time Resolution (s)\")\n",
    "plt.legend()\n",
    "\n",
    "# Ajuste de los xticks para ambos subgráficos\n",
    "for ax in plt.gcf().get_axes():\n",
    "    ax.set_xticks(x)  # Establecer los valores de los ticks\n",
    "    ax.set_xticklabels(labels, rotation=90, ha='center', fontsize=10)  # Establecer las etiquetas con el formato deseado\n",
    "\n",
    "# Ajustar el diseño\n",
    "plt.tight_layout()\n",
    "plt.show()"
   ],
   "metadata": {
    "collapsed": false,
    "is_executing": true
   },
   "id": "cce73be90e9cd69b"
  },
  {
   "cell_type": "code",
   "execution_count": null,
   "outputs": [],
   "source": [
    "MAES_f"
   ],
   "metadata": {
    "collapsed": false,
    "is_executing": true
   },
   "id": "7fbe8c31ce046036"
  },
  {
   "cell_type": "code",
   "execution_count": null,
   "outputs": [],
   "source": [
    "MAES_f['wavelet'].append(mae_wavelet_f)\n",
    "MAES_f['stft'].append(mae_stft_f)\n",
    "MAES_f['superlet'].append(mae_superlet_f)\n",
    "MAES_f['std_wavelet'].append(std_wavelet_f)\n",
    "MAES_f['std_stft'].append(std_stft_f)\n",
    "MAES_f['std_superlet'].append(std_superlet_f)"
   ],
   "metadata": {
    "collapsed": false,
    "is_executing": true
   },
   "id": "889434f58dd311e1"
  },
  {
   "cell_type": "code",
   "execution_count": null,
   "outputs": [],
   "source": [
    "MAES_t"
   ],
   "metadata": {
    "collapsed": false,
    "is_executing": true
   },
   "id": "2d5914055ca306e5"
  },
  {
   "cell_type": "code",
   "execution_count": null,
   "outputs": [],
   "source": [
    "MAES_t['wavelet'].append(mae_wavelet_t)\n",
    "MAES_t['stft'].append(mae_stft_t)\n",
    "MAES_t['superlet'].append(mae_superlet_t)\n",
    "MAES_t['std_wavelet'].append(std_wavelet_t)\n",
    "MAES_t['std_stft'].append(std_stft_t)\n",
    "MAES_t['std_superlet'].append(std_superlet_t)"
   ],
   "metadata": {
    "collapsed": false,
    "is_executing": true
   },
   "id": "5e2c77954a7411e5"
  },
  {
   "cell_type": "markdown",
   "source": [
    "# WE REPEAT EVERYTHING WITH DIFFERENT SNR"
   ],
   "metadata": {
    "collapsed": false
   },
   "id": "27aa0299f9b2345"
  },
  {
   "cell_type": "code",
   "execution_count": null,
   "outputs": [],
   "source": [
    "if os.path.exists(filename):\n",
    "    burst_signal = np.load(filename) + base_signal\n",
    "else:\n",
    "    #burst_signal = np.random.normal(0, 0.08, len(t))\n",
    "    burst_signal = np.array([0.00001] * len(t))\n",
    "    burst_signal[int(burst_start * fs):int(burst_start * fs + len(burst))] += burst\n",
    "    #np.save('/Users/neuralrehabilitationgroup/PycharmProjects/Superlets-Marina/RESULTS/signal_burst_1.npy', burst_signal)\n",
    "\n",
    "plt.plot(noise)\n",
    "plt.figure()\n",
    "plt.plot(burst_signal)"
   ],
   "metadata": {
    "collapsed": false,
    "is_executing": true
   },
   "id": "a8321709ff39fba5"
  },
  {
   "cell_type": "code",
   "execution_count": null,
   "outputs": [],
   "source": [
    "SNR = 100\n",
    "# if 'SNR' not in globals():\n",
    "#     SNR = \"Inf\"\n",
    "signal_3 = burst_signal\n",
    "signal_3, xn = superlet.add_noise(burst_signal, SNR, fs, plot = True)\n",
    "#signal_2 = superlet.add_wgn_to_sig(burst_signal, noise, SNR)\n",
    "snr_real = calcular_snr(signal_3, xn)"
   ],
   "metadata": {
    "collapsed": false,
    "is_executing": true
   },
   "id": "b5cad38380fbb7a5"
  },
  {
   "cell_type": "code",
   "execution_count": null,
   "outputs": [],
   "source": [
    "snr_real"
   ],
   "metadata": {
    "collapsed": false,
    "is_executing": true
   },
   "id": "2be43cfeb08b3e80"
  },
  {
   "cell_type": "code",
   "execution_count": null,
   "outputs": [],
   "source": [
    "plt.plot(signal_1)\n",
    "plt.plot(signal_2)\n",
    "plt.plot(signal_3)"
   ],
   "metadata": {
    "collapsed": false,
    "is_executing": true
   },
   "id": "e0fbda6b6e037816"
  },
  {
   "cell_type": "code",
   "execution_count": null,
   "outputs": [],
   "source": [
    "fig, ax = plt.subplots(figsize=(15, 2), dpi=300)\n",
    "ax.set_xlabel(\"Time (s)\")\n",
    "ax.plot(jnp.linspace(0, len(signal_2) / fs, len(signal_2)), signal_2)\n",
    "print(f\"Reference mean frequency: {MNF_1} Hz\")\n",
    "plt.plot(t, signal_2)"
   ],
   "metadata": {
    "collapsed": false,
    "is_executing": true
   },
   "id": "acb5da5e28cfbee7"
  },
  {
   "cell_type": "markdown",
   "source": [
    "# WAVELET PARAMETERS = 3, 16, 33, 55, 60 115 cycles"
   ],
   "metadata": {
    "collapsed": false
   },
   "id": "afa9c75700c29f6d"
  },
  {
   "cell_type": "code",
   "execution_count": null,
   "outputs": [],
   "source": [
    "plot_scalogram = False"
   ],
   "metadata": {
    "collapsed": false,
    "is_executing": true
   },
   "id": "c701f7734e1aabc4"
  },
  {
   "cell_type": "code",
   "execution_count": null,
   "outputs": [],
   "source": [
    "if plot_scalogram:\n",
    "    fig, ax = plt.subplots(ncols=len(params_wavelet), figsize=(18,5), dpi=300, sharey=True, sharex=True)\n",
    "if plot_imnf:\n",
    "    fig_2, ax_2 = plt.subplots(ncols=len(params_wavelet), figsize=(18, 5), dpi=300)\n",
    "if plot_response:\n",
    "    fig_3, (ax_3_1, ax_3_2) = plt.subplots(1, 2, figsize=(12, 5))  \n",
    "\n",
    "mae_wavelet_f = []\n",
    "std_wavelet_f = []\n",
    "\n",
    "mae_wavelet_t = []\n",
    "std_wavelet_t = []\n",
    "\n",
    "total_time = []\n",
    "total_freq = []\n",
    "\n",
    "total_scalogram_wavelet = []\n",
    "res_wavelet = []\n",
    "\n",
    "for i, c in enumerate(params_wavelet):\n",
    "    wavelet = f'cmor{c}-1.0'\n",
    "    \n",
    "    cwtmatr, f, physical_freqs = morlet.wavelet_transform_2(signal_2,wavelet,freqs,fs)\n",
    "    cwtmatr = np.abs(cwtmatr[:,:])\n",
    "    \n",
    "    scalogram_2 = np.array(jnp.abs(cwtmatr)**2)\n",
    "    \n",
    "    if plot_scalogram:\n",
    "        pcm = ax[i].pcolormesh(t,f, scalogram_2, shading='gouraud', cmap='jet')\n",
    "        \n",
    "        ax[i].set_title(f'c={c}')\n",
    "        if i == 0:\n",
    "            ax[i].set_ylabel('Frequency (Hz)')\n",
    "        else:\n",
    "            ax[i].set_ylabel('')  # Eliminar la etiqueta del eje Y en los demás subplots\n",
    "    \n",
    "        ax[i].set_xlabel('Time (s)')\n",
    "        ax[i].set_ylim(f[0], f[-1])\n",
    "        \n",
    "    total_scalogram_wavelet.append(scalogram_2)\n",
    "    instant_freq = np.sum(scalogram_2 * f[:, np.newaxis], axis=0) / np.sum(scalogram_2, axis=0)\n",
    "    \n",
    "    energia_temporal = np.sum(scalogram_2, axis=0)\n",
    "    \n",
    "    first_index, last_index = superlet.find_plateau_region(energia_temporal, burst_start, burst_duration, t, fs, smooth_sigma=smooth_sigma)\n",
    "    \n",
    "    t_onset = t[first_index]\n",
    "    t_offset = t[last_index]\n",
    "    \n",
    "    instant_mean_freq_burst = instant_freq[start_idx:end_idx]\n",
    "    \n",
    "    if plot_imnf:\n",
    "        ax_2[i].plot(t, instant_freq)\n",
    "    \n",
    "        ax_2[i].set_xlabel(\"Time (s)\")\n",
    "        ax_2[i].set_ylabel(\"Frequency (Hz)\")\n",
    "        #ax_2[i].set_xlim(t[0], t[-1])\n",
    "        plt.title(\"Instantaneous frequency\")\n",
    "        ax_2[i].grid(True)\n",
    "\n",
    "    if plot_response:\n",
    "        ax_3_1.plot(t, instant_freq, label=f\"c={c}\")\n",
    "        ax_3_1.set_xlabel(\"Time (s)\")\n",
    "        ax_3_1.set_ylabel(\"Frequency (Hz)\")\n",
    "        ax_3_1.legend()\n",
    "        ax_3_1.grid(True)\n",
    "        ax_3_1.set_title(\"Instantaneous frequency\")\n",
    "        \n",
    "        ax_3_2.plot(t, energia_temporal, label=f\"c={c}\")\n",
    "        ax_3_2.set_xlabel(\"Time (s)\")\n",
    "        ax_3_2.set_ylabel(\"Energy (V²)\")\n",
    "        ax_3_2.legend()\n",
    "        ax_3_2.grid(True)\n",
    "        ax_3_2.set_title(\"Energy over time\")\n",
    "        \n",
    "    #MAE in frequency\n",
    "    print(f'Estimated mean frequency: {np.mean(instant_mean_freq_burst)} Hz')\n",
    "    mae_f, std_f = superlet.calculate_mae(instant_mean_freq_burst, MNF_1)\n",
    "    mae_wavelet_f.append(mae_f)\n",
    "    std_wavelet_f.append(std_f)\n",
    "    \n",
    "    #MAE in time\n",
    "    print(f'Estimated onset = {t_onset} s, offset = {t_offset} s')\n",
    "    mae_t, std_t = superlet.calculate_mae((t_onset,t_offset), (real_t_onset,real_t_offset))\n",
    "    mae_wavelet_t.append(mae_t)\n",
    "    std_wavelet_t.append(std_t)\n",
    "    \n",
    "    # Visualization\n",
    "    plt.figure(figsize=(8, 5))\n",
    "\n",
    "    plt.subplot(2, 1, 1)\n",
    "    plt.plot(t, instant_freq)\n",
    "    #plt.plot(t, media_movil)\n",
    "    plt.axvline(t_onset, color='green', linestyle='--', label='t_onset')\n",
    "    plt.axvline(t_offset, color='red', linestyle='--', label='t_offset')\n",
    "    plt.xlabel('Time (s)')\n",
    "    plt.ylabel('Freq (Hz)')\n",
    "    plt.legend()\n",
    "    plt.grid()\n",
    "\n",
    "    plt.tight_layout()\n",
    "    \n",
    "    time = np.arange(scalogram_2.shape[1]) / fs\n",
    "\n",
    "    total_time.append(time)\n",
    "    total_freq.append(freqs)\n",
    "    \n",
    "res_wavelet = superlet.compute_avg_response_resolution(total_scalogram_wavelet, total_time, total_freq, params_wavelet)\n",
    "\n",
    "if plot_scalogram:\n",
    "    cbar = fig.colorbar(pcm, ax=ax, orientation='horizontal', pad=0.15, shrink=0.1)\n",
    "    cbar.set_label('Power (V²)', rotation=0, labelpad=15)"
   ],
   "metadata": {
    "collapsed": false,
    "is_executing": true
   },
   "id": "bd7524d660795c91"
  },
  {
   "cell_type": "code",
   "execution_count": null,
   "outputs": [],
   "source": [
    "mae_wavelet_f"
   ],
   "metadata": {
    "collapsed": false,
    "is_executing": true
   },
   "id": "bf4ad2be16e73e7"
  },
  {
   "cell_type": "code",
   "execution_count": null,
   "outputs": [],
   "source": [
    "mae_wavelet_t"
   ],
   "metadata": {
    "collapsed": false,
    "is_executing": true
   },
   "id": "e5a7ecf61d92a958"
  },
  {
   "cell_type": "markdown",
   "source": [
    "## PARÁMETROS SUPERLET: base_cycle, min_order, max_order = [3, 5, 1, 1, 1, 1], [1, 1, 5, 10, 20, 30], [30, 30, 40, 100, 100, 200]"
   ],
   "metadata": {
    "collapsed": false
   },
   "id": "3c6cc98469be3d99"
  },
  {
   "cell_type": "code",
   "execution_count": null,
   "outputs": [],
   "source": [
    "if plot_scalogram:\n",
    "    fig, ax = plt.subplots(ncols=len(params_wavelet), figsize=(18,5), dpi=300, sharey=True, sharex=True)\n",
    "if plot_imnf:\n",
    "    fig_2, ax_2 = plt.subplots(ncols=len(params_wavelet), figsize=(18, 5), dpi=300)\n",
    "if plot_response:\n",
    "    fig_3, (ax_3_1, ax_3_2) = plt.subplots(1, 2, figsize=(12, 5))  \n",
    "\n",
    "mae_superlet_f = []\n",
    "std_superlet_f = []\n",
    "\n",
    "mae_superlet_t = []\n",
    "std_superlet_t = []\n",
    "\n",
    "total_time = []\n",
    "total_freq = []\n",
    "\n",
    "total_scalogram_superlet = []\n",
    "\n",
    "for (i, (base_cycle, min_order, max_order)) in enumerate(zip(*params_superlet)):\n",
    "\n",
    "    wv, scalogram = superlet.adaptive_superlet_transform(signal_2, freqs, sampling_freq=fs,\n",
    "                                                         base_cycle=base_cycle, min_order=min_order,\n",
    "                                                         max_order=max_order, mode=\"mul\")\n",
    "    \n",
    "    if plot_scalogram:\n",
    "        im = ax[i].imshow(jnp.abs(scalogram) ** 2, aspect='auto', cmap=\"jet\", interpolation=\"none\", origin=\"lower\",extent=[0, len(signal_1) / fs, freqs[0], freqs[-1]])\n",
    "        ax[i].set_title(f\"$c_1$: {base_cycle}, o: {min_order}-{max_order}\")\n",
    "        ax[i].set_xlabel(\"Time (s)\")\n",
    "        if i == 0:\n",
    "            ax[i].set_ylabel(\"Frequency (Hz)\")\n",
    "        else:\n",
    "            ax[i].set_ylabel(\"\")\n",
    "        ax[i].set_ylim(freqs[0], freqs[-1])\n",
    "\n",
    "    scalogram_2 = np.abs(scalogram) ** 2\n",
    "\n",
    "    total_scalogram_superlet.append(scalogram_2)\n",
    "    \n",
    "    instant_freq = np.sum(scalogram_2 * freqs[:, np.newaxis], axis=0) / np.sum(scalogram_2, axis=0)\n",
    "    if plot_means:\n",
    "        plt.figure()\n",
    "        plt.plot(instant_freq)\n",
    "        plt.title('Frecuencia instantánea')\n",
    "        \n",
    "    energia_temporal = np.sum(scalogram_2, axis=0)\n",
    "        \n",
    "    first_index, last_index = superlet.find_plateau_region(energia_temporal, burst_start, burst_duration, t, fs, smooth_sigma=smooth_sigma)\n",
    "    \n",
    "    t_onset = t[first_index]\n",
    "    t_offset = t[last_index]\n",
    "    \n",
    "    instant_mean_freq_burst = instant_freq[start_idx:end_idx]\n",
    "    \n",
    "    if plot_imnf:\n",
    "        ax_2[i].plot(t, instant_freq)\n",
    "\n",
    "        ax_2[i].set_xlabel(\"Time (s)\")\n",
    "        ax_2[i].set_ylabel(\"Frequency (Hz)\")\n",
    "        ax_2[i].set_title(\"Instantaneous frequency\")\n",
    "        ax_2[i].grid(True)\n",
    "\n",
    "    if plot_response:\n",
    "        ax_3_1.plot(t, instant_freq, label=f\"$c_1$: {base_cycle}, o: {min_order}-{max_order}\")\n",
    "        ax_3_1.set_xlabel(\"Time (s)\")\n",
    "        ax_3_1.set_ylabel(\"Frequency (Hz)\")\n",
    "        ax_3_1.legend()\n",
    "        ax_3_1.grid(True)\n",
    "        ax_3_1.set_title(\"Instantaneous frequency\")\n",
    "        \n",
    "        ax_3_2.plot(t, energia_temporal, label=f\"$c_1$: {base_cycle}, o: {min_order}-{max_order}\")\n",
    "        ax_3_2.set_xlabel(\"Time (s)\")\n",
    "        ax_3_2.set_ylabel(\"Energy (V²)\")\n",
    "        ax_3_2.legend()\n",
    "        ax_3_2.grid(True)\n",
    "        ax_3_2.set_title(\"Energy over time\")\n",
    "    \n",
    "    #MAE in frequency\n",
    "    print(f'Estimated mean frequency: {np.mean(instant_mean_freq_burst)} Hz')\n",
    "    mae_f, std_f = superlet.calculate_mae(instant_mean_freq_burst, MNF_1)\n",
    "    mae_superlet_f.append(mae_f)\n",
    "    std_superlet_f.append(std_f)\n",
    "    \n",
    "    #MAE in time\n",
    "    print(f'Estimated onset = {t_onset} s, offset = {t_offset} s')\n",
    "    # estimates_combined = t_offset - t_onset\n",
    "    # print(f'Estimated difference: {estimates_combined} s')\n",
    "    # true_values_combined = t_offset_1 - t_onset_1\n",
    "    # print(f'Real difference: {true_values_combined} s')\n",
    "\n",
    "    mae_t, std_t = superlet.calculate_mae((t_onset,t_offset), (real_t_onset,real_t_offset))\n",
    "    mae_superlet_t.append(mae_t)\n",
    "    std_superlet_t.append(std_t)\n",
    "    \n",
    "    # Visualization\n",
    "    plt.figure(figsize=(12, 6))\n",
    "\n",
    "    plt.subplot(2, 1, 1)\n",
    "    plt.plot(t, instant_freq)\n",
    "    plt.axvline(t_onset, color='green', linestyle='--', label='t_onset')\n",
    "    plt.axvline(t_offset, color='red', linestyle='--', label='t_offset')\n",
    "    plt.xlabel('Time (s)')\n",
    "    plt.ylabel('Freq (Hz)')\n",
    "    plt.legend()\n",
    "    plt.grid()\n",
    "    \n",
    "    time = np.arange(scalogram_2.shape[1]) / fs\n",
    "\n",
    "    total_time.append(time)\n",
    "    total_freq.append(freqs)\n",
    "\n",
    "    total_time.append(t)\n",
    "    total_freq.append(freqs)\n",
    "\n",
    "res_superlet = superlet.compute_avg_response_resolution(total_scalogram_superlet, total_time, total_freq, [f'$c_1$={c3}, o:{c1}-{c2}' for c1, c2, c3 in zip(*params_superlet)])\n",
    "\n",
    "if plot_scalogram:\n",
    "    cbar = fig.colorbar(im, ax=ax, orientation='horizontal', pad=0.15, shrink=0.1)\n",
    "    cbar.set_label('Power (V²)', rotation=0, labelpad=15)\n"
   ],
   "metadata": {
    "collapsed": false,
    "is_executing": true
   },
   "id": "f0aac74ac04ef866"
  },
  {
   "cell_type": "code",
   "execution_count": null,
   "outputs": [],
   "source": [
    "mae_superlet_f"
   ],
   "metadata": {
    "collapsed": false,
    "is_executing": true
   },
   "id": "80765c8f73ed4875"
  },
  {
   "cell_type": "code",
   "execution_count": null,
   "outputs": [],
   "source": [
    "mae_superlet_t"
   ],
   "metadata": {
    "collapsed": false,
    "is_executing": true
   },
   "id": "c182cfa8f754171b"
  },
  {
   "cell_type": "markdown",
   "source": [
    "## STFT PARAMETERS (window = duration/cycles) = 38, 200, 413, 550, 600, 824 ms"
   ],
   "metadata": {
    "collapsed": false
   },
   "id": "e4b0b37a1c55519a"
  },
  {
   "cell_type": "code",
   "execution_count": null,
   "outputs": [],
   "source": [
    "if plot_scalogram:\n",
    "    fig, ax = plt.subplots(ncols=len(params_wavelet), figsize=(18,5), dpi=300, sharey=True, sharex=True)\n",
    "if plot_imnf:\n",
    "    fig_2, ax_2 = plt.subplots(ncols=len(params_wavelet), figsize=(18, 5), dpi=300)\n",
    "if plot_response:\n",
    "    fig_3, (ax_3_1, ax_3_2) = plt.subplots(1, 2, figsize=(12, 5))  \n",
    "\n",
    "mae_stft_f = []\n",
    "std_stft_f = []\n",
    "\n",
    "mae_stft_t = []\n",
    "std_stft_t = []\n",
    "\n",
    "total_time = []\n",
    "total_freq = []\n",
    "\n",
    "res_stft = []\n",
    "total_scalogram_stft = []\n",
    "\n",
    "for i, w in enumerate(windows_ms):\n",
    "    # Calcular la ventana Blackman\n",
    "    window = windows.blackman(w)\n",
    "    \n",
    "    # Hacer que la f de la stft tenga el mismo tamaño que las demás\n",
    "    nfft = 2 * (len(freqs))\n",
    "\n",
    "    f, t_stft, Zxx = stft(signal_2, fs=fs, window='blackman', nperseg=w, noverlap=w-1, nfft=nfft, detrend=False, return_onesided=True, boundary='zeros', padded=True, axis=-1, scaling='spectrum')\n",
    "\n",
    "    # Calcular la representación de potencia (magnitud al cuadrado)\n",
    "    Zxx_power = np.abs(Zxx) ** 2\n",
    "    \n",
    "    if plot_scalogram:\n",
    "        pcm = ax[i].pcolormesh(t_stft, f, Zxx_power, shading='gouraud', cmap='jet')\n",
    "        \n",
    "        ax[i].set_title(f'W={w * 1000 // fs} ms')\n",
    "        if i == 0:\n",
    "            ax[i].set_ylabel('Frecuencia [Hz]')\n",
    "        else: \n",
    "            ax[i].set_ylabel('')\n",
    "        ax[i].set_xlabel('Time [s]')\n",
    "\n",
    "        ax[i].set_ylim(f[0], f[-1])\n",
    "    \n",
    "    \n",
    "    scalogram_2 = Zxx_power\n",
    "    \n",
    "    #if np.any(np.isnan(jnp.abs(Zxx)**2)) or np.any(np.isinf(jnp.abs(Zxx)**2)):\n",
    "    #scalogram_2 = jnp.nan_to_num(jnp.abs(Zxx)**2, nan=0.0, posinf=0.0, neginf=0.0)\n",
    "    \n",
    "    total_scalogram_stft.append(scalogram_2)\n",
    "    \n",
    "    # Para evitar la división por cero\n",
    "    denominador = np.sum(scalogram_2, axis=0)\n",
    "    # denominador = np.where(denominador == 0, 1e-10, denominador)\n",
    "    instant_freq = np.sum(scalogram_2 * f[:, np.newaxis], axis=0) / denominador\n",
    "    \n",
    "    energia_temporal = np.sum(scalogram_2, axis=0)\n",
    "    \n",
    "    first_index, last_index = superlet.find_plateau_region(energia_temporal, burst_start, burst_duration, t, fs, smooth_sigma=smooth_sigma)\n",
    "    \n",
    "    t_onset = t[first_index]\n",
    "    t_offset = t[last_index]\n",
    "\n",
    "    instant_mean_freq_burst = instant_freq[start_idx:end_idx]\n",
    "\n",
    "    if plot_imnf:\n",
    "        ax_2[i].plot(t_stft, instant_freq)\n",
    "\n",
    "        ax_2[i].set_xlabel(\"Time (s)\")\n",
    "        ax_2[i].set_ylabel(\"Frequency (Hz)\")\n",
    "        plt.title(\"Instantaneous frequency\")\n",
    "        ax_2[i].grid(True)\n",
    "\n",
    "    if plot_response:\n",
    "        ax_3_1.plot(t_stft, instant_freq, label=f'W={w * 1000 // fs} ms')\n",
    "        ax_3_1.set_xlabel(\"Time (s)\")\n",
    "        ax_3_1.set_ylabel(\"Frequency (Hz)\")\n",
    "        ax_3_1.legend()\n",
    "        ax_3_1.grid(True)\n",
    "        ax_3_1.set_title(\"Instantaneous frequency\")\n",
    "        \n",
    "        ax_3_2.plot(t_stft, energia_temporal, label=f'W={w * 1000 // fs} ms')\n",
    "        ax_3_2.set_xlabel(\"Time (s)\")\n",
    "        ax_3_2.set_ylabel(\"Energy (V²)\")\n",
    "        ax_3_2.legend()\n",
    "        ax_3_2.grid(True)\n",
    "        ax_3_2.set_title(\"Energy over time\")\n",
    "\n",
    "    #MAE in frequency\n",
    "    print(f'Estimated mean frequency: {np.mean(instant_mean_freq_burst)} Hz')\n",
    "    mae_f, std_f = superlet.calculate_mae(instant_mean_freq_burst, MNF_1)\n",
    "    mae_stft_f.append(mae_f)\n",
    "    std_stft_f.append(std_f)\n",
    "    \n",
    "    #MAE in time\n",
    "    print(f'Estimated onset = {t_onset} s, offset = {t_offset} s')\n",
    "    # estimates_combined = t_offset - t_onset\n",
    "    # print(f'Estimated difference: {estimates_combined} s')\n",
    "    # true_values_combined = t_offset_1 - t_onset_1\n",
    "    # print(f'Real difference: {true_values_combined} s')\n",
    "\n",
    "    mae_t, std_t = superlet.calculate_mae((t_onset,t_offset), (real_t_onset,real_t_offset))\n",
    "    mae_stft_t.append(mae_t)\n",
    "    std_stft_t.append(std_t)\n",
    "    \n",
    "    # Visualization\n",
    "    plt.figure(figsize=(12, 6))\n",
    "\n",
    "    plt.subplot(2, 1, 1)\n",
    "    plt.plot(t_stft, instant_freq)\n",
    "    plt.axvline(t_onset, color='green', linestyle='--', label='t_onset')\n",
    "    plt.axvline(t_offset, color='red', linestyle='--', label='t_offset')\n",
    "    plt.xlabel('Time (s)')\n",
    "    plt.ylabel('Freq (Hz)')\n",
    "    plt.legend()\n",
    "    plt.grid()\n",
    "\n",
    "    plt.tight_layout()\n",
    "    \n",
    "    total_time.append(np.linspace(t_stft[0], t_stft[-1], scalogram_2.shape[1]))\n",
    "    total_freq.append(np.linspace(f[0], f[-1], scalogram_2.shape[0]))\n",
    "\n",
    "res_stft = superlet.compute_avg_response_resolution(total_scalogram_stft, total_time, total_freq, windows_ms, stft=[freqs[0],freqs[-1]])\n",
    "\n",
    "if plot_scalogram:\n",
    "    cbar = fig.colorbar(pcm, ax=ax, orientation='horizontal', pad=0.15, shrink=0.1)\n",
    "    cbar.set_label('Power (V²)', rotation=0, labelpad=15)"
   ],
   "metadata": {
    "collapsed": false,
    "is_executing": true
   },
   "id": "bc1668157af92e85"
  },
  {
   "cell_type": "code",
   "execution_count": null,
   "outputs": [],
   "source": [
    "mae_stft_f"
   ],
   "metadata": {
    "collapsed": false,
    "is_executing": true
   },
   "id": "2183cf6e21943467"
  },
  {
   "cell_type": "code",
   "execution_count": null,
   "outputs": [],
   "source": [
    "mae_stft_t"
   ],
   "metadata": {
    "collapsed": false,
    "is_executing": true
   },
   "id": "4321577032a786c8"
  },
  {
   "cell_type": "markdown",
   "source": [
    "# Plot comparison of the same SNR"
   ],
   "metadata": {
    "collapsed": false
   },
   "id": "8fcd730e29cfe8dd"
  },
  {
   "cell_type": "markdown",
   "source": [
    "## MAE IN FREQUENCY"
   ],
   "metadata": {
    "collapsed": false
   },
   "id": "f650efdff6d2d94e"
  },
  {
   "cell_type": "code",
   "execution_count": null,
   "outputs": [],
   "source": [
    "params_stft = windows_ms\n",
    "\n",
    "# Número de condiciones\n",
    "num_conditions = len(mae_wavelet_f)\n",
    "x = np.arange(num_conditions)  # Posiciones para cada grupo de barras\n",
    "bar_width = 0.25  # Ancho de las barras\n",
    "\n",
    "# Crear el gráfico de barras\n",
    "plt.figure(figsize=(14, 7))\n",
    "\n",
    "# Graficar cada técnica con sus valores y barras de error\n",
    "plt.bar(x - bar_width, mae_stft_f, width=bar_width, yerr=std_stft_f, capsize=5, label='STFT', color='skyblue', alpha=0.7)\n",
    "plt.bar(x, mae_wavelet_f, width=bar_width, yerr=std_wavelet_f, capsize=5, label='Wavelet', color='lightgreen', alpha=0.7)\n",
    "plt.bar(x + bar_width, mae_superlet_f, width=bar_width, yerr=std_superlet_f, capsize=5, label='Superlet', color='salmon', alpha=0.7)\n",
    "\n",
    "# Configuración de etiquetas en el eje x con los parámetros específicos\n",
    "labels = [\n",
    "    f\"W={p_stft} ms\\n\\nc={p_w}\\n\\nc$_1$={p_s[0]}, o: {p_s[1]}-{p_s[2]}\"\n",
    "    for p_w, p_s, p_stft in zip(params_wavelet, zip(*params_superlet), params_stft)\n",
    "]\n",
    "\n",
    "plt.xticks(x, labels, rotation=90, ha='center', fontsize=18)\n",
    "#plt.xlabel('Condiciones y Parámetros')\n",
    "plt.yticks(np.arange(0, 101, 10))\n",
    "\n",
    "plt.ylabel('MAE (Hz)')\n",
    "plt.title('MAE in FREQUENCY (SNR = ' + str(SNR) +')', fontsize=18)\n",
    "plt.ylim(0,100)\n",
    "plt.legend(fontsize=14)\n",
    "plt.grid(True)\n",
    "\n",
    "# Ajustar el layout para mejorar visualización de etiquetas\n",
    "plt.tight_layout()\n",
    "\n",
    "# Mostrar el gráfico\n",
    "plt.show()"
   ],
   "metadata": {
    "collapsed": false,
    "is_executing": true
   },
   "id": "dcbd5bcef01ec83b"
  },
  {
   "cell_type": "markdown",
   "source": [
    "## MAE IN TIME"
   ],
   "metadata": {
    "collapsed": false
   },
   "id": "47a9a259ff0fdbf7"
  },
  {
   "cell_type": "code",
   "execution_count": null,
   "outputs": [],
   "source": [
    "params_stft = windows_ms\n",
    "\n",
    "# Número de condiciones\n",
    "num_conditions = len(mae_wavelet_t)\n",
    "x = np.arange(num_conditions)  # Posiciones para cada grupo de barras\n",
    "bar_width = 0.25  # Ancho de las barras\n",
    "\n",
    "# Crear el gráfico de barras\n",
    "plt.figure(figsize=(14, 7))\n",
    "\n",
    "# Graficar cada técnica con sus valores y barras de error\n",
    "plt.bar(x - bar_width, mae_stft_t, width=bar_width, yerr=std_stft_t, capsize=5, label='STFT', color='skyblue', alpha=0.7)\n",
    "plt.bar(x, mae_wavelet_t, width=bar_width, yerr=std_wavelet_t, capsize=5, label='Wavelet', color='lightgreen', alpha=0.7)\n",
    "plt.bar(x + bar_width, mae_superlet_t, width=bar_width, yerr=std_superlet_t, capsize=5, label='Superlet', color='salmon', alpha=0.7)\n",
    "\n",
    "# Configuración de etiquetas en el eje x con los parámetros específicos\n",
    "labels = [\n",
    "    f\"W={p_stft} ms\\n\\nc={p_w}\\n\\nc$_1$={p_s[0]}, o: {p_s[1]}-{p_s[2]}\"\n",
    "    for p_w, p_s, p_stft in zip(params_wavelet, zip(*params_superlet), params_stft)\n",
    "]\n",
    "\n",
    "plt.xticks(x, labels, rotation=90, ha='center', fontsize=18)\n",
    "#plt.xlabel('Condiciones y Parámetros')\n",
    "plt.yticks(np.arange(0, 0.21, 0.1))\n",
    "\n",
    "plt.ylabel('MAE (s)')\n",
    "plt.title('MAE in TIME (SNR = ' + str(SNR) +')', fontsize=18)\n",
    "plt.ylim(0,0.2)\n",
    "plt.legend(fontsize=14)\n",
    "plt.grid(True)\n",
    "\n",
    "# Ajustar el layout para mejorar visualización de etiquetas\n",
    "plt.tight_layout()\n",
    "\n",
    "# Mostrar el gráfico\n",
    "plt.show()"
   ],
   "metadata": {
    "collapsed": false,
    "is_executing": true
   },
   "id": "9c59b69bb68a231"
  },
  {
   "cell_type": "markdown",
   "source": [
    "# COMPUTE RESOLUTION"
   ],
   "metadata": {
    "collapsed": false
   },
   "id": "cb5a38e478a1d40b"
  },
  {
   "cell_type": "code",
   "execution_count": null,
   "outputs": [],
   "source": [
    "rayleigh_limit = 1 / (4 * np.pi)\n",
    "\n",
    "# Etiquetas para los grupos de parámetros con salto de línea adicional\n",
    "labels = [\n",
    "    f\"W={p_stft} ms\\nc={p_wavelet}\\nc$_1$={p_superlet[0]}, o={p_superlet[1]}-{p_superlet[2]}\"\n",
    "    for p_wavelet, p_superlet, p_stft in zip(params_wavelet, zip(*params_superlet), params_stft)\n",
    "]\n",
    "\n",
    "x = np.arange(1,len(params_wavelet)+1)\n",
    "\n",
    "plt.figure(figsize=(12, 8))\n",
    "\n",
    "# Primer gráfico (Frecuencia)\n",
    "plt.subplot(2, 1, 1)\n",
    "plt.plot(x, [r[1] for r in res_wavelet], 'go-', label=\"Wavelet (Frequency)\")\n",
    "plt.plot(x, [r[1] for r in res_stft], 'bo-', label=\"STFT (Frequency)\")\n",
    "plt.plot(x, [r[1] for r in res_superlet], 'ro-', label=\"Superlet (Frequency)\")\n",
    "plt.axhline(rayleigh_limit, color='k', linestyle='--', label=\"Rayleigh Limit\")\n",
    "plt.xlabel(\"Window Size / Cycles / Order\")\n",
    "plt.ylabel(\"Frequency Resolution (Hz)\")\n",
    "plt.legend()\n",
    "\n",
    "# Segundo gráfico (Tiempo)\n",
    "plt.subplot(2, 1, 2)\n",
    "plt.plot(x, [r[0] for r in res_wavelet], 'go-', label=\"Wavelet (Time)\")\n",
    "plt.plot(x, [r[0] for r in res_stft], 'bo-', label=\"STFT (Time)\")\n",
    "plt.plot(x, [r[0] for r in res_superlet], 'ro-', label=\"Superlet (Time)\")\n",
    "#plt.axhline(1 / MNF_1[0], color='k', linestyle='--', label=\"Temporal Limit\")\n",
    "plt.xlabel(\"Window Size / Cycles / Order\")\n",
    "plt.ylabel(\"Time Resolution (s)\")\n",
    "plt.legend()\n",
    "\n",
    "# Ajuste de los xticks para ambos subgráficos\n",
    "for ax in plt.gcf().get_axes():\n",
    "    ax.set_xticks(x)  # Establecer los valores de los ticks\n",
    "    ax.set_xticklabels(labels, rotation=90, ha='center', fontsize=10)  # Establecer las etiquetas con el formato deseado\n",
    "\n",
    "# Ajustar el diseño\n",
    "plt.tight_layout()\n",
    "plt.show()"
   ],
   "metadata": {
    "collapsed": false,
    "is_executing": true
   },
   "id": "3e555272d1aa7f05"
  },
  {
   "cell_type": "code",
   "execution_count": null,
   "outputs": [],
   "source": [
    "MAES_f"
   ],
   "metadata": {
    "collapsed": false,
    "is_executing": true
   },
   "id": "290c8e9323bb4f27"
  },
  {
   "cell_type": "code",
   "execution_count": null,
   "outputs": [],
   "source": [
    "MAES_f['wavelet'].append(mae_wavelet_f)\n",
    "MAES_f['stft'].append(mae_stft_f)\n",
    "MAES_f['superlet'].append(mae_superlet_f)\n",
    "MAES_f['std_wavelet'].append(std_wavelet_f)\n",
    "MAES_f['std_stft'].append(std_stft_f)\n",
    "MAES_f['std_superlet'].append(std_superlet_f)"
   ],
   "metadata": {
    "collapsed": false,
    "is_executing": true
   },
   "id": "203f839ab0b30896"
  },
  {
   "cell_type": "code",
   "execution_count": null,
   "outputs": [],
   "source": [
    "MAES_t"
   ],
   "metadata": {
    "collapsed": false,
    "is_executing": true
   },
   "id": "273b32f43fb05de3"
  },
  {
   "cell_type": "code",
   "execution_count": null,
   "outputs": [],
   "source": [
    "MAES_t['wavelet'].append(mae_wavelet_t)\n",
    "MAES_t['stft'].append(mae_stft_t)\n",
    "MAES_t['superlet'].append(mae_superlet_t)\n",
    "MAES_t['std_wavelet'].append(std_wavelet_t)\n",
    "MAES_t['std_stft'].append(std_stft_t)\n",
    "MAES_t['std_superlet'].append(std_superlet_t)"
   ],
   "metadata": {
    "collapsed": false,
    "is_executing": true
   },
   "id": "5a2d84bf5787da73"
  },
  {
   "cell_type": "markdown",
   "source": [
    "### COMPARISON BETWEEN ALL SNR"
   ],
   "metadata": {
    "collapsed": false
   },
   "id": "6d5708a5767820d5"
  },
  {
   "cell_type": "markdown",
   "source": [
    "# COMPARISON OF MAE IN FREQUENCY"
   ],
   "metadata": {
    "collapsed": false
   },
   "id": "ada2db073a83da9e"
  },
  {
   "cell_type": "code",
   "execution_count": null,
   "outputs": [],
   "source": [
    "params_wavelet = params_wavelet\n",
    "params_superlet = params_superlet\n",
    "params_stft = windows_ms  # Tamaños de ventana en ms\n",
    "\n",
    "# Datos MAE para cada técnica y SNR\n",
    "mae_stft = MAES_f['stft']\n",
    "std_stft = MAES_f['std_stft']\n",
    "\n",
    "mae_wavelet = MAES_f['wavelet']\n",
    "std_wavelet = MAES_f['std_wavelet']\n",
    "\n",
    "mae_superlet = MAES_f['superlet']\n",
    "std_superlet = MAES_f['std_superlet']\n",
    "\n",
    "# Reordenar los niveles de SNR al orden deseado: 5 dB, 20 dB, Sin SNR\n",
    "snr_labels = [\"5 dB\", \"15 dB\", \"100 dB\"]\n",
    "# mae_stft_2 = [mae_stft[1], mae_stft[0]]\n",
    "mae_stft_2 = mae_stft\n",
    "# std_stft_2 = [std_stft[1], std_stft[0]]\n",
    "std_stft_2 = std_stft\n",
    "\n",
    "# mae_wavelet_2 = [mae_wavelet[1], mae_wavelet[0]]\n",
    "mae_wavelet_2 = mae_wavelet\n",
    "# std_wavelet_2 = [std_wavelet[1], std_wavelet[0]]\n",
    "std_wavelet_2 = std_wavelet\n",
    "\n",
    "# mae_superlet_2 = [mae_superlet[1], mae_superlet[0]]\n",
    "mae_superlet_2 = mae_superlet\n",
    "# std_superlet_2 = [std_superlet[1], std_superlet[0]]\n",
    "std_superlet_2 = std_superlet\n",
    "\n",
    "# Configuración del gráfico\n",
    "num_params = len(params_stft)  # Número de parámetros\n",
    "num_snr = len(snr_labels)  # Número de niveles de ruido\n",
    "x = np.arange(num_params)  # Posiciones base para cada grupo de parámetros\n",
    "bar_width = 0.1  # Ancho de cada barra\n",
    "group_width = bar_width * num_snr  # Espacio reservado para cada grupo de barras\n",
    "\n",
    "# Tonalidades por nivel de ruido (ordenadas)\n",
    "tonalidades = {\n",
    "    \"5 dB\": 0.4,\n",
    "    \"15 dB\": 0.6,\n",
    "    \"100 dB\": 0.8,\n",
    "}\n",
    "\n",
    "# Colores base por metodología (asegurando correspondencia)\n",
    "colores_base = {\n",
    "    \"STFT\": plt.colormaps[\"Blues\"],\n",
    "    \"Wavelet\": plt.colormaps[\"Greens\"],\n",
    "    \"Superlet\": plt.colormaps[\"Oranges\"],\n",
    "}\n",
    "\n",
    "# Crear el gráfico\n",
    "plt.figure(figsize=(18, 8))\n",
    "\n",
    "# Crear listas para la leyenda\n",
    "handles = []\n",
    "labels_legend = []\n",
    "\n",
    "# Dibujar barras para cada técnica y SNR\n",
    "for i, snr in enumerate(snr_labels):  # Iterar sobre niveles de SNR\n",
    "    # Dibujar barras para STFT\n",
    "    bar = plt.bar(\n",
    "        x - 0.01 - group_width + i * bar_width,\n",
    "        [np.array(mae_stft_2[i])[k] for k in range(num_params)],\n",
    "        width=bar_width,\n",
    "        color=colores_base[\"STFT\"](tonalidades[snr]),\n",
    "        label=f'STFT ({snr})'\n",
    "    )\n",
    "    handles.append(bar[0])\n",
    "\n",
    "    plt.errorbar(\n",
    "        x - 0.01 - group_width + i * bar_width,\n",
    "        [np.array(mae_stft_2[i])[k] for k in range(num_params)],\n",
    "        yerr=[np.array(std_stft_2[i])[k] for k in range(num_params)],\n",
    "        fmt='none',\n",
    "        ecolor='black',\n",
    "        capsize=3\n",
    "    )\n",
    "    \n",
    "    # Dibujar barras para Wavelet\n",
    "    bar = plt.bar(\n",
    "        x + i * bar_width,\n",
    "        [np.array(mae_wavelet_2[i])[k] for k in range(num_params)],\n",
    "        width=bar_width,\n",
    "        color=colores_base[\"Wavelet\"](tonalidades[snr]),\n",
    "        label=f'Wavelet ({snr})'\n",
    "    )\n",
    "    handles.append(bar[0])\n",
    "\n",
    "    plt.errorbar(\n",
    "        x + i * bar_width,\n",
    "        [np.array(mae_wavelet_2[i])[k] for k in range(num_params)],\n",
    "        yerr=[np.array(std_wavelet_2[i])[k] for k in range(num_params)],\n",
    "        fmt='none',\n",
    "        ecolor='black',\n",
    "        capsize=3\n",
    "    )\n",
    "\n",
    "    # Dibujar barras para Superlet\n",
    "    bar = plt.bar(\n",
    "        x + 0.01 + group_width + i * bar_width,\n",
    "        [np.array(mae_superlet_2[i])[k] for k in range(num_params)],\n",
    "        width=bar_width,\n",
    "        color=colores_base[\"Superlet\"](tonalidades[snr]),\n",
    "        label=f'Superlet ({snr})'\n",
    "    )\n",
    "    handles.append(bar[0])\n",
    "\n",
    "    plt.errorbar(\n",
    "        x + 0.01 + group_width + i * bar_width,\n",
    "        [np.array(mae_superlet_2[i])[k] for k in range(num_params)],\n",
    "        yerr=[np.array(std_superlet_2[i])[k] for k in range(num_params)],\n",
    "        fmt='none',\n",
    "        ecolor='black',\n",
    "        capsize=3\n",
    "    )\n",
    "\n",
    "# Ordenar la leyenda agrupada por metodología\n",
    "labels_legend = [f'STFT ({snr})' for snr in snr_labels] + \\\n",
    "                [f'Wavelet ({snr})' for snr in snr_labels] + \\\n",
    "                [f'Superlet ({snr})' for snr in snr_labels]\n",
    "handles = handles[:len(labels_legend)]\n",
    "\n",
    "# Etiquetas para los grupos de parámetros con salto de línea adicional\n",
    "labels = [\n",
    "    f\"W={p_stft} ms\\n\\nc={p_wavelet}\\n\\n\\nc$_1$={p_superlet[0]}, o={p_superlet[1]}-{p_superlet[2]}\"\n",
    "    for p_wavelet, p_superlet, p_stft in zip(params_wavelet, zip(*params_superlet), params_stft)\n",
    "]\n",
    "\n",
    "from matplotlib.patches import Patch\n",
    "\n",
    "leyenda_snr = [\n",
    "    Patch(color=colores_base[\"STFT\"](tonalidades[\"5 dB\"]), label=\"STFT (SNR = 5 dB)\"),\n",
    "    Patch(color=colores_base[\"STFT\"](tonalidades[\"15 dB\"]), label=\"STFT (SNR = 15 dB)\"),\n",
    "    Patch(color=colores_base[\"STFT\"](tonalidades[\"100 dB\"]), label=\"STFT (SNR = 100 dB)\"),\n",
    "    Patch(color=colores_base[\"Wavelet\"](tonalidades[\"5 dB\"]), label=\"Wavelet (SNR = 5 dB)\"),\n",
    "    Patch(color=colores_base[\"Wavelet\"](tonalidades[\"15 dB\"]), label=\"Wavelet (SNR = 15 dB)\"),\n",
    "    Patch(color=colores_base[\"Wavelet\"](tonalidades[\"100 dB\"]), label=\"Wavelet (SNR = 100 dB)\"),\n",
    "    Patch(color=colores_base[\"Superlet\"](tonalidades[\"5 dB\"]), label=\"Superlet (SNR = 5 dB)\"),\n",
    "    Patch(color=colores_base[\"Superlet\"](tonalidades[\"15 dB\"]), label=\"Superlet (SNR = 15 dB)\"),\n",
    "    Patch(color=colores_base[\"Superlet\"](tonalidades[\"100 dB\"]), label=\"Superlet (SNR = 100 dB)\"),\n",
    "]\n",
    "\n",
    "# Configurar eje X y otros detalles\n",
    "plt.xticks(x, labels, rotation=90, ha='center', fontsize=18)\n",
    "plt.yticks(np.arange(0, 71, 10))\n",
    "plt.ylabel('MAE (Hz)', fontsize=14)\n",
    "plt.ylim(0, 70)\n",
    "#plt.legend(handles, labels_legend, fontsize=10, ncol=1)  # Leyenda agrupada\n",
    "plt.title('Comparison of MAE in frequency according to SNR')\n",
    "\n",
    "plt.gca().add_artist(plt.legend(handles=leyenda_snr, loc='upper right', fontsize=12, title_fontsize=14))\n",
    "\n",
    "plt.tight_layout()\n",
    "plt.grid(True)\n",
    "\n",
    "# Mostrar el gráfico\n",
    "plt.show()"
   ],
   "metadata": {
    "collapsed": false,
    "is_executing": true
   },
   "id": "fcec39693eccb74b"
  },
  {
   "cell_type": "markdown",
   "source": [
    "# COMPARISON OF MAE IN TIME"
   ],
   "metadata": {
    "collapsed": false
   },
   "id": "20abdcdd0f72988d"
  },
  {
   "cell_type": "code",
   "execution_count": null,
   "outputs": [],
   "source": [
    "params_wavelet = params_wavelet\n",
    "params_superlet = params_superlet\n",
    "params_stft = windows_ms  # Tamaños de ventana en ms\n",
    "\n",
    "# Datos MAE para cada técnica y SNR\n",
    "mae_stft = MAES_t['stft']\n",
    "std_stft = MAES_t['std_stft']\n",
    "\n",
    "mae_wavelet = MAES_t['wavelet']\n",
    "std_wavelet = MAES_t['std_wavelet']\n",
    "\n",
    "mae_superlet = MAES_t['superlet']\n",
    "std_superlet = MAES_t['std_superlet']\n",
    "\n",
    "# Reordenar los niveles de SNR al orden deseado: 5 dB, 20 dB, Sin SNR\n",
    "# snr_labels = [\"5 dB\", \"20 dB\"]\n",
    "snr_labels = [\"5 dB\", \"15 dB\", \"100 dB\"]\n",
    "#mae_stft_2 = [mae_stft[1], mae_stft[0]]\n",
    "mae_stft_2 = mae_stft\n",
    "std_stft_2 = std_stft\n",
    "\n",
    "#mae_wavelet_2 = [mae_wavelet[1], mae_wavelet[0]]\n",
    "mae_wavelet_2 = mae_wavelet\n",
    "std_wavelet_2 = std_wavelet\n",
    "\n",
    "#mae_superlet_2 = [mae_superlet[1], mae_superlet[0]]\n",
    "mae_superlet_2 = mae_superlet\n",
    "std_superlet_2 = std_superlet\n",
    "\n",
    "# Configuración del gráfico\n",
    "num_params = len(params_stft)  # Número de parámetros\n",
    "num_snr = len(snr_labels)  # Número de niveles de ruido\n",
    "x = np.arange(num_params)  # Posiciones base para cada grupo de parámetros\n",
    "bar_width = 0.1  # Ancho de cada barra\n",
    "group_width = bar_width * num_snr  # Espacio reservado para cada grupo de barras\n",
    "\n",
    "# Tonalidades por nivel de ruido (ordenadas)\n",
    "tonalidades = {\n",
    "    \"5 dB\": 0.4,\n",
    "    \"15 dB\": 0.6,\n",
    "    \"100 dB\": 0.8\n",
    "}\n",
    "\n",
    "# Colores base por metodología (asegurando correspondencia)\n",
    "colores_base = {\n",
    "    \"STFT\": plt.colormaps[\"Blues\"],\n",
    "    \"Wavelet\": plt.colormaps[\"Greens\"],\n",
    "    \"Superlet\": plt.colormaps[\"Oranges\"],\n",
    "}\n",
    "\n",
    "# Crear el gráfico\n",
    "plt.figure(figsize=(18, 8))\n",
    "\n",
    "# Crear listas para la leyenda\n",
    "handles = []\n",
    "labels_legend = []\n",
    "\n",
    "# Dibujar barras para cada técnica y SNR\n",
    "for i, snr in enumerate(snr_labels):  # Iterar sobre niveles de SNR\n",
    "    # Dibujar barras para STFT\n",
    "    bar = plt.bar(\n",
    "        x - 0.01 - group_width + i * bar_width,\n",
    "        [np.array(mae_stft_2[i])[k] for k in range(num_params)],\n",
    "        width=bar_width,\n",
    "        color=colores_base[\"STFT\"](tonalidades[snr]),\n",
    "        label=f'STFT ({snr})'\n",
    "    )\n",
    "    handles.append(bar[0])\n",
    "\n",
    "    plt.errorbar(\n",
    "        x - 0.01 - group_width + i * bar_width,\n",
    "        [np.array(mae_stft_2[i])[k] for k in range(num_params)],\n",
    "        yerr=[np.array(std_stft_2[i])[k] for k in range(num_params)],\n",
    "        fmt='none',\n",
    "        ecolor='black',\n",
    "        capsize=3\n",
    "    )\n",
    "    \n",
    "    # Dibujar barras para Wavelet\n",
    "    bar = plt.bar(\n",
    "        x + i * bar_width,\n",
    "        [np.array(mae_wavelet_2[i])[k] for k in range(num_params)],\n",
    "        width=bar_width,\n",
    "        color=colores_base[\"Wavelet\"](tonalidades[snr]),\n",
    "        label=f'Wavelet ({snr})'\n",
    "    )\n",
    "    handles.append(bar[0])\n",
    "\n",
    "    plt.errorbar(\n",
    "        x + i * bar_width,\n",
    "        [np.array(mae_wavelet_2[i])[k] for k in range(num_params)],\n",
    "        yerr=[np.array(std_wavelet_2[i])[k] for k in range(num_params)],\n",
    "        fmt='none',\n",
    "        ecolor='black',\n",
    "        capsize=3\n",
    "    )\n",
    "\n",
    "    # Dibujar barras para Superlet\n",
    "    bar = plt.bar(\n",
    "        x + 0.01 + group_width + i * bar_width,\n",
    "        [np.array(mae_superlet_2[i])[k] for k in range(num_params)],\n",
    "        width=bar_width,\n",
    "        color=colores_base[\"Superlet\"](tonalidades[snr]),\n",
    "        label=f'Superlet ({snr})'\n",
    "    )\n",
    "    handles.append(bar[0])\n",
    "\n",
    "    plt.errorbar(\n",
    "        x + 0.01 + group_width + i * bar_width,\n",
    "        [np.array(mae_superlet_2[i])[k] for k in range(num_params)],\n",
    "        yerr=[np.array(std_superlet_2[i])[k] for k in range(num_params)],\n",
    "        fmt='none',\n",
    "        ecolor='black',\n",
    "        capsize=3\n",
    "    )\n",
    "\n",
    "# Ordenar la leyenda agrupada por metodología\n",
    "labels_legend = [f'STFT ({snr})' for snr in snr_labels] + \\\n",
    "                [f'Wavelet ({snr})' for snr in snr_labels] + \\\n",
    "                [f'Superlet ({snr})' for snr in snr_labels]\n",
    "handles = handles[:len(labels_legend)]\n",
    "\n",
    "# Etiquetas para los grupos de parámetros con salto de línea adicional\n",
    "labels = [\n",
    "    f\"W={p_stft} ms\\n\\nc={p_wavelet}\\n\\n\\nc$_1$={p_superlet[0]}, o={p_superlet[1]}-{p_superlet[2]}\"\n",
    "    for p_wavelet, p_superlet, p_stft in zip(params_wavelet, zip(*params_superlet), params_stft)\n",
    "]\n",
    "\n",
    "from matplotlib.patches import Patch\n",
    "\n",
    "leyenda_snr = [\n",
    "    Patch(color=colores_base[\"STFT\"](tonalidades[\"5 dB\"]), label=\"STFT (SNR = 5 dB)\"),\n",
    "    Patch(color=colores_base[\"STFT\"](tonalidades[\"15 dB\"]), label=\"STFT (SNR = 15 dB)\"),\n",
    "    Patch(color=colores_base[\"STFT\"](tonalidades[\"100 dB\"]), label=\"STFT (SNR = 100 dB)\"),\n",
    "    Patch(color=colores_base[\"Wavelet\"](tonalidades[\"5 dB\"]), label=\"Wavelet (SNR = 5 dB)\"),\n",
    "    Patch(color=colores_base[\"Wavelet\"](tonalidades[\"15 dB\"]), label=\"Wavelet (SNR = 15 dB)\"),\n",
    "    Patch(color=colores_base[\"Wavelet\"](tonalidades[\"100 dB\"]), label=\"Wavelet (SNR = 100 dB)\"),\n",
    "    Patch(color=colores_base[\"Superlet\"](tonalidades[\"5 dB\"]), label=\"Superlet (SNR = 5 dB)\"),\n",
    "    Patch(color=colores_base[\"Superlet\"](tonalidades[\"15 dB\"]), label=\"Superlet (SNR = 15 dB)\"),\n",
    "    Patch(color=colores_base[\"Superlet\"](tonalidades[\"100 dB\"]), label=\"Superlet (SNR = 100 dB)\"),\n",
    "]\n",
    "\n",
    "# Configurar eje X y otros detalles\n",
    "plt.xticks(x, labels, rotation=90, ha='center', fontsize=18)\n",
    "plt.yticks(np.arange(0, 0.11, 0.1))\n",
    "plt.ylabel('MAE (s)', fontsize=14)\n",
    "plt.ylim(0, 0.1)\n",
    "# Agregar leyenda de SNR arriba del gráfico\n",
    "#plt.legend(handles=leyenda_snr, title=\"Tonalidad del color por SNR\", loc='upper left', fontsize=12, title_fontsize=14)\n",
    "\n",
    "# Agregar leyenda de métodos abajo\n",
    "plt.gca().add_artist(plt.legend(handles=leyenda_snr, loc='upper left', fontsize=12, title_fontsize=14))\n",
    "#plt.gca().add_artist(plt.legend(handles=leyenda_metodos, title=\"Colores por Método\", loc='upper right', fontsize=12, title_fontsize=14))\n",
    "\n",
    "plt.title('Comparison of MAE in time according to SNR')\n",
    "\n",
    "# Mostrar el gráfico\n",
    "plt.tight_layout()\n",
    "plt.grid(True)\n",
    "\n",
    "# Mostrar el gráfico\n",
    "plt.show()"
   ],
   "metadata": {
    "collapsed": false,
    "is_executing": true
   },
   "id": "29b49dac9fbb4eb"
  },
  {
   "cell_type": "code",
   "execution_count": null,
   "outputs": [],
   "source": [],
   "metadata": {
    "collapsed": false,
    "is_executing": true
   },
   "id": "532eb95a783b6bb6"
  }
 ],
 "metadata": {
  "kernelspec": {
   "display_name": "Python 3",
   "language": "python",
   "name": "python3"
  },
  "language_info": {
   "codemirror_mode": {
    "name": "ipython",
    "version": 2
   },
   "file_extension": ".py",
   "mimetype": "text/x-python",
   "name": "python",
   "nbconvert_exporter": "python",
   "pygments_lexer": "ipython2",
   "version": "2.7.6"
  }
 },
 "nbformat": 4,
 "nbformat_minor": 5
}
