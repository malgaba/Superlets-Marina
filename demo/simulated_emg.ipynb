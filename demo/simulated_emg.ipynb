{
 "cells": [
  {
   "cell_type": "code",
   "execution_count": 1,
   "source": [
    "import sys\n",
    "\n",
    "import pandas as pd\n",
    "\n",
    "import superlets_package.superlets\n",
    "\n",
    "sys.path.insert(0, '..')\n"
   ],
   "outputs": [],
   "metadata": {
    "ExecuteTime": {
     "end_time": "2024-12-10T13:49:54.724823Z",
     "start_time": "2024-12-10T13:49:38.301979Z"
    }
   }
  },
  {
   "cell_type": "code",
   "execution_count": 2,
   "source": [
    "import jax.numpy as jnp\n",
    "import matplotlib.pyplot as plt\n",
    "import numpy as np\n",
    "import importlib\n",
    "import scipy.signal as signal\n",
    "\n",
    "import superlets_package.morlet as superlets_module_morlet\n",
    "import superlets_package.morlet as morlet\n",
    "import superlets_package.superlets as superlet\n",
    "\n",
    "#from superlets_package.superlets import wavelet_transform, adaptive_superlet_transform, fdeluca_changing, compute_psd_welch, meanfreq, instant_mean"
   ],
   "outputs": [],
   "metadata": {
    "ExecuteTime": {
     "end_time": "2024-12-10T13:49:54.738738Z",
     "start_time": "2024-12-10T13:49:54.737014Z"
    }
   }
  },
  {
   "cell_type": "code",
   "execution_count": 3,
   "outputs": [
    {
     "data": {
      "text/plain": "<module 'superlets_package.superlets' from '/Users/neuralrehabilitationgroup/PycharmProjects/Superlets-Marina/superlets_package/superlets.py'>"
     },
     "execution_count": 3,
     "metadata": {},
     "output_type": "execute_result"
    }
   ],
   "source": [
    "importlib.reload(superlet)"
   ],
   "metadata": {
    "collapsed": false,
    "ExecuteTime": {
     "end_time": "2024-12-10T13:49:54.804419Z",
     "start_time": "2024-12-10T13:49:54.741011Z"
    }
   }
  },
  {
   "cell_type": "code",
   "execution_count": 4,
   "outputs": [
    {
     "data": {
      "text/plain": "<module 'superlets_package.morlet' from '/Users/neuralrehabilitationgroup/PycharmProjects/Superlets-Marina/superlets_package/morlet.py'>"
     },
     "execution_count": 4,
     "metadata": {},
     "output_type": "execute_result"
    }
   ],
   "source": [
    "importlib.reload(morlet)"
   ],
   "metadata": {
    "collapsed": false,
    "ExecuteTime": {
     "end_time": "2024-12-10T13:49:54.806689Z",
     "start_time": "2024-12-10T13:49:54.764490Z"
    }
   }
  },
  {
   "cell_type": "markdown",
   "source": [
    "# Create simulated EMG signals"
   ],
   "metadata": {
    "collapsed": false
   }
  },
  {
   "cell_type": "markdown",
   "source": [
    "#### Baseline parameters"
   ],
   "metadata": {
    "collapsed": false
   }
  },
  {
   "cell_type": "code",
   "execution_count": 5,
   "outputs": [],
   "source": [
    "fs = 1024\n",
    "t = np.linspace(0, 5, 5 * fs)\n",
    "#noise = np.random.normal(0, 0.01, len(t))  # Gaussian noise\n",
    "noise = np.zeros(len(t))"
   ],
   "metadata": {
    "collapsed": false,
    "ExecuteTime": {
     "end_time": "2024-12-10T13:49:54.806832Z",
     "start_time": "2024-12-10T13:49:54.787118Z"
    }
   }
  },
  {
   "cell_type": "markdown",
   "source": [
    "### Burst parameters"
   ],
   "metadata": {
    "collapsed": false
   }
  },
  {
   "cell_type": "code",
   "execution_count": 6,
   "outputs": [],
   "source": [
    "burst_duration_1 = 1 #seconds\n",
    "burst_start_1 = 2\n",
    "MNF_1 = [110.71] "
   ],
   "metadata": {
    "collapsed": false,
    "ExecuteTime": {
     "end_time": "2024-12-10T13:49:54.825814Z",
     "start_time": "2024-12-10T13:49:54.793208Z"
    }
   }
  },
  {
   "cell_type": "markdown",
   "source": [
    "#### Select method (DeLuca, band-pass filter)"
   ],
   "metadata": {
    "collapsed": false
   }
  },
  {
   "cell_type": "code",
   "execution_count": 7,
   "outputs": [],
   "source": [
    "mode = 'DeLuca'\n",
    "#mode = 'Filter'\n",
    "#mode = 'Matlab'"
   ],
   "metadata": {
    "collapsed": false,
    "ExecuteTime": {
     "end_time": "2024-12-10T13:49:54.884124Z",
     "start_time": "2024-12-10T13:49:54.805244Z"
    }
   }
  },
  {
   "cell_type": "markdown",
   "source": [
    "### Charge signals generated in Matlab"
   ],
   "metadata": {
    "collapsed": false
   }
  },
  {
   "cell_type": "code",
   "execution_count": 8,
   "outputs": [],
   "source": [
    "if mode == 'Matlab':\n",
    "    burst_1 = pd.read_csv('burst_1s_matlab.csv', header = None)\n",
    "    burst_1 = burst_1[0]"
   ],
   "metadata": {
    "collapsed": false,
    "ExecuteTime": {
     "end_time": "2024-12-10T13:49:54.944489Z",
     "start_time": "2024-12-10T13:49:54.821463Z"
    }
   }
  },
  {
   "cell_type": "markdown",
   "source": [
    "### Simulated EMG signal with bandpass filter"
   ],
   "metadata": {
    "collapsed": false
   }
  },
  {
   "cell_type": "code",
   "execution_count": 9,
   "outputs": [],
   "source": [
    "if mode == 'Filter':\n",
    "    \n",
    "    # Create noise\n",
    "    #MNF_1 = [110.71]  # Central frequency\n",
    "    bw = 100    # Filter bandwidth\n",
    "    \n",
    "    low_cut = 10\n",
    "    high_cut = 210\n",
    "    \n",
    "    plot = True\n",
    "    \n",
    "    # We generate gaussian noise\n",
    "    samples = int(burst_duration_1 * fs)\n",
    "    t = np.linspace(0, burst_duration_1, samples, endpoint=False)\n",
    "    gauss_noise = np.random.normal(0, 1, samples)  # Ruido gaussiano de media 0 y varianza 1\n",
    "    \n",
    "    # Create and apply filter\n",
    "    nyquist = fs / 2\n",
    "    #frec_baja = (MNF_1[0] - bw / 2) / nyquist\n",
    "    frec_baja = low_cut / nyquist\n",
    "    #frec_alta = (MNF_1[0] + bw / 2) / nyquist\n",
    "    frec_alta = high_cut / nyquist\n",
    "    # Diseñar filtro paso banda Butterworth\n",
    "    b, a = signal.butter(N=4, Wn=[frec_baja, frec_alta], btype='band')\n",
    "    burst_1 = signal.filtfilt(b, a, gauss_noise)\n",
    "    \n",
    "    if plot:\n",
    "        plt.figure(figsize=(12, 6))\n",
    "        plt.subplot(2, 1, 1)\n",
    "        plt.plot(t, gauss_noise)\n",
    "        plt.title(\"Gaussian noise\")\n",
    "        plt.xlabel(\"Time (s)\")\n",
    "        plt.ylabel(\"Amplitude\")\n",
    "        plt.grid()\n",
    "        plt.subplot(2, 1, 2)\n",
    "        plt.plot(t, burst_1, color='orange')\n",
    "        plt.title(f\"Filtered noise\")\n",
    "        plt.xlabel(\"Time (s)\")\n",
    "        plt.ylabel(\"Amplitude\")\n",
    "        plt.grid()\n",
    "        plt.tight_layout()\n",
    "        plt.show()\n",
    "        \n",
    "    w, h = signal.freqz(b, a, worN=8000)  # worN determina el número de puntos a evaluar\n",
    "\n",
    "    # Graficar respuesta en frecuencia\n",
    "    plt.figure()\n",
    "    plt.plot(w * nyquist / np.pi, 20 * np.log10(abs(h)), label=\"Respuesta en Frecuencia\")\n",
    "    plt.title(\"Respuesta en Frecuencia del Filtro Butterworth\")\n",
    "    plt.xlabel(\"Frecuencia (Hz)\")\n",
    "    plt.ylabel(\"Amplitud (dB)\")\n",
    "    plt.grid()\n",
    "    plt.legend()\n",
    "    plt.show()\n"
   ],
   "metadata": {
    "collapsed": false,
    "ExecuteTime": {
     "end_time": "2024-12-10T13:49:54.955619Z",
     "start_time": "2024-12-10T13:49:54.839632Z"
    }
   }
  },
  {
   "cell_type": "markdown",
   "source": [
    "### Simulated EMG signal: Modelo de DeLuca"
   ],
   "metadata": {
    "collapsed": false
   }
  },
  {
   "cell_type": "code",
   "execution_count": 10,
   "outputs": [
    {
     "data": {
      "text/plain": "<module 'superlets_package.superlets' from '/Users/neuralrehabilitationgroup/PycharmProjects/Superlets-Marina/superlets_package/superlets.py'>"
     },
     "execution_count": 10,
     "metadata": {},
     "output_type": "execute_result"
    }
   ],
   "source": [
    "importlib.reload(superlet)"
   ],
   "metadata": {
    "collapsed": false,
    "ExecuteTime": {
     "end_time": "2024-12-10T13:49:54.957510Z",
     "start_time": "2024-12-10T13:49:54.852281Z"
    }
   }
  },
  {
   "cell_type": "code",
   "execution_count": 11,
   "outputs": [
    {
     "data": {
      "text/plain": "<Figure size 640x480 with 1 Axes>",
      "image/png": "[encoded data removed]"
     },
     "metadata": {},
     "output_type": "display_data"
    },
    {
     "data": {
      "text/plain": "<Figure size 1000x600 with 1 Axes>",
      "image/png": "[encoded data removed]"
     },
     "metadata": {},
     "output_type": "display_data"
    },
    {
     "data": {
      "text/plain": "<Figure size 640x480 with 1 Axes>",
      "image/png": "[encoded data removed]"
     },
     "metadata": {},
     "output_type": "display_data"
    }
   ],
   "source": [
    "if mode == 'DeLuca':\n",
    "    burst_1 = []\n",
    "    #[filtro, Pdeluca, burst_1] = superlet.fdeluca(72, 110, 1024, burst_duration_1, plot = True)\n",
    "    [filtro, Pdeluca, burst_1, MNF, MNF_analytic] = superlet.fdeluca(40, 20, fs, burst_duration_1, plot = True)\n",
    "    f = np.arange(0, fs / 2)\n",
    "    MNF_IDEAL = superlet.meanfreq(Pdeluca,f)\n",
    "    MNF_1 = [MNF_IDEAL]\n",
    "    # bw = 100\n",
    "    # nyquist = fs / 2\n",
    "    # frec_baja = (MNF_1[0] - bw / 2) / nyquist\n",
    "    # frec_alta = (MNF_1[0] + bw / 2) / nyquist\n",
    "    # # Diseñar filtro paso banda Butterworth\n",
    "    # b, a = signal.butter(N=4, Wn=[frec_baja, frec_alta], btype='band')\n",
    "    # burst_1 = signal.filtfilt(b, a, burst_1)"
   ],
   "metadata": {
    "collapsed": false,
    "ExecuteTime": {
     "end_time": "2024-12-10T13:49:55.632124Z",
     "start_time": "2024-12-10T13:49:54.870227Z"
    }
   }
  },
  {
   "cell_type": "code",
   "execution_count": 12,
   "outputs": [
    {
     "data": {
      "text/plain": "41.092676659685516"
     },
     "execution_count": 12,
     "metadata": {},
     "output_type": "execute_result"
    }
   ],
   "source": [
    "MNF_analytic"
   ],
   "metadata": {
    "collapsed": false,
    "ExecuteTime": {
     "end_time": "2024-12-10T13:49:55.632517Z",
     "start_time": "2024-12-10T13:49:55.615529Z"
    }
   }
  },
  {
   "cell_type": "code",
   "execution_count": 13,
   "outputs": [
    {
     "data": {
      "text/plain": "40.77148546557233"
     },
     "execution_count": 13,
     "metadata": {},
     "output_type": "execute_result"
    }
   ],
   "source": [
    "MNF"
   ],
   "metadata": {
    "collapsed": false,
    "ExecuteTime": {
     "end_time": "2024-12-10T13:49:55.667946Z",
     "start_time": "2024-12-10T13:49:55.620364Z"
    }
   }
  },
  {
   "cell_type": "code",
   "execution_count": 14,
   "outputs": [
    {
     "data": {
      "text/plain": "[39.77148546557233]"
     },
     "execution_count": 14,
     "metadata": {},
     "output_type": "execute_result"
    }
   ],
   "source": [
    "MNF_1"
   ],
   "metadata": {
    "collapsed": false,
    "ExecuteTime": {
     "end_time": "2024-12-10T13:49:55.744665Z",
     "start_time": "2024-12-10T13:49:55.645045Z"
    }
   }
  },
  {
   "cell_type": "code",
   "execution_count": 15,
   "outputs": [],
   "source": [
    "# burst_1 = []\n",
    "# # if mode == 'DeLuca':   \n",
    "# [Pxx_1, burst_1, MNF_1, MDF_1] = superlet.fdeluca_changing(80, 120, 60, 100, fs, T = burst_duration_1, wind_change = burst_duration_1, plot = True)\n",
    "# #     # nyquist = 0.5 * fs\n",
    "#     # low = 20 / nyquist\n",
    "#     # high = 300 / nyquist\n",
    "#     # b, a = signal.butter(N=4, Wn=[low, high], btype='band')  # Filtro pasa banda\n",
    "#     # burst_1 = signal.filtfilt(b, a, burst_1)"
   ],
   "metadata": {
    "collapsed": false,
    "ExecuteTime": {
     "end_time": "2024-12-10T13:49:55.765238Z",
     "start_time": "2024-12-10T13:49:55.671855Z"
    }
   }
  },
  {
   "cell_type": "markdown",
   "source": [
    "#### Add noise to the signal with a particular value for SNR"
   ],
   "metadata": {
    "collapsed": false
   }
  },
  {
   "cell_type": "code",
   "execution_count": 16,
   "outputs": [],
   "source": [
    "# def add_wgn_to_sig(signal, w_g_noise, ssnnrr):\n",
    "#     \n",
    "#     sign_UnitaryVar = (signal - np.mean(signal)) / np.std(signal)\n",
    "#     Pn = np.var(w_g_noise)\n",
    "#     Ps = Pn * (10**(ssnnrr / 10))\n",
    "#     new_signals = np.sqrt(Ps) * sign_UnitaryVar\n",
    "#     noisy_signal = new_signals + w_g_noise\n",
    "# \n",
    "#     return noisy_signal\n"
   ],
   "metadata": {
    "collapsed": false,
    "ExecuteTime": {
     "end_time": "2024-12-10T13:49:55.765639Z",
     "start_time": "2024-12-10T13:49:55.695069Z"
    }
   }
  },
  {
   "cell_type": "code",
   "execution_count": 17,
   "outputs": [],
   "source": [
    "import numpy as np\n",
    "import matplotlib.pyplot as plt\n",
    "\n",
    "def add_noise(x, snr, plot = False):\n",
    "    \"\"\"\n",
    "    Add Gaussian random noise to a signal with a specified SNR.\n",
    "\n",
    "    Parameters:\n",
    "        x (numpy array): Original signal (vector)\n",
    "        snr (float): Desired Signal-to-Noise Ratio (in dB)\n",
    "\n",
    "    Returns:\n",
    "        numpy array: Signal with added Gaussian noise\n",
    "    \"\"\"\n",
    "    n = len(x)  # Length of the signal\n",
    "    Px = np.sum(np.abs(x)**2) / n  # Power of the original signal\n",
    "    Pn = Px / (10**(snr / 10))  # Noise power for the given SNR\n",
    "\n",
    "    noise = np.sqrt(Pn) * np.random.randn(*x.shape)  # Generate Gaussian noise\n",
    "    xn = x + noise  # Add noise to the original signal\n",
    "\n",
    "    # Plot the original and noisy signals\n",
    "    if plot:\n",
    "        plt.figure()\n",
    "        plt.plot(xn, 'r', label='Noisy Signal')\n",
    "        plt.plot(x, 'b', label='Original Signal')\n",
    "        plt.legend()\n",
    "        plt.title(f'Signal with Added White Gaussian Noise (SNR = {snr} dB)')\n",
    "        plt.xlabel('Sample Index')\n",
    "        plt.ylabel('Amplitude')\n",
    "        plt.show()\n",
    "\n",
    "    return xn"
   ],
   "metadata": {
    "collapsed": false,
    "ExecuteTime": {
     "end_time": "2024-12-10T13:49:55.765731Z",
     "start_time": "2024-12-10T13:49:55.721116Z"
    }
   }
  },
  {
   "cell_type": "markdown",
   "source": [
    "### We add burst to baseline signal"
   ],
   "metadata": {
    "collapsed": false
   }
  },
  {
   "cell_type": "code",
   "execution_count": 18,
   "outputs": [
    {
     "ename": "ValueError",
     "evalue": "operands could not be broadcast together with shapes (3072,) (131967,) (3072,) ",
     "output_type": "error",
     "traceback": [
      "\u001B[0;31m---------------------------------------------------------------------------\u001B[0m",
      "\u001B[0;31mValueError\u001B[0m                                Traceback (most recent call last)",
      "Cell \u001B[0;32mIn[18], line 2\u001B[0m\n\u001B[1;32m      1\u001B[0m baseline_1 \u001B[38;5;241m=\u001B[39m noise\u001B[38;5;241m.\u001B[39mcopy()\n\u001B[0;32m----> 2\u001B[0m baseline_1[burst_start_1\u001B[38;5;241m*\u001B[39mfs:burst_start_1\u001B[38;5;241m*\u001B[39mfs \u001B[38;5;241m+\u001B[39m \u001B[38;5;28mlen\u001B[39m(burst_1)] \u001B[38;5;241m+\u001B[39m\u001B[38;5;241m=\u001B[39m burst_1\n",
      "\u001B[0;31mValueError\u001B[0m: operands could not be broadcast together with shapes (3072,) (131967,) (3072,) "
     ]
    }
   ],
   "source": [
    "baseline_1 = noise.copy()\n",
    "baseline_1[burst_start_1*fs:burst_start_1*fs + len(burst_1)] += burst_1"
   ],
   "metadata": {
    "collapsed": false,
    "ExecuteTime": {
     "end_time": "2024-12-10T13:49:56.169497Z",
     "start_time": "2024-12-10T13:49:55.738492Z"
    }
   }
  },
  {
   "cell_type": "code",
   "execution_count": null,
   "outputs": [],
   "source": [
    "# burst_duration_2 = 3\n",
    "# burst_start_2 = 5\n",
    "# \n",
    "# [Pxx_2, burst_2, MNF_2, MDF_2] = superlet.fdeluca_changing(100, 140, 80, 120, fs, burst_duration_2, 0.125, plot = True)\n",
    "# # t_2 = np.linspace(0, burst_duration_2, len(burst_2))\n",
    "# # plt.plot(t_2, burst_2)\n",
    "# # plt.title('Burst 2')\n",
    "# # \n",
    "# plt.figure()\n",
    "# psd_welch, f_welch = superlet.compute_psd_welch(burst_2, fs, plot=True, muscle='Burst 2')\n",
    "# \n",
    "# baseline_1[burst_start_2*fs:burst_start_2*fs + len(burst_2)] += burst_2\n",
    "# # plt.figure()\n",
    "# # plt.plot(baseline_1)\n",
    "# # plt.title('Baseline + Burst 2')"
   ],
   "metadata": {
    "collapsed": false,
    "ExecuteTime": {
     "end_time": "2024-12-10T13:49:56.183811Z",
     "start_time": "2024-12-10T13:49:56.178036Z"
    }
   }
  },
  {
   "cell_type": "code",
   "execution_count": null,
   "outputs": [],
   "source": [
    "# # High frequency and very fast burst\n",
    "# burst_duration_3 = 0.5\n",
    "# burst_start_3 = 8.5\n",
    "# \n",
    "# [Pxx_3, burst_3, MNF_3, MDF_3] = superlet.fdeluca_changing(220, 250, 200, 230, fs, burst_duration_3, 0.125, plot = False)\n",
    "# # t_3 = np.linspace(0, burst_duration_3, len(burst_3))\n",
    "# # plt.plot(t_3, burst_3)\n",
    "# # plt.title('Burst 3')\n",
    "# # \n",
    "# # plt.figure()\n",
    "# psd_welch, f_welch = superlet.compute_psd_welch(burst_3, fs, plot=True, muscle='Burst 3')\n",
    "# \n",
    "# baseline_1[int(burst_start_3 * fs):int(burst_start_3 * fs + len(burst_3))] += burst_3\n",
    "# # plt.figure()\n",
    "# # plt.plot(baseline_1)\n",
    "# # plt.title('Baseline + Burst 3')"
   ],
   "metadata": {
    "collapsed": false,
    "ExecuteTime": {
     "start_time": "2024-12-10T13:49:56.180296Z"
    }
   }
  },
  {
   "cell_type": "markdown",
   "source": [
    "### Signal visualization"
   ],
   "metadata": {
    "collapsed": false
   }
  },
  {
   "cell_type": "code",
   "execution_count": null,
   "outputs": [],
   "source": [
    "signal = jnp.array(baseline_1)\n",
    "#signal = burst_signal\n",
    "fig, ax = plt.subplots(figsize=(15, 2), dpi=300)\n",
    "ax.set_xlabel(\"Time (ms)\")\n",
    "ax.plot(jnp.linspace(0, len(signal)/fs, len(signal)), signal)\n",
    "print(f\"Reference mean frequency: {MNF_1[0]} Hz\")"
   ],
   "metadata": {
    "collapsed": false,
    "ExecuteTime": {
     "start_time": "2024-12-10T13:49:56.182778Z"
    }
   }
  },
  {
   "cell_type": "code",
   "execution_count": null,
   "outputs": [],
   "source": [
    "psd_welch, f_welch, MNF = superlet.compute_psd_welch(signal, fs, plot=True, muscle='Simulated EMG signal with burst')"
   ],
   "metadata": {
    "collapsed": false,
    "ExecuteTime": {
     "start_time": "2024-12-10T13:49:56.185336Z"
    }
   }
  },
  {
   "cell_type": "markdown",
   "source": [
    "We first apply regular wavelet transforms to the signal, with wavelets of 3, 16 and 33 cycles long, respectively. Note that we specifically use the complex Morlet wavelet for both the wavelet and superlet transforms."
   ],
   "metadata": {}
  },
  {
   "cell_type": "code",
   "execution_count": null,
   "outputs": [],
   "source": [
    "def calculate_mae(estimates, true_value):\n",
    "    errors = np.abs(np.array(estimates) - true_value)\n",
    "    mae = np.mean(errors)\n",
    "    std_error = np.std(np.array(estimates))\n",
    "    return mae, std_error"
   ],
   "metadata": {
    "collapsed": false,
    "ExecuteTime": {
     "end_time": "2024-12-10T13:49:56.207532Z",
     "start_time": "2024-12-10T13:49:56.188181Z"
    }
   }
  },
  {
   "cell_type": "code",
   "execution_count": null,
   "outputs": [],
   "source": [
    "freqs = np.linspace(20,500,512) # Número de puntos del vector frecuencia"
   ],
   "metadata": {
    "collapsed": false,
    "ExecuteTime": {
     "start_time": "2024-12-10T13:49:56.191599Z"
    }
   }
  },
  {
   "cell_type": "markdown",
   "source": [
    "## WAVELET PARAMETERS = 3, 16, 33, 55, 60, 115 cycles"
   ],
   "metadata": {
    "collapsed": false
   }
  },
  {
   "cell_type": "code",
   "execution_count": null,
   "outputs": [],
   "source": [
    "importlib.reload(morlet)"
   ],
   "metadata": {
    "collapsed": false,
    "ExecuteTime": {
     "start_time": "2024-12-10T13:49:56.194066Z"
    }
   }
  },
  {
   "cell_type": "code",
   "execution_count": null,
   "outputs": [],
   "source": [
    "importlib.reload(superlet)"
   ],
   "metadata": {
    "collapsed": false,
    "ExecuteTime": {
     "start_time": "2024-12-10T13:49:56.197075Z"
    }
   }
  },
  {
   "cell_type": "code",
   "execution_count": null,
   "outputs": [],
   "source": [
    "plot_1 = False\n",
    "plot_2 = False"
   ],
   "metadata": {
    "collapsed": false,
    "ExecuteTime": {
     "start_time": "2024-12-10T13:49:56.200827Z"
    }
   }
  },
  {
   "cell_type": "code",
   "execution_count": null,
   "outputs": [],
   "source": [
    "MNF_1"
   ],
   "metadata": {
    "collapsed": false,
    "ExecuteTime": {
     "start_time": "2024-12-10T13:49:56.203895Z"
    }
   }
  },
  {
   "cell_type": "code",
   "execution_count": null,
   "outputs": [],
   "source": [
    "offset = 0 # Para que la figura del instant mean frequency sea más mona\n",
    "offset_burst = 0"
   ],
   "metadata": {
    "collapsed": false,
    "ExecuteTime": {
     "start_time": "2024-12-10T13:49:56.206478Z"
    }
   }
  },
  {
   "cell_type": "code",
   "execution_count": null,
   "outputs": [],
   "source": [
    "#params_wavelet = [3, 16, 33, 55, 60, 115]\n",
    "params_wavelet = [3, 16, 33, 55, 60]\n",
    "#params_wavelet = [3, 33, 60, 160, 220, 400]\n",
    "\n",
    "if plot_1:\n",
    "    fig, ax = plt.subplots(ncols=len(params_wavelet), figsize=(15, 5), dpi=300)\n",
    "\n",
    "if plot_2:\n",
    "    # Definir límites de color para que sean iguales en todos los subplots\n",
    "    fig_2, ax_2 = plt.subplots(ncols=len(params_wavelet), figsize=(15, 5), dpi=300)\n",
    "    fig_3, ax_3 = plt.subplots(figsize=(10, 6))\n",
    "\n",
    "mae_wavelet = []\n",
    "std_wavelet = []\n",
    "times_wavelet = []\n",
    "\n",
    "total_time = []\n",
    "total_freq = []\n",
    "\n",
    "total_scalogram_wavelet = []\n",
    "res_wavelet = []\n",
    "\n",
    "for i, c in enumerate(params_wavelet):\n",
    "    import time\n",
    "    start_time = time.time()\n",
    "    [wv, scalogram] = superlet.wavelet_transform(signal, freqs, c, fs)\n",
    "    end_time = time.time()\n",
    "    times_wavelet.append(end_time - start_time)\n",
    "    #[wv, scalogram] = superlet.wavelet_transform(signal, freqs, c, fs)  \n",
    "    \n",
    "    if plot_1:\n",
    "        im = ax[i].imshow(jnp.abs(scalogram)**2, aspect='auto', cmap=\"jet\", interpolation=\"none\", origin=\"lower\", extent=[0, len(signal)/fs, freqs[0], freqs[-1]]) #, vmin=vmin, vmax=vmax)\n",
    "        end_time = time.time()\n",
    "        times_wavelet.append(end_time - start_time)\n",
    "        ax[i].set_title(f\"Cycles: {c}\")\n",
    "        ax[i].set_xlabel(\"Time (s)\")\n",
    "        ax[i].set_ylabel(\"Frequency (Hz)\")\n",
    "        \n",
    "        cbar = fig.colorbar(im, ax=ax[i], orientation='horizontal')\n",
    "        cbar.set_label('Power [a.u]', rotation=0, labelpad=15)  # Etiqueta de la colorbar\n",
    "        #plt.subplots_adjust(left = 0.1, top = 0.9, right = 0.9, bottom = 0.1, hspace = 1, wspace = 0.5)\n",
    "        plt.tight_layout()  \n",
    "    \n",
    "    #mean_freq = sum(power.*frequencies)/sum(power)\n",
    "    #instant_mean.append(meanfreq(scalogram[:, col], freqs) for col in range(scalogram.shape[1]))\n",
    "    \n",
    "    scalogram_2 = jnp.abs(scalogram)**2    \n",
    "    \n",
    "\n",
    "    total_scalogram_wavelet.append(scalogram_2)  \n",
    "    #instant_mean_freq_total = []\n",
    "    \n",
    "    #instant_mean_freq = np.sum(scalogram_2 * freqs[:, np.newaxis], axis=0) / np.sum(scalogram_2, axis=0)    \n",
    "    instant_mean_freq_total = []\n",
    "\n",
    "    instant_mean_freq = np.sum(scalogram_2 * freqs[:, np.newaxis], axis=0) / np.sum(scalogram_2, axis=0)\n",
    "\n",
    "    initial_imnf = instant_mean_freq[:round(burst_start_1 * fs) - offset]\n",
    "    instant_mean_freq_total.extend(initial_imnf)\n",
    "    # plt.figure()\n",
    "    # plt.plot(initial_imnf)\n",
    "\n",
    "    instant_mean_freq_burst = instant_mean_freq[\n",
    "                              round(burst_start_1 * fs):round((burst_start_1 + burst_duration_1) * fs)]\n",
    "    instant_mean_freq_burst = instant_mean_freq_burst[offset_burst:round(len(instant_mean_freq_burst)) - offset_burst]\n",
    "    instant_mean_freq_total.extend(instant_mean_freq_burst)\n",
    "\n",
    "    final_imnf = instant_mean_freq[round((burst_start_1 + burst_duration_1) * fs) + offset:]\n",
    "    instant_mean_freq_total.extend(final_imnf)\n",
    "    # plt.figure()\n",
    "    # plt.plot(final_imnf)\n",
    "    # plt.figure()\n",
    "    # plt.plot(instant_mean_freq_total)\n",
    "\n",
    "    # Create time (each column is a time instant)\n",
    "    tiempo = np.arange(len(instant_mean_freq_total)) / fs\n",
    "\n",
    "    if plot_2:\n",
    "        ax_2[i].plot(tiempo, instant_mean_freq_total,\n",
    "                     label=\"Mean frequency (each window of \" + str(len(freqs)) + ' samples)')\n",
    "\n",
    "        ax_2[i].set_xlabel(\"Time (s)\")\n",
    "        ax_2[i].set_ylabel(\"Frequency (Hz)\")\n",
    "        #ax_2[i].set_xlim(tiempo[0], tiempo[-1])\n",
    "        #plt.title(\"Medias de cada fila en función del tiempo\")\n",
    "        ax_2[i].legend()\n",
    "        ax_2[i].grid(True)\n",
    "\n",
    "        ax_3.plot(tiempo, instant_mean_freq_total, label=f\"Mean frequency (Cycles: {c})\")\n",
    "\n",
    "    print(np.mean(instant_mean_freq_burst))\n",
    "    mae, std = calculate_mae(instant_mean_freq_burst, MNF_1)\n",
    "    mae_wavelet.append(mae)\n",
    "    std_wavelet.append(std)\n",
    "\n",
    "    # Compute MAE in time\n",
    "    # freq_tolerance = 10\n",
    "    # time_support = (instant_mean_freq_total >= MNF_1[0] - freq_tolerance) & (instant_mean_freq_total <= MNF_1[0] + freq_tolerance)\n",
    "    # detected_times = tiempo[time_support]\n",
    "    # detected_start = detected_times[0] if len(detected_times) > 0 else None\n",
    "    # detected_end = detected_times[-1] if len(detected_times) > 0 else None\n",
    "    # \n",
    "    # if detected_start is not None and detected_end is not None:\n",
    "    #     errors = [abs(burst_start_1 - detected_start), abs((burst_start_1 + burst_duration_1) - detected_end)]\n",
    "    #     # Calcular MAE\n",
    "    #     mae_time = np.mean(errors)\n",
    "    #     # Calcular STD\n",
    "    #     std_time = np.std(errors)\n",
    "    # else:\n",
    "    #     mae_time = float('nan')  # No se detectó el burst correctamente\n",
    "    #     std_time = float('nan')\n",
    "    #     \n",
    "    # mae_superlet_t.append(mae_time)\n",
    "    # std_superlet_t.append(std_time) \n",
    "\n",
    "    \n",
    "    time = np.arange(scalogram_2.shape[1]) / fs\n",
    "    \n",
    "    total_time.append(time)\n",
    "    total_freq.append(freqs)\n",
    "\n",
    "if plot_2:\n",
    "    ax_3.set_xlabel(\"Time (s)\")\n",
    "    ax_3.set_ylabel(\"Frequency (Hz)\")\n",
    "    ax_3.legend()\n",
    "    ax_3.grid(True)\n",
    "    ax_3.set_title(\"Comparación de frecuencias medias instantáneas\")\n",
    "    \n",
    "res_wavelet = superlet.compute_avg_response_resolution(total_scalogram_wavelet, total_time, total_freq, params_wavelet)"
   ],
   "metadata": {
    "collapsed": false,
    "ExecuteTime": {
     "end_time": "2024-12-10T13:49:56.277027Z",
     "start_time": "2024-12-10T13:49:56.209750Z"
    }
   }
  },
  {
   "cell_type": "code",
   "execution_count": null,
   "outputs": [],
   "source": [
    "mae_wavelet"
   ],
   "metadata": {
    "collapsed": false,
    "ExecuteTime": {
     "start_time": "2024-12-10T13:49:56.211998Z"
    }
   }
  },
  {
   "cell_type": "markdown",
   "source": [
    "### Wavelet visualization"
   ],
   "metadata": {
    "collapsed": false
   }
  },
  {
   "cell_type": "code",
   "execution_count": null,
   "outputs": [],
   "source": [
    "# import matplotlib.pyplot as plt\n",
    "# \n",
    "# # Supongamos que la frecuencia central de cada wavelet varía en un rango de frecuencias\n",
    "# frequencies = jnp.linspace(1, 50, 141)  # Por ejemplo, de 1 a 50 Hz con 141 frecuencias\n",
    "# \n",
    "# # Define un vector de tiempo\n",
    "# t = jnp.linspace(-1, 1, 2048)  # Tiempo con 2048 puntos\n",
    "# \n",
    "# # Grafica la wavelet para una frecuencia específica (por ejemplo, la frecuencia central de 20 Hz)\n",
    "# freq_idx = 70  # Índice de frecuencia alrededor de la mitad del rango\n",
    "# plt.plot(t, jnp.real(wv[freq_idx]), label=f'Wavelet en {frequencies[freq_idx]:.2f} Hz')\n",
    "# plt.xlabel(\"Tiempo (s)\")\n",
    "# plt.ylabel(\"Amplitud\")\n",
    "# plt.title(\"Parte Real de la Wavelet Morlet a una Frecuencia Específica\")\n",
    "# plt.xlim(-1.3, 1.3)\n",
    "# plt.legend()\n",
    "# plt.show()\n",
    "\n"
   ],
   "metadata": {
    "collapsed": false,
    "ExecuteTime": {
     "start_time": "2024-12-10T13:49:56.214623Z"
    }
   }
  },
  {
   "cell_type": "code",
   "execution_count": null,
   "outputs": [],
   "source": [
    "# plt.imshow(jnp.abs(wv), aspect='auto', extent=[-1, 1, frequencies[-1], frequencies[0]], cmap='viridis')\n",
    "# plt.colorbar(label=\"Amplitud\")\n",
    "# plt.xlabel(\"Tiempo (s)\")\n",
    "# plt.ylabel(\"Frecuencia (Hz)\")\n",
    "# plt.title(\"Representación Tiempo-Frecuencia de la Wavelet\")\n",
    "# plt.show()\n"
   ],
   "metadata": {
    "collapsed": false,
    "ExecuteTime": {
     "start_time": "2024-12-10T13:49:56.216936Z"
    }
   }
  },
  {
   "cell_type": "markdown",
   "source": [
    "There's a tradeoff above; using a low number of cycles results in high temporal resolution, but poor frequency resolution (the activations are \"smeared\" on the frequency dimension). On the other hand, a high number of cycles results in high frequency resolution, but poor temporal resolution. \n",
    "\n",
    "There are fundamental limits to how precise we can be on *both* aspects without making a tradeoff on either (the Gabor limit), but the standard wavelet transform isn't on that optimal boundary. Superlets improve resolution on both (time *and* frequency) by taking the geometric mean of wavelet transforms of different cycle lengths, more tightly approaching the Gabor limit."
   ],
   "metadata": {}
  },
  {
   "cell_type": "markdown",
   "source": [
    "## PARÁMETROS SUPERLET: base_cycle, min_order, max_order = [3, 5, 1, 1, 1, 1], [1, 1, 5, 10, 20, 30], [30, 30, 40, 100, 100, 200]"
   ],
   "metadata": {
    "collapsed": false
   }
  },
  {
   "cell_type": "code",
   "execution_count": null,
   "outputs": [],
   "source": [
    "plot_1 = False\n",
    "plot_2 = False"
   ],
   "metadata": {
    "collapsed": false,
    "ExecuteTime": {
     "start_time": "2024-12-10T13:49:56.219479Z"
    }
   }
  },
  {
   "cell_type": "code",
   "execution_count": null,
   "outputs": [],
   "source": [
    "importlib.reload(superlet)"
   ],
   "metadata": {
    "collapsed": false,
    "ExecuteTime": {
     "start_time": "2024-12-10T13:49:56.222552Z"
    }
   }
  },
  {
   "cell_type": "code",
   "execution_count": null,
   "outputs": [],
   "source": [
    "mae_wavelet"
   ],
   "metadata": {
    "collapsed": false,
    "ExecuteTime": {
     "start_time": "2024-12-10T13:49:56.224909Z"
    }
   }
  },
  {
   "cell_type": "code",
   "execution_count": null,
   "outputs": [],
   "source": [
    "#params_superlet = [[3, 5, 1, 1, 1, 1], [1, 1, 5, 10, 20, 30], [30, 30, 40, 100, 100, 200]]\n",
    "params_superlet = [[1, 1, 3, 5, 5], [3, 5, 1, 1, 1], [30, 40, 30, 40, 50]]\n",
    "#params_superlet = [[3,5,1],[1,1,5],[30,30,40]]\n",
    "\n",
    "if plot_1:\n",
    "    fig, ax = plt.subplots(ncols=len(params_superlet[0]), figsize=(15, 5), dpi=300)\n",
    "\n",
    "if plot_2:\n",
    "    fig_2, ax_2 = plt.subplots(ncols=len(params_superlet[0]), figsize=(15, 5), dpi=300)\n",
    "    fig_3, ax_3 = plt.subplots(figsize=(10, 6))\n",
    "\n",
    "mae_superlet = []\n",
    "std_superlet = []\n",
    "\n",
    "mae_superlet_t = []\n",
    "std_superlet_t = []\n",
    "\n",
    "times_superlet = []\n",
    "\n",
    "total_time = []\n",
    "total_freq = []\n",
    "\n",
    "total_scalogram_superlet = []\n",
    "\n",
    "#enumerate(zip([3,5,1], [1,1,5], [30,30,40])):\n",
    "#enumerate(zip([1,1,1], [10,20,30], [100,100,200])):\n",
    "for (i, (base_cycle, min_order, max_order)) in enumerate(zip(*params_superlet)):\n",
    "    import time\n",
    "\n",
    "    start_time = time.time()\n",
    "    wv, scalogram = superlet.adaptive_superlet_transform(signal, freqs, sampling_freq=fs,\n",
    "                                                         base_cycle=base_cycle, min_order=min_order,\n",
    "                                                         max_order=max_order, mode=\"mul\")\n",
    "    end_time = time.time()\n",
    "    times_superlet.append(end_time - start_time)\n",
    "\n",
    "    if plot_1:\n",
    "        im = ax[i].imshow(jnp.abs(scalogram) ** 2, aspect='auto', cmap=\"jet\", interpolation=\"none\", origin=\"lower\",extent=[0, len(signal) / fs, freqs[0], freqs[-1]])\n",
    "        ax[i].set_title(f\"$c_1$: {base_cycle}, o: {min_order}-{max_order}\")\n",
    "        ax[i].set_xlabel(\"Time (s)\")\n",
    "        ax[i].set_ylabel(\"Frequency (Hz)\")\n",
    "\n",
    "        cbar = fig.colorbar(im, ax=ax[i], orientation='horizontal')\n",
    "        cbar.set_label('Power [a.u]', rotation=0, labelpad=15)  # Etiqueta de la colorbar\n",
    "        plt.tight_layout()\n",
    "\n",
    "    scalogram_2 = np.abs(scalogram) ** 2\n",
    "\n",
    "    if np.any(np.isnan(jnp.abs(scalogram) ** 2)) or np.any(np.isinf(jnp.abs(scalogram) ** 2)):\n",
    "        scalogram_2 = np.nan_to_num(jnp.abs(scalogram) ** 2)\n",
    "\n",
    "    total_scalogram_superlet.append(scalogram_2)\n",
    "    #scalogram_2 = scalogram_2 * freqs[:, np.newaxis]  \n",
    "\n",
    "    # Compute MAE in frequency\n",
    "    instant_mean_freq_total = []\n",
    "\n",
    "    instant_mean_freq = np.sum(scalogram_2 * freqs[:, np.newaxis], axis=0) / np.sum(scalogram_2, axis=0)\n",
    "\n",
    "    initial_imnf = instant_mean_freq[:round(burst_start_1 * fs) - offset]\n",
    "    instant_mean_freq_total.extend(initial_imnf)\n",
    "    # plt.figure()\n",
    "    # plt.plot(initial_imnf)\n",
    "\n",
    "    instant_mean_freq_burst = instant_mean_freq[\n",
    "                              round(burst_start_1 * fs):round((burst_start_1 + burst_duration_1) * fs)]\n",
    "    instant_mean_freq_burst = instant_mean_freq_burst[offset_burst:round(len(instant_mean_freq_burst)) - offset_burst]\n",
    "    instant_mean_freq_total.extend(instant_mean_freq_burst)\n",
    "\n",
    "    final_imnf = instant_mean_freq[round((burst_start_1 + burst_duration_1) * fs) + offset:]\n",
    "    instant_mean_freq_total.extend(final_imnf)\n",
    "    # plt.figure()\n",
    "    # plt.plot(final_imnf)\n",
    "    # plt.figure()\n",
    "    # plt.plot(instant_mean_freq_total)\n",
    "\n",
    "    # Create time (each column is a time instant)\n",
    "    tiempo = np.arange(len(instant_mean_freq_total)) / fs\n",
    "\n",
    "    if plot_2:\n",
    "        ax_2[i].plot(tiempo, instant_mean_freq_total,\n",
    "                     label=\"Mean frequency (each window of \" + str(len(freqs)) + ' samples)')\n",
    "\n",
    "        ax_2[i].set_xlabel(\"Time (s)\")\n",
    "        ax_2[i].set_ylabel(\"Frequency (Hz)\")\n",
    "        #ax_2[i].set_xlim(tiempo[0], tiempo[-1])\n",
    "        #plt.title(\"Medias de cada fila en función del tiempo\")\n",
    "        ax_2[i].legend()\n",
    "        ax_2[i].grid(True)\n",
    "\n",
    "        ax_3.plot(tiempo, instant_mean_freq_total, label=f\"Mean frequency (Cycles: {base_cycle})\")\n",
    "\n",
    "    print(np.mean(instant_mean_freq_burst))\n",
    "    mae, std = calculate_mae(instant_mean_freq_burst, MNF_1)\n",
    "    mae_superlet.append(mae)\n",
    "    std_superlet.append(std)\n",
    "\n",
    "    # Compute MAE in time\n",
    "    # freq_tolerance = 10\n",
    "    # time_support = (instant_mean_freq_total >= MNF_1[0] - freq_tolerance) & (instant_mean_freq_total <= MNF_1[0] + freq_tolerance)\n",
    "    # detected_times = tiempo[time_support]\n",
    "    # detected_start = detected_times[0] if len(detected_times) > 0 else None\n",
    "    # detected_end = detected_times[-1] if len(detected_times) > 0 else None\n",
    "    # \n",
    "    # if detected_start is not None and detected_end is not None:\n",
    "    #     errors = [abs(burst_start_1 - detected_start), abs((burst_start_1 + burst_duration_1) - detected_end)]\n",
    "    #     # Calcular MAE\n",
    "    #     mae_time = np.mean(errors)\n",
    "    #     # Calcular STD\n",
    "    #     std_time = np.std(errors)\n",
    "    # else:\n",
    "    #     mae_time = float('nan')  # No se detectó el burst correctamente\n",
    "    #     std_time = float('nan')\n",
    "    #     \n",
    "    # mae_superlet_t.append(mae_time)\n",
    "    # std_superlet_t.append(std_time) \n",
    "\n",
    "    \n",
    "    time = np.arange(scalogram_2.shape[1]) / fs\n",
    "    \n",
    "    total_time.append(time)\n",
    "    total_freq.append(freqs)\n",
    "\n",
    "if plot_2:\n",
    "    ax_3.set_xlabel(\"Time (s)\")\n",
    "    ax_3.set_ylabel(\"Frequency (Hz)\")\n",
    "    ax_3.legend()\n",
    "    ax_3.grid(True)\n",
    "    ax_3.set_title(\"Comparación de frecuencias medias instantáneas\")\n",
    "    \n",
    "res_superlet = superlet.compute_avg_response_resolution(total_scalogram_superlet, total_time, total_freq, [f'$c_1$={c3}, o:{c1}-{c2}' for c1, c2, c3 in zip(*params_superlet)])"
   ],
   "metadata": {
    "collapsed": false,
    "ExecuteTime": {
     "start_time": "2024-12-10T13:49:56.227439Z"
    }
   }
  },
  {
   "cell_type": "code",
   "execution_count": null,
   "outputs": [],
   "source": [
    "mae_superlet"
   ],
   "metadata": {
    "collapsed": false,
    "ExecuteTime": {
     "start_time": "2024-12-10T13:49:56.230446Z"
    }
   }
  },
  {
   "cell_type": "markdown",
   "source": [
    "## STFT PARAMETERS (window = duration/cycles) = 38, 200, 413, 550, 600, 824 ms"
   ],
   "metadata": {
    "collapsed": false
   }
  },
  {
   "cell_type": "code",
   "execution_count": null,
   "outputs": [],
   "source": [
    "importlib.reload(superlet)"
   ],
   "metadata": {
    "collapsed": false,
    "ExecuteTime": {
     "start_time": "2024-12-10T13:49:56.233353Z"
    }
   }
  },
  {
   "cell_type": "code",
   "execution_count": null,
   "outputs": [],
   "source": [
    "offset_burst = 20\n",
    "offset = 0"
   ],
   "metadata": {
    "collapsed": false,
    "ExecuteTime": {
     "start_time": "2024-12-10T13:49:56.235888Z"
    }
   }
  },
  {
   "cell_type": "code",
   "execution_count": null,
   "outputs": [],
   "source": [
    "import numpy as np\n",
    "import matplotlib.pyplot as plt\n",
    "from scipy.signal import stft\n",
    "from scipy.signal import windows\n",
    "\n",
    "# Parámetros de la STFT con ventanas de 38 ms, 200 ms, y 413 ms (convertido a muestras)\n",
    "# [38, 200, 413, 550, 600, 824]\n",
    "windows_ms = [38, 200, 413, 550, 600]\n",
    "#windows_samples = [int((w / 1000) * fs) for w in windows_ms]  # Convertir a muestras\n",
    "\n",
    "if plot_1:\n",
    "    fig, ax = plt.subplots(ncols=len(windows_ms), figsize=(15, 5), dpi=300)\n",
    "\n",
    "if plot_2:\n",
    "    fig_2, ax_2 = plt.subplots(ncols=len(windows_ms), figsize=(15, 5), dpi=300)\n",
    "    fig_3, ax_3 = plt.subplots(figsize=(10, 6))\n",
    "\n",
    "mae_stft = []\n",
    "std_stft = []\n",
    "times_stft = []\n",
    "\n",
    "total_time = []\n",
    "total_freq = []\n",
    "\n",
    "res_stft = []\n",
    "total_scalogram_stft = []\n",
    "\n",
    "for i, w in enumerate(windows_ms):\n",
    "    import time\n",
    "    # Calcular la ventana Blackman\n",
    "    start_time = time.time()\n",
    "    window = windows.blackman(w)\n",
    "    \n",
    "    # Hacer que la f de la stft tenga el mismo tamaño que las demás\n",
    "    nfft = 2 * (len(freqs))\n",
    "    # Dimensión de la frecuencia = nfft/2 + 1\n",
    "    # Dimesión del tiempo = [(N - noverlap)/(nperseg-noverlap)] + 1 = \n",
    "    \n",
    "    # Realizar la STFT con la ventana Blackman y superposición del 50%\n",
    "    #f, t, Zxx = stft(signal, fs, window=window, nfft=nfft, nperseg=w, noverlap=w//2, padded=True, scaling='psd')\n",
    "    f, t, Zxx = stft(signal, fs=fs, window='blackman', nperseg=w, noverlap=w-1, nfft=nfft, detrend=False, return_onesided=True, boundary='zeros', padded=True, axis=-1, scaling='spectrum')\n",
    "    \n",
    "    # ax[i].pcolormesh(t, f, np.abs(Zxx), shading='gouraud', cmap='jet')\n",
    "    \n",
    "    # Calcular la representación de potencia (magnitud al cuadrado)\n",
    "    Zxx_power = np.abs(Zxx) ** 2\n",
    "    \n",
    "    # Graficar la representación de potencia\n",
    "    #plt.figure(figsize=(10, 6))\n",
    "    \n",
    "    end_time = time.time()\n",
    "    times_stft.append(end_time - start_time)\n",
    "    \n",
    "    if plot_1:\n",
    "        pcm = ax[i].pcolormesh(t,f, Zxx_power, shading='gouraud', cmap='jet')\n",
    "        \n",
    "        ax[i].set_title(f'W={w * 1000 // fs} ms')\n",
    "        ax[i].set_ylabel('Frecuencia [Hz]')\n",
    "        ax[i].set_xlabel('Tiempo [s]')\n",
    "        \n",
    "        cbar = fig.colorbar(pcm, ax=ax[i], orientation='horizontal')\n",
    "        cbar.set_label('Power', rotation=270, labelpad=15)  # Etiqueta de la colorbar\n",
    "    \n",
    "        #fig.colorbar(pcm, ax=ax[i], label='Potencia')\n",
    "        ax[i].set_ylim(freqs[0], freqs[-1])  # Ajustar el rango de frecuencias si es necesario\n",
    "        plt.tight_layout()\n",
    "    \n",
    "    scalogram_2 = Zxx_power\n",
    "    \n",
    "    #if np.any(np.isnan(jnp.abs(Zxx)**2)) or np.any(np.isinf(jnp.abs(Zxx)**2)):\n",
    "    scalogram_2 = jnp.nan_to_num(jnp.abs(Zxx)**2, nan=0.0, posinf=0.0, neginf=0.0)\n",
    "        \n",
    "    total_scalogram_stft.append(scalogram_2)\n",
    " \n",
    "    instant_mean_freq_total = []   \n",
    "    instant_mean_freq = np.sum(scalogram_2 * f[:, np.newaxis], axis=0) / np.sum(scalogram_2, axis=0)    \n",
    "    \n",
    "    #mean_instant_freq = np.where(freqs,np.max(scalogram_2, axis=0))\n",
    "    # mean_instant = np.mean(np.where(freqs,max(scalogram_2)))\n",
    "    # plt.figure()\n",
    "    # plt.plot(mean_instant)\n",
    "    \n",
    "    start_index = np.argmin(np.abs(t - burst_start_1))\n",
    "    end_index_burst = np.argmin(np.abs(t - (burst_start_1 + burst_duration_1)))\n",
    "    \n",
    "    # Segmento inicial antes del burst\n",
    "    initial_imnf = instant_mean_freq[:max(0, start_index - offset)]  # Asegurar que no haya índices negativos\n",
    "    instant_mean_freq_total.extend(initial_imnf)\n",
    "    # plt.figure()\n",
    "    # plt.plot(initial_imnf)\n",
    "    \n",
    "    # Segmento durante el burst\n",
    "    instant_mean_freq_burst = instant_mean_freq[start_index:end_index_burst]\n",
    "    instant_mean_freq_burst = instant_mean_freq_burst[offset_burst:len(instant_mean_freq_burst)-offset_burst]  # Aplicar offset dentro del burst\n",
    "    instant_mean_freq_total.extend(instant_mean_freq_burst)\n",
    "    # plt.figure()\n",
    "    # plt.plot(instant_mean_freq_burst)\n",
    "    \n",
    "    # Segmento final después del burst\n",
    "    final_start_index = end_index_burst + offset\n",
    "    final_imnf = instant_mean_freq[final_start_index:]\n",
    "    instant_mean_freq_total.extend(final_imnf)\n",
    "  \n",
    "    # initial_imnf = instant_mean_freq[:np.where(t >= burst_start_1)[0][0]-offset]\n",
    "    # instant_mean_freq_total.extend(initial_imnf)\n",
    "    # # plt.figure()\n",
    "    # # plt.plot(initial_imnf)\n",
    "    # \n",
    "    # print(t >= (burst_start_1 + burst_duration_1))\n",
    "    # instant_mean_freq_burst = instant_mean_freq[np.where(t >= burst_start_1)[0][0]:np.where(t >= (burst_start_1 + burst_duration_1))[0][0]]\n",
    "    # instant_mean_freq_burst = instant_mean_freq_burst[offset_burst:len(instant_mean_freq_burst)-offset_burst]\n",
    "    # instant_mean_freq_total.extend(instant_mean_freq_burst)\n",
    "    # # plt.figure()\n",
    "    # # plt.plot(instant_mean_freq_burst)\n",
    "    #  \n",
    "    # final_imnf = instant_mean_freq[np.where(t >= burst_start_1 + burst_duration_1)[0][0] + offset:]\n",
    "    # instant_mean_freq_total.extend(final_imnf)\n",
    "    # plt.figure()\n",
    "    # plt.plot(final_imnf)\n",
    "\n",
    "    # Create time (each column is a time instant)\n",
    "    tiempo = np.linspace(t[0], t[-1], len(instant_mean_freq_total))\n",
    "    \n",
    "    if plot_2:\n",
    "        ax_2[i].plot(tiempo, instant_mean_freq_total, label=\"Mean frequency (each window of \" + str(len(freqs)) + ' samples)')\n",
    "        \n",
    "        ax_2[i].set_xlabel(\"Time (s)\")\n",
    "        ax_2[i].set_ylabel(\"Frequency (Hz)\")\n",
    "        #ax_2[i].set_xlim(tiempo[0], tiempo[-1])\n",
    "        #plt.title(\"Medias de cada fila en función del tiempo\")\n",
    "        ax_2[i].legend()\n",
    "        ax_2[i].grid(True)\n",
    "        \n",
    "        ax_3.plot(tiempo, instant_mean_freq_total, label=f\"Mean frequency (Cycles: {w})\")\n",
    "    \n",
    "    print(np.mean(instant_mean_freq_burst))\n",
    "    mae, std = calculate_mae(instant_mean_freq_burst, MNF_1)\n",
    "    mae_stft.append(mae)\n",
    "    std_stft.append(std)\n",
    "    \n",
    "    total_time.append(np.linspace(t[0], t[-1], scalogram_2.shape[1]))\n",
    "    total_freq.append(np.linspace(f[0], f[-1], scalogram_2.shape[0]))\n",
    "\n",
    "# Configuración del gráfico\n",
    "if plot_2:\n",
    "    ax_3.set_xlabel(\"Time (s)\")\n",
    "    ax_3.set_ylabel(\"Frequency (Hz)\")\n",
    "    ax_3.legend()\n",
    "    ax_3.grid(True)\n",
    "    ax_3.set_title(\"Comparación de frecuencias medias instantáneas\")\n",
    "        \n",
    "res_stft = superlet.compute_avg_response_resolution(total_scalogram_stft, total_time, total_freq, windows_ms, stft=[freqs[0],freqs[-1]])"
   ],
   "metadata": {
    "collapsed": false,
    "ExecuteTime": {
     "start_time": "2024-12-10T13:49:56.238749Z"
    }
   }
  },
  {
   "cell_type": "code",
   "execution_count": null,
   "outputs": [],
   "source": [
    "mae_stft"
   ],
   "metadata": {
    "collapsed": false,
    "ExecuteTime": {
     "start_time": "2024-12-10T13:49:56.240880Z"
    }
   }
  },
  {
   "cell_type": "code",
   "execution_count": null,
   "outputs": [],
   "source": [
    "if 'SNR' not in globals():\n",
    "    SNR = \"Inf\""
   ],
   "metadata": {
    "collapsed": false,
    "ExecuteTime": {
     "start_time": "2024-12-10T13:49:56.243143Z"
    }
   }
  },
  {
   "cell_type": "markdown",
   "source": [
    "### Plot comparison of the same SNR"
   ],
   "metadata": {
    "collapsed": false
   }
  },
  {
   "cell_type": "code",
   "execution_count": null,
   "outputs": [],
   "source": [
    "# params_wavelet = [3, 16, 33, 55, 60, 115]\n",
    "# params_superlet = [\n",
    "#     (3, 1, 30), (5, 1, 30), (1, 5, 40), (1, 10, 100), (1, 20, 100), (1, 30, 200)\n",
    "# ]\n",
    "# params_stft = [38, 200, 413, 550, 600, 824]  # Tamaños de ventana en ms\n",
    "params_stft = windows_ms\n",
    "\n",
    "# Número de condiciones\n",
    "num_conditions = len(mae_wavelet)\n",
    "x = np.arange(num_conditions)  # Posiciones para cada grupo de barras\n",
    "bar_width = 0.25  # Ancho de las barras\n",
    "\n",
    "# Crear el gráfico de barras\n",
    "plt.figure(figsize=(14, 7))\n",
    "\n",
    "# Graficar cada técnica con sus valores y barras de error\n",
    "plt.bar(x - bar_width, mae_stft, width=bar_width, yerr=std_stft, capsize=5, label='STFT', color='skyblue', alpha=0.7)\n",
    "plt.bar(x, mae_wavelet, width=bar_width, yerr=std_wavelet, capsize=5, label='Wavelet', color='lightgreen', alpha=0.7)\n",
    "plt.bar(x + bar_width, mae_superlet, width=bar_width, yerr=std_superlet, capsize=5, label='Superlet', color='salmon', alpha=0.7)\n",
    "\n",
    "# Configuración de etiquetas en el eje x con los parámetros específicos\n",
    "labels = [\n",
    "    f\"W={p_stft} ms\\n\\nc={p_w}\\n\\nc$_1$={p_s[0]}, o: {p_s[1]}-{p_s[2]}\"\n",
    "    for p_w, p_s, p_stft in zip(params_wavelet, zip(*params_superlet), params_stft)\n",
    "]\n",
    "\n",
    "plt.xticks(x, labels, rotation=90, ha='center', fontsize=18)\n",
    "#plt.xlabel('Condiciones y Parámetros')\n",
    "plt.yticks(np.arange(0, 41, 10))\n",
    "\n",
    "plt.ylabel('MAE (Hz)')\n",
    "plt.title('Comparison (SNR = ' + str(SNR) +')', fontsize=18)\n",
    "plt.ylim(0,40)\n",
    "plt.legend(fontsize=14)\n",
    "plt.grid(True)\n",
    "\n",
    "# Ajustar el layout para mejorar visualización de etiquetas\n",
    "plt.tight_layout()\n",
    "\n",
    "# Mostrar el gráfico\n",
    "plt.show()"
   ],
   "metadata": {
    "collapsed": false,
    "ExecuteTime": {
     "start_time": "2024-12-10T13:49:56.245621Z"
    }
   }
  },
  {
   "cell_type": "markdown",
   "source": [
    "# COMPUTE RESOLUTION"
   ],
   "metadata": {
    "collapsed": false
   }
  },
  {
   "cell_type": "code",
   "execution_count": null,
   "outputs": [],
   "source": [
    "rayleigh_limit = 1 / (4 * np.pi)\n",
    "\n",
    "# Etiquetas para los grupos de parámetros con salto de línea adicional\n",
    "labels = [\n",
    "    f\"W={p_stft} ms\\nc={p_wavelet}\\nc$_1$={p_superlet[0]}, o={p_superlet[1]}-{p_superlet[2]}\"\n",
    "    for p_wavelet, p_superlet, p_stft in zip(params_wavelet, zip(*params_superlet), params_stft)\n",
    "]\n",
    "\n",
    "x = np.arange(1,len(params_wavelet)+1)\n",
    "\n",
    "plt.figure(figsize=(12, 8))\n",
    "\n",
    "# Primer gráfico (Frecuencia)\n",
    "plt.subplot(2, 1, 1)\n",
    "plt.plot(x, [r[1] for r in res_wavelet], 'ro-', label=\"Wavelet (Frequency)\")\n",
    "plt.plot(x, [r[1] for r in res_stft], 'bo-', label=\"STFT (Frequency)\")\n",
    "plt.plot(x, [r[1] for r in res_superlet], 'go-', label=\"Superlet (Frequency)\")\n",
    "plt.axhline(rayleigh_limit, color='k', linestyle='--', label=\"Rayleigh Limit\")\n",
    "plt.xlabel(\"Window Size / Cycles / Order\")\n",
    "plt.ylabel(\"Frequency Resolution (Hz)\")\n",
    "plt.legend()\n",
    "\n",
    "# Segundo gráfico (Tiempo)\n",
    "plt.subplot(2, 1, 2)\n",
    "plt.plot(x, [r[0] for r in res_wavelet], 'ro-', label=\"Wavelet (Time)\")\n",
    "plt.plot(x, [r[0] for r in res_stft], 'bo-', label=\"STFT (Time)\")\n",
    "plt.plot(x, [r[0] for r in res_superlet], 'go-', label=\"Superlet (Time)\")\n",
    "plt.axhline(1 / MNF_1[0], color='k', linestyle='--', label=\"Temporal Limit\")\n",
    "plt.xlabel(\"Window Size / Cycles / Order\")\n",
    "plt.ylabel(\"Time Resolution (s)\")\n",
    "plt.legend()\n",
    "\n",
    "# Ajuste de los xticks para ambos subgráficos\n",
    "for ax in plt.gcf().get_axes():\n",
    "    ax.set_xticks(x)  # Establecer los valores de los ticks\n",
    "    ax.set_xticklabels(labels, rotation=90, ha='center', fontsize=10)  # Establecer las etiquetas con el formato deseado\n",
    "\n",
    "# Ajustar el diseño\n",
    "plt.tight_layout()\n",
    "plt.show()"
   ],
   "metadata": {
    "collapsed": false,
    "ExecuteTime": {
     "start_time": "2024-12-10T13:49:56.248364Z"
    }
   }
  },
  {
   "cell_type": "markdown",
   "source": [
    "# Only first time!!!!"
   ],
   "metadata": {
    "collapsed": false
   }
  },
  {
   "cell_type": "code",
   "execution_count": null,
   "outputs": [],
   "source": [
    "MAES = {\n",
    "    'stft': [],\n",
    "    'wavelet': [],\n",
    "    'superlet': [],\n",
    "    'std_stft': [],\n",
    "    'std_wavelet': [],\n",
    "    'std_superlet': []\n",
    "}"
   ],
   "metadata": {
    "collapsed": false,
    "ExecuteTime": {
     "start_time": "2024-12-10T13:49:56.251572Z"
    }
   }
  },
  {
   "cell_type": "code",
   "execution_count": null,
   "outputs": [],
   "source": [
    "MAES['wavelet'].append(mae_wavelet)\n",
    "MAES['stft'].append(mae_stft)\n",
    "MAES['superlet'].append(mae_superlet)\n",
    "MAES['std_wavelet'].append(std_wavelet)\n",
    "MAES['std_stft'].append(std_stft)\n",
    "MAES['std_superlet'].append(std_superlet)"
   ],
   "metadata": {
    "collapsed": false,
    "ExecuteTime": {
     "start_time": "2024-12-10T13:49:56.253888Z"
    }
   }
  },
  {
   "cell_type": "code",
   "execution_count": null,
   "outputs": [],
   "source": [
    "MAES"
   ],
   "metadata": {
    "collapsed": false,
    "ExecuteTime": {
     "start_time": "2024-12-10T13:49:56.257938Z"
    }
   }
  },
  {
   "cell_type": "markdown",
   "source": [
    "### WE REPEAT EVERYTHING WITH DIFFERENT SNR"
   ],
   "metadata": {
    "collapsed": false
   }
  },
  {
   "cell_type": "markdown",
   "source": [
    "## We reset the signal"
   ],
   "metadata": {
    "collapsed": false
   }
  },
  {
   "cell_type": "markdown",
   "source": [
    "# Baseline parameters"
   ],
   "metadata": {
    "collapsed": false
   }
  },
  {
   "cell_type": "code",
   "execution_count": null,
   "outputs": [],
   "source": [
    "fs = 1024\n",
    "t = np.linspace(0, 5, 5 * fs)\n",
    "noise = np.random.normal(0, 0.01, len(t))  # Gaussian noise\n",
    "#noise = np.zeros(len(t))\n",
    "baseline_1 = noise.copy()"
   ],
   "metadata": {
    "collapsed": false,
    "ExecuteTime": {
     "start_time": "2024-12-10T13:49:56.260408Z"
    }
   }
  },
  {
   "cell_type": "code",
   "execution_count": null,
   "outputs": [],
   "source": [
    "baseline_1[burst_start_1*fs:burst_start_1*fs + len(burst_1)] += burst_1"
   ],
   "metadata": {
    "collapsed": false,
    "ExecuteTime": {
     "start_time": "2024-12-10T13:49:56.262761Z"
    }
   }
  },
  {
   "cell_type": "code",
   "execution_count": null,
   "outputs": [],
   "source": [
    "signal = baseline_1\n",
    "fig, ax = plt.subplots(figsize=(15, 2), dpi=300)\n",
    "ax.set_xlabel(\"Time (ms)\")\n",
    "ax.plot(jnp.linspace(0, len(signal)/fs, len(signal)), signal)\n",
    "print(f\"Reference mean frequency: {MNF_1[0]} Hz\")"
   ],
   "metadata": {
    "collapsed": false,
    "ExecuteTime": {
     "start_time": "2024-12-10T13:49:56.265328Z"
    }
   }
  },
  {
   "cell_type": "code",
   "execution_count": null,
   "outputs": [],
   "source": [
    "SNR = 5\n",
    "#signal_noise = add_noise(baseline_1, SNR, plot = True)\n",
    "signal_noise = add_noise(signal, SNR, plot = True)\n",
    "#signal_noise = add_wgn_to_sig(baseline_1, noise, SNR)\n",
    "signal = signal_noise"
   ],
   "metadata": {
    "collapsed": false,
    "ExecuteTime": {
     "start_time": "2024-12-10T13:49:56.268028Z"
    }
   }
  },
  {
   "cell_type": "code",
   "execution_count": null,
   "outputs": [],
   "source": [
    "psd_welch, f_welch, MNF = superlet.compute_psd_welch(signal, fs, plot=True, muscle='Simulated EMG signal with burst')"
   ],
   "metadata": {
    "collapsed": false,
    "ExecuteTime": {
     "start_time": "2024-12-10T13:49:56.270805Z"
    }
   }
  },
  {
   "cell_type": "code",
   "execution_count": null,
   "outputs": [],
   "source": [
    "fig, ax = plt.subplots(figsize=(15, 2), dpi=300)\n",
    "ax.set_xlabel(\"Time (ms)\")\n",
    "ax.plot(jnp.linspace(0, len(signal)/fs, len(signal)), signal)\n",
    "print(f\"Reference mean frequency: {MNF_1} Hz\")"
   ],
   "metadata": {
    "collapsed": false,
    "ExecuteTime": {
     "start_time": "2024-12-10T13:49:56.274202Z"
    }
   }
  },
  {
   "cell_type": "markdown",
   "source": [
    "## WAVELET PARAMETERS = 3, 16, 33, 55, 60, 115 cycles"
   ],
   "metadata": {
    "collapsed": false
   }
  },
  {
   "cell_type": "code",
   "execution_count": null,
   "outputs": [],
   "source": [
    "importlib.reload(superlet)"
   ],
   "metadata": {
    "collapsed": false,
    "ExecuteTime": {
     "start_time": "2024-12-10T13:49:56.276941Z"
    }
   }
  },
  {
   "cell_type": "code",
   "execution_count": null,
   "outputs": [],
   "source": [
    "#params_wavelet = [3, 16, 33, 55, 60, 115]\n",
    "\n",
    "if plot_1:\n",
    "    fig, ax = plt.subplots(ncols=len(params_wavelet), figsize=(15, 5), dpi=300)\n",
    "\n",
    "if plot_2:\n",
    "    # Definir límites de color para que sean iguales en todos los subplots\n",
    "    fig_2, ax_2 = plt.subplots(ncols=len(params_wavelet), figsize=(15, 5), dpi=300)\n",
    "    fig_3, ax_3 = plt.subplots(figsize=(10, 6))\n",
    "\n",
    "mae_wavelet = []\n",
    "std_wavelet = []\n",
    "times_wavelet = []\n",
    "\n",
    "total_time = []\n",
    "total_freq = []\n",
    "\n",
    "total_scalogram_wavelet = []\n",
    "res_wavelet = []\n",
    "\n",
    "for i, c in enumerate(params_wavelet):\n",
    "    import time\n",
    "\n",
    "    start_time = time.time()\n",
    "    [wv, scalogram] = superlet.wavelet_transform(signal, freqs, c, fs)\n",
    "    end_time = time.time()\n",
    "    times_wavelet.append(end_time - start_time)\n",
    "    #[wv, scalogram] = superlet.wavelet_transform(signal, freqs, c, fs)  \n",
    "\n",
    "    if plot_1:\n",
    "        im = ax[i].imshow(jnp.abs(scalogram) ** 2, aspect='auto', cmap=\"jet\", interpolation=\"none\", origin=\"lower\",\n",
    "                          extent=[0, len(signal) / fs, freqs[0], freqs[-1]])  #, vmin=vmin, vmax=vmax)\n",
    "        end_time = time.time()\n",
    "        times_wavelet.append(end_time - start_time)\n",
    "        ax[i].set_title(f\"Cycles: {c}\")\n",
    "        ax[i].set_xlabel(\"Time (s)\")\n",
    "        ax[i].set_ylabel(\"Frequency (Hz)\")\n",
    "\n",
    "        cbar = fig.colorbar(im, ax=ax[i], orientation='horizontal')\n",
    "        cbar.set_label('Power [a.u]', rotation=0, labelpad=15)  # Etiqueta de la colorbar\n",
    "        #plt.subplots_adjust(left = 0.1, top = 0.9, right = 0.9, bottom = 0.1, hspace = 1, wspace = 0.5)\n",
    "        plt.tight_layout()\n",
    "\n",
    "        #mean_freq = sum(power.*frequencies)/sum(power)\n",
    "    #instant_mean.append(meanfreq(scalogram[:, col], freqs) for col in range(scalogram.shape[1]))\n",
    "\n",
    "    scalogram_2 = np.abs(scalogram) ** 2\n",
    "\n",
    "    if np.any(np.isnan(jnp.abs(scalogram) ** 2)) or np.any(np.isinf(jnp.abs(scalogram) ** 2)):\n",
    "        scalogram_2 = np.nan_to_num(jnp.abs(scalogram) ** 2)\n",
    "\n",
    "    total_scalogram_wavelet.append(scalogram_2)\n",
    "    instant_mean_freq_total = []\n",
    "\n",
    "    instant_mean_freq = np.sum(scalogram_2 * freqs[:, np.newaxis], axis=0) / np.sum(scalogram_2, axis=0)\n",
    "\n",
    "    initial_imnf = instant_mean_freq[:round(burst_start_1 * fs) - offset]\n",
    "    instant_mean_freq_total.extend(initial_imnf)\n",
    "    # plt.figure()\n",
    "    # plt.plot(initial_imnf)\n",
    "\n",
    "    instant_mean_freq_burst = instant_mean_freq[\n",
    "                              round(burst_start_1 * fs):round((burst_start_1 + burst_duration_1) * fs)]\n",
    "    instant_mean_freq_burst = instant_mean_freq_burst[offset_burst:len(instant_mean_freq_burst) - offset_burst]\n",
    "    instant_mean_freq_total.extend(instant_mean_freq_burst)\n",
    "    # plt.figure()\n",
    "    # plt.plot(instant_mean_freq_burst)\n",
    "\n",
    "    final_imnf = instant_mean_freq[round((burst_start_1 + burst_duration_1) * fs) + offset:]\n",
    "    instant_mean_freq_total.extend(final_imnf)\n",
    "    # plt.figure()\n",
    "    # plt.plot(final_imnf)\n",
    "\n",
    "    # Create time (each column is a time instant)\n",
    "    tiempo = np.arange(len(instant_mean_freq_total)) / fs\n",
    "\n",
    "    if plot_2:\n",
    "        ax_2[i].plot(tiempo, instant_mean_freq_total,\n",
    "                     label=\"Mean frequency (each window of \" + str(len(freqs)) + ' samples)')\n",
    "\n",
    "        ax_2[i].set_xlabel(\"Time (s)\")\n",
    "        ax_2[i].set_ylabel(\"Frequency (Hz)\")\n",
    "        #ax_2[i].set_xlim(tiempo[0], tiempo[-1])\n",
    "        #plt.title(\"Medias de cada fila en función del tiempo\")\n",
    "        ax_2[i].legend()\n",
    "        ax_2[i].grid(True)\n",
    "\n",
    "        ax_3.plot(tiempo, instant_mean_freq_total, label=f\"Mean frequency (Cycles: {c})\")\n",
    "\n",
    "    print(np.mean(instant_mean_freq_burst))\n",
    "    mae, std = calculate_mae(instant_mean_freq_burst, MNF_1)\n",
    "    mae_wavelet.append(mae)\n",
    "    std_wavelet.append(std)\n",
    "\n",
    "    time = np.arange(scalogram_2.shape[1]) / fs\n",
    "\n",
    "    total_time.append(time)\n",
    "    total_freq.append(freqs)\n",
    "\n",
    "# Configuración del gráfico\n",
    "if plot_2:\n",
    "    ax_3.set_xlabel(\"Time (s)\")\n",
    "    ax_3.set_ylabel(\"Frequency (Hz)\")\n",
    "    ax_3.legend()\n",
    "    ax_3.grid(True)\n",
    "    ax_3.set_title(\"Comparación de frecuencias medias instantáneas\")\n",
    "\n",
    "res_wavelet = superlet.compute_avg_response_resolution(total_scalogram_wavelet, total_time, total_freq, params_wavelet)"
   ],
   "metadata": {
    "collapsed": false,
    "ExecuteTime": {
     "end_time": "2024-12-10T13:49:56.304661Z",
     "start_time": "2024-12-10T13:49:56.280408Z"
    }
   }
  },
  {
   "cell_type": "code",
   "execution_count": null,
   "outputs": [],
   "source": [
    "mae_wavelet"
   ],
   "metadata": {
    "collapsed": false,
    "ExecuteTime": {
     "start_time": "2024-12-10T13:49:56.283166Z"
    }
   }
  },
  {
   "cell_type": "markdown",
   "source": [
    "## PARÁMETROS SUPERLET: base_cycle, min_order, max_order = [3, 5, 1, 1, 1, 1], [1, 1, 5, 10, 20, 30], [30, 30, 40, 100, 100, 200]"
   ],
   "metadata": {
    "collapsed": false
   }
  },
  {
   "cell_type": "code",
   "execution_count": null,
   "outputs": [],
   "source": [
    "importlib.reload(superlet)"
   ],
   "metadata": {
    "collapsed": false,
    "ExecuteTime": {
     "start_time": "2024-12-10T13:49:56.286619Z"
    }
   }
  },
  {
   "cell_type": "code",
   "execution_count": null,
   "outputs": [],
   "source": [
    "#params_superlet = [[3, 5, 1, 1, 1, 1], [1, 1, 5, 10, 20, 30], [30, 30, 40, 100, 100, 200]]\n",
    "#params_superlet = [[3,5,1],[1,1,5],[30,30,40]]\n",
    "\n",
    "if plot_1:\n",
    "    fig, ax = plt.subplots(ncols=len(params_superlet[0]), figsize=(15, 5), dpi=300)\n",
    "\n",
    "if plot_2:\n",
    "    fig_2, ax_2 = plt.subplots(ncols=len(params_superlet[0]), figsize=(15, 5), dpi=300)\n",
    "    fig_3, ax_3 = plt.subplots(figsize=(10, 6))\n",
    "\n",
    "mae_superlet = []\n",
    "std_superlet = []\n",
    "times_superlet = []\n",
    "\n",
    "total_time = []\n",
    "total_freq = []\n",
    "\n",
    "total_scalogram_superlet = []\n",
    "\n",
    "#enumerate(zip([3,5,1], [1,1,5], [30,30,40])):\n",
    "#enumerate(zip([1,1,1], [10,20,30], [100,100,200])):\n",
    "for (i, (base_cycle, min_order, max_order)) in enumerate(zip(*params_superlet)):\n",
    "    import time\n",
    "\n",
    "    start_time = time.time()\n",
    "    wv, scalogram = superlet.adaptive_superlet_transform(signal, freqs, sampling_freq=fs,\n",
    "                                                         base_cycle=base_cycle, min_order=min_order,\n",
    "                                                         max_order=max_order, mode=\"mul\")\n",
    "    end_time = time.time()\n",
    "    times_superlet.append(end_time - start_time)\n",
    "\n",
    "    if plot_1:\n",
    "        im = ax[i].imshow(jnp.abs(scalogram) ** 2, aspect='auto', cmap=\"jet\", interpolation=\"none\", origin=\"lower\",\n",
    "                          extent=[0, len(signal) / fs, freqs[0], freqs[-1]])\n",
    "        ax[i].set_title(f\"$c_1$: {base_cycle}, o: {min_order}-{max_order}\")\n",
    "        ax[i].set_xlabel(\"Time (s)\")\n",
    "        ax[i].set_ylabel(\"Frequency (Hz)\")\n",
    "\n",
    "        cbar = fig.colorbar(im, ax=ax[i], orientation='horizontal')\n",
    "        cbar.set_label('Power [a.u]', rotation=0, labelpad=15)  # Etiqueta de la colorbar\n",
    "        plt.tight_layout()\n",
    "\n",
    "    scalogram_2 = np.abs(scalogram) ** 2\n",
    "\n",
    "    if np.any(np.isnan(jnp.abs(scalogram) ** 2)) or np.any(np.isinf(jnp.abs(scalogram) ** 2)):\n",
    "        scalogram_2 = np.nan_to_num(jnp.abs(scalogram) ** 2)\n",
    "\n",
    "    total_scalogram_superlet.append(scalogram_2)\n",
    "    #scalogram_2 = scalogram_2 * freqs[:, np.newaxis]  \n",
    "\n",
    "    instant_mean_freq_total = []\n",
    "\n",
    "    instant_mean_freq = np.sum(scalogram_2 * freqs[:, np.newaxis], axis=0) / np.sum(scalogram_2, axis=0)\n",
    "\n",
    "    initial_imnf = instant_mean_freq[:round(burst_start_1 * fs) - offset]\n",
    "    instant_mean_freq_total.extend(initial_imnf)\n",
    "    # plt.figure()\n",
    "    # plt.plot(initial_imnf)\n",
    "\n",
    "    instant_mean_freq_burst = instant_mean_freq[\n",
    "                              round(burst_start_1 * fs):round((burst_start_1 + burst_duration_1) * fs)]\n",
    "    instant_mean_freq_burst = instant_mean_freq_burst[offset_burst:round(len(instant_mean_freq_burst)) - offset_burst]\n",
    "    instant_mean_freq_total.extend(instant_mean_freq_burst)\n",
    "    # plt.figure()\n",
    "    # plt.plot(instant_mean_freq_burst)\n",
    "\n",
    "    final_imnf = instant_mean_freq[round((burst_start_1 + burst_duration_1) * fs) + offset:]\n",
    "    instant_mean_freq_total.extend(final_imnf)\n",
    "    # plt.figure()\n",
    "    # plt.plot(final_imnf)\n",
    "\n",
    "    # Create time (each column is a time instant)\n",
    "    tiempo = np.arange(len(instant_mean_freq_total)) / fs\n",
    "\n",
    "    if plot_2:\n",
    "        ax_2[i].plot(tiempo, instant_mean_freq_total,\n",
    "                     label=\"Mean frequency (each window of \" + str(len(freqs)) + ' samples)')\n",
    "\n",
    "        ax_2[i].set_xlabel(\"Time (s)\")\n",
    "        ax_2[i].set_ylabel(\"Frequency (Hz)\")\n",
    "        #ax_2[i].set_xlim(tiempo[0], tiempo[-1])\n",
    "        #plt.title(\"Medias de cada fila en función del tiempo\")\n",
    "        ax_2[i].legend()\n",
    "        ax_2[i].grid(True)\n",
    "\n",
    "        ax_3.plot(tiempo, instant_mean_freq_total, label=f\"Mean frequency (Cycles: {base_cycle})\")\n",
    "\n",
    "    print(np.mean(instant_mean_freq_burst))\n",
    "    mae, std = calculate_mae(instant_mean_freq_burst, MNF_1)\n",
    "    mae_superlet.append(mae)\n",
    "    std_superlet.append(std)\n",
    "\n",
    "    time = np.arange(scalogram_2.shape[1]) / fs\n",
    "\n",
    "    total_time.append(time)\n",
    "    total_freq.append(freqs)\n",
    "\n",
    "if plot_2:\n",
    "    ax_3.set_xlabel(\"Time (s)\")\n",
    "    ax_3.set_ylabel(\"Frequency (Hz)\")\n",
    "    ax_3.legend()\n",
    "    ax_3.grid(True)\n",
    "    ax_3.set_title(\"Comparación de frecuencias medias instantáneas\")\n",
    "\n",
    "res_superlet = superlet.compute_avg_response_resolution(total_scalogram_superlet, total_time, total_freq,\n",
    "                                                        [f'$c_1$={c3}, o:{c1}-{c2}' for c1, c2, c3 in\n",
    "                                                         zip(*params_superlet)])"
   ],
   "metadata": {
    "collapsed": false,
    "ExecuteTime": {
     "start_time": "2024-12-10T13:49:56.289335Z"
    }
   }
  },
  {
   "cell_type": "code",
   "execution_count": null,
   "outputs": [],
   "source": [
    "mae_superlet"
   ],
   "metadata": {
    "collapsed": false,
    "ExecuteTime": {
     "start_time": "2024-12-10T13:49:56.292424Z"
    }
   }
  },
  {
   "cell_type": "markdown",
   "source": [
    "## STFT PARAMETERS (window = duration/cycles) = 38, 200, 413, 550, 600, 824 ms"
   ],
   "metadata": {
    "collapsed": false
   }
  },
  {
   "cell_type": "code",
   "execution_count": null,
   "outputs": [],
   "source": [
    "importlib.reload(superlet)"
   ],
   "metadata": {
    "collapsed": false,
    "ExecuteTime": {
     "start_time": "2024-12-10T13:49:56.294383Z"
    }
   }
  },
  {
   "cell_type": "code",
   "execution_count": null,
   "outputs": [],
   "source": [
    "# Parámetros de la STFT con ventanas de 38 ms, 200 ms, y 413 ms (convertido a muestras)\n",
    "# [38, 200, 413, 550, 600, 824]\n",
    "\n",
    "#windows_samples = [int((w / 1000) * fs) for w in windows_ms]  # Convertir a muestras\n",
    "\n",
    "if plot_1:\n",
    "    fig, ax = plt.subplots(ncols=len(windows_ms), figsize=(15, 5), dpi=300)\n",
    "\n",
    "if plot_2:\n",
    "    fig_2, ax_2 = plt.subplots(ncols=len(windows_ms), figsize=(15, 5), dpi=300)\n",
    "    fig_3, ax_3 = plt.subplots(figsize=(10, 6))\n",
    "\n",
    "mae_stft = []\n",
    "std_stft = []\n",
    "times_stft = []\n",
    "\n",
    "total_time = []\n",
    "total_freq = []\n",
    "\n",
    "res_stft = []\n",
    "total_scalogram_stft = []\n",
    "\n",
    "for i, w in enumerate(windows_ms):\n",
    "    import time\n",
    "\n",
    "    # Calcular la ventana Blackman\n",
    "    start_time = time.time()\n",
    "    window = windows.blackman(w)\n",
    "\n",
    "    # Hacer que la f de la stft tenga el mismo tamaño que las demás\n",
    "    nfft = 2 * (len(freqs))\n",
    "    # Dimensión de la frecuencia = nfft/2 + 1\n",
    "    # Dimesión del tiempo = [(N - noverlap)/(nperseg-noverlap)] + 1 = \n",
    "\n",
    "    # Realizar la STFT con la ventana Blackman y superposición del 50%\n",
    "    #f, t, Zxx = stft(signal, fs, window=window, nfft=nfft, nperseg=w, noverlap=w//2, padded=True, scaling='psd')\n",
    "    f, t, Zxx = stft(signal, fs=fs, window='blackman', nperseg=w, noverlap=w - 1, nfft=nfft, detrend=False,\n",
    "                     return_onesided=True, boundary='zeros', padded=True, axis=-1, scaling='spectrum')\n",
    "\n",
    "    # ax[i].pcolormesh(t, f, np.abs(Zxx), shading='gouraud', cmap='jet')\n",
    "\n",
    "    # Calcular la representación de potencia (magnitud al cuadrado)\n",
    "    Zxx_power = np.abs(Zxx) ** 2\n",
    "\n",
    "    # Graficar la representación de potencia\n",
    "    #plt.figure(figsize=(10, 6))\n",
    "\n",
    "    end_time = time.time()\n",
    "    times_stft.append(end_time - start_time)\n",
    "\n",
    "    if plot_1:\n",
    "        pcm = ax[i].pcolormesh(t, f, Zxx_power, shading='gouraud', cmap='jet')\n",
    "\n",
    "        ax[i].set_title(f'W={w * 1000 // fs} ms')\n",
    "        ax[i].set_ylabel('Frecuencia [Hz]')\n",
    "        ax[i].set_xlabel('Tiempo [s]')\n",
    "\n",
    "        cbar = fig.colorbar(pcm, ax=ax[i], orientation='horizontal')\n",
    "        cbar.set_label('Power', rotation=270, labelpad=15)  # Etiqueta de la colorbar\n",
    "\n",
    "        #fig.colorbar(pcm, ax=ax[i], label='Potencia')\n",
    "        ax[i].set_ylim(freqs[0], freqs[-1])  # Ajustar el rango de frecuencias si es necesario\n",
    "        plt.tight_layout()\n",
    "\n",
    "    scalogram_2 = Zxx_power\n",
    "\n",
    "    #if np.any(np.isnan(jnp.abs(Zxx)**2)) or np.any(np.isinf(jnp.abs(Zxx)**2)):\n",
    "    scalogram_2 = jnp.nan_to_num(jnp.abs(Zxx) ** 2, nan=0.0, posinf=0.0, neginf=0.0)\n",
    "\n",
    "    total_scalogram_stft.append(scalogram_2)\n",
    "\n",
    "    instant_mean_freq_total = []\n",
    "    instant_mean_freq = np.sum(scalogram_2 * f[:, np.newaxis], axis=0) / np.sum(scalogram_2, axis=0)\n",
    "\n",
    "    #mean_instant_freq = np.where(freqs,np.max(scalogram_2, axis=0))\n",
    "    # mean_instant = np.mean(np.where(freqs,max(scalogram_2)))\n",
    "    # plt.figure()\n",
    "    # plt.plot(mean_instant)\n",
    "\n",
    "    start_index = np.argmin(np.abs(t - burst_start_1))\n",
    "    end_index_burst = np.argmin(np.abs(t - (burst_start_1 + burst_duration_1)))\n",
    "\n",
    "    # Segmento inicial antes del burst\n",
    "    initial_imnf = instant_mean_freq[:max(0, start_index - offset)]  # Asegurar que no haya índices negativos\n",
    "    instant_mean_freq_total.extend(initial_imnf)\n",
    "    # plt.figure()\n",
    "    # plt.plot(initial_imnf)\n",
    "\n",
    "    # Segmento durante el burst\n",
    "    instant_mean_freq_burst = instant_mean_freq[start_index:end_index_burst]\n",
    "    instant_mean_freq_burst = instant_mean_freq_burst[offset_burst:len(\n",
    "        instant_mean_freq_burst) - offset_burst]  # Aplicar offset dentro del burst\n",
    "    instant_mean_freq_total.extend(instant_mean_freq_burst)\n",
    "    # plt.figure()\n",
    "    # plt.plot(instant_mean_freq_burst)\n",
    "\n",
    "    # Segmento final después del burst\n",
    "    final_start_index = end_index_burst + offset\n",
    "    final_imnf = instant_mean_freq[final_start_index:]\n",
    "    instant_mean_freq_total.extend(final_imnf)\n",
    "\n",
    "    # initial_imnf = instant_mean_freq[:np.where(t >= burst_start_1)[0][0]-offset]\n",
    "    # instant_mean_freq_total.extend(initial_imnf)\n",
    "    # # plt.figure()\n",
    "    # # plt.plot(initial_imnf)\n",
    "    # \n",
    "    # print(t >= (burst_start_1 + burst_duration_1))\n",
    "    # instant_mean_freq_burst = instant_mean_freq[np.where(t >= burst_start_1)[0][0]:np.where(t >= (burst_start_1 + burst_duration_1))[0][0]]\n",
    "    # instant_mean_freq_burst = instant_mean_freq_burst[offset_burst:len(instant_mean_freq_burst)-offset_burst]\n",
    "    # instant_mean_freq_total.extend(instant_mean_freq_burst)\n",
    "    # # plt.figure()\n",
    "    # # plt.plot(instant_mean_freq_burst)\n",
    "    #  \n",
    "    # final_imnf = instant_mean_freq[np.where(t >= burst_start_1 + burst_duration_1)[0][0] + offset:]\n",
    "    # instant_mean_freq_total.extend(final_imnf)\n",
    "    # plt.figure()\n",
    "    # plt.plot(final_imnf)\n",
    "\n",
    "    # Create time (each column is a time instant)\n",
    "    tiempo = np.linspace(t[0], t[-1], len(instant_mean_freq_total))\n",
    "\n",
    "    if plot_2:\n",
    "        ax_2[i].plot(tiempo, instant_mean_freq_total,\n",
    "                     label=\"Mean frequency (each window of \" + str(len(freqs)) + ' samples)')\n",
    "\n",
    "        ax_2[i].set_xlabel(\"Time (s)\")\n",
    "        ax_2[i].set_ylabel(\"Frequency (Hz)\")\n",
    "        #ax_2[i].set_xlim(tiempo[0], tiempo[-1])\n",
    "        #plt.title(\"Medias de cada fila en función del tiempo\")\n",
    "        ax_2[i].legend()\n",
    "        ax_2[i].grid(True)\n",
    "\n",
    "        ax_3.plot(tiempo, instant_mean_freq_total, label=f\"Mean frequency (Cycles: {w})\")\n",
    "\n",
    "    print(np.mean(instant_mean_freq_burst))\n",
    "    mae, std = calculate_mae(instant_mean_freq_burst, MNF_1)\n",
    "    mae_stft.append(mae)\n",
    "    std_stft.append(std)\n",
    "\n",
    "    total_time.append(np.linspace(t[0], t[-1], scalogram_2.shape[1]))\n",
    "    total_freq.append(np.linspace(f[0], f[-1], scalogram_2.shape[0]))\n",
    "\n",
    "# Configuración del gráfico\n",
    "if plot_2:\n",
    "    ax_3.set_xlabel(\"Time (s)\")\n",
    "    ax_3.set_ylabel(\"Frequency (Hz)\")\n",
    "    ax_3.legend()\n",
    "    ax_3.grid(True)\n",
    "    ax_3.set_title(\"Comparación de frecuencias medias instantáneas\")\n",
    "\n",
    "res_stft = superlet.compute_avg_response_resolution(total_scalogram_stft, total_time, total_freq, windows_ms, stft=[freqs[0],freqs[-1]])"
   ],
   "metadata": {
    "collapsed": false,
    "ExecuteTime": {
     "start_time": "2024-12-10T13:49:56.296178Z"
    }
   }
  },
  {
   "cell_type": "code",
   "execution_count": null,
   "outputs": [],
   "source": [
    "mae_stft"
   ],
   "metadata": {
    "collapsed": false,
    "ExecuteTime": {
     "start_time": "2024-12-10T13:49:56.298652Z"
    }
   }
  },
  {
   "cell_type": "markdown",
   "source": [
    "### Plot comparison of the same SNR"
   ],
   "metadata": {
    "collapsed": false
   }
  },
  {
   "cell_type": "code",
   "execution_count": null,
   "outputs": [],
   "source": [
    "# params_wavelet = [3, 16, 33, 55, 60, 115]\n",
    "# params_superlet = [\n",
    "#     (3, 1, 30), (5, 1, 30), (1, 5, 40), (1, 10, 100), (1, 20, 100), (1, 30, 200)\n",
    "# ]\n",
    "# params_stft = [38, 200, 413, 550, 600, 824]  # Tamaños de ventana en ms\n",
    "params_stft = windows_ms\n",
    "\n",
    "# Número de condiciones\n",
    "num_conditions = len(mae_wavelet)\n",
    "x = np.arange(num_conditions)  # Posiciones para cada grupo de barras\n",
    "bar_width = 0.25  # Ancho de las barras\n",
    "\n",
    "# Crear el gráfico de barras\n",
    "plt.figure(figsize=(14, 7))\n",
    "\n",
    "# Graficar cada técnica con sus valores y barras de error\n",
    "plt.bar(x - bar_width, mae_stft, width=bar_width, yerr=std_stft, capsize=5, label='STFT', color='skyblue', alpha=0.7)\n",
    "plt.bar(x, mae_wavelet, width=bar_width, yerr=std_wavelet, capsize=5, label='Wavelet', color='lightgreen', alpha=0.7)\n",
    "plt.bar(x + bar_width, mae_superlet, width=bar_width, yerr=std_superlet, capsize=5, label='Superlet', color='salmon',\n",
    "        alpha=0.7)\n",
    "\n",
    "# Configuración de etiquetas en el eje x con los parámetros específicos\n",
    "labels = [\n",
    "    f\"W={p_stft} ms\\n\\nc={p_w}\\n\\nc$_1$={p_s[0]}, o: {p_s[1]}-{p_s[2]}\"\n",
    "    for p_w, p_s, p_stft in zip(params_wavelet, zip(*params_superlet), params_stft)\n",
    "]\n",
    "\n",
    "plt.xticks(x, labels, rotation=90, ha='center', fontsize=18)\n",
    "#plt.xlabel('Condiciones y Parámetros')\n",
    "plt.yticks(np.arange(0, 81, 10))\n",
    "\n",
    "plt.ylabel('MAE (Hz)')\n",
    "plt.title('Comparison (SNR = ' + str(SNR) + ')', fontsize=18)\n",
    "plt.ylim(0, 80)\n",
    "plt.legend(fontsize=14)\n",
    "\n",
    "# Ajustar el layout para mejorar visualización de etiquetas\n",
    "plt.tight_layout()\n",
    "\n",
    "# Mostrar el gráfico\n",
    "plt.show()"
   ],
   "metadata": {
    "collapsed": false,
    "ExecuteTime": {
     "start_time": "2024-12-10T13:49:56.301399Z"
    }
   }
  },
  {
   "cell_type": "markdown",
   "source": [
    "# COMPUTE RESOLUTION"
   ],
   "metadata": {
    "collapsed": false
   }
  },
  {
   "cell_type": "code",
   "execution_count": null,
   "outputs": [],
   "source": [
    "rayleigh_limit = 1 / (4 * np.pi)\n",
    "\n",
    "# Etiquetas para los grupos de parámetros con salto de línea adicional\n",
    "labels = [\n",
    "    f\"W={p_stft} ms\\nc={p_wavelet}\\nc$_1$={p_superlet[0]}, o={p_superlet[1]}-{p_superlet[2]}\"\n",
    "    for p_wavelet, p_superlet, p_stft in zip(params_wavelet, zip(*params_superlet), params_stft)\n",
    "]\n",
    "\n",
    "x = [1, 2, 3, 4, 5, 6]\n",
    "\n",
    "plt.figure(figsize=(12, 8))\n",
    "\n",
    "# Primer gráfico (Frecuencia)\n",
    "plt.subplot(2, 1, 1)\n",
    "plt.plot(x, [r[1] for r in res_wavelet], 'ro-', label=\"Wavelet (Frequency)\")\n",
    "plt.plot(x, [r[1] for r in res_stft], 'bo-', label=\"STFT (Frequency)\")\n",
    "plt.plot(x, [r[1] for r in res_superlet], 'go-', label=\"Superlet (Frequency)\")\n",
    "plt.axhline(rayleigh_limit, color='k', linestyle='--', label=\"Rayleigh Limit\")\n",
    "plt.xlabel(\"Window Size / Cycles / Order\")\n",
    "plt.ylabel(\"Frequency Resolution (Hz)\")\n",
    "plt.legend()\n",
    "\n",
    "# Segundo gráfico (Tiempo)\n",
    "plt.subplot(2, 1, 2)\n",
    "plt.plot(x, [r[0] for r in res_wavelet], 'ro-', label=\"Wavelet (Time)\")\n",
    "plt.plot(x, [r[0] for r in res_stft], 'bo-', label=\"STFT (Time)\")\n",
    "plt.plot(x, [r[0] for r in res_superlet], 'go-', label=\"Superlet (Time)\")\n",
    "plt.axhline(1 / MNF_1[0], color='k', linestyle='--', label=\"Temporal Limit\")\n",
    "plt.xlabel(\"Window Size / Cycles / Order\")\n",
    "plt.ylabel(\"Time Resolution (s)\")\n",
    "plt.legend()\n",
    "\n",
    "# Ajuste de los xticks para ambos subgráficos\n",
    "for ax in plt.gcf().get_axes():\n",
    "    ax.set_xticks(x)  # Establecer los valores de los ticks\n",
    "    ax.set_xticklabels(labels, rotation=90, ha='center', fontsize=10)  # Establecer las etiquetas con el formato deseado\n",
    "\n",
    "# Ajustar el diseño\n",
    "plt.tight_layout()\n",
    "plt.show()"
   ],
   "metadata": {
    "collapsed": false,
    "ExecuteTime": {
     "start_time": "2024-12-10T13:49:56.303276Z"
    }
   }
  },
  {
   "cell_type": "code",
   "execution_count": null,
   "outputs": [],
   "source": [
    "MAES"
   ],
   "metadata": {
    "collapsed": false,
    "ExecuteTime": {
     "start_time": "2024-12-10T13:49:56.305513Z"
    }
   }
  },
  {
   "cell_type": "code",
   "execution_count": null,
   "outputs": [],
   "source": [
    "MAES['wavelet'].append(mae_wavelet)\n",
    "MAES['stft'].append(mae_stft)\n",
    "MAES['superlet'].append(mae_superlet)\n",
    "MAES['std_wavelet'].append(std_wavelet)\n",
    "MAES['std_stft'].append(std_stft)\n",
    "MAES['std_superlet'].append(std_superlet)"
   ],
   "metadata": {
    "collapsed": false,
    "ExecuteTime": {
     "start_time": "2024-12-10T13:49:56.307785Z"
    }
   }
  },
  {
   "cell_type": "code",
   "execution_count": null,
   "outputs": [],
   "source": [
    "MAES"
   ],
   "metadata": {
    "collapsed": false,
    "ExecuteTime": {
     "start_time": "2024-12-10T13:49:56.310515Z"
    }
   }
  },
  {
   "cell_type": "markdown",
   "source": [
    "### WE REPEAT EVERYTHING WITH DIFFERENT SNR"
   ],
   "metadata": {
    "collapsed": false
   }
  },
  {
   "cell_type": "markdown",
   "source": [
    "## We reset the signal"
   ],
   "metadata": {
    "collapsed": false
   }
  },
  {
   "cell_type": "code",
   "execution_count": null,
   "outputs": [],
   "source": [
    "signal = baseline_1\n",
    "fig, ax = plt.subplots(figsize=(15, 2), dpi=300)\n",
    "ax.set_xlabel(\"Time (ms)\")\n",
    "ax.plot(jnp.linspace(0, len(signal) / fs, len(signal)), signal)\n",
    "print(f\"Reference mean frequency: {MNF_1} Hz\")"
   ],
   "metadata": {
    "collapsed": false,
    "ExecuteTime": {
     "start_time": "2024-12-10T13:49:56.314041Z"
    }
   }
  },
  {
   "cell_type": "code",
   "execution_count": null,
   "outputs": [],
   "source": [
    "SNR = 15\n",
    "#signal_noise = add_noise(baseline_1, SNR, plot = True)\n",
    "signal_noise = add_noise(signal, SNR, plot=True)\n",
    "#signal_noise = add_wgn_to_sig(baseline_1, noise, SNR)\n",
    "signal = signal_noise"
   ],
   "metadata": {
    "collapsed": false,
    "ExecuteTime": {
     "start_time": "2024-12-10T13:49:56.316995Z"
    }
   }
  },
  {
   "cell_type": "code",
   "execution_count": null,
   "outputs": [],
   "source": [
    "psd_welch, f_welch, MNF = superlet.compute_psd_welch(signal, fs, plot=True, muscle='Simulated EMG signal with burst')"
   ],
   "metadata": {
    "collapsed": false,
    "ExecuteTime": {
     "start_time": "2024-12-10T13:49:56.319226Z"
    }
   }
  },
  {
   "cell_type": "code",
   "execution_count": null,
   "outputs": [],
   "source": [
    "MNF_1"
   ],
   "metadata": {
    "collapsed": false,
    "ExecuteTime": {
     "start_time": "2024-12-10T13:49:56.320763Z"
    }
   }
  },
  {
   "cell_type": "code",
   "execution_count": null,
   "outputs": [],
   "source": [
    "fig, ax = plt.subplots(figsize=(15, 2), dpi=300)\n",
    "ax.set_xlabel(\"Time (ms)\")\n",
    "ax.plot(jnp.linspace(0, len(signal) / fs, len(signal)), signal)\n",
    "print(f\"Reference mean frequency: {MNF_1} Hz\")"
   ],
   "metadata": {
    "collapsed": false,
    "ExecuteTime": {
     "start_time": "2024-12-10T13:49:56.322566Z"
    }
   }
  },
  {
   "cell_type": "markdown",
   "source": [
    "## WAVELET PARAMETERS = 3, 16, 33, 55, 60, 115 cycles"
   ],
   "metadata": {
    "collapsed": false
   }
  },
  {
   "cell_type": "code",
   "execution_count": null,
   "outputs": [],
   "source": [
    "importlib.reload(superlet)"
   ],
   "metadata": {
    "collapsed": false,
    "ExecuteTime": {
     "start_time": "2024-12-10T13:49:56.325382Z"
    }
   }
  },
  {
   "cell_type": "code",
   "execution_count": null,
   "outputs": [],
   "source": [
    "\n",
    "\n",
    "if plot_1:\n",
    "    fig, ax = plt.subplots(ncols=len(params_wavelet), figsize=(15, 5), dpi=300)\n",
    "\n",
    "if plot_2:\n",
    "    # Definir límites de color para que sean iguales en todos los subplots\n",
    "    fig_2, ax_2 = plt.subplots(ncols=len(params_wavelet), figsize=(15, 5), dpi=300)\n",
    "    fig_3, ax_3 = plt.subplots(figsize=(10, 6))\n",
    "\n",
    "mae_wavelet = []\n",
    "std_wavelet = []\n",
    "times_wavelet = []\n",
    "\n",
    "total_time = []\n",
    "total_freq = []\n",
    "\n",
    "total_scalogram_wavelet = []\n",
    "res_wavelet = []\n",
    "\n",
    "for i, c in enumerate(params_wavelet):\n",
    "    import time\n",
    "\n",
    "    start_time = time.time()\n",
    "    [wv, scalogram] = superlet.wavelet_transform(signal, freqs, c, fs)\n",
    "    end_time = time.time()\n",
    "    times_wavelet.append(end_time - start_time)\n",
    "    #[wv, scalogram] = superlet.wavelet_transform(signal, freqs, c, fs)  \n",
    "\n",
    "    if plot_1:\n",
    "        im = ax[i].imshow(jnp.abs(scalogram) ** 2, aspect='auto', cmap=\"jet\", interpolation=\"none\", origin=\"lower\",\n",
    "                          extent=[0, len(signal) / fs, freqs[0], freqs[-1]])  #, vmin=vmin, vmax=vmax)\n",
    "        end_time = time.time()\n",
    "        times_wavelet.append(end_time - start_time)\n",
    "        ax[i].set_title(f\"Cycles: {c}\")\n",
    "        ax[i].set_xlabel(\"Time (s)\")\n",
    "        ax[i].set_ylabel(\"Frequency (Hz)\")\n",
    "\n",
    "        cbar = fig.colorbar(im, ax=ax[i], orientation='horizontal')\n",
    "        cbar.set_label('Power [a.u]', rotation=0, labelpad=15)  # Etiqueta de la colorbar\n",
    "        #plt.subplots_adjust(left = 0.1, top = 0.9, right = 0.9, bottom = 0.1, hspace = 1, wspace = 0.5)\n",
    "        plt.tight_layout()\n",
    "\n",
    "        #mean_freq = sum(power.*frequencies)/sum(power)\n",
    "    #instant_mean.append(meanfreq(scalogram[:, col], freqs) for col in range(scalogram.shape[1]))\n",
    "\n",
    "    scalogram_2 = np.abs(scalogram) ** 2\n",
    "\n",
    "    if np.any(np.isnan(jnp.abs(scalogram) ** 2)) or np.any(np.isinf(jnp.abs(scalogram) ** 2)):\n",
    "        scalogram_2 = np.nan_to_num(jnp.abs(scalogram) ** 2)\n",
    "\n",
    "    total_scalogram_wavelet.append(scalogram_2)\n",
    "    instant_mean_freq_total = []\n",
    "\n",
    "    instant_mean_freq = np.sum(scalogram_2 * freqs[:, np.newaxis], axis=0) / np.sum(scalogram_2, axis=0)\n",
    "\n",
    "    initial_imnf = instant_mean_freq[:round(burst_start_1 * fs) - offset]\n",
    "    instant_mean_freq_total.extend(initial_imnf)\n",
    "    # plt.figure()\n",
    "    # plt.plot(initial_imnf)\n",
    "\n",
    "    instant_mean_freq_burst = instant_mean_freq[\n",
    "                              round(burst_start_1 * fs):round((burst_start_1 + burst_duration_1) * fs)]\n",
    "    instant_mean_freq_burst = instant_mean_freq_burst[offset_burst:len(instant_mean_freq_burst) - offset_burst]\n",
    "    instant_mean_freq_total.extend(instant_mean_freq_burst)\n",
    "    # plt.figure()\n",
    "    # plt.plot(instant_mean_freq_burst)\n",
    "\n",
    "    final_imnf = instant_mean_freq[round((burst_start_1 + burst_duration_1) * fs) + offset:]\n",
    "    instant_mean_freq_total.extend(final_imnf)\n",
    "    # plt.figure()\n",
    "    # plt.plot(final_imnf)\n",
    "\n",
    "    # Create time (each column is a time instant)\n",
    "    tiempo = np.arange(len(instant_mean_freq_total)) / fs\n",
    "\n",
    "    if plot_2:\n",
    "        ax_2[i].plot(tiempo, instant_mean_freq_total,\n",
    "                     label=\"Mean frequency (each window of \" + str(len(freqs)) + ' samples)')\n",
    "\n",
    "        ax_2[i].set_xlabel(\"Time (s)\")\n",
    "        ax_2[i].set_ylabel(\"Frequency (Hz)\")\n",
    "        #ax_2[i].set_xlim(tiempo[0], tiempo[-1])\n",
    "        #plt.title(\"Medias de cada fila en función del tiempo\")\n",
    "        ax_2[i].legend()\n",
    "        ax_2[i].grid(True)\n",
    "\n",
    "        ax_3.plot(tiempo, instant_mean_freq_total, label=f\"Mean frequency (Cycles: {c})\")\n",
    "\n",
    "    print(np.mean(instant_mean_freq_burst))\n",
    "    mae, std = calculate_mae(instant_mean_freq_burst, MNF_1)\n",
    "    mae_wavelet.append(mae)\n",
    "    std_wavelet.append(std)\n",
    "\n",
    "    time = np.arange(scalogram_2.shape[1]) / fs\n",
    "\n",
    "    total_time.append(time)\n",
    "    total_freq.append(freqs)\n",
    "\n",
    "# Configuración del gráfico\n",
    "if plot_2:\n",
    "    ax_3.set_xlabel(\"Time (s)\")\n",
    "    ax_3.set_ylabel(\"Frequency (Hz)\")\n",
    "    ax_3.legend()\n",
    "    ax_3.grid(True)\n",
    "    ax_3.set_title(\"Comparación de frecuencias medias instantáneas\")\n",
    "\n",
    "res_wavelet = superlet.compute_avg_response_resolution(total_scalogram_wavelet, total_time, total_freq, params_wavelet)"
   ],
   "metadata": {
    "collapsed": false,
    "ExecuteTime": {
     "start_time": "2024-12-10T13:49:56.327623Z"
    }
   }
  },
  {
   "cell_type": "code",
   "execution_count": null,
   "outputs": [],
   "source": [
    "mae_wavelet"
   ],
   "metadata": {
    "collapsed": false,
    "ExecuteTime": {
     "start_time": "2024-12-10T13:49:56.348285Z"
    }
   }
  },
  {
   "cell_type": "markdown",
   "source": [
    "## PARÁMETROS SUPERLET: base_cycle, min_order, max_order = [3, 5, 1, 1, 1, 1], [1, 1, 5, 10, 20, 30], [30, 30, 40, 100, 100, 200]"
   ],
   "metadata": {
    "collapsed": false
   }
  },
  {
   "cell_type": "code",
   "execution_count": null,
   "outputs": [],
   "source": [
    "importlib.reload(superlet)\n",
    "#params_superlet = [[3,5,1],[1,1,5],[30,30,40]]\n",
    "\n",
    "if plot_1:\n",
    "    fig, ax = plt.subplots(ncols=len(params_superlet[0]), figsize=(15, 5), dpi=300)\n",
    "\n",
    "if plot_2:\n",
    "    fig_2, ax_2 = plt.subplots(ncols=len(params_superlet[0]), figsize=(15, 5), dpi=300)\n",
    "    fig_3, ax_3 = plt.subplots(figsize=(10, 6))\n",
    "\n",
    "mae_superlet = []\n",
    "std_superlet = []\n",
    "times_superlet = []\n",
    "\n",
    "total_time = []\n",
    "total_freq = []\n",
    "\n",
    "total_scalogram_superlet = []\n",
    "\n",
    "#enumerate(zip([3,5,1], [1,1,5], [30,30,40])):\n",
    "#enumerate(zip([1,1,1], [10,20,30], [100,100,200])):\n",
    "for (i, (base_cycle, min_order, max_order)) in enumerate(zip(*params_superlet)):\n",
    "    import time\n",
    "\n",
    "    start_time = time.time()\n",
    "    wv, scalogram = superlet.adaptive_superlet_transform(signal, freqs, sampling_freq=fs,\n",
    "                                                         base_cycle=base_cycle, min_order=min_order,\n",
    "                                                         max_order=max_order, mode=\"mul\")\n",
    "    end_time = time.time()\n",
    "    times_superlet.append(end_time - start_time)\n",
    "\n",
    "    if plot_1:\n",
    "        im = ax[i].imshow(jnp.abs(scalogram) ** 2, aspect='auto', cmap=\"jet\", interpolation=\"none\", origin=\"lower\",\n",
    "                          extent=[0, len(signal) / fs, freqs[0], freqs[-1]])\n",
    "        ax[i].set_title(f\"$c_1$: {base_cycle}, o: {min_order}-{max_order}\")\n",
    "        ax[i].set_xlabel(\"Time (s)\")\n",
    "        ax[i].set_ylabel(\"Frequency (Hz)\")\n",
    "\n",
    "        cbar = fig.colorbar(im, ax=ax[i], orientation='horizontal')\n",
    "        cbar.set_label('Power [a.u]', rotation=0, labelpad=15)  # Etiqueta de la colorbar\n",
    "        plt.tight_layout()\n",
    "\n",
    "    scalogram_2 = np.abs(scalogram) ** 2\n",
    "\n",
    "    if np.any(np.isnan(jnp.abs(scalogram) ** 2)) or np.any(np.isinf(jnp.abs(scalogram) ** 2)):\n",
    "        scalogram_2 = np.nan_to_num(jnp.abs(scalogram) ** 2)\n",
    "\n",
    "    total_scalogram_superlet.append(scalogram_2)\n",
    "    #scalogram_2 = scalogram_2 * freqs[:, np.newaxis]  \n",
    "\n",
    "    instant_mean_freq_total = []\n",
    "\n",
    "    instant_mean_freq = np.sum(scalogram_2 * freqs[:, np.newaxis], axis=0) / np.sum(scalogram_2, axis=0)\n",
    "\n",
    "    initial_imnf = instant_mean_freq[:round(burst_start_1 * fs) - offset]\n",
    "    instant_mean_freq_total.extend(initial_imnf)\n",
    "    # plt.figure()\n",
    "    # plt.plot(initial_imnf)\n",
    "\n",
    "    instant_mean_freq_burst = instant_mean_freq[\n",
    "                              round(burst_start_1 * fs):round((burst_start_1 + burst_duration_1) * fs)]\n",
    "    instant_mean_freq_burst = instant_mean_freq_burst[offset_burst:round(len(instant_mean_freq_burst)) - offset_burst]\n",
    "    instant_mean_freq_total.extend(instant_mean_freq_burst)\n",
    "    # plt.figure()\n",
    "    # plt.plot(instant_mean_freq_burst)\n",
    "\n",
    "    final_imnf = instant_mean_freq[round((burst_start_1 + burst_duration_1) * fs) + offset:]\n",
    "    instant_mean_freq_total.extend(final_imnf)\n",
    "    # plt.figure()\n",
    "    # plt.plot(final_imnf)\n",
    "\n",
    "    # Create time (each column is a time instant)\n",
    "    tiempo = np.arange(len(instant_mean_freq_total)) / fs\n",
    "\n",
    "    if plot_2:\n",
    "        ax_2[i].plot(tiempo, instant_mean_freq_total,\n",
    "                     label=\"Mean frequency (each window of \" + str(len(freqs)) + ' samples)')\n",
    "\n",
    "        ax_2[i].set_xlabel(\"Time (s)\")\n",
    "        ax_2[i].set_ylabel(\"Frequency (Hz)\")\n",
    "        #ax_2[i].set_xlim(tiempo[0], tiempo[-1])\n",
    "        #plt.title(\"Medias de cada fila en función del tiempo\")\n",
    "        ax_2[i].legend()\n",
    "        ax_2[i].grid(True)\n",
    "\n",
    "        ax_3.plot(tiempo, instant_mean_freq_total, label=f\"Mean frequency (Cycles: {base_cycle})\")\n",
    "\n",
    "    print(np.mean(instant_mean_freq_burst))\n",
    "    mae, std = calculate_mae(instant_mean_freq_burst, MNF_1)\n",
    "    mae_superlet.append(mae)\n",
    "    std_superlet.append(std)\n",
    "\n",
    "    time = np.arange(scalogram_2.shape[1]) / fs\n",
    "\n",
    "    total_time.append(time)\n",
    "    total_freq.append(freqs)\n",
    "\n",
    "if plot_2:\n",
    "    ax_3.set_xlabel(\"Time (s)\")\n",
    "    ax_3.set_ylabel(\"Frequency (Hz)\")\n",
    "    ax_3.legend()\n",
    "    ax_3.grid(True)\n",
    "    ax_3.set_title(\"Comparación de frecuencias medias instantáneas\")\n",
    "\n",
    "res_superlet = superlet.compute_avg_response_resolution(total_scalogram_superlet, total_time, total_freq,\n",
    "                                                        [f'$c_1$={c3}, o:{c1}-{c2}' for c1, c2, c3 in\n",
    "                                                         zip(*params_superlet)])"
   ],
   "metadata": {
    "collapsed": false,
    "ExecuteTime": {
     "start_time": "2024-12-10T13:49:56.348625Z"
    }
   }
  },
  {
   "cell_type": "code",
   "execution_count": null,
   "outputs": [],
   "source": [
    "mae_superlet"
   ],
   "metadata": {
    "collapsed": false,
    "ExecuteTime": {
     "start_time": "2024-12-10T13:49:56.349051Z"
    }
   }
  },
  {
   "cell_type": "markdown",
   "source": [
    "## STFT PARAMETERS (window = duration/cycles) = 38, 200, 413, 550, 600, 824 ms"
   ],
   "metadata": {
    "collapsed": false
   }
  },
  {
   "cell_type": "code",
   "execution_count": null,
   "outputs": [],
   "source": [
    "importlib.reload(superlet)"
   ],
   "metadata": {
    "collapsed": false,
    "ExecuteTime": {
     "start_time": "2024-12-10T13:49:56.350966Z"
    }
   }
  },
  {
   "cell_type": "markdown",
   "source": [
    "# Parámetros de la STFT con ventanas de 38 ms, 200 ms, y 413 ms (convertido a muestras)"
   ],
   "metadata": {
    "collapsed": false
   }
  },
  {
   "cell_type": "code",
   "execution_count": null,
   "outputs": [],
   "source": [
    "# [38, 200, 413, 550, 600, 824]\n",
    "\n",
    "#windows_samples = [int((w / 1000) * fs) for w in windows_ms]  # Convertir a muestras\n",
    "\n",
    "if plot_1:\n",
    "    fig, ax = plt.subplots(ncols=len(windows_ms), figsize=(15, 5), dpi=300)\n",
    "\n",
    "if plot_2:\n",
    "    fig_2, ax_2 = plt.subplots(ncols=len(windows_ms), figsize=(15, 5), dpi=300)\n",
    "    fig_3, ax_3 = plt.subplots(figsize=(10, 6))\n",
    "\n",
    "mae_stft = []\n",
    "std_stft = []\n",
    "times_stft = []\n",
    "\n",
    "total_time = []\n",
    "total_freq = []\n",
    "\n",
    "res_stft = []\n",
    "total_scalogram_stft = []\n",
    "\n",
    "for i, w in enumerate(windows_ms):\n",
    "    import time\n",
    "\n",
    "    # Calcular la ventana Blackman\n",
    "    start_time = time.time()\n",
    "    window = windows.blackman(w)\n",
    "\n",
    "    # Hacer que la f de la stft tenga el mismo tamaño que las demás\n",
    "    nfft = 2 * (len(freqs))\n",
    "    # Dimensión de la frecuencia = nfft/2 + 1\n",
    "    # Dimesión del tiempo = [(N - noverlap)/(nperseg-noverlap)] + 1 = \n",
    "\n",
    "    # Realizar la STFT con la ventana Blackman y superposición del 50%\n",
    "    #f, t, Zxx = stft(signal, fs, window=window, nfft=nfft, nperseg=w, noverlap=w//2, padded=True, scaling='psd')\n",
    "    f, t, Zxx = stft(signal, fs=fs, window='blackman', nperseg=w, noverlap=w - 1, nfft=nfft, detrend=False,\n",
    "                     return_onesided=True, boundary='zeros', padded=True, axis=-1, scaling='spectrum')\n",
    "\n",
    "    # ax[i].pcolormesh(t, f, np.abs(Zxx), shading='gouraud', cmap='jet')\n",
    "\n",
    "    # Calcular la representación de potencia (magnitud al cuadrado)\n",
    "    Zxx_power = np.abs(Zxx) ** 2\n",
    "\n",
    "    # Graficar la representación de potencia\n",
    "    #plt.figure(figsize=(10, 6))\n",
    "\n",
    "    end_time = time.time()\n",
    "    times_stft.append(end_time - start_time)\n",
    "\n",
    "    if plot_1:\n",
    "        pcm = ax[i].pcolormesh(t, f, Zxx_power, shading='gouraud', cmap='jet')\n",
    "\n",
    "        ax[i].set_title(f'W={w * 1000 // fs} ms')\n",
    "        ax[i].set_ylabel('Frecuencia [Hz]')\n",
    "        ax[i].set_xlabel('Tiempo [s]')\n",
    "\n",
    "        cbar = fig.colorbar(pcm, ax=ax[i], orientation='horizontal')\n",
    "        cbar.set_label('Power', rotation=270, labelpad=15)  # Etiqueta de la colorbar\n",
    "\n",
    "        #fig.colorbar(pcm, ax=ax[i], label='Potencia')\n",
    "        ax[i].set_ylim(freqs[0], freqs[-1])  # Ajustar el rango de frecuencias si es necesario\n",
    "        plt.tight_layout()\n",
    "\n",
    "    scalogram_2 = Zxx_power\n",
    "\n",
    "    #if np.any(np.isnan(jnp.abs(Zxx)**2)) or np.any(np.isinf(jnp.abs(Zxx)**2)):\n",
    "    scalogram_2 = jnp.nan_to_num(jnp.abs(Zxx) ** 2, nan=0.0, posinf=0.0, neginf=0.0)\n",
    "\n",
    "    total_scalogram_stft.append(scalogram_2)\n",
    "\n",
    "    instant_mean_freq_total = []\n",
    "    instant_mean_freq = np.sum(scalogram_2 * f[:, np.newaxis], axis=0) / np.sum(scalogram_2, axis=0)\n",
    "\n",
    "    #mean_instant_freq = np.where(freqs,np.max(scalogram_2, axis=0))\n",
    "    # mean_instant = np.mean(np.where(freqs,max(scalogram_2)))\n",
    "    # plt.figure()\n",
    "    # plt.plot(mean_instant)\n",
    "\n",
    "    start_index = np.argmin(np.abs(t - burst_start_1))\n",
    "    end_index_burst = np.argmin(np.abs(t - (burst_start_1 + burst_duration_1)))\n",
    "\n",
    "    # Segmento inicial antes del burst\n",
    "    initial_imnf = instant_mean_freq[:max(0, start_index - offset)]  # Asegurar que no haya índices negativos\n",
    "    instant_mean_freq_total.extend(initial_imnf)\n",
    "    # plt.figure()\n",
    "    # plt.plot(initial_imnf)\n",
    "\n",
    "    # Segmento durante el burst\n",
    "    instant_mean_freq_burst = instant_mean_freq[start_index:end_index_burst]\n",
    "    instant_mean_freq_burst = instant_mean_freq_burst[offset_burst:len(\n",
    "        instant_mean_freq_burst) - offset_burst]  # Aplicar offset dentro del burst\n",
    "    instant_mean_freq_total.extend(instant_mean_freq_burst)\n",
    "    # plt.figure()\n",
    "    # plt.plot(instant_mean_freq_burst)\n",
    "\n",
    "    # Segmento final después del burst\n",
    "    final_start_index = end_index_burst + offset\n",
    "    final_imnf = instant_mean_freq[final_start_index:]\n",
    "    instant_mean_freq_total.extend(final_imnf)\n",
    "\n",
    "    # initial_imnf = instant_mean_freq[:np.where(t >= burst_start_1)[0][0]-offset]\n",
    "    # instant_mean_freq_total.extend(initial_imnf)\n",
    "    # # plt.figure()\n",
    "    # # plt.plot(initial_imnf)\n",
    "    # \n",
    "    # print(t >= (burst_start_1 + burst_duration_1))\n",
    "    # instant_mean_freq_burst = instant_mean_freq[np.where(t >= burst_start_1)[0][0]:np.where(t >= (burst_start_1 + burst_duration_1))[0][0]]\n",
    "    # instant_mean_freq_burst = instant_mean_freq_burst[offset_burst:len(instant_mean_freq_burst)-offset_burst]\n",
    "    # instant_mean_freq_total.extend(instant_mean_freq_burst)\n",
    "    # # plt.figure()\n",
    "    # # plt.plot(instant_mean_freq_burst)\n",
    "    #  \n",
    "    # final_imnf = instant_mean_freq[np.where(t >= burst_start_1 + burst_duration_1)[0][0] + offset:]\n",
    "    # instant_mean_freq_total.extend(final_imnf)\n",
    "    # plt.figure()\n",
    "    # plt.plot(final_imnf)\n",
    "\n",
    "    # Create time (each column is a time instant)\n",
    "    tiempo = np.linspace(t[0], t[-1], len(instant_mean_freq_total))\n",
    "\n",
    "    if plot_2:\n",
    "        ax_2[i].plot(tiempo, instant_mean_freq_total,\n",
    "                     label=\"Mean frequency (each window of \" + str(len(freqs)) + ' samples)')\n",
    "\n",
    "        ax_2[i].set_xlabel(\"Time (s)\")\n",
    "        ax_2[i].set_ylabel(\"Frequency (Hz)\")\n",
    "        #ax_2[i].set_xlim(tiempo[0], tiempo[-1])\n",
    "        #plt.title(\"Medias de cada fila en función del tiempo\")\n",
    "        ax_2[i].legend()\n",
    "        ax_2[i].grid(True)\n",
    "\n",
    "        ax_3.plot(tiempo, instant_mean_freq_total, label=f\"Mean frequency (Cycles: {w})\")\n",
    "\n",
    "    print(np.mean(instant_mean_freq_burst))\n",
    "    mae, std = calculate_mae(instant_mean_freq_burst, MNF_1)\n",
    "    mae_stft.append(mae)\n",
    "    std_stft.append(std)\n",
    "\n",
    "    total_time.append(np.linspace(t[0], t[-1], scalogram_2.shape[1]))\n",
    "    total_freq.append(np.linspace(f[0], f[-1], scalogram_2.shape[0]))\n",
    "\n",
    "# Configuración del gráfico\n",
    "if plot_2:\n",
    "    ax_3.set_xlabel(\"Time (s)\")\n",
    "    ax_3.set_ylabel(\"Frequency (Hz)\")\n",
    "    ax_3.legend()\n",
    "    ax_3.grid(True)\n",
    "    ax_3.set_title(\"Comparación de frecuencias medias instantáneas\")\n",
    "\n",
    "res_stft = superlet.compute_avg_response_resolution(total_scalogram_stft, total_time, total_freq, windows_ms, stft=[freqs[0],freqs[-1]])"
   ],
   "metadata": {
    "collapsed": false,
    "ExecuteTime": {
     "end_time": "2024-12-10T13:49:56.410Z",
     "start_time": "2024-12-10T13:49:56.352825Z"
    }
   }
  },
  {
   "cell_type": "code",
   "execution_count": null,
   "outputs": [],
   "source": [
    "mae_stft"
   ],
   "metadata": {
    "collapsed": false,
    "ExecuteTime": {
     "start_time": "2024-12-10T13:49:56.354424Z"
    }
   }
  },
  {
   "cell_type": "markdown",
   "source": [
    "### Plot comparison of the same SNR"
   ],
   "metadata": {
    "collapsed": false
   }
  },
  {
   "cell_type": "code",
   "execution_count": null,
   "outputs": [],
   "source": [
    "# params_wavelet = [3, 16, 33, 55, 60, 115]\n",
    "# params_superlet = [\n",
    "#     (3, 1, 30), (5, 1, 30), (1, 5, 40), (1, 10, 100), (1, 20, 100), (1, 30, 200)\n",
    "# ]\n",
    "# params_stft = [38, 200, 413, 550, 600, 824]  # Tamaños de ventana en ms\n",
    "params_stft = windows_ms\n",
    "\n",
    "# Número de condiciones\n",
    "num_conditions = len(mae_wavelet)\n",
    "x = np.arange(num_conditions)  # Posiciones para cada grupo de barras\n",
    "bar_width = 0.25  # Ancho de las barras\n",
    "\n",
    "# Crear el gráfico de barras\n",
    "plt.figure(figsize=(14, 7))\n",
    "\n",
    "# Graficar cada técnica con sus valores y barras de error\n",
    "plt.bar(x - bar_width, mae_stft, width=bar_width, yerr=std_stft, capsize=5, label='STFT', color='skyblue', alpha=0.7)\n",
    "plt.bar(x, mae_wavelet, width=bar_width, yerr=std_wavelet, capsize=5, label='Wavelet', color='lightgreen', alpha=0.7)\n",
    "plt.bar(x + bar_width, mae_superlet, width=bar_width, yerr=std_superlet, capsize=5, label='Superlet', color='salmon',\n",
    "        alpha=0.7)\n",
    "\n",
    "# Configuración de etiquetas en el eje x con los parámetros específicos\n",
    "labels = [\n",
    "    f\"W={p_stft} ms\\n\\nc={p_w}\\n\\nc$_1$={p_s[0]}, o: {p_s[1]}-{p_s[2]}\"\n",
    "    for p_w, p_s, p_stft in zip(params_wavelet, zip(*params_superlet), params_stft)\n",
    "]\n",
    "\n",
    "plt.xticks(x, labels, rotation=90, ha='center', fontsize=18)\n",
    "#plt.xlabel('Condiciones y Parámetros')\n",
    "plt.yticks(np.arange(0, 81, 10))\n",
    "\n",
    "plt.ylabel('MAE (Hz)')\n",
    "plt.title('Comparison (SNR = ' + str(SNR) + ')', fontsize=18)\n",
    "plt.ylim(0, 80)\n",
    "plt.legend(fontsize=14)\n",
    "\n",
    "# Ajustar el layout para mejorar visualización de etiquetas\n",
    "plt.tight_layout()\n",
    "\n",
    "# Mostrar el gráfico\n",
    "plt.show()"
   ],
   "metadata": {
    "collapsed": false,
    "ExecuteTime": {
     "start_time": "2024-12-10T13:49:56.356495Z"
    }
   }
  },
  {
   "cell_type": "markdown",
   "source": [
    "# COMPUTE RESOLUTION"
   ],
   "metadata": {
    "collapsed": false
   }
  },
  {
   "cell_type": "code",
   "execution_count": null,
   "outputs": [],
   "source": [
    "rayleigh_limit = 1 / (4 * np.pi)\n",
    "\n",
    "# Etiquetas para los grupos de parámetros con salto de línea adicional\n",
    "labels = [\n",
    "    f\"W={p_stft} ms\\nc={p_wavelet}\\nc$_1$={p_superlet[0]}, o={p_superlet[1]}-{p_superlet[2]}\"\n",
    "    for p_wavelet, p_superlet, p_stft in zip(params_wavelet, zip(*params_superlet), params_stft)\n",
    "]\n",
    "\n",
    "x = [1, 2, 3, 4, 5, 6]\n",
    "\n",
    "plt.figure(figsize=(12, 8))\n",
    "\n",
    "# Primer gráfico (Frecuencia)\n",
    "plt.subplot(2, 1, 1)\n",
    "plt.plot(x, [r[1] for r in res_wavelet], 'ro-', label=\"Wavelet (Frequency)\")\n",
    "plt.plot(x, [r[1] for r in res_stft], 'bo-', label=\"STFT (Frequency)\")\n",
    "plt.plot(x, [r[1] for r in res_superlet], 'go-', label=\"Superlet (Frequency)\")\n",
    "plt.axhline(rayleigh_limit, color='k', linestyle='--', label=\"Rayleigh Limit\")\n",
    "plt.xlabel(\"Window Size / Cycles / Order\")\n",
    "plt.ylabel(\"Frequency Resolution (Hz)\")\n",
    "plt.legend()\n",
    "\n",
    "# Segundo gráfico (Tiempo)\n",
    "plt.subplot(2, 1, 2)\n",
    "plt.plot(x, [r[0] for r in res_wavelet], 'ro-', label=\"Wavelet (Time)\")\n",
    "plt.plot(x, [r[0] for r in res_stft], 'bo-', label=\"STFT (Time)\")\n",
    "plt.plot(x, [r[0] for r in res_superlet], 'go-', label=\"Superlet (Time)\")\n",
    "plt.axhline(1 / MNF_1[0], color='k', linestyle='--', label=\"Temporal Limit\")\n",
    "plt.xlabel(\"Window Size / Cycles / Order\")\n",
    "plt.ylabel(\"Time Resolution (s)\")\n",
    "plt.legend()\n",
    "\n",
    "# Ajuste de los xticks para ambos subgráficos\n",
    "for ax in plt.gcf().get_axes():\n",
    "    ax.set_xticks(x)  # Establecer los valores de los ticks\n",
    "    ax.set_xticklabels(labels, rotation=90, ha='center', fontsize=10)  # Establecer las etiquetas con el formato deseado\n",
    "\n",
    "# Ajustar el diseño\n",
    "plt.tight_layout()\n",
    "plt.show()"
   ],
   "metadata": {
    "collapsed": false,
    "ExecuteTime": {
     "start_time": "2024-12-10T13:49:56.359443Z"
    }
   }
  },
  {
   "cell_type": "code",
   "execution_count": null,
   "outputs": [],
   "source": [
    "MAES"
   ],
   "metadata": {
    "collapsed": false,
    "ExecuteTime": {
     "start_time": "2024-12-10T13:49:56.361525Z"
    }
   }
  },
  {
   "cell_type": "code",
   "execution_count": null,
   "outputs": [],
   "source": [
    "MAES['wavelet'].append(mae_wavelet)\n",
    "MAES['stft'].append(mae_stft)\n",
    "MAES['superlet'].append(mae_superlet)\n",
    "MAES['std_wavelet'].append(std_wavelet)\n",
    "MAES['std_stft'].append(std_stft)\n",
    "MAES['std_superlet'].append(std_superlet)"
   ],
   "metadata": {
    "collapsed": false,
    "ExecuteTime": {
     "start_time": "2024-12-10T13:49:56.363475Z"
    }
   }
  },
  {
   "cell_type": "markdown",
   "source": [
    "### COMPARISON BETWEEN ALL SNR"
   ],
   "metadata": {
    "collapsed": false
   }
  },
  {
   "cell_type": "code",
   "execution_count": null,
   "outputs": [],
   "source": [
    "import matplotlib.pyplot as plt\n",
    "import numpy as np\n",
    "\n",
    "# Parámetros\n",
    "params_wavelet = params_wavelet\n",
    "params_superlet = params_superlet\n",
    "params_stft = windows_ms  # Tamaños de ventana en ms\n",
    "\n",
    "# Datos MAE para cada técnica y SNR\n",
    "mae_stft = MAES['stft']\n",
    "std_stft = MAES['std_stft']\n",
    "\n",
    "mae_wavelet = MAES['wavelet']\n",
    "std_wavelet = MAES['std_wavelet']\n",
    "\n",
    "mae_superlet = MAES['superlet']\n",
    "std_superlet = MAES['std_superlet']\n",
    "\n",
    "# Reordenar los niveles de SNR al orden deseado: 5 dB, 20 dB, Sin SNR\n",
    "snr_labels = [\"5 dB\", \"20 dB\", \"Inf\"]\n",
    "mae_stft_2 = [mae_stft[1], mae_stft[2], mae_stft[0]]\n",
    "std_stft_2 = [std_stft[1], std_stft[2], std_stft[0]]\n",
    "\n",
    "mae_wavelet_2 = [mae_wavelet[1], mae_wavelet[2], mae_wavelet[0]]\n",
    "std_wavelet_2 = [std_wavelet[1], std_wavelet[2], std_wavelet[0]]\n",
    "\n",
    "mae_superlet_2 = [mae_superlet[1], mae_superlet[2], mae_superlet[0]]\n",
    "std_superlet_2 = [std_superlet[1], std_superlet[2], std_superlet[0]]\n",
    "\n",
    "# Configuración del gráfico\n",
    "num_params = len(params_stft)  # Número de parámetros\n",
    "num_snr = len(snr_labels)  # Número de niveles de ruido\n",
    "x = np.arange(num_params)  # Posiciones base para cada grupo de parámetros\n",
    "bar_width = 0.1  # Ancho de cada barra\n",
    "group_width = bar_width * num_snr  # Espacio reservado para cada grupo de barras\n",
    "\n",
    "# Tonalidades por nivel de ruido (ordenadas)\n",
    "tonalidades = {\n",
    "    \"5 dB\": 0.4,\n",
    "    \"20 dB\": 0.6,\n",
    "    \"Inf\": 0.8,\n",
    "}\n",
    "\n",
    "# Colores base por metodología (asegurando correspondencia)\n",
    "colores_base = {\n",
    "    \"STFT\": plt.colormaps[\"Blues\"],\n",
    "    \"Wavelet\": plt.colormaps[\"Greens\"],\n",
    "    \"Superlet\": plt.colormaps[\"Oranges\"],\n",
    "}\n",
    "\n",
    "# Crear el gráfico\n",
    "plt.figure(figsize=(18, 8))\n",
    "\n",
    "# Crear listas para la leyenda\n",
    "handles = []\n",
    "labels_legend = []\n",
    "\n",
    "# Dibujar barras para cada técnica y SNR\n",
    "for i, snr in enumerate(snr_labels):  # Iterar sobre niveles de SNR\n",
    "    # Dibujar barras para STFT\n",
    "    bar = plt.bar(\n",
    "        x - 0.01 - group_width + i * bar_width,\n",
    "        [np.array(mae_stft_2[i])[k] for k in range(num_params)],\n",
    "        width=bar_width,\n",
    "        color=colores_base[\"STFT\"](tonalidades[snr]),\n",
    "        label=f'STFT ({snr})'\n",
    "    )\n",
    "    handles.append(bar[0])\n",
    "\n",
    "    plt.errorbar(\n",
    "        x - 0.01 - group_width + i * bar_width,\n",
    "        [np.array(mae_stft_2[i])[k] for k in range(num_params)],\n",
    "        yerr=[np.array(std_stft_2[i])[k] for k in range(num_params)],\n",
    "        fmt='none',\n",
    "        ecolor='black',\n",
    "        capsize=3\n",
    "    )\n",
    "    \n",
    "    # Dibujar barras para Wavelet\n",
    "    bar = plt.bar(\n",
    "        x + i * bar_width,\n",
    "        [np.array(mae_wavelet_2[i])[k] for k in range(num_params)],\n",
    "        width=bar_width,\n",
    "        color=colores_base[\"Wavelet\"](tonalidades[snr]),\n",
    "        label=f'Wavelet ({snr})'\n",
    "    )\n",
    "    handles.append(bar[0])\n",
    "\n",
    "    plt.errorbar(\n",
    "        x + i * bar_width,\n",
    "        [np.array(mae_wavelet_2[i])[k] for k in range(num_params)],\n",
    "        yerr=[np.array(std_wavelet_2[i])[k] for k in range(num_params)],\n",
    "        fmt='none',\n",
    "        ecolor='black',\n",
    "        capsize=3\n",
    "    )\n",
    "\n",
    "    # Dibujar barras para Superlet\n",
    "    bar = plt.bar(\n",
    "        x + 0.01 + group_width + i * bar_width,\n",
    "        [np.array(mae_superlet_2[i])[k] for k in range(num_params)],\n",
    "        width=bar_width,\n",
    "        color=colores_base[\"Superlet\"](tonalidades[snr]),\n",
    "        label=f'Superlet ({snr})'\n",
    "    )\n",
    "    handles.append(bar[0])\n",
    "\n",
    "    plt.errorbar(\n",
    "        x + 0.01 + group_width + i * bar_width,\n",
    "        [np.array(mae_superlet_2[i])[k] for k in range(num_params)],\n",
    "        yerr=[np.array(std_superlet_2[i])[k] for k in range(num_params)],\n",
    "        fmt='none',\n",
    "        ecolor='black',\n",
    "        capsize=3\n",
    "    )\n",
    "\n",
    "# Ordenar la leyenda agrupada por metodología\n",
    "labels_legend = [f'STFT ({snr})' for snr in snr_labels] + \\\n",
    "                [f'Wavelet ({snr})' for snr in snr_labels] + \\\n",
    "                [f'Superlet ({snr})' for snr in snr_labels]\n",
    "handles = handles[:len(labels_legend)]\n",
    "\n",
    "# Etiquetas para los grupos de parámetros con salto de línea adicional\n",
    "labels = [\n",
    "    f\"W={p_stft} ms\\n\\nc={p_wavelet}\\n\\n\\nc$_1$={p_superlet[0]}, o={p_superlet[1]}-{p_superlet[2]}\"\n",
    "    for p_wavelet, p_superlet, p_stft in zip(params_wavelet, zip(*params_superlet), params_stft)\n",
    "]\n",
    "\n",
    "# Configurar eje X y otros detalles\n",
    "plt.xticks(x, labels, rotation=90, ha='center', fontsize=18)\n",
    "plt.yticks(np.arange(0, 61, 10))\n",
    "plt.ylabel('MAE (Hz)', fontsize=14)\n",
    "plt.ylim(0, 60)\n",
    "plt.legend(handles, labels_legend, fontsize=10, ncol=1)  # Leyenda agrupada\n",
    "plt.tight_layout()\n",
    "\n",
    "# Mostrar el gráfico\n",
    "plt.show()\n"
   ],
   "metadata": {
    "collapsed": false,
    "ExecuteTime": {
     "start_time": "2024-12-10T13:49:56.365854Z"
    }
   }
  },
  {
   "cell_type": "code",
   "execution_count": null,
   "outputs": [],
   "source": [
    "MAES"
   ],
   "metadata": {
    "collapsed": false,
    "ExecuteTime": {
     "start_time": "2024-12-10T13:49:56.367031Z"
    }
   }
  },
  {
   "cell_type": "code",
   "execution_count": null,
   "outputs": [],
   "source": [
    "\n",
    "\n",
    "# import matplotlib.pyplot as plt\n",
    "# import numpy as np\n",
    "# \n",
    "# # Parámetros\n",
    "# params_wavelet = params_wavelet\n",
    "# params_superlet = params_superlet\n",
    "# params_stft = windows_ms  # Tamaños de ventana en ms\n",
    "# \n",
    "# # Datos MAE para cada técnica y SNR\n",
    "# mae_stft = MAES['stft']\n",
    "# std_stft = MAES['std_stft']\n",
    "# \n",
    "# mae_wavelet = MAES['wavelet']\n",
    "# std_wavelet = MAES['std_wavelet']\n",
    "# \n",
    "# mae_superlet = MAES['superlet']\n",
    "# std_superlet = MAES['std_superlet']\n",
    "# \n",
    "# snr_labels = [\"Sin SNR\", \"5 dB\", \"20 dB\"]\n",
    "# \n",
    "# # Configuración del gráfico\n",
    "# num_params = len(params_stft)  # Número de parámetros (6 en este caso)\n",
    "# num_snr = len(snr_labels)  # Número de niveles de ruido (3)\n",
    "# x = np.arange(num_params)  # Posiciones base para cada grupo de parámetros\n",
    "# bar_width = 0.1  # Ancho de cada barra\n",
    "# group_width = bar_width * num_snr  # Espacio reservado para cada grupo de barras\n",
    "# \n",
    "# # Crear el gráfico\n",
    "# plt.figure(figsize=(18, 8))\n",
    "# \n",
    "# # Dibujar barras para cada técnica y SNR\n",
    "# for i in range(num_snr):  # Iterar sobre niveles de SNR\n",
    "#     # Dibujar barras para STFT\n",
    "#     plt.bar(x - 0.01 - group_width + i * bar_width, \n",
    "#             [np.array(mae_stft[i])[k] for k in range(num_params)], \n",
    "#             width=bar_width, label=f'STFT ({snr_labels[i]})', alpha=0.7)\n",
    "#     plt.errorbar(x - 0.01 - group_width + i * bar_width, \n",
    "#                  [np.array(mae_stft[i])[k] for k in range(num_params)],\n",
    "#                  yerr=[np.array(std_stft[i])[k] for k in range(num_params)],\n",
    "#                  fmt='none', ecolor='black', capsize=3)\n",
    "#     \n",
    "#     # Dibujar barras para Wavelet\n",
    "#     plt.bar(x + i * bar_width, \n",
    "#             [np.array(mae_wavelet[i])[k] for k in range(num_params)], \n",
    "#             width=bar_width, label=f'Wavelet ({snr_labels[i]})', alpha=0.7)\n",
    "#     plt.errorbar(x + i * bar_width, \n",
    "#                  [np.array(mae_wavelet[i])[k] for k in range(num_params)],\n",
    "#                  yerr=[np.array(std_wavelet[i])[k] for k in range(num_params)],\n",
    "#                  fmt='none', ecolor='black', capsize=3)\n",
    "# \n",
    "#     # Dibujar barras para Superlet\n",
    "#     plt.bar(x + 0.01 + group_width + i * bar_width, \n",
    "#             [np.array(mae_superlet[i])[k] for k in range(num_params)], \n",
    "#             width=bar_width, label=f'Superlet ({snr_labels[i]})', alpha=0.7)\n",
    "#     plt.errorbar(x + 0.01 + group_width + i * bar_width, \n",
    "#                  [np.array(mae_superlet[i])[k] for k in range(num_params)],\n",
    "#                  yerr=[np.array(std_superlet[i])[k] for k in range(num_params)],\n",
    "#                  fmt='none', ecolor='black', capsize=3)\n",
    "#     \n",
    "# \n",
    "# # Etiquetas para los grupos de parámetros\n",
    "# labels = [\n",
    "#     f\"W={p_stft} ms\\nc={p_wavelet}\\nc$_1$={p_superlet[0]}, o={p_superlet[1]}-{p_superlet[2]}\"\n",
    "#     for p_wavelet, p_superlet, p_stft in zip(params_wavelet, zip(*params_superlet), params_stft)\n",
    "# ]\n",
    "# \n",
    "# # Configurar eje X y otros detalles\n",
    "# plt.xticks(x, labels, rotation=90, ha='center', fontsize=18)\n",
    "# plt.yticks(np.arange(0, 61, 10))\n",
    "# plt.ylabel('MAE (Hz)', fontsize=14)\n",
    "# # plt.title('Comparación de MAE por técnica, parámetro y nivel de ruido', fontsize=16)\n",
    "# plt.ylim(0,60)\n",
    "# plt.legend(fontsize=10, ncol=1)\n",
    "# plt.tight_layout()\n",
    "# \n",
    "# # Mostrar el gráfico\n",
    "# plt.show()\n"
   ],
   "metadata": {
    "collapsed": false,
    "ExecuteTime": {
     "start_time": "2024-12-10T13:49:56.368082Z"
    }
   }
  },
  {
   "cell_type": "code",
   "execution_count": null,
   "outputs": [],
   "source": [],
   "metadata": {
    "collapsed": false,
    "ExecuteTime": {
     "start_time": "2024-12-10T13:49:56.370001Z"
    }
   }
  }
 ],
 "metadata": {
  "orig_nbformat": 4,
  "language_info": {
   "name": "python",
   "version": "3.9.5",
   "mimetype": "text/x-python",
   "codemirror_mode": {
    "name": "ipython",
    "version": 3
   },
   "pygments_lexer": "ipython3",
   "nbconvert_exporter": "python",
   "file_extension": ".py"
  },
  "kernelspec": {
   "name": "python3",
   "language": "python",
   "display_name": "Python 3 (ipykernel)"
  },
  "interpreter": {
   "hash": "e48f8d055d2026c93dde5bece2bd39ef1a30cdeb217293bd4c941497f5d68bb8"
  }
 },
 "nbformat": 4,
 "nbformat_minor": 2
}
